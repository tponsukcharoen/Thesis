{
 "cells": [
  {
   "cell_type": "code",
   "execution_count": 32,
   "metadata": {
    "collapsed": false
   },
   "outputs": [],
   "source": [
    "import pandas as pd\n",
    "import numpy as np\n",
    "import matplotlib\n",
    "import matplotlib.pyplot as plt\n",
    "import datetime\n",
    "import pytz\n",
    "import os\n",
    "import patsy #for spline regression\n",
    "import scipy #for non-negative least square \n",
    "import scipy as sp \n",
    "from scipy import stats\n",
    "from scipy.optimize import nnls\n",
    "from numpy.linalg import inv #for matrix and statistics\n",
    "import scipy as sp\n",
    "import math\n",
    "import statsmodels.api as sm\n",
    "from sklearn.cluster import AgglomerativeClustering\n",
    "from sklearn.cluster import KMeans\n",
    "import sklearn.cluster\n",
    "import sklearn.linear_model\n",
    "from sklearn import ensemble\n",
    "from sklearn.utils import shuffle\n",
    "from sklearn.metrics import mean_absolute_error\n",
    "import sklearn.cluster\n",
    "import sklearn.linear_model\n",
    "from sklearn.svm import SVR\n",
    "%matplotlib inline"
   ]
  },
  {
   "cell_type": "code",
   "execution_count": 33,
   "metadata": {
    "collapsed": false
   },
   "outputs": [],
   "source": [
    "#specify data source \n",
    "\n",
    "[region,zipcode]  = ['CAISO','92562']\n",
    "#[region,zipcode] = ['PJM','08641']"
   ]
  },
  {
   "cell_type": "code",
   "execution_count": 34,
   "metadata": {
    "collapsed": false
   },
   "outputs": [],
   "source": [
    "mainDir = 'C:\\Users\\Admin\\Dropbox\\Active\\EnergyProject\\Thesis'\n",
    "dataDir = mainDir + '/data/load/' + region +'/'"
   ]
  },
  {
   "cell_type": "code",
   "execution_count": 35,
   "metadata": {
    "collapsed": false
   },
   "outputs": [],
   "source": [
    "if region == 'CAISO':\n",
    "    \n",
    "    #timezone for local time adjustment\n",
    "    localtz = 'US/Pacific'\n",
    "\n",
    "    #specific to CAISO data\n",
    "    TacName = 'Caiso_Totals'#'TAC_NORTH'\n",
    "    \n",
    "    datasource = 'raw/caiso_load_data_2013'\n",
    "    \n",
    "    d01 = pd.read_csv(dataDir + datasource + '/'+ '01.csv')\n",
    "    d01 = d01[d01['TAC_ZONE_NAME']==TacName].sort(columns='INTERVALSTARTTIME_GMT')\n",
    "    d02 = pd.read_csv(dataDir + datasource +'/'+ '02.csv')\n",
    "    d02 = d02[d02['TAC_ZONE_NAME']==TacName].sort(columns='INTERVALSTARTTIME_GMT')\n",
    "    d03 = pd.read_csv(dataDir + datasource +'/'+ '03.csv')\n",
    "    d03 = d03[d03['TAC_ZONE_NAME']==TacName].sort(columns='INTERVALSTARTTIME_GMT')\n",
    "    d04 = pd.read_csv(dataDir + datasource + '/'+ '04.csv')\n",
    "    d04 = d04[d04['TAC_ZONE_NAME']==TacName].sort(columns='INTERVALSTARTTIME_GMT')\n",
    "    d05 = pd.read_csv(dataDir + datasource + '/'+ '05.csv')\n",
    "    d05 = d05[d05['TAC_ZONE_NAME']==TacName].sort(columns='INTERVALSTARTTIME_GMT')\n",
    "    d06 = pd.read_csv(dataDir + datasource + '/'+ '06.csv')\n",
    "    d06 = d06[d06['TAC_ZONE_NAME']==TacName].sort(columns='INTERVALSTARTTIME_GMT')\n",
    "    d07 = pd.read_csv(dataDir + datasource + '/'+ '07.csv')\n",
    "    d07 = d07[d07['TAC_ZONE_NAME']==TacName].sort(columns='INTERVALSTARTTIME_GMT')\n",
    "    d08 = pd.read_csv(dataDir + datasource + '/'+ '08.csv')\n",
    "    d08 = d08[d08['TAC_ZONE_NAME']==TacName].sort(columns='INTERVALSTARTTIME_GMT')\n",
    "    d09 = pd.read_csv(dataDir + datasource + '/'+ '09.csv')\n",
    "    d09 = d09[d09['TAC_ZONE_NAME']==TacName].sort(columns='INTERVALSTARTTIME_GMT')\n",
    "    d10 = pd.read_csv(dataDir + datasource + '/'+ '10.csv')\n",
    "    d10 = d10[d10['TAC_ZONE_NAME']==TacName].sort(columns='INTERVALSTARTTIME_GMT')\n",
    "    d11 = pd.read_csv(dataDir + datasource + '/'+ '11.csv')\n",
    "    d11 = d11[d11['TAC_ZONE_NAME']==TacName].sort(columns='INTERVALSTARTTIME_GMT')\n",
    "    d12 = pd.read_csv(dataDir + datasource + '/'+ '12.csv')\n",
    "    d12 = d12[d12['TAC_ZONE_NAME']==TacName].sort(columns='INTERVALSTARTTIME_GMT')\n",
    "    data = pd.concat([d01,d02,d03,d04,d05,d06,d07,d08,d09,d10,d11,d12])\n",
    "    \n",
    "    datasource = 'raw/caiso_load_data_2014'\n",
    "    \n",
    "    d01 = pd.read_csv(dataDir + datasource + '/'+ '01.csv')\n",
    "    d01 = d01[d01['TAC_ZONE_NAME']==TacName].sort(columns='INTERVALSTARTTIME_GMT')\n",
    "    d02 = pd.read_csv(dataDir + datasource + '/'+ '02.csv')\n",
    "    d02 = d02[d02['TAC_ZONE_NAME']==TacName].sort(columns='INTERVALSTARTTIME_GMT')\n",
    "    d03 = pd.read_csv(dataDir + datasource + '/'+ '03.csv')\n",
    "    d03 = d03[d03['TAC_ZONE_NAME']==TacName].sort(columns='INTERVALSTARTTIME_GMT')\n",
    "    d04 = pd.read_csv(dataDir + datasource + '/'+ '04.csv')\n",
    "    d04 = d04[d04['TAC_ZONE_NAME']==TacName].sort(columns='INTERVALSTARTTIME_GMT')\n",
    "    d05 = pd.read_csv(dataDir + datasource + '/'+ '05.csv')\n",
    "    d05 = d05[d05['TAC_ZONE_NAME']==TacName].sort(columns='INTERVALSTARTTIME_GMT')\n",
    "    d06 = pd.read_csv(dataDir + datasource + '/'+ '06.csv')\n",
    "    d06 = d06[d06['TAC_ZONE_NAME']==TacName].sort(columns='INTERVALSTARTTIME_GMT')\n",
    "    d07 = pd.read_csv(dataDir + datasource + '/'+ '07.csv')\n",
    "    d07 = d07[d07['TAC_ZONE_NAME']==TacName].sort(columns='INTERVALSTARTTIME_GMT')\n",
    "    d08 = pd.read_csv(dataDir + datasource + '/'+ '08.csv')\n",
    "    d08 = d08[d08['TAC_ZONE_NAME']==TacName].sort(columns='INTERVALSTARTTIME_GMT')\n",
    "    d09 = pd.read_csv(dataDir + datasource + '/'+ '09.csv')\n",
    "    d09 = d09[d09['TAC_ZONE_NAME']==TacName].sort(columns='INTERVALSTARTTIME_GMT')\n",
    "    d10 = pd.read_csv(dataDir + datasource + '/'+ '10.csv')\n",
    "    d10 = d10[d10['TAC_ZONE_NAME']==TacName].sort(columns='INTERVALSTARTTIME_GMT')\n",
    "    d11 = pd.read_csv(dataDir + datasource + '/'+ '11.csv')\n",
    "    d11 = d11[d11['TAC_ZONE_NAME']==TacName].sort(columns='INTERVALSTARTTIME_GMT')\n",
    "    d12 = pd.read_csv(dataDir + datasource + '/'+ '12.csv')\n",
    "    d12 = d12[d12['TAC_ZONE_NAME']==TacName].sort(columns='INTERVALSTARTTIME_GMT')\n",
    "    data = pd.concat([data,d01,d02,d03,d04,d05,d06,d07,d08,d09,d10,d11,d12])\n",
    "\n",
    "    data['tsLocal'] = data['INTERVALSTARTTIME_GMT'].map(lambda x: datetime.datetime.strptime(x[0:19],\"%Y-%m-%dT%H:%M:%S\").replace(tzinfo=pytz.utc)\\\n",
    "                                .astimezone(pytz.timezone(localtz)).strftime(\"%Y-%m-%d %H:%M:%S\"))\n",
    "    data['tsLocal'] = data['tsLocal'].map(lambda x: datetime.datetime.strptime(x,\"%Y-%m-%d %H:%M:%S\"))\n",
    "\n",
    "    data = data[['tsLocal','MW']].reset_index().drop(['index'],1)\n",
    "    data.columns = ['tsLocal','load']\n",
    "    #delete double readings (can happen due to daylight savings)\n",
    "    data = data.groupby(['tsLocal']).mean().reset_index()\n",
    "    "
   ]
  },
  {
   "cell_type": "code",
   "execution_count": 36,
   "metadata": {
    "collapsed": false
   },
   "outputs": [],
   "source": [
    "if region == 'PJM':\n",
    "    \n",
    "    datasource = 'raw'\n",
    "    #filename = 'pjm_e_load_data_2012.csv'\n",
    "    filename = '2013-PJM-hourly-loads.xls'\n",
    "    data = pd.read_excel(dataDir + datasource + '/'+filename,sheetname='RTO')\n",
    "    filename = '2014-PJM-hourly-loads.xls'\n",
    "    d = pd.read_excel(dataDir + datasource + '/'+filename,sheetname='RTO')\n",
    "    data = pd.concat([data,d])\n",
    "    \n",
    "    data = data.loc[:,data.columns[0:26]]\n",
    "    #set DAY as index\n",
    "    data = data.set_index('DATE')\n",
    "    #remove unnecessary column 'peak'\n",
    "    data = data.drop('COMP', 1)\n",
    "    #unstack data and rename columns\n",
    "    data = data.unstack().reset_index()\n",
    "    data.columns = ['hour','date','load']\n",
    "\n",
    "    #convert hour and date to timestamp then sort by tsLocal\n",
    "    data['tsLocal'] = data['date'].map(lambda x: datetime.datetime.strptime(x,\"%m/%d/%Y\"))+\\\n",
    "                    data['hour'].map(lambda x: datetime.timedelta(hours=int(str(x)[2:4])))\n",
    "    data = data.sort(['tsLocal'])\n",
    "    #don't need weekday for now\n",
    "    #data['weekday'] = data['tsLocal'].map(lambda x: x.weekday())\n",
    "    #reset index and drop uncesseary index\n",
    "    data = data.reset_index()\n",
    "    data = data.drop(['index','hour','date'], 1)\n",
    "\n",
    "    #delete double readings (can happen due to daylight savings)\n",
    "    data = data.groupby(['tsLocal']).mean().reset_index()"
   ]
  },
  {
   "cell_type": "code",
   "execution_count": 37,
   "metadata": {
    "collapsed": false
   },
   "outputs": [],
   "source": [
    "#weekday info\n",
    "data['weekday'] = data['tsLocal'].map(lambda x: x.weekday())\n",
    "#date and hour info\n",
    "#add date and hour, normalized to 1\n",
    "data['d'] = data.tsLocal.map(lambda x: x.timetuple().tm_yday)/365.0\n",
    "data['h'] = data.tsLocal.map(lambda x: x.timetuple().tm_hour)/24.0\n",
    "loaddata = data"
   ]
  },
  {
   "cell_type": "markdown",
   "metadata": {},
   "source": [
    "## Weather data"
   ]
  },
  {
   "cell_type": "code",
   "execution_count": 38,
   "metadata": {
    "collapsed": true
   },
   "outputs": [],
   "source": [
    "#mainDir = 'C:/Users/umnouyp/Dropbox/Active/EnergyProject/Thesis/PVreadingsStudies/main'\n",
    "#mainDir = 'C:/Users/Tee/Dropbox/Active/EnergyProject/Thesis/PVreadingsStudies/main'\n",
    "mainDir = 'C:\\Users\\Admin\\Dropbox\\Active\\EnergyProject\\Thesis'\n",
    "#we can choose which data to look at.\n",
    "dataDir = mainDir + '/data/solar/' + datasource +'/' + zipcode +'/'\n",
    "outputDir = mainDir + '/output/'+ datasource +'/' + zipcode +'/'"
   ]
  },
  {
   "cell_type": "code",
   "execution_count": 39,
   "metadata": {
    "collapsed": true
   },
   "outputs": [],
   "source": [
    "weatherdatasource = '/data/weather/weathersource/hourly/'\n",
    "if (zipcode == '08641')|(zipcode =='08640'):\n",
    "    weatherdata = pd.read_csv(mainDir+weatherdatasource+'08641_20132014.csv')\n",
    "if (zipcode == '92562')|(zipcode =='92563'):\n",
    "    weatherdata = pd.read_csv(mainDir+weatherdatasource+'92563_20132014.csv')\n",
    "\n",
    "weatherdata['tsLocal'] = weatherdata.timestamp.map(lambda x: x[0:10] + \" \" + x[11:19])\n",
    "#weatherdata.tsLocal = weatherdata.tsLocal.map(lambda x: datetime.datetime.strptime(x,\"%Y-%m-%d %H:%M:%S\"))\n",
    "if type(weatherdata.tsLocal[0])==str:\n",
    "    weatherdata['tsLocal'] = weatherdata['tsLocal'].map(lambda x: datetime.datetime.strptime(x,\"%Y-%m-%d %H:%M:%S\"))\n",
    "weatherdata.drop(['timestamp','country','postal_code'], axis=1, inplace=True)"
   ]
  },
  {
   "cell_type": "code",
   "execution_count": 40,
   "metadata": {
    "collapsed": true
   },
   "outputs": [],
   "source": [
    "if weatherdata.shape[0]!=len(set(weatherdata['tsLocal'])):\n",
    "    for i in range(weatherdata.shape[0]):\n",
    "        if weatherdata.loc[i,'tsLocal'] == weatherdata.loc[(i+1),'tsLocal']:\n",
    "            print weatherdata.loc[i,'tsLocal']"
   ]
  },
  {
   "cell_type": "markdown",
   "metadata": {},
   "source": [
    "# Basic time series construction"
   ]
  },
  {
   "cell_type": "code",
   "execution_count": 41,
   "metadata": {
    "collapsed": true
   },
   "outputs": [],
   "source": [
    "#specify scope\n",
    "StartScopeDate = '2013-01-01'\n",
    "EndScopeDate = '2015-01-01'\n",
    "StartScopeTime =  datetime.datetime.strptime(StartScopeDate,\"%Y-%m-%d\")\n",
    "EndScopeTime =  datetime.datetime.strptime(EndScopeDate,\"%Y-%m-%d\")\n",
    "\n",
    "#Generate data frame from start to end for time series\n",
    "tslist = []\n",
    "nxt = StartScopeTime\n",
    "while nxt < EndScopeTime:\n",
    "    tslist.append(nxt)\n",
    "    nxt += datetime.timedelta(minutes=60) #hour data now\n",
    "        \n",
    "Scope = pd.DataFrame(0, index = np.arange(len(tslist)), columns = ['tsLocal'])\n",
    "Scope['tsLocal'] = tslist\n",
    "\n",
    "#Now we can merge using Scope Table as a backbone of data structure.\n",
    "d = pd.merge(Scope,weatherdata,on=['tsLocal'], how = 'left') \n",
    "\n"
   ]
  },
  {
   "cell_type": "code",
   "execution_count": 42,
   "metadata": {
    "collapsed": true
   },
   "outputs": [],
   "source": [
    "#there is no need to do interpolation\n",
    "\n",
    "#Now we can merge our backbone + weather with solar data\n",
    "d = pd.merge(d,loaddata,on=['tsLocal'], how = 'left') "
   ]
  },
  {
   "cell_type": "code",
   "execution_count": 43,
   "metadata": {
    "collapsed": true
   },
   "outputs": [],
   "source": [
    "#weather\n",
    "d['cldCvr-1'] = float('NaN')\n",
    "d['dewPt-1'] = float('NaN')\n",
    "d['feelsLike-1'] = float('NaN')\n",
    "d['precip-1'] = float('NaN')\n",
    "d['relHum-1'] = float('NaN')\n",
    "d['sfcPres-1'] = float('NaN')\n",
    "d['snowfall-1'] = float('NaN')\n",
    "d['spcHum-1'] = float('NaN')\n",
    "d['temp-1'] = float('NaN')\n",
    "d['windSpd-1'] = float('NaN')\n",
    "d['wetBulb-1'] = float('NaN')\n",
    "d.loc[1:d.shape[0],'cldCvr-1'] = list(d['cldCvr'].iloc[0:(d.shape[0]-1)])\n",
    "d.loc[1:d.shape[0],'dewPt-1'] = list(d['dewPt'].iloc[0:(d.shape[0]-1)])\n",
    "d.loc[1:d.shape[0],'feelsLike-1'] = list(d['feelsLike'].iloc[0:(d.shape[0]-1)])\n",
    "d.loc[1:d.shape[0],'precip-1'] = list(d['precip'].iloc[0:(d.shape[0]-1)])\n",
    "d.loc[1:d.shape[0],'relHum-1'] = list(d['relHum'].iloc[0:(d.shape[0]-1)])\n",
    "d.loc[1:d.shape[0],'sfcPres-1'] = list(d['sfcPres'].iloc[0:(d.shape[0]-1)])\n",
    "d.loc[1:d.shape[0],'snowfall-1'] = list(d['snowfall'].iloc[0:(d.shape[0]-1)])\n",
    "d.loc[1:d.shape[0],'spcHum-1'] = list(d['spcHum'].iloc[0:(d.shape[0]-1)])\n",
    "d.loc[1:d.shape[0],'temp-1'] = list(d['temp'].iloc[0:(d.shape[0]-1)])\n",
    "d.loc[1:d.shape[0],'windSpd-1'] = list(d['windSpd'].iloc[0:(d.shape[0]-1)])\n",
    "d.loc[1:d.shape[0],'wetBulb-1'] = list(d['wetBulb'].iloc[0:(d.shape[0]-1)])\n",
    "\n",
    "#normalize weather value\n",
    "d['cldCvr-1'] = (d['cldCvr-1']-np.min(d['cldCvr-1']))/(np.max(d['cldCvr-1'])-np.min(d['cldCvr-1']))\n",
    "d['dewPt-1'] = (d['dewPt-1']-np.min(d['dewPt-1']))/(np.max(d['dewPt-1'])-np.min(d['dewPt-1']))\n",
    "d['feelsLike-1'] = (d['feelsLike-1']-np.min(d['feelsLike-1']))/(np.max(d['feelsLike-1'])-np.min(d['feelsLike-1']))\n",
    "d['precip-1'] = (d['precip-1']-np.min(d['precip-1']))/(np.max(d['precip-1'])-np.min(d['precip-1']))\n",
    "d['relHum-1'] = (d['relHum-1']-np.min(d['relHum-1']))/(np.max(d['relHum-1'])-np.min(d['relHum-1']))\n",
    "d['sfcPres-1'] = (d['sfcPres-1']-np.min(d['sfcPres-1']))/(np.max(d['sfcPres-1'])-np.min(d['sfcPres-1']))\n",
    "d['snowfall-1'] = (d['snowfall-1']-np.min(d['snowfall-1']))/(np.max(d['snowfall-1'])-np.min(d['snowfall-1']))\n",
    "d['spcHum-1'] = (d['spcHum-1']-np.min(d['spcHum-1']))/(np.max(d['spcHum-1'])-np.min(d['spcHum-1']))\n",
    "d['temp-1'] = (d['temp-1']-np.min(d['temp-1']))/(np.max(d['temp-1'])-np.min(d['temp-1']))\n",
    "d['windSpd-1'] = (d['windSpd-1']-np.min(d['windSpd-1']))/(np.max(d['windSpd-1'])-np.min(d['windSpd-1']))\n",
    "d['wetBulb-1'] = (d['wetBulb-1']-np.min(d['wetBulb-1']))/(np.max(d['wetBulb-1'])-np.min(d['wetBulb-1']))"
   ]
  },
  {
   "cell_type": "code",
   "execution_count": 44,
   "metadata": {
    "collapsed": false
   },
   "outputs": [],
   "source": [
    "#timeseries of previous timestamps\n",
    "d['load-1d'] = float('NaN') #previous day\n",
    "d['load-2d'] = float('NaN') #previous day\n",
    "d['load-3d'] = float('NaN') #previous day\n",
    "d['load-4d'] = float('NaN') #previous day\n",
    "d['load-5d'] = float('NaN') #previous day\n",
    "d['load-6d'] = float('NaN') #previous day\n",
    "d['load-1w'] = float('NaN') #previous 7 days\n",
    "d['load-1h'] = float('NaN') #previous hr\n",
    "d['load-1d-1h'] = float('NaN')\n",
    "d['load-1w-1h'] = float('NaN')\n",
    "d['load-2h'] = float('NaN') #previous hr\n",
    "d['load-1d-2h'] = float('NaN') #previous hr\n",
    "d['load-1w-2h'] = float('NaN') #previous hr\n",
    "\n",
    "#24 hour shift = 24 shift in index.\n",
    "\n",
    "d.loc[24:d.shape[0],'load-1d'] = list(d['load'].iloc[0:(d.shape[0]-24)])\n",
    "d.loc[(24*2):d.shape[0],'load-2d'] = list(d['load'].iloc[0:(d.shape[0]-(24*2))])\n",
    "d.loc[(24*3):d.shape[0],'load-3d'] = list(d['load'].iloc[0:(d.shape[0]-(24*3))])\n",
    "d.loc[(24*4):d.shape[0],'load-4d'] = list(d['load'].iloc[0:(d.shape[0]-(24*4))])\n",
    "d.loc[(24*5):d.shape[0],'load-5d'] = list(d['load'].iloc[0:(d.shape[0]-(24*5))])\n",
    "d.loc[(24*6):d.shape[0],'load-6d'] = list(d['load'].iloc[0:(d.shape[0]-(24*6))])\n",
    "d.loc[(24*7):d.shape[0],'load-1w'] = list(d['load'].iloc[0:(d.shape[0]-(24*7))])\n",
    "\n",
    "d.loc[1:d.shape[0],'load-1h'] = list(d['load'].iloc[0:(d.shape[0]-1)])\n",
    "d.loc[25:d.shape[0],'load-1d-1h'] = list(d['load'].iloc[0:(d.shape[0]-25)])\n",
    "d.loc[(24*7+1):d.shape[0],'load-1w-1h'] = list(d['load'].iloc[0:(d.shape[0]-(24*7+1))])\n",
    "d.loc[2:d.shape[0],'load-2h'] = list(d['load'].iloc[0:(d.shape[0]-2)])\n",
    "d.loc[26:d.shape[0],'load-1d-2h'] = list(d['load'].iloc[0:(d.shape[0]-26)])\n",
    "d.loc[(24*7+2):d.shape[0],'load-1w-2h'] = list(d['load'].iloc[0:(d.shape[0]-(24*7+2))])\n"
   ]
  },
  {
   "cell_type": "code",
   "execution_count": 45,
   "metadata": {
    "collapsed": false
   },
   "outputs": [
    {
     "data": {
      "text/plain": [
       "((8760, 40), (8760, 40))"
      ]
     },
     "execution_count": 45,
     "metadata": {},
     "output_type": "execute_result"
    }
   ],
   "source": [
    "d[d['tsLocal'].map(lambda x: x.year==2013)].shape,d[d['tsLocal'].map(lambda x: x.year==2014)].shape"
   ]
  },
  {
   "cell_type": "code",
   "execution_count": 46,
   "metadata": {
    "collapsed": false
   },
   "outputs": [
    {
     "data": {
      "text/plain": [
       "(1, 2)"
      ]
     },
     "execution_count": 46,
     "metadata": {},
     "output_type": "execute_result"
    }
   ],
   "source": [
    "#adjust date correctly\n",
    "datetime.date(2013,1,1).weekday(),datetime.date(2014,1,1).weekday()"
   ]
  },
  {
   "cell_type": "code",
   "execution_count": 47,
   "metadata": {
    "collapsed": false
   },
   "outputs": [
    {
     "data": {
      "text/html": [
       "<div style=\"max-height:1000px;max-width:1500px;overflow:auto;\">\n",
       "<table border=\"1\" class=\"dataframe\">\n",
       "  <thead>\n",
       "    <tr style=\"text-align: right;\">\n",
       "      <th></th>\n",
       "      <th>tsLocal</th>\n",
       "      <th>cldCvr</th>\n",
       "      <th>dewPt</th>\n",
       "      <th>feelsLike</th>\n",
       "      <th>precip</th>\n",
       "      <th>relHum</th>\n",
       "      <th>sfcPres</th>\n",
       "      <th>snowfall</th>\n",
       "      <th>spcHum</th>\n",
       "      <th>temp</th>\n",
       "      <th>...</th>\n",
       "      <th>load-4d</th>\n",
       "      <th>load-5d</th>\n",
       "      <th>load-6d</th>\n",
       "      <th>load-1w</th>\n",
       "      <th>load-1h</th>\n",
       "      <th>load-1d-1h</th>\n",
       "      <th>load-1w-1h</th>\n",
       "      <th>load-2h</th>\n",
       "      <th>load-1d-2h</th>\n",
       "      <th>load-1w-2h</th>\n",
       "    </tr>\n",
       "  </thead>\n",
       "  <tbody>\n",
       "    <tr>\n",
       "      <th>8760</th>\n",
       "      <td>2014-01-01</td>\n",
       "      <td> 11</td>\n",
       "      <td> 23.7</td>\n",
       "      <td> 42.6</td>\n",
       "      <td> 0</td>\n",
       "      <td> 41.7</td>\n",
       "      <td> 967.4</td>\n",
       "      <td> 0</td>\n",
       "      <td> 2.8</td>\n",
       "      <td> 45.7</td>\n",
       "      <td>...</td>\n",
       "      <td> 21403.53</td>\n",
       "      <td> 21063.63</td>\n",
       "      <td> 20785.53</td>\n",
       "      <td> 20715.54</td>\n",
       "      <td> 22332.61</td>\n",
       "      <td> 22441.14</td>\n",
       "      <td> 22444.51</td>\n",
       "      <td> 24081.69</td>\n",
       "      <td> 24644.55</td>\n",
       "      <td> 23559.06</td>\n",
       "    </tr>\n",
       "  </tbody>\n",
       "</table>\n",
       "<p>1 rows × 40 columns</p>\n",
       "</div>"
      ],
      "text/plain": [
       "        tsLocal  cldCvr  dewPt  feelsLike  precip  relHum  sfcPres  snowfall  \\\n",
       "8760 2014-01-01      11   23.7       42.6       0    41.7    967.4         0   \n",
       "\n",
       "      spcHum  temp     ...       load-4d   load-5d   load-6d   load-1w  \\\n",
       "8760     2.8  45.7     ...      21403.53  21063.63  20785.53  20715.54   \n",
       "\n",
       "       load-1h  load-1d-1h  load-1w-1h   load-2h  load-1d-2h  load-1w-2h  \n",
       "8760  22332.61    22441.14    22444.51  24081.69    24644.55    23559.06  \n",
       "\n",
       "[1 rows x 40 columns]"
      ]
     },
     "execution_count": 47,
     "metadata": {},
     "output_type": "execute_result"
    }
   ],
   "source": [
    "d[d.tsLocal.map(lambda x: x.date() == datetime.date(2014,1,1))][:1]"
   ]
  },
  {
   "cell_type": "code",
   "execution_count": 48,
   "metadata": {
    "collapsed": false
   },
   "outputs": [],
   "source": [
    "d['load-1y'] = float('NaN')\n",
    "#do one year shift. With weekday correction\n",
    "d.loc[(8759):d.shape[0],'load-1y'] = list(d['load'].iloc[24:(d.shape[0]-(8759-24))])"
   ]
  },
  {
   "cell_type": "markdown",
   "metadata": {},
   "source": [
    "Conclusion: to make a reference, use previous day first. For Monday and Saturday, use average of previous week and previous year with week alignment."
   ]
  },
  {
   "cell_type": "code",
   "execution_count": 49,
   "metadata": {
    "collapsed": false
   },
   "outputs": [],
   "source": [
    "d['load_ref'] = d['load-1d']*((d['weekday']!=0)&(d['weekday']!=5))+\\\n",
    "                    d['load-1w']*(((d['weekday']==0)|(d['weekday']==5)))\n",
    "                    #0.5*(d['load-1w']+d['load-1y'])*(((d['weekday']==0)|(d['weekday']==5)))"
   ]
  },
  {
   "cell_type": "markdown",
   "metadata": {},
   "source": [
    "Add extra modification to make it smoother."
   ]
  },
  {
   "cell_type": "code",
   "execution_count": 50,
   "metadata": {
    "collapsed": true
   },
   "outputs": [],
   "source": [
    "#ref... not use anymore \n",
    "#d['load_ref+1'] = float('NaN')\n",
    "#d['load_ref-1'] = float('NaN')\n",
    "#d.loc[1:d.shape[0],'load_ref-1'] = list(d['load_ref'].iloc[0:(d.shape[0]-1)])\n",
    "#d.loc[0:(d.shape[0]-2),'load_ref+1'] = list(d['load_ref'].iloc[1:(d.shape[0])])\n",
    "#d['load_ref'] = (d['load_ref']+d['load_ref-1']+d['load_ref+1'])/3.0\n",
    "\n",
    "#for day\n",
    "d['load-1d+1'] = float('NaN')\n",
    "d['load-1d-1'] = float('NaN')\n",
    "d.loc[1:d.shape[0],'load-1d-1'] = list(d['load-1d'].iloc[0:(d.shape[0]-1)])\n",
    "d.loc[0:(d.shape[0]-2),'load-1d+1'] = list(d['load-1d'].iloc[1:(d.shape[0])])\n",
    "d['load-1d_smooth'] = (d['load-1d']+d['load-1d-1']+d['load-1d+1'])/3.0\n",
    "\n",
    "#for week\n",
    "d['load-1w+1'] = float('NaN')\n",
    "d['load-1w-1'] = float('NaN')\n",
    "d.loc[1:d.shape[0],'load-1w-1'] = list(d['load-1w'].iloc[0:(d.shape[0]-1)])\n",
    "d.loc[0:(d.shape[0]-2),'load-1w+1'] = list(d['load-1w'].iloc[1:(d.shape[0])])\n",
    "d['load-1w_smooth'] = (d['load-1w']+d['load-1w-1']+d['load-1w+1'])/3.0\n",
    "\n",
    "'''\n",
    "#Define ratio r\n",
    "d['r'] = d['load']/d['load_ref']\n",
    "d['r-1'] = float('NaN')\n",
    "d['r-2'] = float('NaN')\n",
    "d['r-3'] = float('NaN')\n",
    "d['r-4'] = float('NaN')\n",
    "d['r-5'] = float('NaN')\n",
    "d['r-6'] = float('NaN')\n",
    "d.loc[1:d.shape[0],'r-1'] = list(d['r'].iloc[0:(d.shape[0]-1)])\n",
    "d.loc[2:d.shape[0],'r-2'] = list(d['r'].iloc[0:(d.shape[0]-2)])\n",
    "d.loc[3:d.shape[0],'r-3'] = list(d['r'].iloc[0:(d.shape[0]-3)])\n",
    "d.loc[4:d.shape[0],'r-4'] = list(d['r'].iloc[0:(d.shape[0]-4)])\n",
    "d.loc[5:d.shape[0],'r-5'] = list(d['r'].iloc[0:(d.shape[0]-5)])\n",
    "d.loc[6:d.shape[0],'r-6'] = list(d['r'].iloc[0:(d.shape[0]-6)])\n",
    "'''\n",
    "\n",
    "#Define finer ratio\n",
    "d['rd'] = d['load']/d['load-1d']\n",
    "d['rw'] = d['load']/d['load-1w']\n",
    "#d['ry'] = d['load']/d['load-1y']\n",
    "d['rd-1'] = float('NaN')\n",
    "d['rw-1'] = float('NaN')\n",
    "#d['ry-1'] = float('NaN')\n",
    "d['rd-2'] = float('NaN')\n",
    "d['rw-2'] = float('NaN')\n",
    "#d['ry-2'] = float('NaN')\n",
    "d.loc[1:d.shape[0],'rd-1'] = list(d['rd'].iloc[0:(d.shape[0]-1)])\n",
    "d.loc[1:d.shape[0],'rw-1'] = list(d['rw'].iloc[0:(d.shape[0]-1)])\n",
    "#d.loc[1:d.shape[0],'ry-1'] = list(d['ry'].iloc[0:(d.shape[0]-1)])\n",
    "d.loc[2:d.shape[0],'rd-2'] = list(d['rd'].iloc[0:(d.shape[0]-2)])\n",
    "d.loc[2:d.shape[0],'rw-2'] = list(d['rw'].iloc[0:(d.shape[0]-2)])\n",
    "#d.loc[2:d.shape[0],'ry-2'] = list(d['ry'].iloc[0:(d.shape[0]-2)])\n",
    "\n",
    "#feed this back to data\n",
    "Data = d"
   ]
  },
  {
   "cell_type": "markdown",
   "metadata": {},
   "source": [
    "#1-hr rolling prediction"
   ]
  },
  {
   "cell_type": "code",
   "execution_count": 51,
   "metadata": {
    "collapsed": true
   },
   "outputs": [],
   "source": [
    "d = Data\n",
    "#Truly random\n",
    "#l = np.random.permutation(d.shape[0])\n",
    "#d = d.iloc[l].reset_index(drop=True)\n",
    "#offset = int(d.shape[0] * 0.8)\n",
    "\n",
    "#Assign specific period\n",
    "StartDate = datetime.date(2014,10,1)\n",
    "offset = d[d.tsLocal.map(lambda x: x.date()) <StartDate].shape[0]\n",
    "\n",
    "Data_train = d[:offset]\n",
    "Data_test = d[offset:]"
   ]
  },
  {
   "cell_type": "code",
   "execution_count": 52,
   "metadata": {
    "collapsed": false
   },
   "outputs": [
    {
     "data": {
      "text/plain": [
       "(37923.410000000003, 24614.512610960144)"
      ]
     },
     "execution_count": 52,
     "metadata": {},
     "output_type": "execute_result"
    }
   ],
   "source": [
    "np.max(Data_test['load']), np.mean(Data_test['load'])"
   ]
  },
  {
   "cell_type": "markdown",
   "metadata": {},
   "source": [
    "Actually, there is no ensemble here. We just need a single model."
   ]
  },
  {
   "cell_type": "markdown",
   "metadata": {},
   "source": [
    "## Complex model: GBR"
   ]
  },
  {
   "cell_type": "code",
   "execution_count": 53,
   "metadata": {
    "collapsed": false
   },
   "outputs": [],
   "source": [
    "#Gradient Boosting Regression\n",
    "###############################################################################\n",
    "# Fit regression model\n",
    "params = {'n_estimators': 1000, 'max_depth': 4, 'min_samples_split': 2,\n",
    "          'learning_rate': 0.1, 'loss': 'lad'}\n",
    "mod = ensemble.GradientBoostingRegressor(**params)"
   ]
  },
  {
   "cell_type": "markdown",
   "metadata": {},
   "source": [
    "### Online Scheme 1"
   ]
  },
  {
   "cell_type": "code",
   "execution_count": 54,
   "metadata": {
    "collapsed": false
   },
   "outputs": [],
   "source": [
    "Data['load_predict'] = float('NaN')"
   ]
  },
  {
   "cell_type": "code",
   "execution_count": 55,
   "metadata": {
    "collapsed": false
   },
   "outputs": [],
   "source": [
    "DateOfInterest = StartDate \n",
    "\n",
    "while DateOfInterest < EndScopeTime.date():\n",
    "    '''\n",
    "    if zipcode == '92562':\n",
    "        feature_names = ['rw-1','d','h']\n",
    "    if zipcode == '08641':\n",
    "    '''\n",
    "    feature_names = ['rw-1','rw-2','d','h']\n",
    "    #d_imm = Data.loc[Data[Data.tsLocal.map(lambda x: ((x.weekday()==DateOfInterest.weekday())))].index,\n",
    "    d_imm = Data.loc[:,\n",
    "              ['tsLocal','load','load_ref','load-1w','load-1d','rw','rd']+feature_names].dropna()\n",
    "    d = d_imm[d_imm['tsLocal'].map(lambda x: x.date()<DateOfInterest)]\n",
    "    X_train, y_train = d.loc[:,feature_names], d.loc[:,'rw']\n",
    "    d = d_imm[d_imm['tsLocal'].map(lambda x: x.date()==DateOfInterest)]\n",
    "    X_test, y_test = d.loc[:,feature_names], d.loc[:,'rw']\n",
    "\n",
    "    mod.fit(X_train, y_train)\n",
    "    d.loc[:,'load_predict_w'] = (mod.predict(X_test))*d.loc[:,'load-1w']\n",
    "    Data.loc[d.index,'load_predict_w'] =d['load_predict_w']\n",
    "\n",
    "    '''\n",
    "    if zipcode == '92562':\n",
    "        feature_names = ['rd-1','d','h']\n",
    "    if zipcode == '08641':\n",
    "    '''\n",
    "    feature_names = ['rd-1','rd-2','d','h']\n",
    "    #d_imm = Data.loc[Data[Data.tsLocal.map(lambda x: ((x.weekday()==DateOfInterest.weekday())))].index,\n",
    "    d_imm = Data.loc[:,\n",
    "              ['tsLocal','load','load_ref','load-1w','load-1d','rw','rd']+feature_names].dropna()\n",
    "    d = d_imm[d_imm['tsLocal'].map(lambda x: x.date()<DateOfInterest)]\n",
    "    X_train, y_train = d.loc[:,feature_names], d.loc[:,'rd']\n",
    "    d = d_imm[d_imm['tsLocal'].map(lambda x: x.date()==DateOfInterest)]\n",
    "    X_test, y_test = d.loc[:,feature_names], d.loc[:,'rd']\n",
    "\n",
    "    mod.fit(X_train, y_train)\n",
    "    d.loc[:,'load_predict_d'] = (mod.predict(X_test))*d.loc[:,'load-1d']\n",
    "    Data.loc[d.index,'load_predict_d'] =d['load_predict_d']\n",
    "\n",
    "    DateOfInterest = DateOfInterest + datetime.timedelta(days=1)"
   ]
  },
  {
   "cell_type": "code",
   "execution_count": 56,
   "metadata": {
    "collapsed": false
   },
   "outputs": [
    {
     "name": "stdout",
     "output_type": "stream",
     "text": [
      "[180.19587030558375, 1289.3067979723564]\n"
     ]
    }
   ],
   "source": [
    "Data.loc[offset:,'load_predict'] = 0.5*(Data.loc[offset:,'load_predict_w']+Data.loc[offset:,'load_predict_d'])\n",
    "l = Data.loc[offset:,'load']-Data.loc[offset:,'load_predict']\n",
    "[mean_scheme1,max_scheme1] = [np.mean(np.absolute(l)),np.max(np.absolute(l))]\n",
    "print [mean_scheme1,max_scheme1]"
   ]
  },
  {
   "cell_type": "code",
   "execution_count": 57,
   "metadata": {
    "collapsed": false
   },
   "outputs": [
    {
     "name": "stderr",
     "output_type": "stream",
     "text": [
      "C:\\Users\\Admin\\Anaconda\\lib\\site-packages\\IPython\\kernel\\__main__.py:3: SettingWithCopyWarning: \n",
      "A value is trying to be set on a copy of a slice from a DataFrame.\n",
      "Try using .loc[row_indexer,col_indexer] = value instead\n",
      "\n",
      "See the the caveats in the documentation: http://pandas.pydata.org/pandas-docs/stable/indexing.html#indexing-view-versus-copy\n",
      "  app.launch_new_instance()\n"
     ]
    },
    {
     "data": {
      "text/html": [
       "<div style=\"max-height:1000px;max-width:1500px;overflow:auto;\">\n",
       "<table border=\"1\" class=\"dataframe\">\n",
       "  <thead>\n",
       "    <tr style=\"text-align: right;\">\n",
       "      <th></th>\n",
       "      <th>tsLocal</th>\n",
       "      <th>prediction-difference</th>\n",
       "      <th>weekday</th>\n",
       "    </tr>\n",
       "  </thead>\n",
       "  <tbody>\n",
       "    <tr>\n",
       "      <th>15672</th>\n",
       "      <td>2014-10-16</td>\n",
       "      <td>-0.05238</td>\n",
       "      <td> 3</td>\n",
       "    </tr>\n",
       "  </tbody>\n",
       "</table>\n",
       "</div>"
      ],
      "text/plain": [
       "         tsLocal  prediction-difference  weekday\n",
       "15672 2014-10-16               -0.05238        3"
      ]
     },
     "execution_count": 57,
     "metadata": {},
     "output_type": "execute_result"
    }
   ],
   "source": [
    "#Closer look at error relative to the MEAN of TEST DATA\n",
    "d = Data[['tsLocal','load_predict','load','load_ref','load-1d','load-1w','weekday']]\n",
    "d['prediction-difference'] = (d['load_predict']-d['load'])/np.mean(Data_test['load'].dropna())\n",
    "np.mean(np.absolute(d['prediction-difference'])),np.max(np.absolute(d['prediction-difference']))\n",
    "d[(d['prediction-difference']>0.05)|(d['prediction-difference']<-0.05)][['tsLocal','prediction-difference','weekday']]"
   ]
  },
  {
   "cell_type": "code",
   "execution_count": 58,
   "metadata": {
    "collapsed": true
   },
   "outputs": [],
   "source": [
    "Data['load_predict_final'] = Data['load_predict'] "
   ]
  },
  {
   "cell_type": "code",
   "execution_count": 59,
   "metadata": {
    "collapsed": true
   },
   "outputs": [],
   "source": [
    "matplotlib.rc('xtick', labelsize=15) \n",
    "matplotlib.rc('ytick', labelsize=15) \n",
    "font = {'family' : 'normal',\n",
    "        'weight' : 'bold',\n",
    "        'size'   : 20}\n",
    "matplotlib.rc('font', **font)"
   ]
  },
  {
   "cell_type": "code",
   "execution_count": 60,
   "metadata": {
    "collapsed": false
   },
   "outputs": [
    {
     "name": "stdout",
     "output_type": "stream",
     "text": [
      "-3.1166935249 239.308026675\n",
      "(-0.77723095941854314, 180.19379926218926)\n"
     ]
    },
    {
     "data": {
      "text/plain": [
       "<matplotlib.lines.Line2D at 0x1aa23588>"
      ]
     },
     "execution_count": 60,
     "metadata": {},
     "output_type": "execute_result"
    },
    {
     "data": {
      "image/png": "[encoded data removed]",
      "text/plain": [
       "<matplotlib.figure.Figure at 0x1b4bb588>"
      ]
     },
     "metadata": {},
     "output_type": "display_data"
    }
   ],
   "source": [
    "from scipy.stats import norm\n",
    "import matplotlib.mlab as mlab\n",
    "import matplotlib.pyplot as plt\n",
    "import scipy.stats as stats\n",
    "\n",
    "fig = plt.figure(figsize=(10,6))\n",
    "ax1  = fig.add_subplot(111)\n",
    "#Overall distribution\n",
    "\n",
    "l = list((Data['load_predict_final']-Data['load']).dropna())\n",
    "\n",
    "\n",
    "# the histogram of the data\n",
    "n, bins, patches = ax1.hist(l, 60, normed=1, alpha=0.75)\n",
    "\n",
    "# best fit of data with normal distribution\n",
    "(mu, sigma) = norm.fit(l)\n",
    "print mu, sigma\n",
    "\n",
    "plt.xlabel(\"Predicted value - Actual value\")\n",
    "plt.ylabel(\"Frequency\")\n",
    "\n",
    "\n",
    "# add a 'best fit' line\n",
    "y = mlab.normpdf( bins, mu, sigma)\n",
    "ax1.plot(bins, y, 'r--', linewidth=2)\n",
    "\n",
    "\n",
    "\n",
    "\n",
    "laplace = stats.laplace\n",
    "\n",
    "# fit\n",
    "param = laplace.fit(l)\n",
    "x = np.linspace(np.min(l), np.max(l), 100)\n",
    "pdf_fitted = laplace.pdf(x, *param)\n",
    "plt.plot(x, pdf_fitted, 'g--', linewidth=2)\n",
    "\n",
    "print  param\n",
    "\n",
    "plt.axvline(x=0.05*np.mean(Data_test['load'].dropna()), color='k',linestyle=':')\n",
    "plt.axvline(x=0*np.mean(Data_test['load'].dropna()), color='k',linestyle='--')\n",
    "plt.axvline(x=-0.05*np.mean(Data_test['load'].dropna()), color='k',linestyle=':')\n"
   ]
  },
  {
   "cell_type": "code",
   "execution_count": 61,
   "metadata": {
    "collapsed": false
   },
   "outputs": [
    {
     "data": {
      "text/plain": [
       "[2208,\n",
       " 180.19587030558375,\n",
       " 1289.3067979723564,\n",
       " 24614.512610960144,\n",
       " 0.0073207165688646478,\n",
       " 0.052379944236566549]"
      ]
     },
     "execution_count": 61,
     "metadata": {},
     "output_type": "execute_result"
    }
   ],
   "source": [
    "[len(l), np.mean(np.absolute(l)), np.max(np.absolute(l)), np.mean(Data_test['load'].dropna()), \n",
    "np.mean(np.absolute(l))/np.mean(Data_test['load'].dropna()), np.max(np.absolute(l))/np.mean(Data_test['load'].dropna())]"
   ]
  },
  {
   "cell_type": "code",
   "execution_count": 62,
   "metadata": {
    "collapsed": false
   },
   "outputs": [],
   "source": [
    "mainDir = 'C:\\Users\\Admin\\Dropbox\\Active\\EnergyProject\\Thesis'\n",
    "dataDir = mainDir + '/data/load/' + region +'/'\n",
    "Data.to_csv(dataDir +'/load_with_full_forecast.csv',index=False)"
   ]
  }
 ],
 "metadata": {
  "kernelspec": {
   "display_name": "Python 2",
   "language": "python",
   "name": "python2"
  },
  "language_info": {
   "codemirror_mode": {
    "name": "ipython",
    "version": 2
   },
   "file_extension": ".py",
   "mimetype": "text/x-python",
   "name": "python",
   "nbconvert_exporter": "python",
   "pygments_lexer": "ipython2",
   "version": "2.7.8"
  }
 },
 "nbformat": 4,
 "nbformat_minor": 0
}
