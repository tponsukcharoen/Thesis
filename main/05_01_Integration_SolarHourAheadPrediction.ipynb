{
 "cells": [
  {
   "cell_type": "code",
   "execution_count": 51,
   "metadata": {
    "collapsed": false
   },
   "outputs": [],
   "source": [
    "import pandas as pd\n",
    "import numpy as np\n",
    "import matplotlib.pyplot as plt\n",
    "import datetime\n",
    "import pytz\n",
    "import os\n",
    "import patsy #for spline regression\n",
    "import scipy #for non-negative least square \n",
    "import scipy as sp \n",
    "from scipy import stats\n",
    "from scipy.optimize import nnls\n",
    "from numpy.linalg import inv #for matrix and statistics\n",
    "import scipy as sp\n",
    "import math\n",
    "import statsmodels.api as sm\n",
    "from sklearn.cluster import AgglomerativeClustering\n",
    "from sklearn.cluster import KMeans\n",
    "import sklearn.cluster\n",
    "import sklearn.linear_model\n",
    "from sklearn import ensemble\n",
    "from sklearn.utils import shuffle\n",
    "from sklearn.metrics import mean_absolute_error\n",
    "import sklearn.cluster\n",
    "import sklearn.linear_model\n",
    "from sklearn import datasets, linear_model\n",
    "from sklearn.svm import SVR\n",
    "%matplotlib inline"
   ]
  },
  {
   "cell_type": "code",
   "execution_count": 52,
   "metadata": {
    "collapsed": false
   },
   "outputs": [],
   "source": [
    "#specify data source \n",
    "datasource = 'L'"
   ]
  },
  {
   "cell_type": "code",
   "execution_count": 53,
   "metadata": {
    "collapsed": false
   },
   "outputs": [],
   "source": [
    "#zipcode = '92562'\n",
    "zipcode = '08641'"
   ]
  },
  {
   "cell_type": "code",
   "execution_count": 54,
   "metadata": {
    "collapsed": false
   },
   "outputs": [],
   "source": [
    "#mainDir = 'C:/Users/umnouyp/Dropbox/Active/EnergyProject/Thesis/PVreadingsStudies/main'\n",
    "#mainDir = 'C:/Users/Tee/Dropbox/Active/EnergyProject/Thesis/PVreadingsStudies/main'\n",
    "mainDir = 'C:\\Users\\Admin\\Dropbox\\Active\\EnergyProject\\Thesis'\n",
    "#we can choose which data to look at.\n",
    "dataDir = mainDir + '/data/solar/' + datasource +'/' + zipcode +'/'\n",
    "outputDir = mainDir + '/output/'+ datasource +'/' + zipcode +'/'"
   ]
  },
  {
   "cell_type": "code",
   "execution_count": 55,
   "metadata": {
    "collapsed": false
   },
   "outputs": [],
   "source": [
    "data = pd.read_csv(dataDir +'/training_data_fitted_adjusted.csv')\n",
    "data['tsLocal'] = data['tsLocal'].map(lambda x: datetime.datetime.strptime(x,\"%Y-%m-%d %H:%M:%S\"))\n",
    "\n",
    "dsummary = pd.read_csv(outputDir+\"/fitsummary.csv\")\n",
    "dsummary.Date = dsummary.Date.map(lambda x: datetime.datetime.strptime(x,\"%Y-%m-%d\").date())\n",
    "FullModelCoef = pd.read_csv(outputDir+\"/FullModelCoef.csv\")"
   ]
  },
  {
   "cell_type": "code",
   "execution_count": 56,
   "metadata": {
    "collapsed": false
   },
   "outputs": [],
   "source": [
    "weatherdatasource = '/data/weather/weathersource/hourly/'\n",
    "if (zipcode == '08641')|(zipcode =='08640'):\n",
    "    weatherdata = pd.read_csv(mainDir+weatherdatasource+'08641_20132014.csv')\n",
    "if (zipcode == '92562')|(zipcode =='92563'):\n",
    "    weatherdata = pd.read_csv(mainDir+weatherdatasource+'92563_20132014.csv')\n",
    "\n",
    "weatherdata['tsLocal'] = weatherdata.timestamp.map(lambda x: x[0:10] + \" \" + x[11:19])\n",
    "#weatherdata.tsLocal = weatherdata.tsLocal.map(lambda x: datetime.datetime.strptime(x,\"%Y-%m-%d %H:%M:%S\"))\n",
    "if type(weatherdata.tsLocal[0])==str:\n",
    "    weatherdata['tsLocal'] = weatherdata['tsLocal'].map(lambda x: datetime.datetime.strptime(x,\"%Y-%m-%d %H:%M:%S\"))\n",
    "weatherdata.drop(['timestamp','country','postal_code'], axis=1, inplace=True)"
   ]
  },
  {
   "cell_type": "code",
   "execution_count": 57,
   "metadata": {
    "collapsed": false
   },
   "outputs": [],
   "source": [
    "if weatherdata.shape[0]!=len(set(weatherdata['tsLocal'])):\n",
    "    for i in range(weatherdata.shape[0]):\n",
    "        if weatherdata.loc[i,'tsLocal'] == weatherdata.loc[(i+1),'tsLocal']:\n",
    "            print weatherdata.loc[i,'tsLocal']"
   ]
  },
  {
   "cell_type": "code",
   "execution_count": 58,
   "metadata": {
    "collapsed": false
   },
   "outputs": [
    {
     "data": {
      "text/html": [
       "<div style=\"max-height:1000px;max-width:1500px;overflow:auto;\">\n",
       "<table border=\"1\" class=\"dataframe\">\n",
       "  <thead>\n",
       "    <tr style=\"text-align: right;\">\n",
       "      <th></th>\n",
       "      <th>E</th>\n",
       "      <th>Rsq</th>\n",
       "      <th>c0</th>\n",
       "      <th>c1</th>\n",
       "      <th>c2</th>\n",
       "      <th>c3</th>\n",
       "      <th>c4</th>\n",
       "      <th>c5</th>\n",
       "      <th>c6</th>\n",
       "      <th>c7</th>\n",
       "      <th>c8</th>\n",
       "      <th>c9</th>\n",
       "      <th>c10</th>\n",
       "      <th>Date</th>\n",
       "      <th>DBW</th>\n",
       "      <th>singlemax</th>\n",
       "      <th>PeakCheck</th>\n",
       "      <th>FirstCheck</th>\n",
       "      <th>SecondCheck</th>\n",
       "      <th>mE</th>\n",
       "    </tr>\n",
       "  </thead>\n",
       "  <tbody>\n",
       "    <tr>\n",
       "      <th>0</th>\n",
       "      <td>NaN</td>\n",
       "      <td>NaN</td>\n",
       "      <td>NaN</td>\n",
       "      <td>NaN</td>\n",
       "      <td>NaN</td>\n",
       "      <td>NaN</td>\n",
       "      <td>NaN</td>\n",
       "      <td>NaN</td>\n",
       "      <td>NaN</td>\n",
       "      <td>NaN</td>\n",
       "      <td>NaN</td>\n",
       "      <td>NaN</td>\n",
       "      <td>NaN</td>\n",
       "      <td> 2013-01-01</td>\n",
       "      <td>-355</td>\n",
       "      <td>NaN</td>\n",
       "      <td> False</td>\n",
       "      <td> False</td>\n",
       "      <td> False</td>\n",
       "      <td> 4.742651</td>\n",
       "    </tr>\n",
       "  </tbody>\n",
       "</table>\n",
       "</div>"
      ],
      "text/plain": [
       "    E  Rsq  c0  c1  c2  c3  c4  c5  c6  c7  c8  c9  c10        Date  DBW  \\\n",
       "0 NaN  NaN NaN NaN NaN NaN NaN NaN NaN NaN NaN NaN  NaN  2013-01-01 -355   \n",
       "\n",
       "   singlemax PeakCheck FirstCheck SecondCheck        mE  \n",
       "0        NaN     False      False       False  4.742651  "
      ]
     },
     "execution_count": 58,
     "metadata": {},
     "output_type": "execute_result"
    }
   ],
   "source": [
    "dsummary[:1]"
   ]
  },
  {
   "cell_type": "code",
   "execution_count": 59,
   "metadata": {
    "collapsed": false
   },
   "outputs": [
    {
     "data": {
      "text/html": [
       "<div style=\"max-height:1000px;max-width:1500px;overflow:auto;\">\n",
       "<table border=\"1\" class=\"dataframe\">\n",
       "  <thead>\n",
       "    <tr style=\"text-align: right;\">\n",
       "      <th></th>\n",
       "      <th>DBW</th>\n",
       "      <th>c0</th>\n",
       "      <th>c1</th>\n",
       "      <th>c2</th>\n",
       "      <th>c3</th>\n",
       "      <th>c4</th>\n",
       "      <th>c5</th>\n",
       "      <th>c6</th>\n",
       "      <th>c7</th>\n",
       "      <th>c8</th>\n",
       "      <th>c9</th>\n",
       "      <th>c10</th>\n",
       "    </tr>\n",
       "  </thead>\n",
       "  <tbody>\n",
       "    <tr>\n",
       "      <th>0</th>\n",
       "      <td> 0</td>\n",
       "      <td> 0.146378</td>\n",
       "      <td> 0.415993</td>\n",
       "      <td> 0.488299</td>\n",
       "      <td> 0.645738</td>\n",
       "      <td> 0.714671</td>\n",
       "      <td> 0.729269</td>\n",
       "      <td> 0.760784</td>\n",
       "      <td> 0.76581</td>\n",
       "      <td> 0.660012</td>\n",
       "      <td> 0.647527</td>\n",
       "      <td> 0.141794</td>\n",
       "    </tr>\n",
       "  </tbody>\n",
       "</table>\n",
       "</div>"
      ],
      "text/plain": [
       "   DBW        c0        c1        c2        c3        c4        c5        c6  \\\n",
       "0    0  0.146378  0.415993  0.488299  0.645738  0.714671  0.729269  0.760784   \n",
       "\n",
       "        c7        c8        c9       c10  \n",
       "0  0.76581  0.660012  0.647527  0.141794  "
      ]
     },
     "execution_count": 59,
     "metadata": {},
     "output_type": "execute_result"
    }
   ],
   "source": [
    "FullModelCoef[:1]"
   ]
  },
  {
   "cell_type": "code",
   "execution_count": 60,
   "metadata": {
    "collapsed": false
   },
   "outputs": [
    {
     "data": {
      "text/html": [
       "<div style=\"max-height:1000px;max-width:1500px;overflow:auto;\">\n",
       "<table border=\"1\" class=\"dataframe\">\n",
       "  <thead>\n",
       "    <tr style=\"text-align: right;\">\n",
       "      <th></th>\n",
       "      <th>tsLocal</th>\n",
       "      <th>altitude</th>\n",
       "      <th>azimuth</th>\n",
       "      <th>power</th>\n",
       "      <th>numactivecomp</th>\n",
       "      <th>totalsize</th>\n",
       "      <th>s</th>\n",
       "      <th>DBW</th>\n",
       "      <th>mpower</th>\n",
       "      <th>r</th>\n",
       "      <th>expectedr</th>\n",
       "    </tr>\n",
       "  </thead>\n",
       "  <tbody>\n",
       "    <tr>\n",
       "      <th>0</th>\n",
       "      <td>2013-01-01 07:30:00</td>\n",
       "      <td> 1.11014</td>\n",
       "      <td>-301.362934</td>\n",
       "      <td>NaN</td>\n",
       "      <td> 5</td>\n",
       "      <td> 64.71819</td>\n",
       "      <td>-0.999743</td>\n",
       "      <td>-355</td>\n",
       "      <td> 0.296</td>\n",
       "      <td>NaN</td>\n",
       "      <td> 0.415969</td>\n",
       "    </tr>\n",
       "  </tbody>\n",
       "</table>\n",
       "</div>"
      ],
      "text/plain": [
       "              tsLocal  altitude     azimuth  power  numactivecomp  totalsize  \\\n",
       "0 2013-01-01 07:30:00   1.11014 -301.362934    NaN              5   64.71819   \n",
       "\n",
       "          s  DBW  mpower   r  expectedr  \n",
       "0 -0.999743 -355   0.296 NaN   0.415969  "
      ]
     },
     "execution_count": 60,
     "metadata": {},
     "output_type": "execute_result"
    }
   ],
   "source": [
    "data[:1]"
   ]
  },
  {
   "cell_type": "markdown",
   "metadata": {},
   "source": [
    "# Basic time series construction with hourly volatility"
   ]
  },
  {
   "cell_type": "markdown",
   "metadata": {},
   "source": [
    "Here we construct time series of power and power ratio. We add time without sun to create consistent time series. In addition, we add parallel values of previous 15 minute instances (-1, -2, ...) and previous day instances (y)."
   ]
  },
  {
   "cell_type": "code",
   "execution_count": 61,
   "metadata": {
    "collapsed": false
   },
   "outputs": [],
   "source": [
    "#specify scope\n",
    "StartScopeDate = '2013-01-01'\n",
    "EndScopeDate = '2015-01-01'\n",
    "StartScopeTime =  datetime.datetime.strptime(StartScopeDate,\"%Y-%m-%d\")\n",
    "EndScopeTime =  datetime.datetime.strptime(EndScopeDate,\"%Y-%m-%d\")\n",
    "\n",
    "#Generate data frame from start to end for time series\n",
    "tslist = []\n",
    "nxt = StartScopeTime\n",
    "while nxt < EndScopeTime:\n",
    "    tslist.append(nxt)\n",
    "    nxt += datetime.timedelta(minutes=15)\n",
    "        \n",
    "Scope = pd.DataFrame(0, index = np.arange(len(tslist)), columns = ['tsLocal'])\n",
    "Scope['tsLocal'] = tslist\n",
    "\n",
    "#Now we can merge using Scope Table as a backbone of data structure.\n",
    "d = pd.merge(Scope,weatherdata,on=['tsLocal'], how = 'left') "
   ]
  },
  {
   "cell_type": "code",
   "execution_count": 62,
   "metadata": {
    "collapsed": false
   },
   "outputs": [
    {
     "data": {
      "text/plain": [
       "(70080, 12)"
      ]
     },
     "execution_count": 62,
     "metadata": {},
     "output_type": "execute_result"
    }
   ],
   "source": [
    "d.shape"
   ]
  },
  {
   "cell_type": "code",
   "execution_count": 63,
   "metadata": {
    "collapsed": false
   },
   "outputs": [],
   "source": [
    "for j in range(1,12):\n",
    "    for i in range(0,d.shape[0]/4-1):\n",
    "        if (type(d.iloc[4*i,j])!=pd.tslib.NaTType) & (type(d.iloc[4*(i+1),j])!=pd.tslib.NaTType):\n",
    "        #d.iloc[4*(i+1),1]=float('NaN')\n",
    "            d.iloc[4*i+1,j] = 0.75*d.iloc[4*i,j]+0.25*d.iloc[4*(i+1),j]\n",
    "            d.iloc[4*i+2,j] = 0.50*d.iloc[4*i,j]+0.50*d.iloc[4*(i+1),j]\n",
    "            d.iloc[4*i+3,j] = 0.25*d.iloc[4*i,j]+0.75*d.iloc[4*(i+1),j]"
   ]
  },
  {
   "cell_type": "code",
   "execution_count": 64,
   "metadata": {
    "collapsed": true
   },
   "outputs": [],
   "source": [
    "#Now we can merge our backbone + weather with solar data\n",
    "d = pd.merge(d,data,on=['tsLocal'], how = 'left') "
   ]
  },
  {
   "cell_type": "code",
   "execution_count": 65,
   "metadata": {
    "collapsed": false
   },
   "outputs": [],
   "source": [
    "#timeseries of previous timestamps\n",
    "for num in [1,2,3,4,5,6,7,8,9,10,11]:\n",
    "    d['power-'+ str(num)] = float('NaN')\n",
    "    d['mpower-'+ str(num)] = float('NaN')\n",
    "    d['r-'+ str(num)] = float('NaN')\n",
    "    d.loc[num:d.shape[0],'power-'+ str(num)] = list(d['power'].iloc[0:(d.shape[0]-num)])\n",
    "    d.loc[num:d.shape[0],'mpower-'+ str(num)] = list(d['mpower'].iloc[0:(d.shape[0]-num)])\n",
    "    d.loc[num:d.shape[0],'r-'+ str(num)] = list(d['r'].iloc[0:(d.shape[0]-num)])"
   ]
  },
  {
   "cell_type": "code",
   "execution_count": 66,
   "metadata": {
    "collapsed": false
   },
   "outputs": [],
   "source": [
    "#normalize weather value\n",
    "d['cldCvr'] = (d['cldCvr']-np.min(d['cldCvr']))/(np.max(d['cldCvr'])-np.min(d['cldCvr']))\n",
    "d['dewPt'] = (d['dewPt']-np.min(d['dewPt']))/(np.max(d['dewPt'])-np.min(d['dewPt']))\n",
    "d['feelsLike'] = (d['feelsLike']-np.min(d['feelsLike']))/(np.max(d['feelsLike'])-np.min(d['feelsLike']))\n",
    "d['precip'] = (d['precip']-np.min(d['precip']))/(np.max(d['precip'])-np.min(d['precip']))\n",
    "d['relHum'] = (d['relHum']-np.min(d['relHum']))/(np.max(d['relHum'])-np.min(d['relHum']))\n",
    "d['sfcPres'] = (d['sfcPres']-np.min(d['sfcPres']))/(np.max(d['sfcPres'])-np.min(d['sfcPres']))\n",
    "d['snowfall'] = (d['snowfall']-np.min(d['snowfall']))/(np.max(d['snowfall'])-np.min(d['snowfall']))\n",
    "d['spcHum'] = (d['spcHum']-np.min(d['spcHum']))/(np.max(d['spcHum'])-np.min(d['spcHum']))\n",
    "d['temp'] = (d['temp']-np.min(d['temp']))/(np.max(d['temp'])-np.min(d['temp']))\n",
    "d['windSpd'] = (d['windSpd']-np.min(d['windSpd']))/(np.max(d['windSpd'])-np.min(d['windSpd']))\n",
    "d['wetBulb'] = (d['wetBulb']-np.min(d['wetBulb']))/(np.max(d['wetBulb'])-np.min(d['wetBulb']))\n"
   ]
  },
  {
   "cell_type": "code",
   "execution_count": 67,
   "metadata": {
    "collapsed": true
   },
   "outputs": [],
   "source": [
    "for num in [1,2,3,4,8]:\n",
    "    d['cldCvr-'+ str(num)] = float('NaN')\n",
    "    d['dewPt-'+ str(num)] = float('NaN')\n",
    "    d['feelsLike-'+ str(num)] = float('NaN')\n",
    "    d['precip-'+ str(num)] = float('NaN')\n",
    "    d['relHum-'+ str(num)] = float('NaN')\n",
    "    d['sfcPres-'+ str(num)] = float('NaN')\n",
    "    d['snowfall-'+ str(num)] = float('NaN')\n",
    "    d['spcHum-'+ str(num)] = float('NaN')\n",
    "    d['temp-'+ str(num)] = float('NaN')\n",
    "    d['windSpd-'+ str(num)] = float('NaN')\n",
    "    d['wetBulb-'+ str(num)] = float('NaN')\n",
    "    d.loc[num:d.shape[0],'cldCvr-'+ str(num)] = list(d['cldCvr'].iloc[0:(d.shape[0]-num)])\n",
    "    d.loc[num:d.shape[0],'dewPt-'+ str(num)] = list(d['dewPt'].iloc[0:(d.shape[0]-num)])\n",
    "    d.loc[num:d.shape[0],'feelsLike-'+ str(num)] = list(d['feelsLike'].iloc[0:(d.shape[0]-num)])\n",
    "    d.loc[num:d.shape[0],'precip-'+ str(num)] = list(d['precip'].iloc[0:(d.shape[0]-num)])\n",
    "    d.loc[num:d.shape[0],'relHum-'+ str(num)] = list(d['relHum'].iloc[0:(d.shape[0]-num)])\n",
    "    d.loc[num:d.shape[0],'sfcPres-'+ str(num)] = list(d['sfcPres'].iloc[0:(d.shape[0]-num)])\n",
    "    d.loc[num:d.shape[0],'snowfall-'+ str(num)] = list(d['snowfall'].iloc[0:(d.shape[0]-num)])\n",
    "    d.loc[num:d.shape[0],'spcHum-'+ str(num)] = list(d['spcHum'].iloc[0:(d.shape[0]-num)])\n",
    "    d.loc[num:d.shape[0],'temp-'+ str(num)] = list(d['temp'].iloc[0:(d.shape[0]-num)])\n",
    "    d.loc[num:d.shape[0],'windSpd-'+ str(num)] = list(d['windSpd'].iloc[0:(d.shape[0]-num)])\n",
    "    d.loc[num:d.shape[0],'wetBulb-'+ str(num)] = list(d['wetBulb'].iloc[0:(d.shape[0]-num)])"
   ]
  },
  {
   "cell_type": "markdown",
   "metadata": {},
   "source": [
    "Let's compute rolling hourly volaitility (this is for 15 min interval)"
   ]
  },
  {
   "cell_type": "code",
   "execution_count": 68,
   "metadata": {
    "collapsed": false
   },
   "outputs": [],
   "source": [
    "#volatility derivative-based and persistence-based\n",
    "#d['V-d'] = np.absolute(d['power-1']-4*d['power-2']+6*d['power-3']-4*d['power-4']+d['power-5'])\n",
    "d['V-s'] = np.absolute(d['power-1']-d['power-2']/d['mpower-2']*d['mpower-1'])+\\\n",
    "            np.absolute(d['power-2']-d['power-3']/d['mpower-3']*d['mpower-2'])+\\\n",
    "             np.absolute(d['power-3']-d['power-4']/d['mpower-4']*d['mpower-3'])\n",
    "        \n",
    "d['V-s-4'] = np.absolute(d['power-4']-d['power-5']/d['mpower-5']*d['mpower-4'])+\\\n",
    "            np.absolute(d['power-5']-d['power-6']/d['mpower-6']*d['mpower-5'])+\\\n",
    "             np.absolute(d['power-6']-d['power-7']/d['mpower-7']*d['mpower-6'])\n",
    "\n",
    "#Unlikely to be useful\n",
    "d['V-s-8'] = np.absolute(d['power-8']-d['power-9']/d['mpower-9']*d['mpower-8'])+\\\n",
    "            np.absolute(d['power-9']-d['power-10']/d['mpower-10']*d['mpower-9'])+\\\n",
    "             np.absolute(d['power-10']-d['power-11']/d['mpower-11']*d['mpower-10'])"
   ]
  },
  {
   "cell_type": "markdown",
   "metadata": {},
   "source": [
    "Here we separate data for training and testing. Need this for autoregressive model."
   ]
  },
  {
   "cell_type": "code",
   "execution_count": 69,
   "metadata": {
    "collapsed": false
   },
   "outputs": [],
   "source": [
    "Data = d\n",
    "#select data for training and test\n",
    "StartDate = datetime.date(2014,10,1)\n",
    "TrainData = d[d.tsLocal.map(lambda x: x.date()) <StartDate].set_index('tsLocal')\n",
    "TrainDateList = list(dsummary.Date[dsummary.Date<StartDate])\n",
    "TestData = d[d.tsLocal.map(lambda x: x.date()) >=StartDate].set_index('tsLocal')\n",
    "\n",
    "#Extra screening by high energy days\n",
    "HighEnergyDayList = list(dsummary.Date[dsummary.E/dsummary.mE>0.9]) #for NJ\n",
    "HighEnergyTestData = d[d.tsLocal.map(lambda x: (x.date()>=StartDate) & (x.date() in HighEnergyDayList))].set_index('tsLocal')"
   ]
  },
  {
   "cell_type": "markdown",
   "metadata": {},
   "source": [
    "#15-minute rolling prediction"
   ]
  },
  {
   "cell_type": "markdown",
   "metadata": {},
   "source": [
    "Before doing any model, make a consistent train/test by randomly assign 80/20"
   ]
  },
  {
   "cell_type": "code",
   "execution_count": 70,
   "metadata": {
    "collapsed": false
   },
   "outputs": [],
   "source": [
    "d = Data\n",
    "#Truly random\n",
    "#l = np.random.permutation(d.shape[0])\n",
    "#d = d.iloc[l].reset_index(drop=True)\n",
    "#offset = int(d.shape[0] * 0.8)\n",
    "\n",
    "#Assign specific period\n",
    "StartDate = datetime.date(2014,10,1)\n",
    "offset = d[d.tsLocal.map(lambda x: x.date()) <StartDate].shape[0]\n",
    "\n",
    "Data_train = d[:offset]\n",
    "Data_test = d[offset:]"
   ]
  },
  {
   "cell_type": "code",
   "execution_count": 71,
   "metadata": {
    "collapsed": false
   },
   "outputs": [
    {
     "data": {
      "text/plain": [
       "(70080, 113)"
      ]
     },
     "execution_count": 71,
     "metadata": {},
     "output_type": "execute_result"
    }
   ],
   "source": [
    "Data.shape"
   ]
  },
  {
   "cell_type": "code",
   "execution_count": 72,
   "metadata": {
    "collapsed": true
   },
   "outputs": [],
   "source": [
    "#For bin reference\n",
    "numbins = int(math.ceil(np.max(d['V-s'])/0.1))\n",
    "meandifflist = [0]*numbins\n",
    "maxdifflist = [0]*numbins\n",
    "middlebinvalue = [0.1*i+0.05 for i in range(0,numbins)]"
   ]
  },
  {
   "cell_type": "markdown",
   "metadata": {},
   "source": [
    "## Prediction for zeroth method"
   ]
  },
  {
   "cell_type": "code",
   "execution_count": 73,
   "metadata": {
    "collapsed": true
   },
   "outputs": [],
   "source": [
    "#Two rounds: for 1-hour horizon (A) and 2-hour horizon (B)\n",
    "Data['power_predict_zeroth-A'] = float('NaN')\n",
    "Data['power_predict_zeroth-B'] = float('NaN')"
   ]
  },
  {
   "cell_type": "code",
   "execution_count": 74,
   "metadata": {
    "collapsed": false
   },
   "outputs": [
    {
     "name": "stderr",
     "output_type": "stream",
     "text": [
      "C:\\Users\\Admin\\Anaconda\\lib\\site-packages\\IPython\\kernel\\__main__.py:14: SettingWithCopyWarning: \n",
      "A value is trying to be set on a copy of a slice from a DataFrame.\n",
      "Try using .loc[row_indexer,col_indexer] = value instead\n",
      "\n",
      "See the the caveats in the documentation: http://pandas.pydata.org/pandas-docs/stable/indexing.html#indexing-view-versus-copy\n",
      "C:\\Users\\Admin\\Anaconda\\lib\\site-packages\\IPython\\kernel\\__main__.py:15: SettingWithCopyWarning: \n",
      "A value is trying to be set on a copy of a slice from a DataFrame.\n",
      "Try using .loc[row_indexer,col_indexer] = value instead\n",
      "\n",
      "See the the caveats in the documentation: http://pandas.pydata.org/pandas-docs/stable/indexing.html#indexing-view-versus-copy\n",
      "C:\\Users\\Admin\\Anaconda\\lib\\site-packages\\IPython\\kernel\\__main__.py:16: SettingWithCopyWarning: \n",
      "A value is trying to be set on a copy of a slice from a DataFrame.\n",
      "Try using .loc[row_indexer,col_indexer] = value instead\n",
      "\n",
      "See the the caveats in the documentation: http://pandas.pydata.org/pandas-docs/stable/indexing.html#indexing-view-versus-copy\n"
     ]
    }
   ],
   "source": [
    "feature_names = ['expectedr']\n",
    "\n",
    "DateOfInterest = StartDate \n",
    "\n",
    "while DateOfInterest < EndScopeTime.date():\n",
    "#if(1==1):\n",
    "    \n",
    "    #print(DateOfInterest)\n",
    "\n",
    "    d_imm = Data.loc[:,['tsLocal','power','mpower','r']+feature_names].dropna()\n",
    "\n",
    "    d = d_imm[d_imm['tsLocal'].map(lambda x: x.date()==DateOfInterest)]\n",
    "\n",
    "    d['power_predict'] = d.loc[:,'expectedr']*d.loc[:,'mpower']\n",
    "    d['power_predict'] = d['power_predict']*(d['power_predict']<d['mpower'])+d['mpower']*(d['power_predict']>=d['mpower'])\n",
    "    d['power_predict'] = 0*(d['power_predict']<0)+d['power_predict']*(d['power_predict']>=0)\n",
    "\n",
    "    #add it into Data\n",
    "    #For zeroth method, both horizons are same\n",
    "    Data.loc[d.index,'power_predict_zeroth-A'] = d['power_predict']\n",
    "    Data.loc[d.index,'power_predict_zeroth-B'] = d['power_predict']\n",
    "    #update date\n",
    "    DateOfInterest = DateOfInterest + datetime.timedelta(days=1)"
   ]
  },
  {
   "cell_type": "code",
   "execution_count": 75,
   "metadata": {
    "collapsed": false
   },
   "outputs": [
    {
     "data": {
      "text/plain": [
       "41.422222222222224"
      ]
     },
     "execution_count": 75,
     "metadata": {},
     "output_type": "execute_result"
    }
   ],
   "source": [
    "len(Data['power_predict_zeroth-A'].dropna())/90. #number of training points per day "
   ]
  },
  {
   "cell_type": "markdown",
   "metadata": {
    "collapsed": false
   },
   "source": [
    "## Prediction for GBR with set II"
   ]
  },
  {
   "cell_type": "code",
   "execution_count": 76,
   "metadata": {
    "collapsed": true
   },
   "outputs": [],
   "source": [
    "#GBR\n",
    "params = {'n_estimators': 1000, 'max_depth': 4, 'min_samples_split': 1,\n",
    "          'learning_rate': 0.05, 'loss': 'lad'}\n",
    "clf = ensemble.GradientBoostingRegressor(**params)"
   ]
  },
  {
   "cell_type": "code",
   "execution_count": 77,
   "metadata": {
    "collapsed": true
   },
   "outputs": [],
   "source": [
    "Data['power_predict_GBR_set2-A'] = float('NaN')\n",
    "Data['power_predict_GBR_set2-B'] = float('NaN')"
   ]
  },
  {
   "cell_type": "code",
   "execution_count": 78,
   "metadata": {
    "collapsed": false
   },
   "outputs": [
    {
     "name": "stderr",
     "output_type": "stream",
     "text": [
      "C:\\Users\\Admin\\Anaconda\\lib\\site-packages\\IPython\\kernel\\__main__.py:21: SettingWithCopyWarning: \n",
      "A value is trying to be set on a copy of a slice from a DataFrame.\n",
      "Try using .loc[row_indexer,col_indexer] = value instead\n",
      "\n",
      "See the the caveats in the documentation: http://pandas.pydata.org/pandas-docs/stable/indexing.html#indexing-view-versus-copy\n",
      "C:\\Users\\Admin\\Anaconda\\lib\\site-packages\\IPython\\kernel\\__main__.py:22: SettingWithCopyWarning: \n",
      "A value is trying to be set on a copy of a slice from a DataFrame.\n",
      "Try using .loc[row_indexer,col_indexer] = value instead\n",
      "\n",
      "See the the caveats in the documentation: http://pandas.pydata.org/pandas-docs/stable/indexing.html#indexing-view-versus-copy\n",
      "C:\\Users\\Admin\\Anaconda\\lib\\site-packages\\IPython\\kernel\\__main__.py:23: SettingWithCopyWarning: \n",
      "A value is trying to be set on a copy of a slice from a DataFrame.\n",
      "Try using .loc[row_indexer,col_indexer] = value instead\n",
      "\n",
      "See the the caveats in the documentation: http://pandas.pydata.org/pandas-docs/stable/indexing.html#indexing-view-versus-copy\n"
     ]
    }
   ],
   "source": [
    "for horizon_round in ['A','B']:\n",
    "    if horizon_round == 'A':\n",
    "        feature_names = ['r-4']\n",
    "    else:\n",
    "        feature_names = ['r-8']\n",
    "\n",
    "    DateOfInterest = StartDate \n",
    "\n",
    "    while DateOfInterest < EndScopeTime.date():\n",
    "    \n",
    "        #print(DateOfInterest)\n",
    "    \n",
    "        d_imm = Data.loc[:,['tsLocal','power','mpower','r']+feature_names].dropna()\n",
    "        d = d_imm[d_imm['tsLocal'].map(lambda x: x.date()<DateOfInterest)]\n",
    "        X_train, y_train = d.loc[:,feature_names], d.loc[:,'r']\n",
    "        d = d_imm[d_imm['tsLocal'].map(lambda x: x.date()==DateOfInterest)]\n",
    "        X_test, y_test = d.loc[:,feature_names], d.loc[:,'r']\n",
    "    \n",
    "        clf.fit(X_train, y_train)\n",
    "\n",
    "        d['power_predict'] = (clf.predict(X_test))*d.loc[:,'mpower']\n",
    "        d['power_predict'] = d['power_predict']*(d['power_predict']<d['mpower'])+d['mpower']*(d['power_predict']>=d['mpower'])\n",
    "        d['power_predict'] = 0*(d['power_predict']<0)+d['power_predict']*(d['power_predict']>=0)\n",
    "\n",
    "        #add it into Data\n",
    "        Data.loc[d.index,'power_predict_GBR_set2-'+horizon_round] = d['power_predict']\n",
    "        #update date\n",
    "        DateOfInterest = DateOfInterest + datetime.timedelta(days=1)"
   ]
  },
  {
   "cell_type": "code",
   "execution_count": 79,
   "metadata": {
    "collapsed": false
   },
   "outputs": [
    {
     "data": {
      "text/plain": [
       "37.333333333333336"
      ]
     },
     "execution_count": 79,
     "metadata": {},
     "output_type": "execute_result"
    }
   ],
   "source": [
    "len(Data['power_predict_GBR_set2-A'].dropna())/90. #number of training points per day "
   ]
  },
  {
   "cell_type": "markdown",
   "metadata": {},
   "source": [
    "## Prediction for GBR with set III"
   ]
  },
  {
   "cell_type": "code",
   "execution_count": 80,
   "metadata": {
    "collapsed": true
   },
   "outputs": [],
   "source": [
    "Data['power_predict_GBR_set3-A'] = float('NaN')\n",
    "Data['power_predict_GBR_set3-B'] = float('NaN')"
   ]
  },
  {
   "cell_type": "code",
   "execution_count": 81,
   "metadata": {
    "collapsed": false
   },
   "outputs": [
    {
     "name": "stderr",
     "output_type": "stream",
     "text": [
      "C:\\Users\\Admin\\Anaconda\\lib\\site-packages\\IPython\\kernel\\__main__.py:25: SettingWithCopyWarning: \n",
      "A value is trying to be set on a copy of a slice from a DataFrame.\n",
      "Try using .loc[row_indexer,col_indexer] = value instead\n",
      "\n",
      "See the the caveats in the documentation: http://pandas.pydata.org/pandas-docs/stable/indexing.html#indexing-view-versus-copy\n",
      "C:\\Users\\Admin\\Anaconda\\lib\\site-packages\\IPython\\kernel\\__main__.py:26: SettingWithCopyWarning: \n",
      "A value is trying to be set on a copy of a slice from a DataFrame.\n",
      "Try using .loc[row_indexer,col_indexer] = value instead\n",
      "\n",
      "See the the caveats in the documentation: http://pandas.pydata.org/pandas-docs/stable/indexing.html#indexing-view-versus-copy\n",
      "C:\\Users\\Admin\\Anaconda\\lib\\site-packages\\IPython\\kernel\\__main__.py:27: SettingWithCopyWarning: \n",
      "A value is trying to be set on a copy of a slice from a DataFrame.\n",
      "Try using .loc[row_indexer,col_indexer] = value instead\n",
      "\n",
      "See the the caveats in the documentation: http://pandas.pydata.org/pandas-docs/stable/indexing.html#indexing-view-versus-copy\n"
     ]
    }
   ],
   "source": [
    "for horizon_round in ['A','B']:\n",
    "    if horizon_round == 'A':\n",
    "        feature_names = ['r-4']\n",
    "        feature_names = feature_names + ['s','DBW']\n",
    "        feature_names = feature_names + ['V-s-4']\n",
    "    else:\n",
    "        feature_names = ['r-8']\n",
    "        feature_names = feature_names + ['s','DBW']\n",
    "        feature_names = feature_names + ['V-s-8']\n",
    "\n",
    "    DateOfInterest = StartDate \n",
    "\n",
    "    while DateOfInterest < EndScopeTime.date():\n",
    "    \n",
    "        #print(DateOfInterest)\n",
    "    \n",
    "        d_imm = Data.loc[:,['tsLocal','power','mpower','r']+feature_names].dropna()\n",
    "        d = d_imm[d_imm['tsLocal'].map(lambda x: x.date()<DateOfInterest)]\n",
    "        X_train, y_train = d.loc[:,feature_names], d.loc[:,'r']\n",
    "        d = d_imm[d_imm['tsLocal'].map(lambda x: x.date()==DateOfInterest)]\n",
    "        X_test, y_test = d.loc[:,feature_names], d.loc[:,'r']\n",
    "    \n",
    "        clf.fit(X_train, y_train)\n",
    "\n",
    "        d['power_predict'] = (clf.predict(X_test))*d.loc[:,'mpower']\n",
    "        d['power_predict'] = d['power_predict']*(d['power_predict']<d['mpower'])+d['mpower']*(d['power_predict']>=d['mpower'])\n",
    "        d['power_predict'] = 0*(d['power_predict']<0)+d['power_predict']*(d['power_predict']>=0)\n",
    "\n",
    "        #add it into Data\n",
    "        Data.loc[d.index,'power_predict_GBR_set3-'+horizon_round] = d['power_predict']\n",
    "        #update date\n",
    "        DateOfInterest = DateOfInterest + datetime.timedelta(days=1)"
   ]
  },
  {
   "cell_type": "code",
   "execution_count": 82,
   "metadata": {
    "collapsed": false
   },
   "outputs": [
    {
     "data": {
      "text/plain": [
       "34.266666666666666"
      ]
     },
     "execution_count": 82,
     "metadata": {},
     "output_type": "execute_result"
    }
   ],
   "source": [
    "len(Data['power_predict_GBR_set3-A'].dropna())/90. #number of training points per day "
   ]
  },
  {
   "cell_type": "markdown",
   "metadata": {},
   "source": [
    "## Prediction for GBR with set IV"
   ]
  },
  {
   "cell_type": "code",
   "execution_count": 83,
   "metadata": {
    "collapsed": true
   },
   "outputs": [],
   "source": [
    "Data['power_predict_GBR_set4-A'] = float('NaN')\n",
    "Data['power_predict_GBR_set4-B'] = float('NaN')"
   ]
  },
  {
   "cell_type": "code",
   "execution_count": 84,
   "metadata": {
    "collapsed": false
   },
   "outputs": [
    {
     "name": "stderr",
     "output_type": "stream",
     "text": [
      "C:\\Users\\Admin\\Anaconda\\lib\\site-packages\\IPython\\kernel\\__main__.py:27: SettingWithCopyWarning: \n",
      "A value is trying to be set on a copy of a slice from a DataFrame.\n",
      "Try using .loc[row_indexer,col_indexer] = value instead\n",
      "\n",
      "See the the caveats in the documentation: http://pandas.pydata.org/pandas-docs/stable/indexing.html#indexing-view-versus-copy\n",
      "C:\\Users\\Admin\\Anaconda\\lib\\site-packages\\IPython\\kernel\\__main__.py:28: SettingWithCopyWarning: \n",
      "A value is trying to be set on a copy of a slice from a DataFrame.\n",
      "Try using .loc[row_indexer,col_indexer] = value instead\n",
      "\n",
      "See the the caveats in the documentation: http://pandas.pydata.org/pandas-docs/stable/indexing.html#indexing-view-versus-copy\n",
      "C:\\Users\\Admin\\Anaconda\\lib\\site-packages\\IPython\\kernel\\__main__.py:29: SettingWithCopyWarning: \n",
      "A value is trying to be set on a copy of a slice from a DataFrame.\n",
      "Try using .loc[row_indexer,col_indexer] = value instead\n",
      "\n",
      "See the the caveats in the documentation: http://pandas.pydata.org/pandas-docs/stable/indexing.html#indexing-view-versus-copy\n"
     ]
    }
   ],
   "source": [
    "for horizon_round in ['A','B']:\n",
    "    if horizon_round == 'A':\n",
    "        feature_names = ['r-4']\n",
    "        feature_names = feature_names + ['s','DBW']\n",
    "        feature_names = feature_names +['cldCvr-4','dewPt-4','feelsLike-4','precip-4','relHum-4','sfcPres-4','snowfall-4',\n",
    "                        'spcHum-4','temp-4','windSpd-4','wetBulb-4']\n",
    "    else:\n",
    "        feature_names = ['r-8']\n",
    "        feature_names = feature_names + ['s','DBW']\n",
    "        feature_names = feature_names +['cldCvr-8','dewPt-8','feelsLike-8','precip-8','relHum-8','sfcPres-8','snowfall-8',\n",
    "                        'spcHum-8','temp-8','windSpd-8','wetBulb-8']\n",
    "\n",
    "    DateOfInterest = StartDate \n",
    "\n",
    "    while DateOfInterest < EndScopeTime.date():\n",
    "    \n",
    "        #print(DateOfInterest)\n",
    "    \n",
    "        d_imm = Data.loc[:,['tsLocal','power','mpower','r']+feature_names].dropna()\n",
    "        d = d_imm[d_imm['tsLocal'].map(lambda x: x.date()<DateOfInterest)]\n",
    "        X_train, y_train = d.loc[:,feature_names], d.loc[:,'r']\n",
    "        d = d_imm[d_imm['tsLocal'].map(lambda x: x.date()==DateOfInterest)]\n",
    "        X_test, y_test = d.loc[:,feature_names], d.loc[:,'r']\n",
    "    \n",
    "        clf.fit(X_train, y_train)\n",
    "\n",
    "        d['power_predict'] = (clf.predict(X_test))*d.loc[:,'mpower']\n",
    "        d['power_predict'] = d['power_predict']*(d['power_predict']<d['mpower'])+d['mpower']*(d['power_predict']>=d['mpower'])\n",
    "        d['power_predict'] = 0*(d['power_predict']<0)+d['power_predict']*(d['power_predict']>=0)\n",
    "\n",
    "        #add it into Data\n",
    "        Data.loc[d.index,'power_predict_GBR_set4-'+horizon_round] = d['power_predict']\n",
    "        #update date\n",
    "        DateOfInterest = DateOfInterest + datetime.timedelta(days=1)"
   ]
  },
  {
   "cell_type": "code",
   "execution_count": 85,
   "metadata": {
    "collapsed": false
   },
   "outputs": [
    {
     "data": {
      "text/plain": [
       "37.25555555555555"
      ]
     },
     "execution_count": 85,
     "metadata": {},
     "output_type": "execute_result"
    }
   ],
   "source": [
    "len(Data['power_predict_GBR_set4-A'].dropna())/90. #number of training points per day "
   ]
  },
  {
   "cell_type": "markdown",
   "metadata": {
    "collapsed": true
   },
   "source": [
    "## Prediction for GBR with set V\n"
   ]
  },
  {
   "cell_type": "code",
   "execution_count": 86,
   "metadata": {
    "collapsed": false
   },
   "outputs": [],
   "source": [
    "Data['power_predict_GBR_set5-A'] = float('NaN')\n",
    "Data['power_predict_GBR_set5-B'] = float('NaN')"
   ]
  },
  {
   "cell_type": "code",
   "execution_count": 87,
   "metadata": {
    "collapsed": false
   },
   "outputs": [
    {
     "name": "stderr",
     "output_type": "stream",
     "text": [
      "C:\\Users\\Admin\\Anaconda\\lib\\site-packages\\IPython\\kernel\\__main__.py:29: SettingWithCopyWarning: \n",
      "A value is trying to be set on a copy of a slice from a DataFrame.\n",
      "Try using .loc[row_indexer,col_indexer] = value instead\n",
      "\n",
      "See the the caveats in the documentation: http://pandas.pydata.org/pandas-docs/stable/indexing.html#indexing-view-versus-copy\n",
      "C:\\Users\\Admin\\Anaconda\\lib\\site-packages\\IPython\\kernel\\__main__.py:30: SettingWithCopyWarning: \n",
      "A value is trying to be set on a copy of a slice from a DataFrame.\n",
      "Try using .loc[row_indexer,col_indexer] = value instead\n",
      "\n",
      "See the the caveats in the documentation: http://pandas.pydata.org/pandas-docs/stable/indexing.html#indexing-view-versus-copy\n",
      "C:\\Users\\Admin\\Anaconda\\lib\\site-packages\\IPython\\kernel\\__main__.py:31: SettingWithCopyWarning: \n",
      "A value is trying to be set on a copy of a slice from a DataFrame.\n",
      "Try using .loc[row_indexer,col_indexer] = value instead\n",
      "\n",
      "See the the caveats in the documentation: http://pandas.pydata.org/pandas-docs/stable/indexing.html#indexing-view-versus-copy\n"
     ]
    }
   ],
   "source": [
    "for horizon_round in ['A','B']:\n",
    "    if horizon_round == 'A':\n",
    "        feature_names = ['r-4']\n",
    "        feature_names = feature_names + ['s','DBW']\n",
    "        feature_names = feature_names + ['V-s-4']\n",
    "        feature_names = feature_names +['cldCvr-4','dewPt-4','feelsLike-4','precip-4','relHum-4','sfcPres-4','snowfall-4',\n",
    "                        'spcHum-4','temp-4','windSpd-4','wetBulb-4']\n",
    "    else:\n",
    "        feature_names = ['r-8']\n",
    "        feature_names = feature_names + ['s','DBW']\n",
    "        feature_names = feature_names + ['V-s-8']\n",
    "        feature_names = feature_names +['cldCvr-8','dewPt-8','feelsLike-8','precip-8','relHum-8','sfcPres-8','snowfall-8',\n",
    "                        'spcHum-8','temp-8','windSpd-8','wetBulb-8']\n",
    "\n",
    "    DateOfInterest = StartDate \n",
    "\n",
    "    while DateOfInterest < EndScopeTime.date():\n",
    "    \n",
    "        #print(DateOfInterest)\n",
    "    \n",
    "        d_imm = Data.loc[:,['tsLocal','power','mpower','r']+feature_names].dropna()\n",
    "        d = d_imm[d_imm['tsLocal'].map(lambda x: x.date()<DateOfInterest)]\n",
    "        X_train, y_train = d.loc[:,feature_names], d.loc[:,'r']\n",
    "        d = d_imm[d_imm['tsLocal'].map(lambda x: x.date()==DateOfInterest)]\n",
    "        X_test, y_test = d.loc[:,feature_names], d.loc[:,'r']\n",
    "    \n",
    "        clf.fit(X_train, y_train)\n",
    "\n",
    "        d['power_predict'] = (clf.predict(X_test))*d.loc[:,'mpower']\n",
    "        d['power_predict'] = d['power_predict']*(d['power_predict']<d['mpower'])+d['mpower']*(d['power_predict']>=d['mpower'])\n",
    "        d['power_predict'] = 0*(d['power_predict']<0)+d['power_predict']*(d['power_predict']>=0)\n",
    "\n",
    "        #add it into Data\n",
    "        Data.loc[d.index,'power_predict_GBR_set5-'+horizon_round] = d['power_predict']\n",
    "        #update date\n",
    "        DateOfInterest = DateOfInterest + datetime.timedelta(days=1)"
   ]
  },
  {
   "cell_type": "code",
   "execution_count": 88,
   "metadata": {
    "collapsed": false
   },
   "outputs": [
    {
     "data": {
      "text/plain": [
       "34.18888888888889"
      ]
     },
     "execution_count": 88,
     "metadata": {},
     "output_type": "execute_result"
    }
   ],
   "source": [
    "len(Data['power_predict_GBR_set5-A'].dropna())/90. #number of training points per day "
   ]
  },
  {
   "cell_type": "code",
   "execution_count": 89,
   "metadata": {
    "collapsed": false
   },
   "outputs": [],
   "source": [
    "for horizon_round in ['A','B']:\n",
    "    Data['power_predict_final-'+ horizon_round] = float('NaN')\n",
    "    if zipcode == '92562':\n",
    "        #background prediction\n",
    "        Data['power_predict_final-'+ horizon_round] = Data['power_predict_zeroth-' + horizon_round]\n",
    "\n",
    "        d = Data.loc[:,['power_predict_GBR_set2-'+ horizon_round]].dropna()\n",
    "        Data.loc[d.index,'power_predict_final-'+ horizon_round] = d['power_predict_GBR_set2-'+ horizon_round]\n",
    "\n",
    "        d = Data.loc[:,['power_predict_GBR_set3-'+ horizon_round]].dropna()\n",
    "        Data.loc[d.index,'power_predict_final-'+ horizon_round] = d['power_predict_GBR_set3-'+ horizon_round]\n",
    "\n",
    "        #against high volatility\n",
    "        if horizon_round == 'A':\n",
    "            d = Data.loc[:,['V-s-4','power_predict_zeroth-'+ horizon_round]].dropna()\n",
    "            d = d[d['V-s-4']>0.6]\n",
    "        else:\n",
    "            d = Data.loc[:,['V-s-8','power_predict_zeroth-'+ horizon_round]].dropna()\n",
    "            d = d[d['V-s-8']>0.6]\n",
    "        Data.loc[d.index,'power_predict_final-'+ horizon_round] = d['power_predict_zeroth-'+ horizon_round]\n",
    "\n",
    "    if zipcode == '08641':\n",
    "        #background prediction\n",
    "        Data['power_predict_final-'+ horizon_round] = Data['power_predict_zeroth-'+ horizon_round]\n",
    "\n",
    "        d = Data.loc[:,['power_predict_GBR_set2-'+ horizon_round]].dropna()\n",
    "        Data.loc[d.index,'power_predict_final-'+ horizon_round] = d['power_predict_GBR_set2-'+ horizon_round]\n",
    "\n",
    "        d = Data.loc[:,['power_predict_GBR_set3-'+ horizon_round]].dropna()\n",
    "        Data.loc[d.index,'power_predict_final-'+ horizon_round] = d['power_predict_GBR_set3-'+ horizon_round]\n",
    "\n",
    "        d = Data.loc[:,['power_predict_GBR_set4-'+ horizon_round]].dropna()\n",
    "        Data.loc[d.index,'power_predict_final-'+ horizon_round] = d['power_predict_GBR_set4-'+ horizon_round]\n",
    "\n",
    "        d = Data.loc[:,['power_predict_GBR_set5-'+ horizon_round]].dropna()\n",
    "        Data.loc[d.index,'power_predict_final-'+ horizon_round] = d['power_predict_GBR_set5-'+ horizon_round]\n",
    "\n",
    "        #against high volatility\n",
    "        if horizon_round == 'A':\n",
    "            d = Data.loc[:,['V-s-4','power_predict_zeroth-'+ horizon_round]].dropna()\n",
    "            d = d[d['V-s-4']>0.6]\n",
    "        else:\n",
    "            d = Data.loc[:,['V-s-8','power_predict_zeroth-'+ horizon_round]].dropna()\n",
    "            d = d[d['V-s-8']>0.6]\n",
    "        Data.loc[d.index,'power_predict_final-'+ horizon_round] = d['power_predict_zeroth-'+ horizon_round]\n"
   ]
  },
  {
   "cell_type": "code",
   "execution_count": 90,
   "metadata": {
    "collapsed": false
   },
   "outputs": [
    {
     "name": "stdout",
     "output_type": "stream",
     "text": [
      "-0.00824567459853 0.0809519611362\n",
      "(-0.0015439069823641957, 0.050956820669904423)\n"
     ]
    },
    {
     "data": {
      "image/png": "[encoded data removed]",
      "text/plain": [
       "<matplotlib.figure.Figure at 0x1c22eda0>"
      ]
     },
     "metadata": {},
     "output_type": "display_data"
    }
   ],
   "source": [
    "horizon_round = 'A'\n",
    "from scipy.stats import norm\n",
    "import matplotlib.mlab as mlab\n",
    "import matplotlib.pyplot as plt\n",
    "import scipy.stats as stats\n",
    "\n",
    "fig = plt.figure(figsize=(10,6))\n",
    "ax1  = fig.add_subplot(111)\n",
    "#Overall distribution\n",
    "\n",
    "l = list((Data['power_predict_final-'+horizon_round]-Data['power']).dropna())\n",
    "\n",
    "\n",
    "# the histogram of the data\n",
    "n, bins, patches = ax1.hist(l, 60, normed=1, alpha=0.75)\n",
    "\n",
    "# best fit of data with normal distribution\n",
    "(mu, sigma) = norm.fit(l)\n",
    "print mu, sigma\n",
    "\n",
    "plt.xlabel(\"Predicted value - Actual value\")\n",
    "plt.ylabel(\"Frequency\")\n",
    "\n",
    "# add a 'best fit' line\n",
    "y = mlab.normpdf( bins, mu, sigma)\n",
    "ax1.plot(bins, y, 'r--', linewidth=2)\n",
    "\n",
    "laplace = stats.laplace\n",
    "\n",
    "# fit\n",
    "param = laplace.fit(l)\n",
    "x = np.linspace(np.min(l), np.max(l), 100)\n",
    "pdf_fitted = laplace.pdf(x, *param)\n",
    "plt.plot(x, pdf_fitted, 'g--', linewidth=2)\n",
    "\n",
    "print  param\n"
   ]
  },
  {
   "cell_type": "code",
   "execution_count": 91,
   "metadata": {
    "collapsed": false
   },
   "outputs": [
    {
     "data": {
      "text/plain": [
       "(3728, 0.050983450117679824, 0.45912991907804174, 0.38603065955808491)"
      ]
     },
     "execution_count": 91,
     "metadata": {},
     "output_type": "execute_result"
    }
   ],
   "source": [
    "len(l), np.mean(np.absolute(l)), np.max(np.absolute(l)), np.mean(Data['power'].dropna())"
   ]
  },
  {
   "cell_type": "code",
   "execution_count": 92,
   "metadata": {
    "collapsed": false
   },
   "outputs": [
    {
     "name": "stdout",
     "output_type": "stream",
     "text": [
      "-0.0135132766151 0.102142950208\n",
      "(-0.00010895273063974026, 0.070644681214439564)\n"
     ]
    },
    {
     "data": {
      "image/png": "[encoded data removed]",
      "text/plain": [
       "<matplotlib.figure.Figure at 0x1bf5c198>"
      ]
     },
     "metadata": {},
     "output_type": "display_data"
    }
   ],
   "source": [
    "horizon_round = 'B'\n",
    "from scipy.stats import norm\n",
    "import matplotlib.mlab as mlab\n",
    "import matplotlib.pyplot as plt\n",
    "import scipy.stats as stats\n",
    "\n",
    "fig = plt.figure(figsize=(10,6))\n",
    "ax1  = fig.add_subplot(111)\n",
    "#Overall distribution\n",
    "\n",
    "l = list((Data['power_predict_final-'+horizon_round]-Data['power']).dropna())\n",
    "\n",
    "\n",
    "# the histogram of the data\n",
    "n, bins, patches = ax1.hist(l, 60, normed=1, alpha=0.75)\n",
    "\n",
    "# best fit of data with normal distribution\n",
    "(mu, sigma) = norm.fit(l)\n",
    "print mu, sigma\n",
    "\n",
    "plt.xlabel(\"Predicted value - Actual value\")\n",
    "plt.ylabel(\"Frequency\")\n",
    "\n",
    "# add a 'best fit' line\n",
    "y = mlab.normpdf( bins, mu, sigma)\n",
    "ax1.plot(bins, y, 'r--', linewidth=2)\n",
    "\n",
    "laplace = stats.laplace\n",
    "\n",
    "# fit\n",
    "param = laplace.fit(l)\n",
    "x = np.linspace(np.min(l), np.max(l), 100)\n",
    "pdf_fitted = laplace.pdf(x, *param)\n",
    "plt.plot(x, pdf_fitted, 'g--', linewidth=2)\n",
    "\n",
    "print  param\n"
   ]
  },
  {
   "cell_type": "code",
   "execution_count": 93,
   "metadata": {
    "collapsed": false
   },
   "outputs": [
    {
     "data": {
      "text/plain": [
       "(3728, 0.070643359533849939, 0.53902925684694003, 0.38603065955808491)"
      ]
     },
     "execution_count": 93,
     "metadata": {},
     "output_type": "execute_result"
    }
   ],
   "source": [
    "len(l), np.mean(np.absolute(l)), np.max(np.absolute(l)), np.mean(Data['power'].dropna())"
   ]
  },
  {
   "cell_type": "code",
   "execution_count": 94,
   "metadata": {
    "collapsed": true
   },
   "outputs": [],
   "source": [
    "#For bin reference\n",
    "#numbins = int(math.ceil(np.max(d['V-s'])/0.1))\n",
    "#meandifflist = [0]*numbins\n",
    "#maxdifflist = [0]*numbins\n",
    "#middlebinvalue = [0.1*i+0.05 for i in range(0,numbins)]"
   ]
  },
  {
   "cell_type": "code",
   "execution_count": 95,
   "metadata": {
    "collapsed": true
   },
   "outputs": [],
   "source": [
    "Data.to_csv(dataDir +'/data_with_full_forecast_integration.csv',index=False)"
   ]
  }
 ],
 "metadata": {
  "kernelspec": {
   "display_name": "Python 2",
   "language": "python",
   "name": "python2"
  },
  "language_info": {
   "codemirror_mode": {
    "name": "ipython",
    "version": 2
   },
   "file_extension": ".py",
   "mimetype": "text/x-python",
   "name": "python",
   "nbconvert_exporter": "python",
   "pygments_lexer": "ipython2",
   "version": "2.7.8"
  }
 },
 "nbformat": 4,
 "nbformat_minor": 0
}
