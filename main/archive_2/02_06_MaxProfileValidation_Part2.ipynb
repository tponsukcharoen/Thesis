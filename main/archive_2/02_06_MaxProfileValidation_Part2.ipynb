{
 "cells": [
  {
   "cell_type": "code",
   "execution_count": 1,
   "metadata": {
    "collapsed": false
   },
   "outputs": [],
   "source": [
    "import pandas as pd\n",
    "import numpy as np\n",
    "import matplotlib.pyplot as plt\n",
    "import datetime\n",
    "import pytz\n",
    "import os\n",
    "import patsy #for spline regression\n",
    "import scipy #for non-negative least square \n",
    "import scipy as sp \n",
    "from scipy import stats\n",
    "from scipy.optimize import nnls\n",
    "from numpy.linalg import inv #for matrix and statistics\n",
    "import scipy as sp\n",
    "import math\n",
    "import statsmodels.api as sm\n",
    "from sklearn.cluster import AgglomerativeClustering\n",
    "from sklearn.cluster import KMeans\n",
    "import sklearn.cluster\n",
    "import sklearn.linear_model\n",
    "%matplotlib inline"
   ]
  },
  {
   "cell_type": "code",
   "execution_count": 2,
   "metadata": {
    "collapsed": false
   },
   "outputs": [],
   "source": [
    "#specify data source \n",
    "datasource = 'LocusEnergy'"
   ]
  },
  {
   "cell_type": "code",
   "execution_count": 3,
   "metadata": {
    "collapsed": false
   },
   "outputs": [],
   "source": [
    "zipcode = '08641'"
   ]
  },
  {
   "cell_type": "code",
   "execution_count": 4,
   "metadata": {
    "collapsed": false
   },
   "outputs": [],
   "source": [
    "#mainDir = 'C:/Users/umnouyp/Dropbox/Active/EnergyProject/Thesis/PVreadingsStudies/main'\n",
    "#mainDir = 'C:/Users/Tee/Dropbox/Active/EnergyProject/Thesis/PVreadingsStudies/main'\n",
    "mainDir = 'C:\\Users\\Admin\\Dropbox\\Active\\EnergyProject\\Thesis\\PVreadingsStudies\\main'\n",
    "#we can choose which data to look at.\n",
    "dataDir = mainDir + '/data/' + datasource +'/' + zipcode +'/'\n",
    "outputDir = mainDir + '/output/'+ datasource +'/' + zipcode +'/'"
   ]
  },
  {
   "cell_type": "code",
   "execution_count": 5,
   "metadata": {
    "collapsed": false
   },
   "outputs": [],
   "source": [
    "data = pd.read_csv(dataDir +'/training_data_fitted.csv')\n",
    "data['tsLocal'] = data['tsLocal'].map(lambda x: datetime.datetime.strptime(x,\"%Y-%m-%d %H:%M:%S\"))\n",
    "\n",
    "dsummary = pd.read_csv(outputDir+\"/fitsummary.csv\")\n",
    "dsummary.Date = dsummary.Date.map(lambda x: datetime.datetime.strptime(x,\"%Y-%m-%d\").date())\n",
    "FullModelCoef = pd.read_csv(outputDir+\"/FullModelCoef.csv\")"
   ]
  },
  {
   "cell_type": "code",
   "execution_count": 6,
   "metadata": {
    "collapsed": false
   },
   "outputs": [
    {
     "data": {
      "text/html": [
       "<div style=\"max-height:1000px;max-width:1500px;overflow:auto;\">\n",
       "<table border=\"1\" class=\"dataframe\">\n",
       "  <thead>\n",
       "    <tr style=\"text-align: right;\">\n",
       "      <th></th>\n",
       "      <th>E</th>\n",
       "      <th>Rsq</th>\n",
       "      <th>c0</th>\n",
       "      <th>c1</th>\n",
       "      <th>c2</th>\n",
       "      <th>c3</th>\n",
       "      <th>c4</th>\n",
       "      <th>c5</th>\n",
       "      <th>c6</th>\n",
       "      <th>c7</th>\n",
       "      <th>c8</th>\n",
       "      <th>c9</th>\n",
       "      <th>c10</th>\n",
       "      <th>Date</th>\n",
       "      <th>DBW</th>\n",
       "      <th>singlemax</th>\n",
       "      <th>PeakCheck</th>\n",
       "      <th>FirstCheck</th>\n",
       "      <th>SecondCheck</th>\n",
       "      <th>mE</th>\n",
       "    </tr>\n",
       "  </thead>\n",
       "  <tbody>\n",
       "    <tr>\n",
       "      <th>0</th>\n",
       "      <td>NaN</td>\n",
       "      <td>NaN</td>\n",
       "      <td>NaN</td>\n",
       "      <td>NaN</td>\n",
       "      <td>NaN</td>\n",
       "      <td>NaN</td>\n",
       "      <td>NaN</td>\n",
       "      <td>NaN</td>\n",
       "      <td>NaN</td>\n",
       "      <td>NaN</td>\n",
       "      <td>NaN</td>\n",
       "      <td>NaN</td>\n",
       "      <td>NaN</td>\n",
       "      <td> 2013-01-01</td>\n",
       "      <td>-355</td>\n",
       "      <td>NaN</td>\n",
       "      <td> False</td>\n",
       "      <td> False</td>\n",
       "      <td> False</td>\n",
       "      <td> 5.070652</td>\n",
       "    </tr>\n",
       "  </tbody>\n",
       "</table>\n",
       "</div>"
      ],
      "text/plain": [
       "    E  Rsq  c0  c1  c2  c3  c4  c5  c6  c7  c8  c9  c10        Date  DBW  \\\n",
       "0 NaN  NaN NaN NaN NaN NaN NaN NaN NaN NaN NaN NaN  NaN  2013-01-01 -355   \n",
       "\n",
       "   singlemax PeakCheck FirstCheck SecondCheck        mE  \n",
       "0        NaN     False      False       False  5.070652  "
      ]
     },
     "execution_count": 6,
     "metadata": {},
     "output_type": "execute_result"
    }
   ],
   "source": [
    "dsummary[:1]"
   ]
  },
  {
   "cell_type": "code",
   "execution_count": 7,
   "metadata": {
    "collapsed": false
   },
   "outputs": [
    {
     "data": {
      "text/html": [
       "<div style=\"max-height:1000px;max-width:1500px;overflow:auto;\">\n",
       "<table border=\"1\" class=\"dataframe\">\n",
       "  <thead>\n",
       "    <tr style=\"text-align: right;\">\n",
       "      <th></th>\n",
       "      <th>DBW</th>\n",
       "      <th>c1</th>\n",
       "      <th>c2</th>\n",
       "      <th>c3</th>\n",
       "      <th>c4</th>\n",
       "      <th>c5</th>\n",
       "      <th>c6</th>\n",
       "      <th>c7</th>\n",
       "      <th>c8</th>\n",
       "      <th>c9</th>\n",
       "      <th>c0</th>\n",
       "      <th>c10</th>\n",
       "    </tr>\n",
       "  </thead>\n",
       "  <tbody>\n",
       "    <tr>\n",
       "      <th>0</th>\n",
       "      <td> 0</td>\n",
       "      <td> 0.435674</td>\n",
       "      <td> 0.52322</td>\n",
       "      <td> 0.750568</td>\n",
       "      <td> 0.761555</td>\n",
       "      <td> 0.794036</td>\n",
       "      <td> 0.838259</td>\n",
       "      <td> 0.83471</td>\n",
       "      <td> 0.657754</td>\n",
       "      <td> 0.646756</td>\n",
       "      <td> 0.156387</td>\n",
       "      <td> 0.156051</td>\n",
       "    </tr>\n",
       "  </tbody>\n",
       "</table>\n",
       "</div>"
      ],
      "text/plain": [
       "   DBW        c1       c2        c3        c4        c5        c6       c7  \\\n",
       "0    0  0.435674  0.52322  0.750568  0.761555  0.794036  0.838259  0.83471   \n",
       "\n",
       "         c8        c9        c0       c10  \n",
       "0  0.657754  0.646756  0.156387  0.156051  "
      ]
     },
     "execution_count": 7,
     "metadata": {},
     "output_type": "execute_result"
    }
   ],
   "source": [
    "FullModelCoef[:1]"
   ]
  },
  {
   "cell_type": "markdown",
   "metadata": {},
   "source": [
    "Here we define power ratio, $r$, for each power reading. We add shift to avoid infinity."
   ]
  },
  {
   "cell_type": "code",
   "execution_count": 8,
   "metadata": {
    "collapsed": false
   },
   "outputs": [],
   "source": [
    "shift = 0.01\n",
    "data['r'] = (data.power+shift)/(data.mpower+shift)"
   ]
  },
  {
   "cell_type": "code",
   "execution_count": 9,
   "metadata": {
    "collapsed": false
   },
   "outputs": [
    {
     "data": {
      "text/html": [
       "<div style=\"max-height:1000px;max-width:1500px;overflow:auto;\">\n",
       "<table border=\"1\" class=\"dataframe\">\n",
       "  <thead>\n",
       "    <tr style=\"text-align: right;\">\n",
       "      <th></th>\n",
       "      <th>tsLocal</th>\n",
       "      <th>altitude</th>\n",
       "      <th>azimuth</th>\n",
       "      <th>power</th>\n",
       "      <th>numactivecomp</th>\n",
       "      <th>totalsize</th>\n",
       "      <th>s</th>\n",
       "      <th>DBW</th>\n",
       "      <th>mpower</th>\n",
       "      <th>r</th>\n",
       "    </tr>\n",
       "  </thead>\n",
       "  <tbody>\n",
       "    <tr>\n",
       "      <th>0</th>\n",
       "      <td>2013-01-01 07:30:00</td>\n",
       "      <td> 1.11014</td>\n",
       "      <td>-301.362934</td>\n",
       "      <td>NaN</td>\n",
       "      <td> 5</td>\n",
       "      <td> 64.71819</td>\n",
       "      <td>-0.999743</td>\n",
       "      <td>-355</td>\n",
       "      <td> 0.154078</td>\n",
       "      <td>NaN</td>\n",
       "    </tr>\n",
       "  </tbody>\n",
       "</table>\n",
       "</div>"
      ],
      "text/plain": [
       "              tsLocal  altitude     azimuth  power  numactivecomp  totalsize  \\\n",
       "0 2013-01-01 07:30:00   1.11014 -301.362934    NaN              5   64.71819   \n",
       "\n",
       "          s  DBW    mpower   r  \n",
       "0 -0.999743 -355  0.154078 NaN  "
      ]
     },
     "execution_count": 9,
     "metadata": {},
     "output_type": "execute_result"
    }
   ],
   "source": [
    "data[:1]"
   ]
  },
  {
   "cell_type": "markdown",
   "metadata": {},
   "source": [
    "Here we number steps from sun rise to sun set. Don't need in for now."
   ]
  },
  {
   "cell_type": "code",
   "execution_count": 10,
   "metadata": {
    "collapsed": false
   },
   "outputs": [
    {
     "data": {
      "text/plain": [
       "[0]"
      ]
     },
     "execution_count": 10,
     "metadata": {},
     "output_type": "execute_result"
    }
   ],
   "source": [
    "'''\n",
    "data['StepOfDay'] = float('NaN')\n",
    "for DateOfInterest in list(dsummary.Date):\n",
    "    bool_list = d.tsLocal.map(lambda x: x.date() == DateOfInterest)\n",
    "    indexlist = [i for i, elem in enumerate(bool_list) if elem]\n",
    "    data['StepOfDay'].loc[indexlist] = range(0,sum(bool_list))\n",
    "    '''\n",
    "[0]"
   ]
  },
  {
   "cell_type": "markdown",
   "metadata": {},
   "source": [
    "# Validity of maximum power envelope"
   ]
  },
  {
   "cell_type": "markdown",
   "metadata": {},
   "source": [
    "It is worth to look how well maximum power envelope works. Let's look at the histogram and percentile of $r=1.0$"
   ]
  },
  {
   "cell_type": "code",
   "execution_count": 11,
   "metadata": {
    "collapsed": false
   },
   "outputs": [
    {
     "data": {
      "text/plain": [
       "(array([ 1669.,  2851.,  3055.,  3951.,  5204.,  7878.,  2288.,   373.,\n",
       "          146.,    55.]),\n",
       " array([ 0.11162029,  0.25743228,  0.40324427,  0.54905625,  0.69486824,\n",
       "         0.84068023,  0.98649221,  1.1323042 ,  1.27811619,  1.42392817,\n",
       "         1.56974016]),\n",
       " <a list of 10 Patch objects>)"
      ]
     },
     "execution_count": 11,
     "metadata": {},
     "output_type": "execute_result"
    },
    {
     "data": {
      "image/png": "[encoded data removed]",
      "text/plain": [
       "<matplotlib.figure.Figure at 0x187f94e0>"
      ]
     },
     "metadata": {},
     "output_type": "display_data"
    }
   ],
   "source": [
    "plt.hist(list(data['r'].dropna()))"
   ]
  },
  {
   "cell_type": "code",
   "execution_count": 12,
   "metadata": {
    "collapsed": false
   },
   "outputs": [
    {
     "data": {
      "text/plain": [
       "(91.470695303967958, 1.0375749147712272, 1.5697401616234494)"
      ]
     },
     "execution_count": 12,
     "metadata": {},
     "output_type": "execute_result"
    }
   ],
   "source": [
    "scipy.stats.percentileofscore(data['r'].dropna(),1.0), np.percentile(data['r'].dropna(),95), np.max(data['r'])"
   ]
  },
  {
   "cell_type": "markdown",
   "metadata": {},
   "source": [
    "This means that we are 91% confidence that maximum envelope is maximum. To ensure maximum envelope is really maximum, we can scale maximum envelope by 1.03 to achieve 95% confidence or 1.57 to achieve 100%."
   ]
  },
  {
   "cell_type": "code",
   "execution_count": 13,
   "metadata": {
    "collapsed": false
   },
   "outputs": [
    {
     "data": {
      "text/plain": [
       "(array([    43.,    287.,    905.,   1449.,   1757.,   2217.,   2956.,\n",
       "          4843.,  11532.,   1481.]),\n",
       " array([-0.91021858, -0.8074452 , -0.70467181, -0.60189843, -0.49912504,\n",
       "        -0.39635166, -0.29357828, -0.19080489, -0.08803151,  0.01474188,\n",
       "         0.11751526]),\n",
       " <a list of 10 Patch objects>)"
      ]
     },
     "execution_count": 13,
     "metadata": {},
     "output_type": "execute_result"
    },
    {
     "data": {
      "image/png": "[encoded data removed]",
      "text/plain": [
       "<matplotlib.figure.Figure at 0x1899d6a0>"
      ]
     },
     "metadata": {},
     "output_type": "display_data"
    }
   ],
   "source": [
    "plt.hist(list((data['power']-data['mpower']).dropna()))"
   ]
  },
  {
   "cell_type": "code",
   "execution_count": 14,
   "metadata": {
    "collapsed": false
   },
   "outputs": [
    {
     "data": {
      "text/plain": [
       "[91.470695303967958, 0.01659359246507517, 0.11751526329069123]"
      ]
     },
     "execution_count": 14,
     "metadata": {},
     "output_type": "execute_result"
    }
   ],
   "source": [
    "[scipy.stats.percentileofscore((data['power']-data['mpower']).dropna(),0), np.percentile((data['power']-data['mpower']).dropna(),95),\n",
    "np.max((data['power']-data['mpower']).dropna())]"
   ]
  },
  {
   "cell_type": "markdown",
   "metadata": {},
   "source": [
    "This means that we are 91% confidence that maximum envelope is maximum. To ensure maximum envelope is really maximum, we can shift maximum envelope up by 0.02 to achieve 95% confidence or 0.12 to achieve 100%."
   ]
  }
 ],
 "metadata": {
  "kernelspec": {
   "display_name": "Python 2",
   "language": "python",
   "name": "python2"
  },
  "language_info": {
   "codemirror_mode": {
    "name": "ipython",
    "version": 2
   },
   "file_extension": ".py",
   "mimetype": "text/x-python",
   "name": "python",
   "nbconvert_exporter": "python",
   "pygments_lexer": "ipython2",
   "version": "2.7.8"
  }
 },
 "nbformat": 4,
 "nbformat_minor": 0
}
