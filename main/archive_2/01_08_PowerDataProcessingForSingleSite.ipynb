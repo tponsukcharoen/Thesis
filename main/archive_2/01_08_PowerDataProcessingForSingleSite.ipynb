{
 "cells": [
  {
   "cell_type": "markdown",
   "metadata": {},
   "source": [
    "# Individual zipcode power readings data preprocessing"
   ]
  },
  {
   "cell_type": "markdown",
   "metadata": {},
   "source": [
    "Here we will undergo data processing for a single site. Here we have Stanford's data. This should be run separately from aggregated sites"
   ]
  },
  {
   "cell_type": "markdown",
   "metadata": {},
   "source": [
    "## Timestamp alignment and PV components pivoting"
   ]
  },
  {
   "cell_type": "code",
   "execution_count": 1,
   "metadata": {
    "collapsed": false
   },
   "outputs": [],
   "source": [
    "#specify data source \n",
    "datasource = 'Stanford'"
   ]
  },
  {
   "cell_type": "code",
   "execution_count": 35,
   "metadata": {
    "collapsed": true
   },
   "outputs": [],
   "source": [
    "totalsize = 6000"
   ]
  },
  {
   "cell_type": "code",
   "execution_count": 42,
   "metadata": {
    "collapsed": false
   },
   "outputs": [],
   "source": [
    "#specify zipcode (along with latitude, longitue, and timezone).\n",
    "#[zipcode, latitude, longitude, localtz] = ['08640', 40.0039, -74.6178, 'US/Eastern']\n",
    "#[zipcode, latitude, longitude, localtz] = ['08641', 40.0449, -74.5892, 'US/Eastern']\n",
    "#[zipcode, latitude, longitude, localtz] = ['92562', 33.5686, -117.2530, 'US/Pacific']\n",
    "#[zipcode, latitude, longitude, localtz] = ['92563', 33.5712, -117.1540, 'US/Pacific']\n",
    "[zipcode, latitude, longitude, localtz] = ['94305',37.4270, -122.1650, 'US/Pacific']"
   ]
  },
  {
   "cell_type": "code",
   "execution_count": 3,
   "metadata": {
    "collapsed": false
   },
   "outputs": [],
   "source": [
    "#import required modules\n",
    "import pandas as pd\n",
    "import numpy as np\n",
    "import matplotlib.pyplot as plt\n",
    "import os\n",
    "#from datetime import datetime, tzinfo, dat\n",
    "import datetime\n",
    "#from pytz import timezone\n",
    "import pytz\n",
    "from pytz import timezone\n",
    "import pickle #for quick read/write list\n",
    "\n",
    "#plotting in Notebook\n",
    "%matplotlib inline"
   ]
  },
  {
   "cell_type": "code",
   "execution_count": 5,
   "metadata": {
    "collapsed": false
   },
   "outputs": [],
   "source": [
    "#mainDir = 'C:/Users/Tee/Dropbox/Active/EnergyProject/Thesis/PVreadingsStudies/main'\n",
    "mainDir = 'C:\\Users\\Admin\\Dropbox\\Active\\EnergyProject\\Thesis\\PVreadingsStudies\\main'\n",
    "directory = mainDir + '/data/'+datasource+'/'+zipcode\n",
    "\n",
    "#No need for metadata\n",
    "#metadata = pd.read_csv(mainDir+ '/data/' + datasource +'/' + zipcode +'/metadata.csv',\n",
    "#                             dtype={'componentId':'object','zip':'object'})\n",
    "#preserve raw metadata. We will modify it later\n",
    "\n",
    "#metadata.to_csv(directory+\"/metadata_original.csv\",index=False)\n",
    "#timeseriesdata = pd.read_csv(mainDir+ '/data/' + datasource +'/'+ zipcode+'/timeseriesdata.csv',\n",
    "#                             dtype={'componentId':'object'})\n",
    "\n",
    "data = pd.read_csv(mainDir+'/data/'+ datasource +'/' + zipcode + '/timeseriesdata.csv')\n",
    "data['tsLocal'] = data['Timestamp'].map(lambda x: datetime.datetime.strptime(x,\"%m/%d/%Y %H:%M\").strftime(\"%Y-%m-%d %H:%M:%S\"))\n",
    "#data['tsLocal']=data['LocalTime']\n",
    "data['power']=data['watts'].map(lambda x: float(x.replace(',', '')))"
   ]
  },
  {
   "cell_type": "code",
   "execution_count": 30,
   "metadata": {
    "collapsed": false
   },
   "outputs": [],
   "source": [
    "#No need for adjustment since we have one minute data\n",
    "#minute adjustment to be 00,15,30 or 45#\n",
    "#timeseriesdata['tsUTC'] = timeseriesdata['tsUTC'].map(lambda x: x[0:14] + str((int(x[14:16])/15)*15).zfill(2) + \":00\")"
   ]
  },
  {
   "cell_type": "code",
   "execution_count": 17,
   "metadata": {
    "collapsed": false
   },
   "outputs": [
    {
     "data": {
      "text/html": [
       "<div style=\"max-height:1000px;max-width:1500px;overflow:auto;\">\n",
       "<table border=\"1\" class=\"dataframe\">\n",
       "  <thead>\n",
       "    <tr style=\"text-align: right;\">\n",
       "      <th></th>\n",
       "      <th>Timestamp</th>\n",
       "      <th>unixTS</th>\n",
       "      <th>Value</th>\n",
       "      <th>watts</th>\n",
       "      <th>tsLocal</th>\n",
       "      <th>power</th>\n",
       "    </tr>\n",
       "  </thead>\n",
       "  <tbody>\n",
       "    <tr>\n",
       "      <th>0</th>\n",
       "      <td> 12/31/2012 20:57</td>\n",
       "      <td> 1357016220</td>\n",
       "      <td>  68.29 </td>\n",
       "      <td>  20.01 </td>\n",
       "      <td> 2012-12-31 20:57:00</td>\n",
       "      <td> 20.01</td>\n",
       "    </tr>\n",
       "  </tbody>\n",
       "</table>\n",
       "</div>"
      ],
      "text/plain": [
       "          Timestamp      unixTS    Value    watts              tsLocal  power\n",
       "0  12/31/2012 20:57  1357016220   68.29    20.01   2012-12-31 20:57:00  20.01"
      ]
     },
     "execution_count": 17,
     "metadata": {},
     "output_type": "execute_result"
    }
   ],
   "source": [
    "data[:1]"
   ]
  },
  {
   "cell_type": "code",
   "execution_count": 18,
   "metadata": {
    "collapsed": true
   },
   "outputs": [],
   "source": [
    "dat = data.drop(['unixTS','Timestamp','Value','watts'],axis=1)"
   ]
  },
  {
   "cell_type": "code",
   "execution_count": 19,
   "metadata": {
    "collapsed": false
   },
   "outputs": [
    {
     "data": {
      "text/html": [
       "<div style=\"max-height:1000px;max-width:1500px;overflow:auto;\">\n",
       "<table border=\"1\" class=\"dataframe\">\n",
       "  <thead>\n",
       "    <tr style=\"text-align: right;\">\n",
       "      <th></th>\n",
       "      <th>tsLocal</th>\n",
       "      <th>power</th>\n",
       "    </tr>\n",
       "  </thead>\n",
       "  <tbody>\n",
       "    <tr>\n",
       "      <th>0</th>\n",
       "      <td> 2012-12-31 20:57:00</td>\n",
       "      <td> 20.01</td>\n",
       "    </tr>\n",
       "  </tbody>\n",
       "</table>\n",
       "</div>"
      ],
      "text/plain": [
       "               tsLocal  power\n",
       "0  2012-12-31 20:57:00  20.01"
      ]
     },
     "execution_count": 19,
     "metadata": {},
     "output_type": "execute_result"
    }
   ],
   "source": [
    "dat[:1]"
   ]
  },
  {
   "cell_type": "markdown",
   "metadata": {},
   "source": [
    "Note that know we don't have any component ID as we have a single component."
   ]
  },
  {
   "cell_type": "code",
   "execution_count": 22,
   "metadata": {
    "collapsed": false
   },
   "outputs": [
    {
     "name": "stderr",
     "output_type": "stream",
     "text": [
      "C:\\Users\\Admin\\Anaconda\\lib\\site-packages\\pandas\\core\\generic.py:1974: SettingWithCopyWarning: \n",
      "A value is trying to be set on a copy of a slice from a DataFrame.\n",
      "Try using .loc[row_indexer,col_indexer] = value instead\n",
      "\n",
      "See the the caveats in the documentation: http://pandas.pydata.org/pandas-docs/stable/indexing.html#indexing-view-versus-copy\n",
      "  self[name] = value\n"
     ]
    },
    {
     "data": {
      "text/plain": [
       "<matplotlib.text.Text at 0xba7e4a8>"
      ]
     },
     "execution_count": 22,
     "metadata": {},
     "output_type": "execute_result"
    },
    {
     "data": {
      "image/png": "[encoded data removed]",
      "text/plain": [
       "<matplotlib.figure.Figure at 0xeeca7b8>"
      ]
     },
     "metadata": {},
     "output_type": "display_data"
    }
   ],
   "source": [
    "DateOfInterest = \"2013-05-01\"\n",
    "df = dat[dat.tsLocal.map(lambda x: x[0:10] == DateOfInterest)]\n",
    "df.tsLocal = df.tsLocal.map(lambda x: datetime.datetime.strptime(x,\"%Y-%m-%d %H:%M:%S\"))\n",
    "df.set_index('tsLocal',inplace=True)\n",
    "df.plot(legend=False)\n",
    "plt.ylabel('Power [kw]')"
   ]
  },
  {
   "cell_type": "markdown",
   "metadata": {},
   "source": [
    "Here is a quick look of number of readings in the day of interest (expect $24 \\times 60 = 1440$) and number of components in the zipcode (from dat)."
   ]
  },
  {
   "cell_type": "code",
   "execution_count": 23,
   "metadata": {
    "collapsed": false
   },
   "outputs": [
    {
     "data": {
      "text/plain": [
       "(1440, 1)"
      ]
     },
     "execution_count": 23,
     "metadata": {},
     "output_type": "execute_result"
    }
   ],
   "source": [
    "df.shape"
   ]
  },
  {
   "cell_type": "markdown",
   "metadata": {},
   "source": [
    "## The first time stamp identification and data sorting"
   ]
  },
  {
   "cell_type": "markdown",
   "metadata": {},
   "source": [
    "We don't need fancy sorting for a single site."
   ]
  },
  {
   "cell_type": "code",
   "execution_count": 24,
   "metadata": {
    "collapsed": false
   },
   "outputs": [],
   "source": [
    "dat.sort(['tsLocal'], ascending = [1], inplace=True)\n",
    "#dat.set_index('tsLocal',inplace=True)"
   ]
  },
  {
   "cell_type": "markdown",
   "metadata": {},
   "source": [
    "## Scope and sun's altitude selection"
   ]
  },
  {
   "cell_type": "markdown",
   "metadata": {},
   "source": [
    "Here we would like to data selection based on altitude of the sun. Here we coonstruct a data table with timestamp span matches our data set. This table should contain sun's altitude and azimuth angle. We may merge this table to our data table and select  only readings when the sun is up (altitude $>0$)."
   ]
  },
  {
   "cell_type": "code",
   "execution_count": 27,
   "metadata": {
    "collapsed": false
   },
   "outputs": [
    {
     "data": {
      "text/plain": [
       "('2012-12-31 20:57:00', '2013-06-03 11:27:00')"
      ]
     },
     "execution_count": 27,
     "metadata": {},
     "output_type": "execute_result"
    }
   ],
   "source": [
    "dat['tsLocal'][0],dat['tsLocal'][dat.shape[0]-1]"
   ]
  },
  {
   "cell_type": "code",
   "execution_count": 28,
   "metadata": {
    "collapsed": false
   },
   "outputs": [],
   "source": [
    "#specify scope\n",
    "StartScopeDate = '2013-01-01'\n",
    "EndScopeDate = '2015-06-01'\n",
    "StartScopeTime =  datetime.datetime.strptime(StartScopeDate,\"%Y-%m-%d\")\n",
    "EndScopeTime =  datetime.datetime.strptime(EndScopeDate,\"%Y-%m-%d\")"
   ]
  },
  {
   "cell_type": "markdown",
   "metadata": {},
   "source": [
    "Note: we now have 1 minute data."
   ]
  },
  {
   "cell_type": "code",
   "execution_count": 31,
   "metadata": {
    "collapsed": false
   },
   "outputs": [],
   "source": [
    "#Generate data frame from start to end, along with altitude and azimuth\n",
    "tslist = []\n",
    "nxt = StartScopeTime\n",
    "while nxt < EndScopeTime:\n",
    "    tslist.append(nxt)\n",
    "    nxt += datetime.timedelta(minutes=1)\n",
    "    \n",
    "Scope = pd.DataFrame(0, index = np.arange(len(tslist)), columns = ['tsLocal','altitude','azimuth'])\n",
    "Scope['tsLocal'] = tslist\n",
    "\n",
    "#need to install Pysolar in command prompt 'pip install Pysolar' first\n",
    "import Pysolar\n",
    "Scope['altitude'] = Scope.tsLocal.map(lambda x: Pysolar.GetAltitude(latitude, longitude, \n",
    "                                                                    timezone(localtz).localize(x).astimezone(pytz.utc)))\n",
    "\n",
    "#Consider only when the sun's altitude is high.\n",
    "Scope = Scope[Scope.altitude>0]\n",
    "Scope['azimuth'] = Scope.tsLocal.map(lambda x: Pysolar.GetAzimuth(latitude, longitude, \n",
    "                                                                    timezone(localtz).localize(x).astimezone(pytz.utc)))\n",
    "#covert to string to easy handling\n",
    "Scope['tsLocal'] = Scope.tsLocal.map(lambda x: x.strftime(\"%Y-%m-%d %H:%M:%S\")) \n"
   ]
  },
  {
   "cell_type": "code",
   "execution_count": 32,
   "metadata": {
    "collapsed": false
   },
   "outputs": [],
   "source": [
    "#Now we can merge using Scope Table as a backbone of data structure.\n",
    "data = pd.merge(Scope,dat,on=['tsLocal'], how = 'left') "
   ]
  },
  {
   "cell_type": "markdown",
   "metadata": {},
   "source": [
    "Now $\\texttt{data}$ contains power readings. The rows represent all time stamps in 1 minutes while sun is up for all days of interest. The columns (except for time stamp, azimuth, and altitudes) represent all functioning components in the system. In this case we have only one component."
   ]
  },
  {
   "cell_type": "markdown",
   "metadata": {},
   "source": [
    "To make the format consistent, we will add extra two columns to match the case of multiple components"
   ]
  },
  {
   "cell_type": "code",
   "execution_count": 36,
   "metadata": {
    "collapsed": true
   },
   "outputs": [],
   "source": [
    "data['numactivecomp']=1\n",
    "data['totalsize'] = 6000"
   ]
  },
  {
   "cell_type": "code",
   "execution_count": 37,
   "metadata": {
    "collapsed": true
   },
   "outputs": [],
   "source": [
    "data['power'] = data['power']/data['totalsize']"
   ]
  },
  {
   "cell_type": "code",
   "execution_count": 38,
   "metadata": {
    "collapsed": false
   },
   "outputs": [
    {
     "data": {
      "text/html": [
       "<div style=\"max-height:1000px;max-width:1500px;overflow:auto;\">\n",
       "<table border=\"1\" class=\"dataframe\">\n",
       "  <thead>\n",
       "    <tr style=\"text-align: right;\">\n",
       "      <th></th>\n",
       "      <th>tsLocal</th>\n",
       "      <th>altitude</th>\n",
       "      <th>azimuth</th>\n",
       "      <th>power</th>\n",
       "      <th>numactivecomp</th>\n",
       "      <th>totalsize</th>\n",
       "    </tr>\n",
       "  </thead>\n",
       "  <tbody>\n",
       "    <tr>\n",
       "      <th>0</th>\n",
       "      <td> 2013-01-01 07:25:00</td>\n",
       "      <td> 0.009829</td>\n",
       "      <td>-298.94417</td>\n",
       "      <td> 0.005003</td>\n",
       "      <td> 1</td>\n",
       "      <td> 6000</td>\n",
       "    </tr>\n",
       "  </tbody>\n",
       "</table>\n",
       "</div>"
      ],
      "text/plain": [
       "               tsLocal  altitude    azimuth     power  numactivecomp  \\\n",
       "0  2013-01-01 07:25:00  0.009829 -298.94417  0.005003              1   \n",
       "\n",
       "   totalsize  \n",
       "0       6000  "
      ]
     },
     "execution_count": 38,
     "metadata": {},
     "output_type": "execute_result"
    }
   ],
   "source": [
    "data[:1]"
   ]
  },
  {
   "cell_type": "markdown",
   "metadata": {},
   "source": [
    "Let's save data table and metadata. "
   ]
  },
  {
   "cell_type": "code",
   "execution_count": 44,
   "metadata": {
    "collapsed": false
   },
   "outputs": [],
   "source": [
    "directory = mainDir + '/data/' + datasource +'/' + zipcode\n",
    "#metadata.to_csv(directory+\"/metadata.csv\",index=False)\n",
    "#data.to_csv(directory+\"/data.csv\",index=False)"
   ]
  },
  {
   "cell_type": "code",
   "execution_count": 45,
   "metadata": {
    "collapsed": false
   },
   "outputs": [],
   "source": [
    "data[['tsLocal','altitude','azimuth','power','numactivecomp','totalsize']].to_csv(directory+\"/training_data.csv\",index=False)"
   ]
  }
 ],
 "metadata": {
  "kernelspec": {
   "display_name": "Python 2",
   "language": "python",
   "name": "python2"
  },
  "language_info": {
   "codemirror_mode": {
    "name": "ipython",
    "version": 2
   },
   "file_extension": ".py",
   "mimetype": "text/x-python",
   "name": "python",
   "nbconvert_exporter": "python",
   "pygments_lexer": "ipython2",
   "version": "2.7.8"
  }
 },
 "nbformat": 4,
 "nbformat_minor": 0
}
