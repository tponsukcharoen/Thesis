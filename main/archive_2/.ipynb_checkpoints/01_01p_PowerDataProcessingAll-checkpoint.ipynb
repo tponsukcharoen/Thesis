{
 "cells": [
  {
   "cell_type": "markdown",
   "metadata": {},
   "source": [
    "This is the first supplementary document to process raw power data from a PV monitroing company."
   ]
  },
  {
   "cell_type": "markdown",
   "metadata": {},
   "source": [
    "# All power readings data preprocessing"
   ]
  },
  {
   "cell_type": "markdown",
   "metadata": {},
   "source": [
    "In order to buid such a power output model, we need to understand the data of power readings from each PV system in a zip code first. Here we preprocess bulk data by spliting data by zipcodes."
   ]
  },
  {
   "cell_type": "markdown",
   "metadata": {},
   "source": [
    "## Separate data files based on zipcodes"
   ]
  },
  {
   "cell_type": "markdown",
   "metadata": {},
   "source": [
    "There are two kind data files here. The first kind $\\texttt{metadata}$ where each row represents one PV component containing ID, latitude, longitude, zip code, timezone, and possibly installation size. The second data file is $\\texttt{timeseriesdata}$ where each row represents one power reading instance containing time, PV component ID, and power. "
   ]
  },
  {
   "cell_type": "markdown",
   "metadata": {},
   "source": [
    "We specify data source and year we would like to process the data here. Thank you our data provider for helping us finding the future of clean energy. (Our data source is confidential though). "
   ]
  },
  {
   "cell_type": "code",
   "execution_count": 67,
   "metadata": {
    "collapsed": false
   },
   "outputs": [],
   "source": [
    "datasource = 'L'"
   ]
  },
  {
   "cell_type": "markdown",
   "metadata": {},
   "source": [
    "Here we import package for data analysis called 'pandas' and specify directory."
   ]
  },
  {
   "cell_type": "code",
   "execution_count": 68,
   "metadata": {
    "collapsed": false
   },
   "outputs": [],
   "source": [
    "import pandas as pd\n",
    "import numpy as np\n",
    "import matplotlib.pyplot as plt\n",
    "import os\n",
    "dataDir = 'C:\\Users\\Tee\\Documents\\Thesis\\data' #this is main directory in ICME with raw data"
   ]
  },
  {
   "cell_type": "markdown",
   "metadata": {},
   "source": [
    "We have two year data 2013 and 2014. Let's pull up metadata.csv first."
   ]
  },
  {
   "cell_type": "code",
   "execution_count": 69,
   "metadata": {
    "collapsed": false
   },
   "outputs": [],
   "source": [
    "metadata_2013 = pd.read_csv(dataDir + '/PV/' + datasource +'/'+ '2013' +'/'+'raw/metadata.csv',\n",
    "                       dtype={'componentId':'object','zip':'object'})\n",
    "metadata_2014 = pd.read_csv(dataDir + '/PV/' + datasource +'/'+ '2014' +'/'+'raw/metadata.csv',\n",
    "                       dtype={'componentId':'object','zip':'object'})\n",
    "metadata_2015 = pd.read_csv(dataDir + '/PV/' + datasource +'/'+ '2015' +'/'+'raw/metadata.csv',\n",
    "                       dtype={'componentId':'object','zip':'object'})"
   ]
  },
  {
   "cell_type": "markdown",
   "metadata": {},
   "source": [
    "Here is how $\\texttt{metadata}$ looks like:"
   ]
  },
  {
   "cell_type": "code",
   "execution_count": 70,
   "metadata": {
    "collapsed": false
   },
   "outputs": [
    {
     "data": {
      "text/html": [
       "<div style=\"max-height:1000px;max-width:1500px;overflow:auto;\">\n",
       "<table border=\"1\" class=\"dataframe\">\n",
       "  <thead>\n",
       "    <tr style=\"text-align: right;\">\n",
       "      <th></th>\n",
       "      <th>nodeId</th>\n",
       "      <th>componentId</th>\n",
       "      <th>latitude</th>\n",
       "      <th>longitude</th>\n",
       "      <th>zip</th>\n",
       "      <th>tz</th>\n",
       "    </tr>\n",
       "  </thead>\n",
       "  <tbody>\n",
       "    <tr>\n",
       "      <th>0</th>\n",
       "      <td> 00:04:A3:A1:CA:B3.1</td>\n",
       "      <td> 2023207</td>\n",
       "      <td> 40.01211</td>\n",
       "      <td>-74.63209</td>\n",
       "      <td> 08640</td>\n",
       "      <td> US/Eastern</td>\n",
       "    </tr>\n",
       "  </tbody>\n",
       "</table>\n",
       "</div>"
      ],
      "text/plain": [
       "                nodeId componentId  latitude  longitude    zip          tz\n",
       "0  00:04:A3:A1:CA:B3.1     2023207  40.01211  -74.63209  08640  US/Eastern"
      ]
     },
     "execution_count": 70,
     "metadata": {},
     "output_type": "execute_result"
    }
   ],
   "source": [
    "metadata_2013[:1]"
   ]
  },
  {
   "cell_type": "code",
   "execution_count": 71,
   "metadata": {
    "collapsed": false
   },
   "outputs": [
    {
     "data": {
      "text/html": [
       "<div style=\"max-height:1000px;max-width:1500px;overflow:auto;\">\n",
       "<table border=\"1\" class=\"dataframe\">\n",
       "  <thead>\n",
       "    <tr style=\"text-align: right;\">\n",
       "      <th></th>\n",
       "      <th>componentId</th>\n",
       "      <th>sizeBucket</th>\n",
       "      <th>latitude</th>\n",
       "      <th>longitude</th>\n",
       "      <th>zip</th>\n",
       "      <th>timezone</th>\n",
       "    </tr>\n",
       "  </thead>\n",
       "  <tbody>\n",
       "    <tr>\n",
       "      <th>0</th>\n",
       "      <td> 602</td>\n",
       "      <td> 0-1 kW</td>\n",
       "      <td> 41.46</td>\n",
       "      <td>-72.91</td>\n",
       "      <td> 06410</td>\n",
       "      <td> America/New_York</td>\n",
       "    </tr>\n",
       "  </tbody>\n",
       "</table>\n",
       "</div>"
      ],
      "text/plain": [
       "  componentId sizeBucket  latitude  longitude    zip          timezone\n",
       "0         602     0-1 kW     41.46     -72.91  06410  America/New_York"
      ]
     },
     "execution_count": 71,
     "metadata": {},
     "output_type": "execute_result"
    }
   ],
   "source": [
    "metadata_2014[:1]"
   ]
  },
  {
   "cell_type": "code",
   "execution_count": 72,
   "metadata": {
    "collapsed": false
   },
   "outputs": [
    {
     "data": {
      "text/html": [
       "<div style=\"max-height:1000px;max-width:1500px;overflow:auto;\">\n",
       "<table border=\"1\" class=\"dataframe\">\n",
       "  <thead>\n",
       "    <tr style=\"text-align: right;\">\n",
       "      <th></th>\n",
       "      <th>componentId</th>\n",
       "      <th>sizeBucket</th>\n",
       "      <th>latitude</th>\n",
       "      <th>longitude</th>\n",
       "      <th>zip</th>\n",
       "      <th>timezone</th>\n",
       "    </tr>\n",
       "  </thead>\n",
       "  <tbody>\n",
       "    <tr>\n",
       "      <th>0</th>\n",
       "      <td> 5218</td>\n",
       "      <td> 3-5 kW</td>\n",
       "      <td> 33.55</td>\n",
       "      <td>-117.16</td>\n",
       "      <td> 92563</td>\n",
       "      <td> America/Los_Angeles</td>\n",
       "    </tr>\n",
       "  </tbody>\n",
       "</table>\n",
       "</div>"
      ],
      "text/plain": [
       "  componentId sizeBucket  latitude  longitude    zip             timezone\n",
       "0        5218     3-5 kW     33.55    -117.16  92563  America/Los_Angeles"
      ]
     },
     "execution_count": 72,
     "metadata": {},
     "output_type": "execute_result"
    }
   ],
   "source": [
    "metadata_2015[:1]"
   ]
  },
  {
   "cell_type": "markdown",
   "metadata": {},
   "source": [
    "Check inclusion"
   ]
  },
  {
   "cell_type": "code",
   "execution_count": 73,
   "metadata": {
    "collapsed": false
   },
   "outputs": [
    {
     "data": {
      "text/plain": [
       "True"
      ]
     },
     "execution_count": 73,
     "metadata": {},
     "output_type": "execute_result"
    }
   ],
   "source": [
    "set(metadata_2013['componentId']).issubset(set(metadata_2014['componentId']))"
   ]
  },
  {
   "cell_type": "code",
   "execution_count": 74,
   "metadata": {
    "collapsed": false
   },
   "outputs": [
    {
     "data": {
      "text/plain": [
       "False"
      ]
     },
     "execution_count": 74,
     "metadata": {},
     "output_type": "execute_result"
    }
   ],
   "source": [
    "set(metadata_2014['componentId']).issubset(set(metadata_2015['componentId']))"
   ]
  },
  {
   "cell_type": "markdown",
   "metadata": {},
   "source": [
    "Here we look how many zipcodes and some quick statistics on each zipcode."
   ]
  },
  {
   "cell_type": "code",
   "execution_count": 75,
   "metadata": {
    "collapsed": false
   },
   "outputs": [
    {
     "data": {
      "text/html": [
       "<div style=\"max-height:1000px;max-width:1500px;overflow:auto;\">\n",
       "<table border=\"1\" class=\"dataframe\">\n",
       "  <thead>\n",
       "    <tr>\n",
       "      <th></th>\n",
       "      <th>componentId</th>\n",
       "    </tr>\n",
       "    <tr>\n",
       "      <th></th>\n",
       "      <th>count</th>\n",
       "    </tr>\n",
       "    <tr>\n",
       "      <th>zip</th>\n",
       "      <th></th>\n",
       "    </tr>\n",
       "  </thead>\n",
       "  <tbody>\n",
       "    <tr>\n",
       "      <th>08640</th>\n",
       "      <td> 180</td>\n",
       "    </tr>\n",
       "    <tr>\n",
       "      <th>08641</th>\n",
       "      <td> 738</td>\n",
       "    </tr>\n",
       "    <tr>\n",
       "      <th>92562</th>\n",
       "      <td>  43</td>\n",
       "    </tr>\n",
       "    <tr>\n",
       "      <th>92563</th>\n",
       "      <td>  42</td>\n",
       "    </tr>\n",
       "  </tbody>\n",
       "</table>\n",
       "</div>"
      ],
      "text/plain": [
       "      componentId\n",
       "            count\n",
       "zip              \n",
       "08640         180\n",
       "08641         738\n",
       "92562          43\n",
       "92563          42"
      ]
     },
     "execution_count": 75,
     "metadata": {},
     "output_type": "execute_result"
    }
   ],
   "source": [
    "metadata_2013[['zip','componentId']].groupby(['zip']).agg(['count'])"
   ]
  },
  {
   "cell_type": "code",
   "execution_count": 76,
   "metadata": {
    "collapsed": false
   },
   "outputs": [
    {
     "data": {
      "text/html": [
       "<div style=\"max-height:1000px;max-width:1500px;overflow:auto;\">\n",
       "<table border=\"1\" class=\"dataframe\">\n",
       "  <thead>\n",
       "    <tr>\n",
       "      <th></th>\n",
       "      <th>componentId</th>\n",
       "    </tr>\n",
       "    <tr>\n",
       "      <th></th>\n",
       "      <th>count</th>\n",
       "    </tr>\n",
       "    <tr>\n",
       "      <th>zip</th>\n",
       "      <th></th>\n",
       "    </tr>\n",
       "  </thead>\n",
       "  <tbody>\n",
       "    <tr>\n",
       "      <th>06010</th>\n",
       "      <td> 283</td>\n",
       "    </tr>\n",
       "    <tr>\n",
       "      <th>06082</th>\n",
       "      <td> 231</td>\n",
       "    </tr>\n",
       "    <tr>\n",
       "      <th>06084</th>\n",
       "      <td> 303</td>\n",
       "    </tr>\n",
       "    <tr>\n",
       "      <th>06410</th>\n",
       "      <td> 224</td>\n",
       "    </tr>\n",
       "    <tr>\n",
       "      <th>08640</th>\n",
       "      <td> 181</td>\n",
       "    </tr>\n",
       "    <tr>\n",
       "      <th>08641</th>\n",
       "      <td> 738</td>\n",
       "    </tr>\n",
       "    <tr>\n",
       "      <th>92562</th>\n",
       "      <td> 329</td>\n",
       "    </tr>\n",
       "    <tr>\n",
       "      <th>92563</th>\n",
       "      <td> 249</td>\n",
       "    </tr>\n",
       "  </tbody>\n",
       "</table>\n",
       "</div>"
      ],
      "text/plain": [
       "      componentId\n",
       "            count\n",
       "zip              \n",
       "06010         283\n",
       "06082         231\n",
       "06084         303\n",
       "06410         224\n",
       "08640         181\n",
       "08641         738\n",
       "92562         329\n",
       "92563         249"
      ]
     },
     "execution_count": 76,
     "metadata": {},
     "output_type": "execute_result"
    }
   ],
   "source": [
    "metadata_2014[['zip','componentId']].groupby(['zip']).agg(['count'])"
   ]
  },
  {
   "cell_type": "code",
   "execution_count": 77,
   "metadata": {
    "collapsed": false
   },
   "outputs": [
    {
     "data": {
      "text/html": [
       "<div style=\"max-height:1000px;max-width:1500px;overflow:auto;\">\n",
       "<table border=\"1\" class=\"dataframe\">\n",
       "  <thead>\n",
       "    <tr>\n",
       "      <th></th>\n",
       "      <th>componentId</th>\n",
       "    </tr>\n",
       "    <tr>\n",
       "      <th></th>\n",
       "      <th>count</th>\n",
       "    </tr>\n",
       "    <tr>\n",
       "      <th>zip</th>\n",
       "      <th></th>\n",
       "    </tr>\n",
       "  </thead>\n",
       "  <tbody>\n",
       "    <tr>\n",
       "      <th>08640</th>\n",
       "      <td> 128</td>\n",
       "    </tr>\n",
       "    <tr>\n",
       "      <th>08641</th>\n",
       "      <td> 738</td>\n",
       "    </tr>\n",
       "    <tr>\n",
       "      <th>92562</th>\n",
       "      <td> 382</td>\n",
       "    </tr>\n",
       "    <tr>\n",
       "      <th>92563</th>\n",
       "      <td> 317</td>\n",
       "    </tr>\n",
       "  </tbody>\n",
       "</table>\n",
       "</div>"
      ],
      "text/plain": [
       "      componentId\n",
       "            count\n",
       "zip              \n",
       "08640         128\n",
       "08641         738\n",
       "92562         382\n",
       "92563         317"
      ]
     },
     "execution_count": 77,
     "metadata": {},
     "output_type": "execute_result"
    }
   ],
   "source": [
    "metadata_2015[['zip','componentId']].groupby(['zip']).agg(['count'])"
   ]
  },
  {
   "cell_type": "markdown",
   "metadata": {},
   "source": [
    "For 2014 and 2015 data, we have information on installed kW range of components (column name: sizeBucket). Note that exact value is confidential and some sites do not have this information. See the distribution here."
   ]
  },
  {
   "cell_type": "code",
   "execution_count": 78,
   "metadata": {
    "collapsed": false
   },
   "outputs": [
    {
     "data": {
      "text/html": [
       "<div style=\"max-height:1000px;max-width:1500px;overflow:auto;\">\n",
       "<table border=\"1\" class=\"dataframe\">\n",
       "  <thead>\n",
       "    <tr>\n",
       "      <th></th>\n",
       "      <th>componentId</th>\n",
       "    </tr>\n",
       "    <tr>\n",
       "      <th></th>\n",
       "      <th>count</th>\n",
       "    </tr>\n",
       "    <tr>\n",
       "      <th>sizeBucket</th>\n",
       "      <th></th>\n",
       "    </tr>\n",
       "  </thead>\n",
       "  <tbody>\n",
       "    <tr>\n",
       "      <th>10-20 kW</th>\n",
       "      <td> 112</td>\n",
       "    </tr>\n",
       "    <tr>\n",
       "      <th>2-3 kW</th>\n",
       "      <td>   2</td>\n",
       "    </tr>\n",
       "    <tr>\n",
       "      <th>20-50 kW</th>\n",
       "      <td>  94</td>\n",
       "    </tr>\n",
       "    <tr>\n",
       "      <th>3-5 kW</th>\n",
       "      <td>   3</td>\n",
       "    </tr>\n",
       "    <tr>\n",
       "      <th>5-10 kW</th>\n",
       "      <td> 124</td>\n",
       "    </tr>\n",
       "    <tr>\n",
       "      <th>50-100 kW</th>\n",
       "      <td>   4</td>\n",
       "    </tr>\n",
       "  </tbody>\n",
       "</table>\n",
       "</div>"
      ],
      "text/plain": [
       "           componentId\n",
       "                 count\n",
       "sizeBucket            \n",
       "10-20 kW           112\n",
       "2-3 kW               2\n",
       "20-50 kW            94\n",
       "3-5 kW               3\n",
       "5-10 kW            124\n",
       "50-100 kW            4"
      ]
     },
     "execution_count": 78,
     "metadata": {},
     "output_type": "execute_result"
    }
   ],
   "source": [
    "z = '08641'\n",
    "d = metadata_2014[metadata_2014.zip == z]\n",
    "d[['componentId','sizeBucket']].groupby(['sizeBucket']).agg(['count'])\n",
    "#sum of this table = 112+2+94+3+124+4 = 339 < 738 (399 components have no kW range info)"
   ]
  },
  {
   "cell_type": "code",
   "execution_count": 79,
   "metadata": {
    "collapsed": false
   },
   "outputs": [
    {
     "data": {
      "text/html": [
       "<div style=\"max-height:1000px;max-width:1500px;overflow:auto;\">\n",
       "<table border=\"1\" class=\"dataframe\">\n",
       "  <thead>\n",
       "    <tr>\n",
       "      <th></th>\n",
       "      <th>componentId</th>\n",
       "    </tr>\n",
       "    <tr>\n",
       "      <th></th>\n",
       "      <th>count</th>\n",
       "    </tr>\n",
       "    <tr>\n",
       "      <th>sizeBucket</th>\n",
       "      <th></th>\n",
       "    </tr>\n",
       "  </thead>\n",
       "  <tbody>\n",
       "    <tr>\n",
       "      <th>10-20 kW</th>\n",
       "      <td>  98</td>\n",
       "    </tr>\n",
       "    <tr>\n",
       "      <th>2-3 kW</th>\n",
       "      <td>   3</td>\n",
       "    </tr>\n",
       "    <tr>\n",
       "      <th>20-50 kW</th>\n",
       "      <td>  44</td>\n",
       "    </tr>\n",
       "    <tr>\n",
       "      <th>3-5 kW</th>\n",
       "      <td>  32</td>\n",
       "    </tr>\n",
       "    <tr>\n",
       "      <th>5-10 kW</th>\n",
       "      <td> 235</td>\n",
       "    </tr>\n",
       "    <tr>\n",
       "      <th>50-100 kW</th>\n",
       "      <td>   4</td>\n",
       "    </tr>\n",
       "  </tbody>\n",
       "</table>\n",
       "</div>"
      ],
      "text/plain": [
       "           componentId\n",
       "                 count\n",
       "sizeBucket            \n",
       "10-20 kW            98\n",
       "2-3 kW               3\n",
       "20-50 kW            44\n",
       "3-5 kW              32\n",
       "5-10 kW            235\n",
       "50-100 kW            4"
      ]
     },
     "execution_count": 79,
     "metadata": {},
     "output_type": "execute_result"
    }
   ],
   "source": [
    "z = '08641'\n",
    "d = metadata_2015[metadata_2014.zip == z]\n",
    "d[['componentId','sizeBucket']].groupby(['sizeBucket']).agg(['count'])\n",
    "#sum of this table = 112+2+94+3+124+4 = 339 < 738 (399 components have no kW range info)"
   ]
  },
  {
   "cell_type": "markdown",
   "metadata": {},
   "source": [
    "Let's combine all metadata (2013 is included in 2014 already)."
   ]
  },
  {
   "cell_type": "code",
   "execution_count": 80,
   "metadata": {
    "collapsed": false
   },
   "outputs": [
    {
     "data": {
      "text/html": [
       "<div style=\"max-height:1000px;max-width:1500px;overflow:auto;\">\n",
       "<table border=\"1\" class=\"dataframe\">\n",
       "  <thead>\n",
       "    <tr>\n",
       "      <th></th>\n",
       "      <th>componentId</th>\n",
       "    </tr>\n",
       "    <tr>\n",
       "      <th></th>\n",
       "      <th>count</th>\n",
       "    </tr>\n",
       "    <tr>\n",
       "      <th>zip</th>\n",
       "      <th></th>\n",
       "    </tr>\n",
       "  </thead>\n",
       "  <tbody>\n",
       "    <tr>\n",
       "      <th>06010</th>\n",
       "      <td> 283</td>\n",
       "    </tr>\n",
       "    <tr>\n",
       "      <th>06082</th>\n",
       "      <td> 231</td>\n",
       "    </tr>\n",
       "    <tr>\n",
       "      <th>06084</th>\n",
       "      <td> 303</td>\n",
       "    </tr>\n",
       "    <tr>\n",
       "      <th>06410</th>\n",
       "      <td> 224</td>\n",
       "    </tr>\n",
       "    <tr>\n",
       "      <th>08640</th>\n",
       "      <td> 182</td>\n",
       "    </tr>\n",
       "    <tr>\n",
       "      <th>08641</th>\n",
       "      <td> 738</td>\n",
       "    </tr>\n",
       "    <tr>\n",
       "      <th>92562</th>\n",
       "      <td> 409</td>\n",
       "    </tr>\n",
       "    <tr>\n",
       "      <th>92563</th>\n",
       "      <td> 329</td>\n",
       "    </tr>\n",
       "  </tbody>\n",
       "</table>\n",
       "</div>"
      ],
      "text/plain": [
       "      componentId\n",
       "            count\n",
       "zip              \n",
       "06010         283\n",
       "06082         231\n",
       "06084         303\n",
       "06410         224\n",
       "08640         182\n",
       "08641         738\n",
       "92562         409\n",
       "92563         329"
      ]
     },
     "execution_count": 80,
     "metadata": {},
     "output_type": "execute_result"
    }
   ],
   "source": [
    "metadata = metadata_2014.append(metadata_2015, ignore_index = True)\n",
    "metadata.drop_duplicates(subset='componentId',inplace=True)\n",
    "metadata[['zip','componentId']].groupby(['zip']).agg(['count'])"
   ]
  },
  {
   "cell_type": "markdown",
   "metadata": {},
   "source": [
    "Now we read all timeseries data files."
   ]
  },
  {
   "cell_type": "code",
   "execution_count": 81,
   "metadata": {
    "collapsed": false
   },
   "outputs": [],
   "source": [
    "timeseriesdata2013_1 = pd.read_csv(dataDir + '/PV/' + datasource +'/'+ '2013' +'/'+'raw/timeseriesdata.csv',\n",
    "                             dtype={'componentId':'object'})\n",
    "timeseriesdata2014_1 = pd.read_csv(dataDir + '/PV/' + datasource +'/'+ '2014' +'/'+'raw/timeseriesdata.csv',\n",
    "                             dtype={'componentId':'object'})\n",
    "timeseriesdata2014_2 = pd.read_csv(dataDir + '/PV/' + datasource +'/'+ '2014' +'/'+'raw/timeseriesdata_2.csv',\n",
    "                             dtype={'componentId':'object'})\n",
    "timeseriesdata2014_3 = pd.read_csv(dataDir + '/PV/' + datasource +'/'+ '2014' +'/'+'raw/timeseriesdata_3.csv',\n",
    "                             dtype={'componentId':'object'})\n",
    "timeseriesdata2015_1 = pd.read_csv(dataDir + '/PV/' + datasource +'/'+ '2015' +'/'+'raw/data1.csv',\n",
    "                             dtype={'componentId':'object'})\n",
    "timeseriesdata2015_2 = pd.read_csv(dataDir + '/PV/' + datasource +'/'+ '2015' +'/'+'raw/data2.csv',\n",
    "                             dtype={'componentId':'object'})\n",
    "timeseriesdata2015_3 = pd.read_csv(dataDir + '/PV/' + datasource +'/'+ '2015' +'/'+'raw/data3.csv',\n",
    "                             dtype={'componentId':'object'})\n",
    "\n",
    "#remove comma\n",
    "timeseriesdata2013_1['componentId'] = timeseriesdata2013_1['componentId'].map(lambda x: x.replace(',',''))\n",
    "timeseriesdata2014_1['componentId'] = timeseriesdata2014_1['componentId'].map(lambda x: x.replace(',',''))\n",
    "timeseriesdata2014_2['componentId'] = timeseriesdata2014_2['componentId'].map(lambda x: x.replace(',',''))\n",
    "timeseriesdata2014_3['componentId'] = timeseriesdata2014_3['componentId'].map(lambda x: x.replace(',',''))\n",
    "timeseriesdata2015_1['componentId'] = timeseriesdata2014_1['componentId'].map(lambda x: x.replace(',',''))\n",
    "timeseriesdata2015_2['componentId'] = timeseriesdata2014_2['componentId'].map(lambda x: x.replace(',',''))\n",
    "timeseriesdata2015_3['componentId'] = timeseriesdata2014_3['componentId'].map(lambda x: x.replace(',',''))"
   ]
  },
  {
   "cell_type": "markdown",
   "metadata": {},
   "source": [
    "Here is how $\\texttt{timeseriesdata}$ looks like:"
   ]
  },
  {
   "cell_type": "code",
   "execution_count": 82,
   "metadata": {
    "collapsed": false
   },
   "outputs": [
    {
     "data": {
      "text/html": [
       "<div style=\"max-height:1000px;max-width:1500px;overflow:auto;\">\n",
       "<table border=\"1\" class=\"dataframe\">\n",
       "  <thead>\n",
       "    <tr style=\"text-align: right;\">\n",
       "      <th></th>\n",
       "      <th>tsUTC</th>\n",
       "      <th>componentId</th>\n",
       "      <th>power</th>\n",
       "    </tr>\n",
       "  </thead>\n",
       "  <tbody>\n",
       "    <tr>\n",
       "      <th>0</th>\n",
       "      <td> 2013-01-01 00:00:00</td>\n",
       "      <td> 467500</td>\n",
       "      <td> 0.275</td>\n",
       "    </tr>\n",
       "  </tbody>\n",
       "</table>\n",
       "</div>"
      ],
      "text/plain": [
       "                 tsUTC componentId  power\n",
       "0  2013-01-01 00:00:00      467500  0.275"
      ]
     },
     "execution_count": 82,
     "metadata": {},
     "output_type": "execute_result"
    }
   ],
   "source": [
    "timeseriesdata2013_1[:1]"
   ]
  },
  {
   "cell_type": "code",
   "execution_count": 83,
   "metadata": {
    "collapsed": false
   },
   "outputs": [
    {
     "data": {
      "text/html": [
       "<div style=\"max-height:1000px;max-width:1500px;overflow:auto;\">\n",
       "<table border=\"1\" class=\"dataframe\">\n",
       "  <thead>\n",
       "    <tr style=\"text-align: right;\">\n",
       "      <th></th>\n",
       "      <th>componentId</th>\n",
       "      <th>tsUTC</th>\n",
       "      <th>powerKw</th>\n",
       "    </tr>\n",
       "  </thead>\n",
       "  <tbody>\n",
       "    <tr>\n",
       "      <th>0</th>\n",
       "      <td> 1455</td>\n",
       "      <td> 2014-01-01 00:00:00.0</td>\n",
       "      <td> 0</td>\n",
       "    </tr>\n",
       "  </tbody>\n",
       "</table>\n",
       "</div>"
      ],
      "text/plain": [
       "  componentId                  tsUTC  powerKw\n",
       "0        1455  2014-01-01 00:00:00.0        0"
      ]
     },
     "execution_count": 83,
     "metadata": {},
     "output_type": "execute_result"
    }
   ],
   "source": [
    "timeseriesdata2014_1[:1]"
   ]
  },
  {
   "cell_type": "code",
   "execution_count": 84,
   "metadata": {
    "collapsed": false
   },
   "outputs": [
    {
     "data": {
      "text/html": [
       "<div style=\"max-height:1000px;max-width:1500px;overflow:auto;\">\n",
       "<table border=\"1\" class=\"dataframe\">\n",
       "  <thead>\n",
       "    <tr style=\"text-align: right;\">\n",
       "      <th></th>\n",
       "      <th>componentId</th>\n",
       "      <th>tsUTC</th>\n",
       "      <th>powerKw</th>\n",
       "    </tr>\n",
       "  </thead>\n",
       "  <tbody>\n",
       "    <tr>\n",
       "      <th>0</th>\n",
       "      <td> 2030559</td>\n",
       "      <td> 2014-09-18 08:15:00.0</td>\n",
       "      <td> 0</td>\n",
       "    </tr>\n",
       "  </tbody>\n",
       "</table>\n",
       "</div>"
      ],
      "text/plain": [
       "  componentId                  tsUTC  powerKw\n",
       "0     2030559  2014-09-18 08:15:00.0        0"
      ]
     },
     "execution_count": 84,
     "metadata": {},
     "output_type": "execute_result"
    }
   ],
   "source": [
    "timeseriesdata2014_2[:1]"
   ]
  },
  {
   "cell_type": "code",
   "execution_count": 85,
   "metadata": {
    "collapsed": false
   },
   "outputs": [
    {
     "data": {
      "text/html": [
       "<div style=\"max-height:1000px;max-width:1500px;overflow:auto;\">\n",
       "<table border=\"1\" class=\"dataframe\">\n",
       "  <thead>\n",
       "    <tr style=\"text-align: right;\">\n",
       "      <th></th>\n",
       "      <th>componentId</th>\n",
       "      <th>tsUTC</th>\n",
       "      <th>powerKw</th>\n",
       "    </tr>\n",
       "  </thead>\n",
       "  <tbody>\n",
       "    <tr>\n",
       "      <th>0</th>\n",
       "      <td> 2055667</td>\n",
       "      <td> 2014-04-27 13:45:00.0</td>\n",
       "      <td> 0.05367</td>\n",
       "    </tr>\n",
       "  </tbody>\n",
       "</table>\n",
       "</div>"
      ],
      "text/plain": [
       "  componentId                  tsUTC  powerKw\n",
       "0     2055667  2014-04-27 13:45:00.0  0.05367"
      ]
     },
     "execution_count": 85,
     "metadata": {},
     "output_type": "execute_result"
    }
   ],
   "source": [
    "timeseriesdata2014_3[:1]"
   ]
  },
  {
   "cell_type": "code",
   "execution_count": 86,
   "metadata": {
    "collapsed": false
   },
   "outputs": [
    {
     "data": {
      "text/html": [
       "<div style=\"max-height:1000px;max-width:1500px;overflow:auto;\">\n",
       "<table border=\"1\" class=\"dataframe\">\n",
       "  <thead>\n",
       "    <tr style=\"text-align: right;\">\n",
       "      <th></th>\n",
       "      <th>componentId</th>\n",
       "      <th>tsUTC</th>\n",
       "      <th>powerKw</th>\n",
       "    </tr>\n",
       "  </thead>\n",
       "  <tbody>\n",
       "    <tr>\n",
       "      <th>0</th>\n",
       "      <td> 1455</td>\n",
       "      <td> 2015-01-01 00:00:00.000000-0800</td>\n",
       "      <td> 0.388</td>\n",
       "    </tr>\n",
       "  </tbody>\n",
       "</table>\n",
       "</div>"
      ],
      "text/plain": [
       "  componentId                            tsUTC  powerKw\n",
       "0        1455  2015-01-01 00:00:00.000000-0800    0.388"
      ]
     },
     "execution_count": 86,
     "metadata": {},
     "output_type": "execute_result"
    }
   ],
   "source": [
    "timeseriesdata2015_1[:1]"
   ]
  },
  {
   "cell_type": "code",
   "execution_count": 87,
   "metadata": {
    "collapsed": false
   },
   "outputs": [
    {
     "data": {
      "text/html": [
       "<div style=\"max-height:1000px;max-width:1500px;overflow:auto;\">\n",
       "<table border=\"1\" class=\"dataframe\">\n",
       "  <thead>\n",
       "    <tr style=\"text-align: right;\">\n",
       "      <th></th>\n",
       "      <th>componentId</th>\n",
       "      <th>tsUTC</th>\n",
       "      <th>powerKw</th>\n",
       "    </tr>\n",
       "  </thead>\n",
       "  <tbody>\n",
       "    <tr>\n",
       "      <th>0</th>\n",
       "      <td> 2030559</td>\n",
       "      <td> 2015-02-05 13:00:00.000000-0800</td>\n",
       "      <td> 0.143</td>\n",
       "    </tr>\n",
       "  </tbody>\n",
       "</table>\n",
       "</div>"
      ],
      "text/plain": [
       "  componentId                            tsUTC  powerKw\n",
       "0     2030559  2015-02-05 13:00:00.000000-0800    0.143"
      ]
     },
     "execution_count": 87,
     "metadata": {},
     "output_type": "execute_result"
    }
   ],
   "source": [
    "timeseriesdata2015_2[:1]"
   ]
  },
  {
   "cell_type": "code",
   "execution_count": 88,
   "metadata": {
    "collapsed": false
   },
   "outputs": [
    {
     "data": {
      "text/html": [
       "<div style=\"max-height:1000px;max-width:1500px;overflow:auto;\">\n",
       "<table border=\"1\" class=\"dataframe\">\n",
       "  <thead>\n",
       "    <tr style=\"text-align: right;\">\n",
       "      <th></th>\n",
       "      <th>componentId</th>\n",
       "      <th>tsUTC</th>\n",
       "      <th>powerKw</th>\n",
       "    </tr>\n",
       "  </thead>\n",
       "  <tbody>\n",
       "    <tr>\n",
       "      <th>0</th>\n",
       "      <td> 2055667</td>\n",
       "      <td> 2015-06-01 01:15:00.000000-0700</td>\n",
       "      <td> 0.232333</td>\n",
       "    </tr>\n",
       "  </tbody>\n",
       "</table>\n",
       "</div>"
      ],
      "text/plain": [
       "  componentId                            tsUTC   powerKw\n",
       "0     2055667  2015-06-01 01:15:00.000000-0700  0.232333"
      ]
     },
     "execution_count": 88,
     "metadata": {},
     "output_type": "execute_result"
    }
   ],
   "source": [
    "timeseriesdata2015_3[:1]"
   ]
  },
  {
   "cell_type": "markdown",
   "metadata": {},
   "source": [
    "Here we would like to establish same column names through all data frames. Hence we rename column on power reading and reorder them."
   ]
  },
  {
   "cell_type": "code",
   "execution_count": 89,
   "metadata": {
    "collapsed": false
   },
   "outputs": [],
   "source": [
    "timeseriesdata2014_1=timeseriesdata2014_1.rename(columns = {'powerKw':'power'})\n",
    "timeseriesdata2014_2=timeseriesdata2014_2.rename(columns = {'powerKw':'power'})\n",
    "timeseriesdata2014_3=timeseriesdata2014_3.rename(columns = {'powerKw':'power'})\n",
    "timeseriesdata2015_1=timeseriesdata2015_1.rename(columns = {'powerKw':'power'})\n",
    "timeseriesdata2015_2=timeseriesdata2015_2.rename(columns = {'powerKw':'power'})\n",
    "timeseriesdata2015_3=timeseriesdata2015_3.rename(columns = {'powerKw':'power'})"
   ]
  },
  {
   "cell_type": "code",
   "execution_count": 90,
   "metadata": {
    "collapsed": false
   },
   "outputs": [],
   "source": [
    "timeseriesdata2013_1=timeseriesdata2013_1[['componentId','tsUTC','power']]"
   ]
  },
  {
   "cell_type": "markdown",
   "metadata": {},
   "source": [
    "We would like to process power readings data under each zipcode. So we split and write data files according to zipcodes.\n",
    "\n",
    "$\\textbf{Warning:}$ this process may take a long time."
   ]
  },
  {
   "cell_type": "code",
   "execution_count": 91,
   "metadata": {
    "collapsed": false
   },
   "outputs": [],
   "source": [
    "#ziplist = ['08640','92563'] #list(set(metadata['zip'])) if want to process all zipcode\n",
    "ziplist = ['08640','08641','92562','92563']\n",
    "\n",
    "for z in ziplist:\n",
    "    timeseriesdataByZip = pd.DataFrame()\n",
    "    metadataByZip = metadata[metadata.zip == z]\n",
    "    l = list(metadataByZip['componentId'])\n",
    "\n",
    "    timeseriesdataByZip = timeseriesdataByZip.append(timeseriesdata2013_1.iloc[[i for i, \n",
    "                                                   elem in enumerate(timeseriesdata2013_1.componentId.map(lambda x: x in l)) if elem]],\n",
    "                                                     ignore_index = True)\n",
    "    timeseriesdataByZip = timeseriesdataByZip.append(timeseriesdata2014_1.iloc[[i for i, \n",
    "                                                   elem in enumerate(timeseriesdata2014_1.componentId.map(lambda x: x in l)) if elem]],\n",
    "                                                     ignore_index = True)\n",
    "    timeseriesdataByZip = timeseriesdataByZip.append(timeseriesdata2014_2.iloc[[i for i, \n",
    "                                                   elem in enumerate(timeseriesdata2014_2.componentId.map(lambda x: x in l)) if elem]],\n",
    "                                                     ignore_index = True)\n",
    "    timeseriesdataByZip = timeseriesdataByZip.append(timeseriesdata2014_3.iloc[[i for i, \n",
    "                                                   elem in enumerate(timeseriesdata2014_3.componentId.map(lambda x: x in l)) if elem]],\n",
    "                                                     ignore_index = True)\n",
    "    timeseriesdataByZip = timeseriesdataByZip.append(timeseriesdata2015_1.iloc[[i for i, \n",
    "                                                   elem in enumerate(timeseriesdata2015_1.componentId.map(lambda x: x in l)) if elem]],\n",
    "                                                     ignore_index = True)\n",
    "    timeseriesdataByZip = timeseriesdataByZip.append(timeseriesdata2015_2.iloc[[i for i, \n",
    "                                                   elem in enumerate(timeseriesdata2015_2.componentId.map(lambda x: x in l)) if elem]],\n",
    "                                                     ignore_index = True)\n",
    "    timeseriesdataByZip = timeseriesdataByZip.append(timeseriesdata2015_3.iloc[[i for i, \n",
    "                                                   elem in enumerate(timeseriesdata2015_3.componentId.map(lambda x: x in l)) if elem]],\n",
    "                                                     ignore_index = True)\n",
    "    directory = dataDir + '/PV/' + datasource +'/' + z\n",
    "    if not os.path.exists(directory):\n",
    "        os.makedirs(directory)\n",
    "    metadataByZip.to_csv(directory+\"/metadata.csv\",index=False)\n",
    "    timeseriesdataByZip.to_csv(directory+\"/timeseriesdata.csv\",index=False)"
   ]
  }
 ],
 "metadata": {
  "kernelspec": {
   "display_name": "Python 2",
   "language": "python",
   "name": "python2"
  },
  "language_info": {
   "codemirror_mode": {
    "name": "ipython",
    "version": 2
   },
   "file_extension": ".py",
   "mimetype": "text/x-python",
   "name": "python",
   "nbconvert_exporter": "python",
   "pygments_lexer": "ipython2",
   "version": "2.7.8"
  }
 },
 "nbformat": 4,
 "nbformat_minor": 0
}
