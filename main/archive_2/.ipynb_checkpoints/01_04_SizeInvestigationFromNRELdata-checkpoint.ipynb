{
 "cells": [
  {
   "cell_type": "markdown",
   "metadata": {},
   "source": [
    "## Size investigation from NREL data"
   ]
  },
  {
   "cell_type": "markdown",
   "metadata": {},
   "source": [
    "NREL has data of installation in Open PV Project for zipcode 92562 (but not 08641). There is no one-to-one correspondence between these two data. The sampling process may be totally different."
   ]
  },
  {
   "cell_type": "code",
   "execution_count": 1,
   "metadata": {
    "collapsed": false
   },
   "outputs": [],
   "source": [
    "#specify data source and zipcode (along with latitude, longitue, and timezone).\n",
    "#[zipcode, latitude, longitude, localtz] = ['08641', 40.0449, -74.5892, 'US/Eastern']\n",
    "[zipcode, latitude, longitude, localtz] = ['92562', 33.5686, -117.2530, 'US/Pacific']"
   ]
  },
  {
   "cell_type": "code",
   "execution_count": 2,
   "metadata": {
    "collapsed": false
   },
   "outputs": [],
   "source": [
    "import pandas as pd\n",
    "import numpy as np\n",
    "import matplotlib.pyplot as plt\n",
    "import datetime\n",
    "import pytz\n",
    "import os\n",
    "import patsy #for spline regression\n",
    "import scipy #for non-negative least square \n",
    "import scipy as sp \n",
    "from scipy import stats\n",
    "from scipy.optimize import nnls\n",
    "from numpy.linalg import inv #for matrix and statistics\n",
    "import scipy as sp\n",
    "import math\n",
    "import statsmodels.api as sm\n",
    "%matplotlib inline"
   ]
  },
  {
   "cell_type": "code",
   "execution_count": 3,
   "metadata": {
    "collapsed": false
   },
   "outputs": [],
   "source": [
    "dataDir = 'C:\\Users\\Tee\\Documents\\Thesis\\data' #this is main directory in ICME with raw data\n",
    "openpvdata = pd.read_csv(dataDir+ '/PV/' + 'OpenPV' +'/' + zipcode +'_openpv.csv')\n",
    "openpvdata['date'] = openpvdata['Date Installed'].map(lambda x: datetime.datetime.strptime(x,\"%m/%d/%Y\"))\n",
    "openpvdata.date = openpvdata.date.map(lambda x: datetime.datetime.strftime(x,\"%Y-%m-%d\"))"
   ]
  },
  {
   "cell_type": "markdown",
   "metadata": {},
   "source": [
    "All panels from NREL databases are installed before 2013, while our data has first monitoring dates mostly after 2013. So this data might not be helpful."
   ]
  },
  {
   "cell_type": "code",
   "execution_count": 5,
   "metadata": {
    "collapsed": false
   },
   "outputs": [
    {
     "data": {
      "text/plain": [
       "['2001-11-06', '2012-12-10']"
      ]
     },
     "execution_count": 5,
     "metadata": {},
     "output_type": "execute_result"
    }
   ],
   "source": [
    "[np.min(openpvdata.date), np.max(openpvdata.date)]"
   ]
  },
  {
   "cell_type": "code",
   "execution_count": 6,
   "metadata": {
    "collapsed": false
   },
   "outputs": [
    {
     "data": {
      "text/html": [
       "<div style=\"max-height:1000px;max-width:1500px;overflow:auto;\">\n",
       "<table border=\"1\" class=\"dataframe\">\n",
       "  <thead>\n",
       "    <tr style=\"text-align: right;\">\n",
       "      <th></th>\n",
       "      <th>0-1 kW</th>\n",
       "      <th>1-2 kW</th>\n",
       "      <th>2-3 kW</th>\n",
       "      <th>3-5 kW</th>\n",
       "      <th>5-10 kW</th>\n",
       "      <th>10-20 kW</th>\n",
       "      <th>20-50 kW</th>\n",
       "      <th>50-100 kW</th>\n",
       "      <th>&gt;100 kW</th>\n",
       "      <th>unknown</th>\n",
       "      <th>sum</th>\n",
       "      <th>total size</th>\n",
       "      <th>average size*</th>\n",
       "    </tr>\n",
       "  </thead>\n",
       "  <tbody>\n",
       "    <tr>\n",
       "      <th>pre-2001</th>\n",
       "      <td> 0</td>\n",
       "      <td>  0</td>\n",
       "      <td>  0</td>\n",
       "      <td>  0</td>\n",
       "      <td>  0</td>\n",
       "      <td>  0</td>\n",
       "      <td> 0</td>\n",
       "      <td> 0</td>\n",
       "      <td> 0</td>\n",
       "      <td> 0</td>\n",
       "      <td>   0</td>\n",
       "      <td> 0</td>\n",
       "      <td>      NaN</td>\n",
       "    </tr>\n",
       "    <tr>\n",
       "      <th>2001</th>\n",
       "      <td> 0</td>\n",
       "      <td>  0</td>\n",
       "      <td>  0</td>\n",
       "      <td>  0</td>\n",
       "      <td>  2</td>\n",
       "      <td>  0</td>\n",
       "      <td> 0</td>\n",
       "      <td> 0</td>\n",
       "      <td> 0</td>\n",
       "      <td> 0</td>\n",
       "      <td>   2</td>\n",
       "      <td> 0</td>\n",
       "      <td> 5.349000</td>\n",
       "    </tr>\n",
       "    <tr>\n",
       "      <th>2002</th>\n",
       "      <td> 0</td>\n",
       "      <td>  0</td>\n",
       "      <td>  1</td>\n",
       "      <td>  0</td>\n",
       "      <td>  0</td>\n",
       "      <td>  2</td>\n",
       "      <td> 0</td>\n",
       "      <td> 0</td>\n",
       "      <td> 0</td>\n",
       "      <td> 0</td>\n",
       "      <td>   3</td>\n",
       "      <td> 0</td>\n",
       "      <td> 8.558333</td>\n",
       "    </tr>\n",
       "    <tr>\n",
       "      <th>2003</th>\n",
       "      <td> 0</td>\n",
       "      <td>  0</td>\n",
       "      <td>  0</td>\n",
       "      <td>  1</td>\n",
       "      <td>  2</td>\n",
       "      <td>  1</td>\n",
       "      <td> 0</td>\n",
       "      <td> 0</td>\n",
       "      <td> 0</td>\n",
       "      <td> 0</td>\n",
       "      <td>   4</td>\n",
       "      <td> 0</td>\n",
       "      <td> 6.985750</td>\n",
       "    </tr>\n",
       "    <tr>\n",
       "      <th>2004</th>\n",
       "      <td> 0</td>\n",
       "      <td>  0</td>\n",
       "      <td>  7</td>\n",
       "      <td>  1</td>\n",
       "      <td>  5</td>\n",
       "      <td>  2</td>\n",
       "      <td> 0</td>\n",
       "      <td> 0</td>\n",
       "      <td> 0</td>\n",
       "      <td> 0</td>\n",
       "      <td>  15</td>\n",
       "      <td> 0</td>\n",
       "      <td> 5.585533</td>\n",
       "    </tr>\n",
       "    <tr>\n",
       "      <th>2005</th>\n",
       "      <td> 0</td>\n",
       "      <td>  0</td>\n",
       "      <td>  1</td>\n",
       "      <td>  0</td>\n",
       "      <td>  7</td>\n",
       "      <td>  2</td>\n",
       "      <td> 0</td>\n",
       "      <td> 0</td>\n",
       "      <td> 0</td>\n",
       "      <td> 0</td>\n",
       "      <td>  10</td>\n",
       "      <td> 0</td>\n",
       "      <td> 8.576400</td>\n",
       "    </tr>\n",
       "    <tr>\n",
       "      <th>2006</th>\n",
       "      <td> 0</td>\n",
       "      <td>  0</td>\n",
       "      <td>  1</td>\n",
       "      <td>  4</td>\n",
       "      <td> 10</td>\n",
       "      <td>  1</td>\n",
       "      <td> 0</td>\n",
       "      <td> 0</td>\n",
       "      <td> 0</td>\n",
       "      <td> 0</td>\n",
       "      <td>  16</td>\n",
       "      <td> 0</td>\n",
       "      <td> 6.382500</td>\n",
       "    </tr>\n",
       "    <tr>\n",
       "      <th>2007</th>\n",
       "      <td> 0</td>\n",
       "      <td>  0</td>\n",
       "      <td>  1</td>\n",
       "      <td>  5</td>\n",
       "      <td>  9</td>\n",
       "      <td>  3</td>\n",
       "      <td> 0</td>\n",
       "      <td> 0</td>\n",
       "      <td> 2</td>\n",
       "      <td> 0</td>\n",
       "      <td>  20</td>\n",
       "      <td> 0</td>\n",
       "      <td> 7.055833</td>\n",
       "    </tr>\n",
       "    <tr>\n",
       "      <th>2008</th>\n",
       "      <td> 0</td>\n",
       "      <td>  3</td>\n",
       "      <td>  2</td>\n",
       "      <td>  9</td>\n",
       "      <td>  8</td>\n",
       "      <td>  2</td>\n",
       "      <td> 1</td>\n",
       "      <td> 0</td>\n",
       "      <td> 1</td>\n",
       "      <td> 0</td>\n",
       "      <td>  26</td>\n",
       "      <td> 0</td>\n",
       "      <td> 5.278500</td>\n",
       "    </tr>\n",
       "    <tr>\n",
       "      <th>2009</th>\n",
       "      <td> 0</td>\n",
       "      <td>  2</td>\n",
       "      <td>  1</td>\n",
       "      <td> 10</td>\n",
       "      <td> 10</td>\n",
       "      <td>  1</td>\n",
       "      <td> 3</td>\n",
       "      <td> 0</td>\n",
       "      <td> 0</td>\n",
       "      <td> 0</td>\n",
       "      <td>  27</td>\n",
       "      <td> 0</td>\n",
       "      <td> 5.388708</td>\n",
       "    </tr>\n",
       "    <tr>\n",
       "      <th>2010</th>\n",
       "      <td> 0</td>\n",
       "      <td>  4</td>\n",
       "      <td> 13</td>\n",
       "      <td> 23</td>\n",
       "      <td> 57</td>\n",
       "      <td> 13</td>\n",
       "      <td> 0</td>\n",
       "      <td> 1</td>\n",
       "      <td> 1</td>\n",
       "      <td> 0</td>\n",
       "      <td> 112</td>\n",
       "      <td> 0</td>\n",
       "      <td> 6.578082</td>\n",
       "    </tr>\n",
       "    <tr>\n",
       "      <th>2011</th>\n",
       "      <td> 0</td>\n",
       "      <td>  3</td>\n",
       "      <td> 15</td>\n",
       "      <td> 26</td>\n",
       "      <td> 77</td>\n",
       "      <td> 18</td>\n",
       "      <td> 4</td>\n",
       "      <td> 6</td>\n",
       "      <td> 4</td>\n",
       "      <td> 0</td>\n",
       "      <td> 153</td>\n",
       "      <td> 0</td>\n",
       "      <td> 6.728568</td>\n",
       "    </tr>\n",
       "    <tr>\n",
       "      <th>2012</th>\n",
       "      <td> 0</td>\n",
       "      <td> 50</td>\n",
       "      <td>  8</td>\n",
       "      <td>  4</td>\n",
       "      <td> 11</td>\n",
       "      <td>  0</td>\n",
       "      <td> 0</td>\n",
       "      <td> 0</td>\n",
       "      <td> 0</td>\n",
       "      <td> 0</td>\n",
       "      <td>  73</td>\n",
       "      <td> 0</td>\n",
       "      <td> 2.736918</td>\n",
       "    </tr>\n",
       "    <tr>\n",
       "      <th>post-2012</th>\n",
       "      <td> 0</td>\n",
       "      <td>  0</td>\n",
       "      <td>  0</td>\n",
       "      <td>  0</td>\n",
       "      <td>  0</td>\n",
       "      <td>  0</td>\n",
       "      <td> 0</td>\n",
       "      <td> 0</td>\n",
       "      <td> 0</td>\n",
       "      <td> 0</td>\n",
       "      <td>   0</td>\n",
       "      <td> 0</td>\n",
       "      <td>      NaN</td>\n",
       "    </tr>\n",
       "  </tbody>\n",
       "</table>\n",
       "</div>"
      ],
      "text/plain": [
       "           0-1 kW  1-2 kW  2-3 kW  3-5 kW  5-10 kW  10-20 kW  20-50 kW  \\\n",
       "pre-2001        0       0       0       0        0         0         0   \n",
       "2001            0       0       0       0        2         0         0   \n",
       "2002            0       0       1       0        0         2         0   \n",
       "2003            0       0       0       1        2         1         0   \n",
       "2004            0       0       7       1        5         2         0   \n",
       "2005            0       0       1       0        7         2         0   \n",
       "2006            0       0       1       4       10         1         0   \n",
       "2007            0       0       1       5        9         3         0   \n",
       "2008            0       3       2       9        8         2         1   \n",
       "2009            0       2       1      10       10         1         3   \n",
       "2010            0       4      13      23       57        13         0   \n",
       "2011            0       3      15      26       77        18         4   \n",
       "2012            0      50       8       4       11         0         0   \n",
       "post-2012       0       0       0       0        0         0         0   \n",
       "\n",
       "           50-100 kW  >100 kW  unknown  sum  total size  average size*  \n",
       "pre-2001           0        0        0    0           0            NaN  \n",
       "2001               0        0        0    2           0       5.349000  \n",
       "2002               0        0        0    3           0       8.558333  \n",
       "2003               0        0        0    4           0       6.985750  \n",
       "2004               0        0        0   15           0       5.585533  \n",
       "2005               0        0        0   10           0       8.576400  \n",
       "2006               0        0        0   16           0       6.382500  \n",
       "2007               0        2        0   20           0       7.055833  \n",
       "2008               0        1        0   26           0       5.278500  \n",
       "2009               0        0        0   27           0       5.388708  \n",
       "2010               1        1        0  112           0       6.578082  \n",
       "2011               6        4        0  153           0       6.728568  \n",
       "2012               0        0        0   73           0       2.736918  \n",
       "post-2012          0        0        0    0           0            NaN  "
      ]
     },
     "execution_count": 6,
     "metadata": {},
     "output_type": "execute_result"
    }
   ],
   "source": [
    "yearlist = ['pre-2001','2001','2002','2003','2004','2005','2006','2007','2008','2009','2010','2011','2012','post-2012']\n",
    "sizelist = ['0-1 kW','1-2 kW','2-3 kW','3-5 kW', '5-10 kW', '10-20 kW', '20-50 kW', '50-100 kW','>100 kW','unknown','sum']\n",
    "OpenPVSummary = pd.DataFrame(0, index = yearlist, columns = sizelist+['total size','average size*'])\n",
    "\n",
    "#define quick function to add data\n",
    "def add_data(OpenPVSummary, d, i):\n",
    "    OpenPVSummary['0-1 kW'].iloc[i] = d[d['Size (kW DC)']<1].shape[0]\n",
    "    OpenPVSummary['1-2 kW'].iloc[i] = d[(d['Size (kW DC)']>1)&(d['Size (kW DC)']<=2)].shape[0]\n",
    "    OpenPVSummary['2-3 kW'].iloc[i] = d[(d['Size (kW DC)']>2)&(d['Size (kW DC)']<=3)].shape[0]\n",
    "    OpenPVSummary['3-5 kW'].iloc[i] = d[(d['Size (kW DC)']>3)&(d['Size (kW DC)']<=5)].shape[0]\n",
    "    OpenPVSummary['5-10 kW'].iloc[i] = d[(d['Size (kW DC)']>5)&(d['Size (kW DC)']<=10)].shape[0]\n",
    "    OpenPVSummary['10-20 kW'].iloc[i] = d[(d['Size (kW DC)']>10)&(d['Size (kW DC)']<=20)].shape[0]\n",
    "    OpenPVSummary['20-50 kW'].iloc[i] = d[(d['Size (kW DC)']>20)&(d['Size (kW DC)']<=50)].shape[0]\n",
    "    OpenPVSummary['50-100 kW'].iloc[i] = d[(d['Size (kW DC)']>50)&(d['Size (kW DC)']<=100)].shape[0]\n",
    "    OpenPVSummary['>100 kW'].iloc[i] = d[d['Size (kW DC)']>100].shape[0]\n",
    "    OpenPVSummary['unknown'].iloc[i] = d[pd.isnull(d['Size (kW DC)'])].shape[0]\n",
    "    OpenPVSummary['sum'].iloc[i] = d.shape[0]\n",
    "    OpenPVSummary['average size*'].iloc[i] = np.mean(d[d['Size (kW DC)']<=20]['Size (kW DC)'])\n",
    "    return OpenPVSummary;\n",
    "\n",
    "d = openpvdata[openpvdata.date.map(lambda x: (x <= '2001-01-01'))]\n",
    "OpenPVSummary = add_data(OpenPVSummary, d, 0)\n",
    "for i in range(1,13):\n",
    "    d = openpvdata[openpvdata.date.map(lambda x: (x > str(2000+i) +'-01-01')&(x <= str(2001+i) +'-01-01'))]\n",
    "    OpenPVSummary = add_data(OpenPVSummary, d, i)\n",
    "d = openpvdata[openpvdata.date.map(lambda x: (x > '2013-01-01'))]\n",
    "OpenPVSummary = add_data(OpenPVSummary, d, 13)\n",
    "\n",
    "OpenPVSummary"
   ]
  },
  {
   "cell_type": "markdown",
   "metadata": {},
   "source": [
    "It is interesting to see what is the \"average\" size of components in 5-10 kW bin and 10-20 kW bin through out the whole data set in 92562."
   ]
  },
  {
   "cell_type": "code",
   "execution_count": 7,
   "metadata": {
    "collapsed": false
   },
   "outputs": [
    {
     "data": {
      "text/plain": [
       "(array([ 17.,  24.,  36.,  33.,  17.,  12.,  24.,  11.,  12.,  12.]),\n",
       " array([ 5.  ,  5.49,  5.98,  6.47,  6.96,  7.45,  7.94,  8.43,  8.92,\n",
       "         9.41,  9.9 ]),\n",
       " <a list of 10 Patch objects>)"
      ]
     },
     "execution_count": 7,
     "metadata": {},
     "output_type": "execute_result"
    },
    {
     "data": {
      "image/png": "[encoded data removed]",
      "text/plain": [
       "<matplotlib.figure.Figure at 0x16208780>"
      ]
     },
     "metadata": {},
     "output_type": "display_data"
    }
   ],
   "source": [
    "plt.hist(list(openpvdata['Size (kW DC)'][(openpvdata['Size (kW DC)']>=5)&(openpvdata['Size (kW DC)']<10)]))"
   ]
  },
  {
   "cell_type": "code",
   "execution_count": 8,
   "metadata": {
    "collapsed": false
   },
   "outputs": [
    {
     "data": {
      "text/plain": [
       "7.0749090909090917"
      ]
     },
     "execution_count": 8,
     "metadata": {},
     "output_type": "execute_result"
    }
   ],
   "source": [
    "openpvdata['Size (kW DC)'][(openpvdata['Size (kW DC)']>=5)&(openpvdata['Size (kW DC)']<10)].mean()"
   ]
  },
  {
   "cell_type": "code",
   "execution_count": 9,
   "metadata": {
    "collapsed": false
   },
   "outputs": [
    {
     "data": {
      "text/plain": [
       "(array([  8.,  10.,   8.,   5.,   2.,   2.,   4.,   1.,   2.,   4.]),\n",
       " array([ 10.   ,  10.974,  11.948,  12.922,  13.896,  14.87 ,  15.844,\n",
       "         16.818,  17.792,  18.766,  19.74 ]),\n",
       " <a list of 10 Patch objects>)"
      ]
     },
     "execution_count": 9,
     "metadata": {},
     "output_type": "execute_result"
    },
    {
     "data": {
      "image/png": "[encoded data removed]",
      "text/plain": [
       "<matplotlib.figure.Figure at 0x16208518>"
      ]
     },
     "metadata": {},
     "output_type": "display_data"
    }
   ],
   "source": [
    "plt.hist(list(openpvdata['Size (kW DC)'][(openpvdata['Size (kW DC)']>=10)&(openpvdata['Size (kW DC)']<20)]))"
   ]
  },
  {
   "cell_type": "code",
   "execution_count": 10,
   "metadata": {
    "collapsed": false
   },
   "outputs": [
    {
     "data": {
      "text/plain": [
       "13.454152173913043"
      ]
     },
     "execution_count": 10,
     "metadata": {},
     "output_type": "execute_result"
    }
   ],
   "source": [
    "openpvdata['Size (kW DC)'][(openpvdata['Size (kW DC)']>=10)&(openpvdata['Size (kW DC)']<20)].mean()"
   ]
  },
  {
   "cell_type": "markdown",
   "metadata": {},
   "source": [
    "This might or might not applicable to our data since we have different zip codes, different time of installation/first monitoring time, and different methods of sampling. However, the midpoints of each bin has no guarantee to be a proper representative of the bin either. Hence, let's use mean from this data as a representative of the bin. "
   ]
  },
  {
   "cell_type": "markdown",
   "metadata": {},
   "source": [
    "For 08641, we use Open PV data for New Jersey with size less than 20 kW to calculate a representative for each bin. We select only components installed since 2008 to calculate the representative to avoid long-term change."
   ]
  },
  {
   "cell_type": "code",
   "execution_count": 4,
   "metadata": {
    "collapsed": false
   },
   "outputs": [
    {
     "data": {
      "text/plain": [
       "['2008-01-16', '2014-06-18', 6404]"
      ]
     },
     "execution_count": 4,
     "metadata": {},
     "output_type": "execute_result"
    }
   ],
   "source": [
    "openpvdata = pd.read_csv(mainDir+ '/data/' + 'OpenPV' +'/' + 'NJ_openpv_cap20_since2008.csv')\n",
    "openpvdata['date'] = openpvdata['Date Installed'].map(lambda x: datetime.datetime.strptime(x,\"%m/%d/%Y\"))\n",
    "openpvdata.date = openpvdata.date.map(lambda x: datetime.datetime.strftime(x,\"%Y-%m-%d\"))\n",
    "[np.min(openpvdata.date), np.max(openpvdata.date),openpvdata.shape[0]]"
   ]
  },
  {
   "cell_type": "code",
   "execution_count": 7,
   "metadata": {
    "collapsed": false
   },
   "outputs": [
    {
     "data": {
      "text/plain": [
       "<matplotlib.text.Text at 0x191bb518>"
      ]
     },
     "execution_count": 7,
     "metadata": {},
     "output_type": "execute_result"
    },
    {
     "data": {
      "image/png": "[encoded data removed]",
      "text/plain": [
       "<matplotlib.figure.Figure at 0x1906c6d8>"
      ]
     },
     "metadata": {},
     "output_type": "display_data"
    }
   ],
   "source": [
    "#for the conference paper\n",
    "fig = plt.figure(figsize=(10, 6))\n",
    "plt.hist(list(openpvdata['Size (kW DC)']))\n",
    "plt.xlabel('installation size (kW)')\n",
    "plt.ylabel('number of systems')\n",
    "#plt.title(\"Histogram of component's size of in NJ 2008-2015\")"
   ]
  },
  {
   "cell_type": "code",
   "execution_count": 17,
   "metadata": {
    "collapsed": false
   },
   "outputs": [
    {
     "data": {
      "text/plain": [
       "6"
      ]
     },
     "execution_count": 17,
     "metadata": {},
     "output_type": "execute_result"
    }
   ],
   "source": [
    "openpvdata['Size (kW DC)'][(openpvdata['Size (kW DC)']<1)].shape[0]"
   ]
  },
  {
   "cell_type": "code",
   "execution_count": 13,
   "metadata": {
    "collapsed": false
   },
   "outputs": [
    {
     "data": {
      "text/plain": [
       "[0.60000000000000009,\n",
       " 1.5531428571428569,\n",
       " 2.5209606741573034,\n",
       " 4.1015736906211933,\n",
       " 7.487476098503139,\n",
       " 12.943637931034482]"
      ]
     },
     "execution_count": 13,
     "metadata": {},
     "output_type": "execute_result"
    }
   ],
   "source": [
    "[openpvdata['Size (kW DC)'][(openpvdata['Size (kW DC)']<1)].mean(),\n",
    " openpvdata['Size (kW DC)'][(openpvdata['Size (kW DC)']>=1)&(openpvdata['Size (kW DC)']<2)].mean(),\n",
    " openpvdata['Size (kW DC)'][(openpvdata['Size (kW DC)']>=2)&(openpvdata['Size (kW DC)']<3)].mean(),\n",
    " openpvdata['Size (kW DC)'][(openpvdata['Size (kW DC)']>=3)&(openpvdata['Size (kW DC)']<5)].mean(),\n",
    " openpvdata['Size (kW DC)'][(openpvdata['Size (kW DC)']>=5)&(openpvdata['Size (kW DC)']<10)].mean(),\n",
    " openpvdata['Size (kW DC)'][(openpvdata['Size (kW DC)']>=10)&(openpvdata['Size (kW DC)']<20)].mean()]"
   ]
  },
  {
   "cell_type": "markdown",
   "metadata": {},
   "source": [
    "For 92562, we may use Open PV data for 92562 with size less than 20 kW to calculate a representative for each bin. However, to be consistent, we use Open data for whole California instead. We select only components installed since 2008 to calculate the representative to avoid long-term change."
   ]
  },
  {
   "cell_type": "code",
   "execution_count": 8,
   "metadata": {
    "collapsed": false
   },
   "outputs": [
    {
     "data": {
      "text/plain": [
       "['2008-01-02', '2015-01-29', 95101]"
      ]
     },
     "execution_count": 8,
     "metadata": {},
     "output_type": "execute_result"
    }
   ],
   "source": [
    "openpvdata = pd.read_csv(mainDir+ '/data/' + 'OpenPV' +'/' + 'CA_openpv_cap20_since2008.csv')\n",
    "openpvdata['date'] = openpvdata['Date Installed'].map(lambda x: datetime.datetime.strptime(x,\"%m/%d/%Y\"))\n",
    "openpvdata.date = openpvdata.date.map(lambda x: datetime.datetime.strftime(x,\"%Y-%m-%d\"))\n",
    "[np.min(openpvdata.date), np.max(openpvdata.date),openpvdata.shape[0]]"
   ]
  },
  {
   "cell_type": "code",
   "execution_count": 10,
   "metadata": {
    "collapsed": false
   },
   "outputs": [
    {
     "data": {
      "text/plain": [
       "<matplotlib.text.Text at 0x1a2ab5f8>"
      ]
     },
     "execution_count": 10,
     "metadata": {},
     "output_type": "execute_result"
    },
    {
     "data": {
      "image/png": "[encoded data removed]",
      "text/plain": [
       "<matplotlib.figure.Figure at 0x1b4e7400>"
      ]
     },
     "metadata": {},
     "output_type": "display_data"
    }
   ],
   "source": [
    "#for the conference paper\n",
    "fig = plt.figure(figsize=(10, 6))\n",
    "plt.hist(list(openpvdata['Size (kW DC)']))\n",
    "plt.xlabel('installation size (kW)')\n",
    "plt.ylabel('number of systems')\n",
    "#plt.title(\"Histogram of component's size of in CA 2008-2015\")"
   ]
  },
  {
   "cell_type": "code",
   "execution_count": 15,
   "metadata": {
    "collapsed": false
   },
   "outputs": [
    {
     "data": {
      "text/plain": [
       "[0.6366666666666666,\n",
       " 1.5599424405242481,\n",
       " 2.4851360650682972,\n",
       " 3.9649782737139554,\n",
       " 6.7641328892898853,\n",
       " 12.809405655777667]"
      ]
     },
     "execution_count": 15,
     "metadata": {},
     "output_type": "execute_result"
    }
   ],
   "source": [
    "[openpvdata['Size (kW DC)'][(openpvdata['Size (kW DC)']<1)].mean(),\n",
    " openpvdata['Size (kW DC)'][(openpvdata['Size (kW DC)']>=1)&(openpvdata['Size (kW DC)']<2)].mean(),\n",
    " openpvdata['Size (kW DC)'][(openpvdata['Size (kW DC)']>=2)&(openpvdata['Size (kW DC)']<3)].mean(),\n",
    " openpvdata['Size (kW DC)'][(openpvdata['Size (kW DC)']>=3)&(openpvdata['Size (kW DC)']<5)].mean(),\n",
    " openpvdata['Size (kW DC)'][(openpvdata['Size (kW DC)']>=5)&(openpvdata['Size (kW DC)']<10)].mean(),\n",
    " openpvdata['Size (kW DC)'][(openpvdata['Size (kW DC)']>=10)&(openpvdata['Size (kW DC)']<20)].mean()]"
   ]
  }
 ],
 "metadata": {
  "kernelspec": {
   "display_name": "Python 2",
   "language": "python",
   "name": "python2"
  },
  "language_info": {
   "codemirror_mode": {
    "name": "ipython",
    "version": 2
   },
   "file_extension": ".py",
   "mimetype": "text/x-python",
   "name": "python",
   "nbconvert_exporter": "python",
   "pygments_lexer": "ipython2",
   "version": "2.7.8"
  }
 },
 "nbformat": 4,
 "nbformat_minor": 0
}
