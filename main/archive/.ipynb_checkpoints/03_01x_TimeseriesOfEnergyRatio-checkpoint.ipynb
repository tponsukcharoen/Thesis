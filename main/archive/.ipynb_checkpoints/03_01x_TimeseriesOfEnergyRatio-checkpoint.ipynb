{
 "metadata": {
  "name": "",
  "signature": "sha256:7e286607af4c9fd05b0537cf7c3ffda3781eb202b6d970bf9ad1b90f41b844a8"
 },
 "nbformat": 3,
 "nbformat_minor": 0,
 "worksheets": [
  {
   "cells": [
    {
     "cell_type": "code",
     "collapsed": false,
     "input": [
      "import pandas as pd\n",
      "import numpy as np\n",
      "import matplotlib.pyplot as plt\n",
      "import datetime\n",
      "import pytz\n",
      "import os\n",
      "import patsy #for spline regression\n",
      "import scipy #for non-negative least square \n",
      "import scipy as sp \n",
      "from scipy import stats\n",
      "from scipy.optimize import nnls\n",
      "from numpy.linalg import inv #for matrix and statistics\n",
      "import scipy as sp\n",
      "import math\n",
      "import statsmodels.api as sm\n",
      "from sklearn.cluster import AgglomerativeClustering\n",
      "from sklearn.cluster import KMeans\n",
      "import sklearn.cluster\n",
      "import sklearn.linear_model\n",
      "%matplotlib inline"
     ],
     "language": "python",
     "metadata": {},
     "outputs": [],
     "prompt_number": 335
    },
    {
     "cell_type": "code",
     "collapsed": false,
     "input": [
      "#specify data source \n",
      "datasource = 'LocusEnergy'"
     ],
     "language": "python",
     "metadata": {},
     "outputs": [],
     "prompt_number": 336
    },
    {
     "cell_type": "code",
     "collapsed": false,
     "input": [
      "zipcode = '08641'"
     ],
     "language": "python",
     "metadata": {},
     "outputs": [],
     "prompt_number": 337
    },
    {
     "cell_type": "code",
     "collapsed": false,
     "input": [
      "#mainDir = 'C:/Users/umnouyp/Dropbox/Active/EnergyProject/Thesis/PVreadingsStudies/main'\n",
      "#mainDir = 'C:/Users/Tee/Dropbox/Active/EnergyProject/Thesis/PVreadingsStudies/main'\n",
      "mainDir = 'C:\\Users\\Admin\\Dropbox\\Active\\EnergyProject\\Thesis\\PVreadingsStudies\\main'\n",
      "#we can choose which data to look at.\n",
      "dataDir = mainDir + '/data/' + datasource +'/' + zipcode +'/'\n",
      "outputDir = mainDir + '/output/'+ datasource +'/' + zipcode +'/'"
     ],
     "language": "python",
     "metadata": {},
     "outputs": [],
     "prompt_number": 338
    },
    {
     "cell_type": "code",
     "collapsed": false,
     "input": [
      "data = pd.read_csv(dataDir +'/training_data_fitted.csv')\n",
      "data['tsLocal'] = data['tsLocal'].map(lambda x: datetime.datetime.strptime(x,\"%Y-%m-%d %H:%M:%S\"))\n",
      "\n",
      "dsummary = pd.read_csv(outputDir+\"/fitsummary.csv\")\n",
      "dsummary.Date = dsummary.Date.map(lambda x: datetime.datetime.strptime(x,\"%Y-%m-%d\").date())\n",
      "FullModelCoef = pd.read_csv(outputDir+\"/FullModelCoef.csv\")"
     ],
     "language": "python",
     "metadata": {},
     "outputs": [],
     "prompt_number": 339
    },
    {
     "cell_type": "code",
     "collapsed": false,
     "input": [
      "dsummary[:1]"
     ],
     "language": "python",
     "metadata": {},
     "outputs": [
      {
       "html": [
        "<div style=\"max-height:1000px;max-width:1500px;overflow:auto;\">\n",
        "<table border=\"1\" class=\"dataframe\">\n",
        "  <thead>\n",
        "    <tr style=\"text-align: right;\">\n",
        "      <th></th>\n",
        "      <th>E</th>\n",
        "      <th>Rsq</th>\n",
        "      <th>c0</th>\n",
        "      <th>c1</th>\n",
        "      <th>c2</th>\n",
        "      <th>c3</th>\n",
        "      <th>c4</th>\n",
        "      <th>c5</th>\n",
        "      <th>c6</th>\n",
        "      <th>c7</th>\n",
        "      <th>c8</th>\n",
        "      <th>c9</th>\n",
        "      <th>c10</th>\n",
        "      <th>Date</th>\n",
        "      <th>DBW</th>\n",
        "      <th>singlemax</th>\n",
        "      <th>PeakCheck</th>\n",
        "      <th>FirstCheck</th>\n",
        "      <th>SecondCheck</th>\n",
        "      <th>mE</th>\n",
        "    </tr>\n",
        "  </thead>\n",
        "  <tbody>\n",
        "    <tr>\n",
        "      <th>0</th>\n",
        "      <td>NaN</td>\n",
        "      <td>NaN</td>\n",
        "      <td>NaN</td>\n",
        "      <td>NaN</td>\n",
        "      <td>NaN</td>\n",
        "      <td>NaN</td>\n",
        "      <td>NaN</td>\n",
        "      <td>NaN</td>\n",
        "      <td>NaN</td>\n",
        "      <td>NaN</td>\n",
        "      <td>NaN</td>\n",
        "      <td>NaN</td>\n",
        "      <td>NaN</td>\n",
        "      <td> 2013-01-01</td>\n",
        "      <td>-355</td>\n",
        "      <td>NaN</td>\n",
        "      <td> False</td>\n",
        "      <td> False</td>\n",
        "      <td> False</td>\n",
        "      <td> 5.070652</td>\n",
        "    </tr>\n",
        "  </tbody>\n",
        "</table>\n",
        "</div>"
       ],
       "metadata": {},
       "output_type": "pyout",
       "prompt_number": 340,
       "text": [
        "    E  Rsq  c0  c1  c2  c3  c4  c5  c6  c7  c8  c9  c10        Date  DBW  \\\n",
        "0 NaN  NaN NaN NaN NaN NaN NaN NaN NaN NaN NaN NaN  NaN  2013-01-01 -355   \n",
        "\n",
        "   singlemax PeakCheck FirstCheck SecondCheck        mE  \n",
        "0        NaN     False      False       False  5.070652  "
       ]
      }
     ],
     "prompt_number": 340
    },
    {
     "cell_type": "code",
     "collapsed": false,
     "input": [
      "FullModelCoef[:1]"
     ],
     "language": "python",
     "metadata": {},
     "outputs": [
      {
       "html": [
        "<div style=\"max-height:1000px;max-width:1500px;overflow:auto;\">\n",
        "<table border=\"1\" class=\"dataframe\">\n",
        "  <thead>\n",
        "    <tr style=\"text-align: right;\">\n",
        "      <th></th>\n",
        "      <th>DBW</th>\n",
        "      <th>c1</th>\n",
        "      <th>c2</th>\n",
        "      <th>c3</th>\n",
        "      <th>c4</th>\n",
        "      <th>c5</th>\n",
        "      <th>c6</th>\n",
        "      <th>c7</th>\n",
        "      <th>c8</th>\n",
        "      <th>c9</th>\n",
        "      <th>c0</th>\n",
        "      <th>c10</th>\n",
        "    </tr>\n",
        "  </thead>\n",
        "  <tbody>\n",
        "    <tr>\n",
        "      <th>0</th>\n",
        "      <td> 0</td>\n",
        "      <td> 0.435674</td>\n",
        "      <td> 0.52322</td>\n",
        "      <td> 0.750568</td>\n",
        "      <td> 0.761555</td>\n",
        "      <td> 0.794036</td>\n",
        "      <td> 0.838259</td>\n",
        "      <td> 0.83471</td>\n",
        "      <td> 0.657754</td>\n",
        "      <td> 0.646756</td>\n",
        "      <td> 0.156387</td>\n",
        "      <td> 0.156051</td>\n",
        "    </tr>\n",
        "  </tbody>\n",
        "</table>\n",
        "</div>"
       ],
       "metadata": {},
       "output_type": "pyout",
       "prompt_number": 341,
       "text": [
        "   DBW        c1       c2        c3        c4        c5        c6       c7  \\\n",
        "0    0  0.435674  0.52322  0.750568  0.761555  0.794036  0.838259  0.83471   \n",
        "\n",
        "         c8        c9        c0       c10  \n",
        "0  0.657754  0.646756  0.156387  0.156051  "
       ]
      }
     ],
     "prompt_number": 341
    },
    {
     "cell_type": "markdown",
     "metadata": {},
     "source": [
      "Here we define power ratio for each power reading. We add 0.1 to avoid infinity."
     ]
    },
    {
     "cell_type": "code",
     "collapsed": false,
     "input": [
      "shift = 0.01\n",
      "data['pratio'] = (data.power+shift)/(data.mpower+shift)"
     ],
     "language": "python",
     "metadata": {},
     "outputs": [],
     "prompt_number": 342
    },
    {
     "cell_type": "code",
     "collapsed": false,
     "input": [
      "data[:1]"
     ],
     "language": "python",
     "metadata": {},
     "outputs": [
      {
       "html": [
        "<div style=\"max-height:1000px;max-width:1500px;overflow:auto;\">\n",
        "<table border=\"1\" class=\"dataframe\">\n",
        "  <thead>\n",
        "    <tr style=\"text-align: right;\">\n",
        "      <th></th>\n",
        "      <th>tsLocal</th>\n",
        "      <th>altitude</th>\n",
        "      <th>azimuth</th>\n",
        "      <th>power</th>\n",
        "      <th>numactivecomp</th>\n",
        "      <th>totalsize</th>\n",
        "      <th>s</th>\n",
        "      <th>DBW</th>\n",
        "      <th>mpower</th>\n",
        "      <th>pratio</th>\n",
        "    </tr>\n",
        "  </thead>\n",
        "  <tbody>\n",
        "    <tr>\n",
        "      <th>0</th>\n",
        "      <td>2013-01-01 07:30:00</td>\n",
        "      <td> 1.11014</td>\n",
        "      <td>-301.362934</td>\n",
        "      <td>NaN</td>\n",
        "      <td> 5</td>\n",
        "      <td> 64.71819</td>\n",
        "      <td>-0.999743</td>\n",
        "      <td>-355</td>\n",
        "      <td> 0.154078</td>\n",
        "      <td>NaN</td>\n",
        "    </tr>\n",
        "  </tbody>\n",
        "</table>\n",
        "</div>"
       ],
       "metadata": {},
       "output_type": "pyout",
       "prompt_number": 343,
       "text": [
        "              tsLocal  altitude     azimuth  power  numactivecomp  totalsize  \\\n",
        "0 2013-01-01 07:30:00   1.11014 -301.362934    NaN              5   64.71819   \n",
        "\n",
        "          s  DBW    mpower  pratio  \n",
        "0 -0.999743 -355  0.154078     NaN  "
       ]
      }
     ],
     "prompt_number": 343
    },
    {
     "cell_type": "heading",
     "level": 1,
     "metadata": {},
     "source": [
      "Basic time series"
     ]
    },
    {
     "cell_type": "code",
     "collapsed": false,
     "input": [
      "d = data\n",
      "d['StepOfDay'] = float('NaN')"
     ],
     "language": "python",
     "metadata": {},
     "outputs": [],
     "prompt_number": 344
    },
    {
     "cell_type": "code",
     "collapsed": false,
     "input": [
      "for DateOfInterest in list(dsummary.Date):\n",
      "    bool_list = d.tsLocal.map(lambda x: x.date() == DateOfInterest)\n",
      "    indexlist = [i for i, elem in enumerate(bool_list) if elem]\n",
      "    d['StepOfDay'].loc[indexlist] = range(0,sum(bool_list))"
     ],
     "language": "python",
     "metadata": {},
     "outputs": [],
     "prompt_number": 345
    },
    {
     "cell_type": "code",
     "collapsed": false,
     "input": [
      "d['pratio-1'] = float('NaN')\n",
      "d['pratio-2'] = float('NaN')\n",
      "d['pratio-3'] = float('NaN')\n",
      "d['pratio-4'] = float('NaN')\n",
      "d['pratio-5'] = float('NaN')\n",
      "d['pratio-6'] = float('NaN')\n",
      "d['pratio-1'].iloc[1:d.shape[0]] = list(d['pratio'].iloc[0:(d.shape[0]-1)])\n",
      "d['pratio-2'].iloc[2:d.shape[0]] = list(d['pratio'].iloc[0:(d.shape[0]-2)])\n",
      "d['pratio-3'].iloc[3:d.shape[0]] = list(d['pratio'].iloc[0:(d.shape[0]-3)])\n",
      "d['pratio-4'].iloc[4:d.shape[0]] = list(d['pratio'].iloc[0:(d.shape[0]-4)])\n",
      "d['pratio-5'].iloc[5:d.shape[0]] = list(d['pratio'].iloc[0:(d.shape[0]-5)])\n",
      "d['pratio-6'].iloc[6:d.shape[0]] = list(d['pratio'].iloc[0:(d.shape[0]-6)])\n",
      "d['pratio_y-0'] = float('NaN')\n",
      "d['pratio_y-1'] = float('NaN')\n",
      "d['pratio_y-2'] = float('NaN')\n",
      "for i in range(d.shape[0]):\n",
      "    if any(d.tsLocal == d.iloc[i].tsLocal-datetime.timedelta(days=1)):\n",
      "        l = d[d.tsLocal == d.iloc[i].tsLocal-datetime.timedelta(days=1)]\n",
      "        d['pratio_y-0'].iloc[i] = float(l.pratio)\n",
      "        d['pratio_y-1'].iloc[i] = float(l['pratio-1'])\n",
      "        d['pratio_y-2'].iloc[i] = float(l['pratio-2'])\n"
     ],
     "language": "python",
     "metadata": {},
     "outputs": [],
     "prompt_number": 346
    },
    {
     "cell_type": "code",
     "collapsed": false,
     "input": [
      "d[:1]"
     ],
     "language": "python",
     "metadata": {},
     "outputs": [
      {
       "html": [
        "<div style=\"max-height:1000px;max-width:1500px;overflow:auto;\">\n",
        "<table border=\"1\" class=\"dataframe\">\n",
        "  <thead>\n",
        "    <tr style=\"text-align: right;\">\n",
        "      <th></th>\n",
        "      <th>tsLocal</th>\n",
        "      <th>altitude</th>\n",
        "      <th>azimuth</th>\n",
        "      <th>power</th>\n",
        "      <th>numactivecomp</th>\n",
        "      <th>totalsize</th>\n",
        "      <th>s</th>\n",
        "      <th>DBW</th>\n",
        "      <th>mpower</th>\n",
        "      <th>pratio</th>\n",
        "      <th>StepOfDay</th>\n",
        "      <th>pratio-1</th>\n",
        "      <th>pratio-2</th>\n",
        "      <th>pratio-3</th>\n",
        "      <th>pratio-4</th>\n",
        "      <th>pratio-5</th>\n",
        "      <th>pratio-6</th>\n",
        "    </tr>\n",
        "  </thead>\n",
        "  <tbody>\n",
        "    <tr>\n",
        "      <th>0</th>\n",
        "      <td>2013-01-01 07:30:00</td>\n",
        "      <td> 1.11014</td>\n",
        "      <td>-301.362934</td>\n",
        "      <td>NaN</td>\n",
        "      <td> 5</td>\n",
        "      <td> 64.71819</td>\n",
        "      <td>-0.999743</td>\n",
        "      <td>-355</td>\n",
        "      <td> 0.154078</td>\n",
        "      <td>NaN</td>\n",
        "      <td> 0</td>\n",
        "      <td>NaN</td>\n",
        "      <td>NaN</td>\n",
        "      <td>NaN</td>\n",
        "      <td>NaN</td>\n",
        "      <td>NaN</td>\n",
        "      <td>NaN</td>\n",
        "    </tr>\n",
        "  </tbody>\n",
        "</table>\n",
        "</div>"
       ],
       "metadata": {},
       "output_type": "pyout",
       "prompt_number": 347,
       "text": [
        "              tsLocal  altitude     azimuth  power  numactivecomp  totalsize  \\\n",
        "0 2013-01-01 07:30:00   1.11014 -301.362934    NaN              5   64.71819   \n",
        "\n",
        "          s  DBW    mpower  pratio  StepOfDay  pratio-1  pratio-2  pratio-3  \\\n",
        "0 -0.999743 -355  0.154078     NaN          0       NaN       NaN       NaN   \n",
        "\n",
        "   pratio-4  pratio-5  pratio-6  \n",
        "0       NaN       NaN       NaN  "
       ]
      }
     ],
     "prompt_number": 347
    },
    {
     "cell_type": "markdown",
     "metadata": {},
     "source": [
      "Here we separate data for training and testing."
     ]
    },
    {
     "cell_type": "code",
     "collapsed": false,
     "input": [
      "#specify scope\n",
      "StartScopeDate = '2013-01-01'\n",
      "EndScopeDate = '2015-01-01'\n",
      "StartScopeTime =  datetime.datetime.strptime(StartScopeDate,\"%Y-%m-%d\")\n",
      "EndScopeTime =  datetime.datetime.strptime(EndScopeDate,\"%Y-%m-%d\")\n",
      "\n",
      "#Generate data frame from start to end for time series\n",
      "tslist = []\n",
      "nxt = StartScopeTime\n",
      "while nxt < EndScopeTime:\n",
      "    tslist.append(nxt)\n",
      "    nxt += datetime.timedelta(minutes=15)\n",
      "    \n",
      "Scope = pd.DataFrame(0, index = np.arange(len(tslist)), columns = ['tsLocal'])\n",
      "Scope['tsLocal'] = tslist\n",
      "\n",
      "#Now we can merge using Scope Table as a backbone of data structure.\n",
      "data_extend = pd.merge(Scope,d,on=['tsLocal'], how = 'left') "
     ],
     "language": "python",
     "metadata": {},
     "outputs": [],
     "prompt_number": 378
    },
    {
     "cell_type": "code",
     "collapsed": false,
     "input": [
      "#select data for training and test\n",
      "StartDate = datetime.date(2014,10,1)\n",
      "TrainData = data_extend[data_extend.tsLocal.map(lambda x: x.date()) <StartDate].set_index('tsLocal')\n",
      "TrainDateList = list(dsummary.Date[dsummary.Date<StartDate])\n",
      "TestData = data_extend[data_extend.tsLocal.map(lambda x: x.date()) >=StartDate].set_index('tsLocal')"
     ],
     "language": "python",
     "metadata": {},
     "outputs": [],
     "prompt_number": 379
    },
    {
     "cell_type": "heading",
     "level": 1,
     "metadata": {},
     "source": [
      "Basic autoregressive linear models"
     ]
    },
    {
     "cell_type": "markdown",
     "metadata": {},
     "source": [
      "Here instead of using grid of s, we would like to use plain linear time series analysis. This should be equivalent to autoregressive (AR) model."
     ]
    },
    {
     "cell_type": "heading",
     "level": 2,
     "metadata": {},
     "source": [
      "Model I: Fixed values for sun rises. AR(1) for the rest."
     ]
    },
    {
     "cell_type": "markdown",
     "metadata": {},
     "source": [
      "First, let's try model I. Fixed values for sun rises. AR(1) for the rest."
     ]
    },
    {
     "cell_type": "code",
     "collapsed": false,
     "input": [
      "#Model I: Fixed values for sun rises. AR(1) for the rest\n",
      "\n",
      "#Model for sun rises. Fixed values\n",
      "y0list = list(TrainData[TrainData.StepOfDay==0].pratio)\n",
      "y0 = np.nanmean(y0list)\n",
      "y0low = np.nanpercentile(y0list,2.5) \n",
      "y0high = np.nanpercentile(y0list,97.5) \n",
      "y0, y0low, y0high"
     ],
     "language": "python",
     "metadata": {},
     "outputs": [
      {
       "metadata": {},
       "output_type": "pyout",
       "prompt_number": 380,
       "text": [
        "(0.83647167449481485, 0.6408190696385061, 1.3996789584513811)"
       ]
      }
     ],
     "prompt_number": 380
    },
    {
     "cell_type": "code",
     "collapsed": false,
     "input": [
      "#model for the all time stamp after sun rise. AR(1)\n",
      "d_series = TrainData[TrainData.StepOfDay>=1][['pratio','pratio-1']].dropna()\n",
      "model = sklearn.linear_model.LinearRegression()\n",
      "y = d_series['pratio']\n",
      "XX = d_series[['pratio-1']]\n",
      "mod1 = model.fit(XX,y)\n",
      "mod1.coef_, mod1.score(XX,y)"
     ],
     "language": "python",
     "metadata": {},
     "outputs": [
      {
       "metadata": {},
       "output_type": "pyout",
       "prompt_number": 381,
       "text": [
        "(array([ 0.93330817]), 0.88029005902551993)"
       ]
      }
     ],
     "prompt_number": 381
    },
    {
     "cell_type": "code",
     "collapsed": false,
     "input": [
      "#apply model\n",
      "TestData['pratio_predict'] = float('NaN')\n",
      "TestData['power_predict'] = float('NaN')\n",
      "\n",
      "TestData['pratio_predict'][TestData.StepOfDay==0] = [y0]*sum(TestData.StepOfDay==0)\n",
      "TestData['pratio_predict'][TestData.StepOfDay>=1] = mod1.predict(TestData[TestData.StepOfDay>=1][['pratio-1']])\n",
      "TestData['power_predict'] = TestData.pratio_predict*(TestData.mpower+shift)-shift"
     ],
     "language": "python",
     "metadata": {},
     "outputs": [],
     "prompt_number": 382
    },
    {
     "cell_type": "code",
     "collapsed": false,
     "input": [
      "#Calculate accuracy of the model. Rsq of pratio, Rsq of power, MAE of power, Max AE of power\n",
      "d_cal = TestData.dropna()\n",
      "pratio_mean = np.mean(d_cal.pratio)\n",
      "power_mean = np.mean(d_cal.power)\n",
      "[1- np.sum((d_cal.pratio-d_cal.pratio_predict)*(d_cal.pratio-d_cal.pratio_predict))/\\\n",
      "np.sum((d_cal.pratio-pratio_mean)*(d_cal.pratio-pratio_mean)),\n",
      "1- np.sum((d_cal.power-d_cal.power_predict)*(d_cal.power-d_cal.power_predict))/\\\n",
      "np.sum((d_cal.power-power_mean)*(d_cal.power-pratio_mean)), \n",
      "np.mean(np.absolute(d_cal.power-d_cal.power_predict)),max(np.absolute(d_cal.power-d_cal.power_predict))]"
     ],
     "language": "python",
     "metadata": {},
     "outputs": [
      {
       "metadata": {},
       "output_type": "pyout",
       "prompt_number": 384,
       "text": [
        "[0.88238680131899072,\n",
        " 0.94196701574715702,\n",
        " 0.032668006216192161,\n",
        " 0.34124952114850482]"
       ]
      }
     ],
     "prompt_number": 384
    },
    {
     "cell_type": "code",
     "collapsed": false,
     "input": [
      "#some visualization\n",
      "days = 3\n",
      "plt.clf()\n",
      "fig = plt.figure(figsize=(12, 6))\n",
      "ax1 = fig.add_subplot(121)\n",
      "ntest = TestData.shape[0]\n",
      "TestData['pratio'].iloc[range(ntest-96*days,ntest)].plot(color='green')\n",
      "TestData['pratio_predict'].iloc[range(ntest-96*days,ntest)].plot(style='.',color='red')\n",
      "ax2 = fig.add_subplot(122)\n",
      "TestData['power'].iloc[range(ntest-96*days,ntest)].plot(color='green')\n",
      "TestData['power_predict'].iloc[range(ntest-96*days,ntest)].plot(color='red')\n",
      "TestData['mpower'].iloc[range(ntest-96*days,ntest)].plot(color='black')\n",
      "(TestData['power_predict']-TestData['power']).iloc[range(ntest-96*days,ntest)].plot(color='blue')"
     ],
     "language": "python",
     "metadata": {},
     "outputs": [
      {
       "metadata": {},
       "output_type": "pyout",
       "prompt_number": 386,
       "text": [
        "<matplotlib.axes._subplots.AxesSubplot at 0x3cf2ffd0>"
       ]
      },
      {
       "metadata": {},
       "output_type": "display_data",
       "text": [
        "<matplotlib.figure.Figure at 0x2bab75f8>"
       ]
      },
      {
       "metadata": {},
       "output_type": "display_data",
       "png": "[encoded data removed]",
       "text": [
        "<matplotlib.figure.Figure at 0x39403eb8>"
       ]
      }
     ],
     "prompt_number": 386
    },
    {
     "cell_type": "heading",
     "level": 2,
     "metadata": {},
     "source": [
      "Model II: Fixed values for sun rises. AR(1) for 1st time. AR(2) for the rest."
     ]
    },
    {
     "cell_type": "code",
     "collapsed": false,
     "input": [
      "#Model for sun rises. Fixed values\n",
      "y0list = list(TrainData[TrainData.StepOfDay==0].pratio)\n",
      "y0 = np.nanmean(y0list)\n",
      "y0low = np.nanpercentile(y0list,2.5) \n",
      "y0high = np.nanpercentile(y0list,97.5) \n",
      "\n",
      "#model for the first time stamp after sun rise. AR(1)\n",
      "d_series = TrainData[TrainData.StepOfDay==1][['pratio','pratio-1']].dropna()\n",
      "y = d_series['pratio']\n",
      "XX = d_series[['pratio-1']]\n",
      "mod1 = sklearn.linear_model.LinearRegression().fit(XX,y)\n",
      "#mod1.coef_, mod1.score(XX,y)\n",
      "\n",
      "#model for the rest. AR(2)\n",
      "d_series = TrainData[TrainData.StepOfDay>1][['pratio','pratio-1','pratio-2']].dropna()\n",
      "y = d_series['pratio']\n",
      "XX = d_series[['pratio-1','pratio-2']]\n",
      "mod2 = sklearn.linear_model.LinearRegression().fit(XX,y)\n",
      "#mod2.coef_, mod2.score(XX,y)"
     ],
     "language": "python",
     "metadata": {},
     "outputs": [],
     "prompt_number": 392
    },
    {
     "cell_type": "code",
     "collapsed": false,
     "input": [
      "#apply model\n",
      "TestData['pratio_predict'] = float('NaN')\n",
      "TestData['power_predict'] = float('NaN')\n",
      "\n",
      "TestData['pratio_predict'][TestData.StepOfDay==0] = [y0]*sum(TestData.StepOfDay==0)\n",
      "TestData['pratio_predict'][TestData.StepOfDay==1] = mod1.predict(TestData[TestData.StepOfDay==1][['pratio-1']])\n",
      "TestData['pratio_predict'][TestData.StepOfDay>1] = mod2.predict(TestData[TestData.StepOfDay>1][['pratio-1','pratio-2']])\n",
      "TestData['power_predict'] = TestData.pratio_predict*(TestData.mpower+shift)-shift"
     ],
     "language": "python",
     "metadata": {},
     "outputs": [],
     "prompt_number": 393
    },
    {
     "cell_type": "code",
     "collapsed": false,
     "input": [
      "#Calculate accuracy of the model. Rsq of pratio, Rsq of power, MAE of power, Max AE of power\n",
      "d_cal = TestData.dropna()\n",
      "pratio_mean = np.mean(d_cal.pratio)\n",
      "power_mean = np.mean(d_cal.power)\n",
      "[1- np.sum((d_cal.pratio-d_cal.pratio_predict)*(d_cal.pratio-d_cal.pratio_predict))/\\\n",
      "np.sum((d_cal.pratio-pratio_mean)*(d_cal.pratio-pratio_mean)),\n",
      "1- np.sum((d_cal.power-d_cal.power_predict)*(d_cal.power-d_cal.power_predict))/\\\n",
      "np.sum((d_cal.power-power_mean)*(d_cal.power-pratio_mean)), \n",
      "np.mean(np.absolute(d_cal.power-d_cal.power_predict)),max(np.absolute(d_cal.power-d_cal.power_predict))]"
     ],
     "language": "python",
     "metadata": {},
     "outputs": [
      {
       "metadata": {},
       "output_type": "pyout",
       "prompt_number": 394,
       "text": [
        "[0.88335436485347607,\n",
        " 0.94211710759968315,\n",
        " 0.032753112747617594,\n",
        " 0.34071540658790611]"
       ]
      }
     ],
     "prompt_number": 394
    },
    {
     "cell_type": "markdown",
     "metadata": {},
     "source": [
      "Model I and II do not perform differently."
     ]
    },
    {
     "cell_type": "heading",
     "level": 2,
     "metadata": {},
     "source": [
      "Model III: Model I and previous 24 hour values"
     ]
    },
    {
     "cell_type": "code",
     "collapsed": false,
     "input": [
      "#model for sun rises (if there is 24 hour info)\n",
      "d_series = TrainData[TrainData.StepOfDay==0][['pratio','pratio_y-0']].dropna()\n",
      "y = d_series['pratio']\n",
      "XX = d_series[['pratio_y-0']]\n",
      "mod0 = sklearn.linear_model.LinearRegression().fit(XX,y)\n",
      "#mod0.coef_, mod0.score(XX,y)\n",
      "\n",
      "#model for the first time stamp after sun rise (if there is 24 hour info ++ available)\n",
      "d_series = TrainData[TrainData.StepOfDay>=1][['pratio','pratio-1','pratio_y-0','pratio_y-1']].dropna()\n",
      "y = d_series['pratio']\n",
      "XX = d_series[['pratio-1','pratio_y-0','pratio_y-1']]\n",
      "mod1 = sklearn.linear_model.LinearRegression().fit(XX,y)\n",
      "#mod1.coef_, mod1.score(XX,y)"
     ],
     "language": "python",
     "metadata": {},
     "outputs": [],
     "prompt_number": 416
    },
    {
     "cell_type": "code",
     "collapsed": false,
     "input": [
      "#apply model\n",
      "TestData['pratio_predict'] = float('NaN')\n",
      "TestData['power_predict'] = float('NaN')\n",
      "\n",
      "bool_list = (TestData['StepOfDay']==0)&(TestData['pratio_y-0'].notnull())\n",
      "TestData['pratio_predict'][bool_list] = mod0.predict(TestData[bool_list][['pratio_y-0']])\n",
      "bool_list = (TestData['StepOfDay']>=1)&(TestData['pratio-1'].notnull())&(TestData['pratio_y-0'].notnull())&(TestData['pratio_y-1'].notnull())\n",
      "TestData['pratio_predict'][bool_list] = mod1.predict(TestData[bool_list][['pratio-1','pratio_y-0','pratio_y-1']])\n",
      "TestData['power_predict'] = TestData.pratio_predict*(TestData.mpower+shift)-shift"
     ],
     "language": "python",
     "metadata": {},
     "outputs": [],
     "prompt_number": 417
    },
    {
     "cell_type": "code",
     "collapsed": false,
     "input": [
      "#Calculate accuracy of the model. Rsq of pratio, Rsq of power, MAE of power, Max AE of power\n",
      "d_cal = TestData.dropna()\n",
      "pratio_mean = np.mean(d_cal.pratio)\n",
      "power_mean = np.mean(d_cal.power)\n",
      "[1- np.sum((d_cal.pratio-d_cal.pratio_predict)*(d_cal.pratio-d_cal.pratio_predict))/\\\n",
      "np.sum((d_cal.pratio-pratio_mean)*(d_cal.pratio-pratio_mean)),\n",
      "1- np.sum((d_cal.power-d_cal.power_predict)*(d_cal.power-d_cal.power_predict))/\\\n",
      "np.sum((d_cal.power-power_mean)*(d_cal.power-pratio_mean)), \n",
      "np.mean(np.absolute(d_cal.power-d_cal.power_predict)),max(np.absolute(d_cal.power-d_cal.power_predict))]"
     ],
     "language": "python",
     "metadata": {},
     "outputs": [
      {
       "metadata": {},
       "output_type": "pyout",
       "prompt_number": 418,
       "text": [
        "[0.893238767900707,\n",
        " 0.94264642283440603,\n",
        " 0.032051935550881483,\n",
        " 0.34180764509500217]"
       ]
      }
     ],
     "prompt_number": 418
    },
    {
     "cell_type": "markdown",
     "metadata": {},
     "source": [
      "This is not good since we raise the maximum absolute error of power again."
     ]
    },
    {
     "cell_type": "heading",
     "level": 2,
     "metadata": {},
     "source": [
      "Model IV: Model II and previous 24 hour values"
     ]
    },
    {
     "cell_type": "code",
     "collapsed": false,
     "input": [
      "#model for sun rises (if there is 24 hour info)\n",
      "d_series = TrainData[TrainData.StepOfDay==0][['pratio','pratio_y-0']].dropna()\n",
      "y = d_series['pratio']\n",
      "XX = d_series[['pratio_y-0']]\n",
      "mod0 = sklearn.linear_model.LinearRegression().fit(XX,y)\n",
      "#mod0.coef_, mod0.score(XX,y)\n",
      "\n",
      "#model for the first time stamp after sun rise (if there is 24 hour info ++ available)\n",
      "d_series = TrainData[TrainData.StepOfDay==1][['pratio','pratio-1','pratio_y-0','pratio_y-1']].dropna()\n",
      "y = d_series['pratio']\n",
      "XX = d_series[['pratio-1','pratio_y-0','pratio_y-1']]\n",
      "mod1 = sklearn.linear_model.LinearRegression().fit(XX,y)\n",
      "#mod1.coef_, mod1.score(XX,y)\n",
      "\n",
      "#model for later time of the days\n",
      "d_series = TrainData[TrainData.StepOfDay>1][['pratio','pratio-1','pratio-2','pratio_y-0','pratio_y-1','pratio_y-2']].dropna()\n",
      "y = d_series['pratio']\n",
      "XX = d_series[['pratio-1','pratio-2','pratio_y-0','pratio_y-1','pratio_y-2']]\n",
      "mod2 = sklearn.linear_model.LinearRegression().fit(XX,y)\n",
      "#mod2.coef_,mod2.score(XX,y)"
     ],
     "language": "python",
     "metadata": {},
     "outputs": [
      {
       "metadata": {},
       "output_type": "pyout",
       "prompt_number": 397,
       "text": [
        "(array([ 0.91277834,  0.01518922,  0.04313544, -0.00541255, -0.02643457]),\n",
        " 0.88139739306016562)"
       ]
      }
     ],
     "prompt_number": 397
    },
    {
     "cell_type": "code",
     "collapsed": false,
     "input": [
      "#apply model\n",
      "TestData['pratio_predict'] = float('NaN')\n",
      "TestData['power_predict'] = float('NaN')\n",
      "\n",
      "bool_list = (TestData['StepOfDay']==0)&(TestData['pratio_y-0'].notnull())\n",
      "TestData['pratio_predict'][bool_list] = mod0.predict(TestData[bool_list][['pratio_y-0']])\n",
      "bool_list = (TestData['StepOfDay']==1)&(TestData['pratio-1'].notnull())&(TestData['pratio_y-0'].notnull())&(TestData['pratio_y-1'].notnull())\n",
      "TestData['pratio_predict'][bool_list] = mod1.predict(TestData[bool_list][['pratio-1','pratio_y-0','pratio_y-1']])\n",
      "bool_list = (TestData['StepOfDay']>1)&(TestData['pratio-1'].notnull())&(TestData['pratio-2'].notnull())&\\\n",
      "                (TestData['pratio_y-0'].notnull())&(TestData['pratio_y-1'].notnull())&(TestData['pratio_y-2'].notnull())\n",
      "TestData['pratio_predict'][bool_list] = mod2.predict(TestData[bool_list][['pratio-1','pratio-2','pratio_y-0','pratio_y-1','pratio_y-2']])\n",
      "TestData['power_predict'] = TestData.pratio_predict*(TestData.mpower+shift)-shift"
     ],
     "language": "python",
     "metadata": {},
     "outputs": [],
     "prompt_number": 414
    },
    {
     "cell_type": "code",
     "collapsed": false,
     "input": [
      "#Calculate accuracy of the model. Rsq of pratio, Rsq of power, MAE of power, Max AE of power\n",
      "d_cal = TestData.dropna()\n",
      "pratio_mean = np.mean(d_cal.pratio)\n",
      "power_mean = np.mean(d_cal.power)\n",
      "[1- np.sum((d_cal.pratio-d_cal.pratio_predict)*(d_cal.pratio-d_cal.pratio_predict))/\\\n",
      "np.sum((d_cal.pratio-pratio_mean)*(d_cal.pratio-pratio_mean)),\n",
      "1- np.sum((d_cal.power-d_cal.power_predict)*(d_cal.power-d_cal.power_predict))/\\\n",
      "np.sum((d_cal.power-power_mean)*(d_cal.power-pratio_mean)), \n",
      "np.mean(np.absolute(d_cal.power-d_cal.power_predict)),max(np.absolute(d_cal.power-d_cal.power_predict))]"
     ],
     "language": "python",
     "metadata": {},
     "outputs": [
      {
       "metadata": {},
       "output_type": "pyout",
       "prompt_number": 415,
       "text": [
        "[0.89445749495787219,\n",
        " 0.94275341362987974,\n",
        " 0.032106492582270815,\n",
        " 0.34676498594971561]"
       ]
      }
     ],
     "prompt_number": 415
    },
    {
     "cell_type": "markdown",
     "metadata": {},
     "source": [
      "This is not good since we raise the maximum absolute error of power again."
     ]
    },
    {
     "cell_type": "markdown",
     "metadata": {},
     "source": [
      "Comparing III, IV with I, II, one can see that adding 24 hours data does not really help."
     ]
    },
    {
     "cell_type": "heading",
     "level": 2,
     "metadata": {},
     "source": [
      "Model V: Model I with refinement on s value"
     ]
    },
    {
     "cell_type": "code",
     "collapsed": false,
     "input": [
      "#Model for sun rises. Fixed values\n",
      "y0list = list(TrainData[TrainData.StepOfDay==0].pratio)\n",
      "y0 = np.nanmean(y0list)\n",
      "y0low = np.nanpercentile(y0list,2.5) \n",
      "y0high = np.nanpercentile(y0list,97.5) \n",
      "\n",
      "n_sections = 12\n",
      "#model for the rest. AR(1)\n",
      "#create list of models for different sections\n",
      "ModelBySectionList = [0] * n_sections\n",
      "\n",
      "for i in range(n_sections):\n",
      "    d_series = TrainData[(TrainData.StepOfDay>=1)&(TrainData.s>=-1+2.0/n_sections*i)&(TrainData.s<-1+2.0/n_sections*(i+1))]\\\n",
      "    [['pratio','pratio-1']].dropna()\n",
      "    y = d_series['pratio']\n",
      "    XX = d_series[['pratio-1']]\n",
      "    ModelBySectionList[i] = sklearn.linear_model.LinearRegression().fit(XX,y)"
     ],
     "language": "python",
     "metadata": {},
     "outputs": [],
     "prompt_number": 427
    },
    {
     "cell_type": "code",
     "collapsed": false,
     "input": [
      "#apply model\n",
      "TestData['pratio_predict'] = float('NaN')\n",
      "TestData['power_predict'] = float('NaN')\n",
      "\n",
      "TestData['pratio_predict'][TestData.StepOfDay==0] = [y0]*sum(TestData.StepOfDay==0)\n",
      "for i in range(n_sections):\n",
      "    bool_list = (TestData.StepOfDay>=1)&(TestData.s>=-1+2.0/n_sections*i)&(TestData.s<-1+2.0/n_sections*(i+1))\n",
      "    TestData['pratio_predict'][bool_list] = ModelBySectionList[i].predict(TestData[bool_list][['pratio-1']])\n",
      "TestData['power_predict'] = TestData.pratio_predict*(TestData.mpower+shift)-shift"
     ],
     "language": "python",
     "metadata": {},
     "outputs": [],
     "prompt_number": 428
    },
    {
     "cell_type": "code",
     "collapsed": false,
     "input": [
      "#Calculate accuracy of the model. Rsq of pratio, Rsq of power, MAE of power, Max AE of power\n",
      "d_cal = TestData.dropna()\n",
      "pratio_mean = np.mean(d_cal.pratio)\n",
      "power_mean = np.mean(d_cal.power)\n",
      "[1- np.sum((d_cal.pratio-d_cal.pratio_predict)*(d_cal.pratio-d_cal.pratio_predict))/\\\n",
      "np.sum((d_cal.pratio-pratio_mean)*(d_cal.pratio-pratio_mean)),\n",
      "1- np.sum((d_cal.power-d_cal.power_predict)*(d_cal.power-d_cal.power_predict))/\\\n",
      "np.sum((d_cal.power-power_mean)*(d_cal.power-pratio_mean)), \n",
      "np.mean(np.absolute(d_cal.power-d_cal.power_predict)),max(np.absolute(d_cal.power-d_cal.power_predict))]"
     ],
     "language": "python",
     "metadata": {},
     "outputs": [
      {
       "metadata": {},
       "output_type": "pyout",
       "prompt_number": 429,
       "text": [
        "[0.88387525643432063,\n",
        " 0.94179745697954165,\n",
        " 0.032380918601206156,\n",
        " 0.33879942379540384]"
       ]
      }
     ],
     "prompt_number": 429
    },
    {
     "cell_type": "markdown",
     "metadata": {},
     "source": [
      "This model gives the lowest maximum absolute error of power so far."
     ]
    },
    {
     "cell_type": "heading",
     "level": 2,
     "metadata": {},
     "source": [
      "Model VI: Model II with refinement on s value"
     ]
    },
    {
     "cell_type": "code",
     "collapsed": false,
     "input": [
      "#Model for sun rises. Fixed values\n",
      "y0list = list(TrainData[TrainData.StepOfDay==0].pratio)\n",
      "y0 = np.nanmean(y0list)\n",
      "y0low = np.nanpercentile(y0list,2.5) \n",
      "y0high = np.nanpercentile(y0list,97.5) \n",
      "\n",
      "#model for the first time stamp after sun rise. AR(1)\n",
      "d_series = TrainData[TrainData.StepOfDay==1][['pratio','pratio-1']].dropna()\n",
      "y = d_series['pratio']\n",
      "XX = d_series[['pratio-1']]\n",
      "mod1 = sklearn.linear_model.LinearRegression().fit(XX,y)\n",
      "\n",
      "n_sections = 12\n",
      "#model for the rest. AR(2)\n",
      "#create list of models for different sections\n",
      "ModelBySectionList = [0] * n_sections\n",
      "\n",
      "for i in range(n_sections):\n",
      "    d_series = TrainData[(TrainData.StepOfDay>1)&(TrainData.s>=-1+2.0/n_sections*i)&(TrainData.s<-1+2.0/n_sections*(i+1))]\\\n",
      "    [['pratio','pratio-1','pratio-2']].dropna()\n",
      "    y = d_series['pratio']\n",
      "    XX = d_series[['pratio-1','pratio-2']]\n",
      "    ModelBySectionList[i] = sklearn.linear_model.LinearRegression().fit(XX,y)"
     ],
     "language": "python",
     "metadata": {},
     "outputs": [],
     "prompt_number": 422
    },
    {
     "cell_type": "code",
     "collapsed": false,
     "input": [
      "#apply model\n",
      "TestData['pratio_predict'] = float('NaN')\n",
      "TestData['power_predict'] = float('NaN')\n",
      "\n",
      "TestData['pratio_predict'][TestData.StepOfDay==0] = [y0]*sum(TestData.StepOfDay==0)\n",
      "TestData['pratio_predict'][TestData.StepOfDay==1] = mod1.predict(TestData[TestData.StepOfDay==1][['pratio-1']])\n",
      "for i in range(n_sections):\n",
      "    bool_list = (TestData.StepOfDay>1)&(TestData.s>=-1+2.0/n_sections*i)&(TestData.s<-1+2.0/n_sections*(i+1))\n",
      "    TestData['pratio_predict'][bool_list] = ModelBySectionList[i].predict(TestData[bool_list][['pratio-1','pratio-2']])\n",
      "TestData['power_predict'] = TestData.pratio_predict*(TestData.mpower+shift)-shift"
     ],
     "language": "python",
     "metadata": {},
     "outputs": [],
     "prompt_number": 425
    },
    {
     "cell_type": "code",
     "collapsed": false,
     "input": [
      "#Calculate accuracy of the model. Rsq of pratio, Rsq of power, MAE of power, Max AE of power\n",
      "d_cal = TestData.dropna()\n",
      "pratio_mean = np.mean(d_cal.pratio)\n",
      "power_mean = np.mean(d_cal.power)\n",
      "[1- np.sum((d_cal.pratio-d_cal.pratio_predict)*(d_cal.pratio-d_cal.pratio_predict))/\\\n",
      "np.sum((d_cal.pratio-pratio_mean)*(d_cal.pratio-pratio_mean)),\n",
      "1- np.sum((d_cal.power-d_cal.power_predict)*(d_cal.power-d_cal.power_predict))/\\\n",
      "np.sum((d_cal.power-power_mean)*(d_cal.power-pratio_mean)), \n",
      "np.mean(np.absolute(d_cal.power-d_cal.power_predict)),max(np.absolute(d_cal.power-d_cal.power_predict))]"
     ],
     "language": "python",
     "metadata": {},
     "outputs": [
      {
       "metadata": {},
       "output_type": "pyout",
       "prompt_number": 426,
       "text": [
        "[0.88618943870763245,\n",
        " 0.9419581041867181,\n",
        " 0.031917691573337167,\n",
        " 0.34419797961858045]"
       ]
      }
     ],
     "prompt_number": 426
    },
    {
     "cell_type": "markdown",
     "metadata": {},
     "source": [
      "It makes things worse."
     ]
    },
    {
     "cell_type": "code",
     "collapsed": false,
     "input": [
      "#Plot tool?\n",
      "'''\n",
      "#set up directory for plot\n",
      "directory = outputDir + '/15minrolling_timeseries/'\n",
      "if not os.path.exists(directory):\n",
      "    os.makedirs(directory)\n",
      "DateList = list(dsummary.Date[dsummary.Date>=StartDate])\n",
      "for DateOfInterest in DateList:#[DateList[0]]:\n",
      "    #StartDate = datetime.date(2014,10,1)\n",
      "    #X = ((PratioRef[PratioRef.Date<StartDate].dropna()).set_index(['Date']))\n",
      "    #DateOfInterest = datetime.date(2014,10,1)\n",
      "    df = d[d.tsLocal.map(lambda x: x.date())==DateOfInterest]\n",
      "    df.set_index('tsLocal',inplace=True)\n",
      "    df['pratio_predict']=float('NaN')\n",
      "    \n",
      "    #ax1.set_ylim(0,1.1)\n",
      "    #ax1.set_xlim(-1.1,-0.5)\n",
      "    ax1.set_title('pratio')\n",
      "    ax2.set_ylim(0,1.1)\n",
      "    df['pratio_predict'].iloc[0] = y0\n",
      "    df['pratio_predict'].iloc[1] = mod1.predict(df['pratio-1'].iloc[1])\n",
      "    for j in range(n_sections):\n",
      "        bool_list = (df.StepOfDay>1)&(df.s>=-1+2.0/n_sections*j)&(df.s<-1+2.0/n_sections*(j+1))\n",
      "        indexlist = [i for i, elem in enumerate(bool_list) if elem]\n",
      "        df['pratio_predict'].iloc[indexlist] = ModelBySectionList[j].predict(df[['pratio-1','pratio-2']].iloc[indexlist])\n",
      "    \n",
      "    df['power_predict'] = df.pratio_predict*(df.mpower+shift)-shift\n",
      "    \n",
      "    plt.clf()\n",
      "    fig = plt.figure(figsize=(12, 6))\n",
      "    ax1 = fig.add_subplot(121)\n",
      "    df['pratio'].plot(style='.',color='green')\n",
      "    df['pratio_predict'].plot(style='.',color='red')\n",
      "    ax2 = fig.add_subplot(122)\n",
      "    df['power'].plot(style='.',color='green')\n",
      "    df['mpower'].plot(color='black')\n",
      "    df['power_predict'].plot(style='.',color='red')\n",
      "    (df['power_predict']-df['power']).plot(color='blue')\n",
      "   \n",
      "    ax2.set_title('power: MAE='+ str(np.mean(np.absolute(df.power-df.power_predict))) \\\n",
      "                  +', mean Power=' + str(np.mean(df.power)))\n",
      "    \n",
      "    filename = DateOfInterest.strftime(\"%Y-%m-%d\") +'.png'\n",
      "    fig.savefig(directory+filename)\n",
      "    '''\n",
      "[0]\n",
      "    "
     ],
     "language": "python",
     "metadata": {},
     "outputs": []
    },
    {
     "cell_type": "heading",
     "level": 1,
     "metadata": {},
     "source": [
      "Local polynomial regression models"
     ]
    },
    {
     "cell_type": "markdown",
     "metadata": {},
     "source": [
      "Here we try local polynomial regression method. As a rolling method, we do not need to distinguish between training and test set. Here we look for the optimal degree and window of data for regression."
     ]
    },
    {
     "cell_type": "code",
     "collapsed": false,
     "input": [
      "import warnings\n",
      "warnings.filterwarnings('ignore')\n",
      "\n",
      "RsquaredList = [0.]*36\n",
      "xlist = [-1,-2,-3,-4,-5,-6]\n",
      "ylist = ['pratio-1','pratio-2','pratio-3','pratio-4','pratio-5','pratio-6']"
     ],
     "language": "python",
     "metadata": {},
     "outputs": [],
     "prompt_number": 437
    },
    {
     "cell_type": "code",
     "collapsed": false,
     "input": [
      "import warnings\n",
      "warnings.filterwarnings('ignore')\n",
      "\n",
      "RsquaredList = [0.]*36\n",
      "xlist = [-1,-2,-3,-4,-5,-6]\n",
      "ylist = ['pratio-1','pratio-2','pratio-3','pratio-4','pratio-5','pratio-6']\n",
      "for degree in range(1,6):\n",
      "    for m in range(degree,6):\n",
      "        d['pratio_predict'] = float('NaN')\n",
      "        for n in range(d.shape[0]):\n",
      "            xx =[xlist[i] for i in range(0,m+1)] \n",
      "            yy = d[[ylist[i] for i in range(0,m+1)]].iloc[n]\n",
      "            z = np.polyfit(xx,yy,degree)\n",
      "            p = np.poly1d(z)\n",
      "            d['pratio_predict'].iloc[n] = p(0)\n",
      "        d_series = d[['pratio','pratio_predict']].dropna()\n",
      "        p = np.mean(d_series.pratio)\n",
      "        RsquaredList[degree*6+m] = 1- np.sum((d_series.pratio-d_series.pratio_predict)*(d_series.pratio-d_series.pratio_predict))/\\\n",
      "        np.sum((d_series.pratio-p)*(d_series.pratio-p))"
     ],
     "language": "python",
     "metadata": {},
     "outputs": [],
     "prompt_number": 438
    },
    {
     "cell_type": "code",
     "collapsed": false,
     "input": [
      "RsquaredList"
     ],
     "language": "python",
     "metadata": {},
     "outputs": [],
     "prompt_number": 439
    },
    {
     "cell_type": "markdown",
     "metadata": {},
     "source": [
      "Here one can see that local linear regression (degree 1) with 4 entries works best. Let's reiterate the regression again."
     ]
    },
    {
     "cell_type": "code",
     "collapsed": false,
     "input": [
      "degree = 1\n",
      "m = 3\n",
      "d['pratio_predict'] = float('NaN')\n",
      "d['power_predict'] = float('NaN')\n",
      "for n in range(d.shape[0]):\n",
      "    xx =[xlist[i] for i in range(0,m+1)] \n",
      "    yy = d[[ylist[i] for i in range(0,m+1)]].iloc[n]\n",
      "    z = np.polyfit(xx,yy,degree)\n",
      "    p = np.poly1d(z)\n",
      "    d['pratio_predict'].iloc[n] = p(0)\n",
      "\n",
      "d['power_predict'] = d.pratio_predict*(d.mpower+shift)-shift\n",
      "#Calculate accuracy of the model. Rsq of pratio, Rsq of power, MAE of power, Max AE of power\n",
      "d_cal = d.dropna()\n",
      "pratio_mean = np.mean(d_cal.pratio)\n",
      "power_mean = np.mean(d_cal.power)\n",
      "[1- np.sum((d_cal.pratio-d_cal.pratio_predict)*(d_cal.pratio-d_cal.pratio_predict))/\\\n",
      "np.sum((d_cal.pratio-pratio_mean)*(d_cal.pratio-pratio_mean)),\n",
      "1- np.sum((d_cal.power-d_cal.power_predict)*(d_cal.power-d_cal.power_predict))/\\\n",
      "np.sum((d_cal.power-power_mean)*(d_cal.power-pratio_mean)), \n",
      "np.mean(np.absolute(d_cal.power-d_cal.power_predict)),max(np.absolute(d_cal.power-d_cal.power_predict))]"
     ],
     "language": "python",
     "metadata": {},
     "outputs": [
      {
       "metadata": {},
       "output_type": "pyout",
       "prompt_number": 440,
       "text": [
        "[0.80015780710252715,\n",
        " 0.91007406842705807,\n",
        " 0.042096053345593652,\n",
        " 0.64712938233003969]"
       ]
      }
     ],
     "prompt_number": 440
    },
    {
     "cell_type": "markdown",
     "metadata": {},
     "source": [
      "It turns out that local linear regression is poor compared to basic time series. "
     ]
    },
    {
     "cell_type": "heading",
     "level": 1,
     "metadata": {},
     "source": [
      "Rolling statistics and moments"
     ]
    },
    {
     "cell_type": "code",
     "collapsed": false,
     "input": [
      "#this is time series that we will work with\n",
      "d_series = data_extend.set_index('tsLocal')[['power','mpower','pratio']]\n",
      "d_series['pratio_predict'] = float('NaN')\n",
      "d_series['power_predict'] = float('NaN')"
     ],
     "language": "python",
     "metadata": {},
     "outputs": [],
     "prompt_number": 441
    },
    {
     "cell_type": "code",
     "collapsed": false,
     "input": [
      "days = 3\n",
      "plt.clf()\n",
      "fig = plt.figure(figsize=(12, 6))\n",
      "ax1 = fig.add_subplot(121)\n",
      "d_series['pratio'].iloc[range(d_series.shape[0]-96*days,d_series.shape[0])].plot(color='green')\n",
      "ax2 = fig.add_subplot(122)\n",
      "d_series['power'].iloc[range(d_series.shape[0]-96*days,d_series.shape[0])].plot(color='green')\n",
      "d_series['mpower'].iloc[range(d_series.shape[0]-96*days,d_series.shape[0])].plot(color='black')"
     ],
     "language": "python",
     "metadata": {},
     "outputs": []
    },
    {
     "cell_type": "heading",
     "level": 2,
     "metadata": {},
     "source": [
      "Rolling mean"
     ]
    },
    {
     "cell_type": "code",
     "collapsed": false,
     "input": [
      "window = 1\n",
      "d_series['pratio_predict'] = float('NaN')\n",
      "d_series['power_predict'] = float('NaN')\n",
      "#d_series.pratio_predict = (pd.rolling_mean(d_series.pratio, window))\n",
      "d_series['pratio_predict'].iloc[1:d_series.shape[0]] = list((pd.rolling_mean(d_series.pratio, window)).iloc[0:(d_series.shape[0]-1)])\n",
      "d_series['power_predict'] = d_series.pratio_predict*(d_series.mpower+shift)-shift"
     ],
     "language": "python",
     "metadata": {},
     "outputs": [],
     "prompt_number": 442
    },
    {
     "cell_type": "code",
     "collapsed": false,
     "input": [
      "days = 1\n",
      "plt.clf()\n",
      "fig = plt.figure(figsize=(12, 6))\n",
      "ax1 = fig.add_subplot(121)\n",
      "d_series['pratio'].iloc[range(d_series.shape[0]-96*days,d_series.shape[0])].plot(color='green')\n",
      "d_series['pratio_predict'].iloc[range(d_series.shape[0]-96*days,d_series.shape[0])].plot(style='.',color='red')\n",
      "ax2 = fig.add_subplot(122)\n",
      "d_series['power'].iloc[range(d_series.shape[0]-96*days,d_series.shape[0])].plot(color='green')\n",
      "d_series['power_predict'].iloc[range(d_series.shape[0]-96*days,d_series.shape[0])].plot(color='red')\n",
      "d_series['mpower'].iloc[range(d_series.shape[0]-96*days,d_series.shape[0])].plot(color='black')\n",
      "(d_series['power_predict']-d_series['power']).iloc[range(d_series.shape[0]-96*days,d_series.shape[0])].plot(color='blue')"
     ],
     "language": "python",
     "metadata": {},
     "outputs": [
      {
       "metadata": {},
       "output_type": "pyout",
       "prompt_number": 443,
       "text": [
        "<matplotlib.axes._subplots.AxesSubplot at 0x3970ea58>"
       ]
      },
      {
       "metadata": {},
       "output_type": "display_data",
       "text": [
        "<matplotlib.figure.Figure at 0x21bce5f8>"
       ]
      },
      {
       "metadata": {},
       "output_type": "display_data",
       "png": "[encoded data removed]",
       "text": [
        "<matplotlib.figure.Figure at 0x39918978>"
       ]
      }
     ],
     "prompt_number": 443
    },
    {
     "cell_type": "code",
     "collapsed": false,
     "input": [
      "d_cal = d_series.dropna()\n",
      "pratio_mean = np.mean(d_cal.pratio)\n",
      "power_mean = np.mean(d_cal.power)\n",
      "[1- np.sum((d_cal.pratio-d_cal.pratio_predict)*(d_cal.pratio-d_cal.pratio_predict))/\\\n",
      "np.sum((d_cal.pratio-pratio_mean)*(d_cal.pratio-pratio_mean)),\n",
      "1- np.sum((d_cal.power-d_cal.power_predict)*(d_cal.power-d_cal.power_predict))/\\\n",
      "np.sum((d_cal.power-power_mean)*(d_cal.power-pratio_mean)), \n",
      "np.mean(np.absolute(d_cal.power-d_cal.power_predict)),max(np.absolute(d_cal.power-d_cal.power_predict))]"
     ],
     "language": "python",
     "metadata": {},
     "outputs": [
      {
       "metadata": {},
       "output_type": "pyout",
       "prompt_number": 444,
       "text": [
        "[0.88071894118195104,\n",
        " 0.93965517026461365,\n",
        " 0.03364013718174768,\n",
        " 0.55208729151762204]"
       ]
      }
     ],
     "prompt_number": 444
    },
    {
     "cell_type": "markdown",
     "metadata": {},
     "source": [
      "After number of iterations, we found that the optimal window is n=2 (smallest max absolute error on power).\n",
      "\n",
      "window, Rsq on pratio, Rsq on power, MAE on power, max AE on power\n",
      "\n",
      "1, [0.88071894118195104, 0.93965517026461365, 0.03364013718174768, 0.55208729151762204]\n",
      "\n",
      "2, [0.85515789630654149, 0.93109367950787869, 0.037929513483334946, 0.51435381114259116]\n",
      "\n",
      "3, [0.82915684473851459, 0.92125132994748893, 0.042030672462903186, 0.51475723039427235]\n",
      " \n",
      "4, [0.80330914176843105, 0.91062729841123524, 0.046016979199156684, 0.54900997197070667]\n",
      "\n",
      "The rolling mean is not a good way to predict power here as the max AE on power is large."
     ]
    },
    {
     "cell_type": "heading",
     "level": 2,
     "metadata": {},
     "source": [
      "Exponentially weighted moving average"
     ]
    },
    {
     "cell_type": "code",
     "collapsed": false,
     "input": [
      "span = 4\n",
      "d_series['pratio_predict'] = float('NaN')\n",
      "d_series['power_predict'] = float('NaN')\n",
      "#d_series.pratio_predict = (pd.rolling_mean(d_series.pratio, window))\n",
      "d_series['pratio_predict'].iloc[1:d_series.shape[0]] = list((pd.ewma(d_series.pratio, span)).iloc[0:(d_series.shape[0]-1)])\n",
      "d_series['power_predict'] = d_series.pratio_predict*(d_series.mpower+shift)-shift"
     ],
     "language": "python",
     "metadata": {},
     "outputs": []
    },
    {
     "cell_type": "code",
     "collapsed": false,
     "input": [
      "days = 1\n",
      "plt.clf()\n",
      "fig = plt.figure(figsize=(12, 6))\n",
      "ax1 = fig.add_subplot(121)\n",
      "d_series['pratio'].iloc[range(d_series.shape[0]-96*days,d_series.shape[0])].plot(color='green')\n",
      "d_series['pratio_predict'].iloc[range(d_series.shape[0]-96*days,d_series.shape[0])].plot(style='.',color='red')\n",
      "ax2 = fig.add_subplot(122)\n",
      "d_series['power'].iloc[range(d_series.shape[0]-96*days,d_series.shape[0])].plot(color='green')\n",
      "d_series['power_predict'].iloc[range(d_series.shape[0]-96*days,d_series.shape[0])].plot(color='red')\n",
      "d_series['mpower'].iloc[range(d_series.shape[0]-96*days,d_series.shape[0])].plot(color='black')\n",
      "(d_series['power_predict']-d_series['power']).iloc[range(d_series.shape[0]-96*days,d_series.shape[0])].plot(color='blue')"
     ],
     "language": "python",
     "metadata": {},
     "outputs": []
    },
    {
     "cell_type": "code",
     "collapsed": false,
     "input": [
      "d_cal = d_series.dropna()\n",
      "pratio_mean = np.mean(d_cal.pratio)\n",
      "power_mean = np.mean(d_cal.power)\n",
      "[1- np.sum((d_cal.pratio-d_cal.pratio_predict)*(d_cal.pratio-d_cal.pratio_predict))/\\\n",
      "np.sum((d_cal.pratio-pratio_mean)*(d_cal.pratio-pratio_mean)),\n",
      "1- np.sum((d_cal.power-d_cal.power_predict)*(d_cal.power-d_cal.power_predict))/\\\n",
      "np.sum((d_cal.power-power_mean)*(d_cal.power-pratio_mean)), \n",
      "np.mean(np.absolute(d_cal.power-d_cal.power_predict)),max(np.absolute(d_cal.power-d_cal.power_predict))]"
     ],
     "language": "python",
     "metadata": {},
     "outputs": []
    },
    {
     "cell_type": "markdown",
     "metadata": {},
     "source": [
      "After number of iterations, we found that the optimal span is n=1.\n",
      "\n",
      "window, Rsq on pratio, Rsq on power, MAE on power, max AE power\n",
      "\n",
      "1, [0.84420746224946797, 0.93639935654892381, 0.037766274886050805, 0.49199137291079414]\n",
      "\n",
      "2, [0.8057674305843503, 0.92514960627744336, 0.04286020642235857, 0.53286664521981175]\n",
      "\n",
      "3, [0.7699475384352612, 0.91370661215579285, 0.04730293496196427, 0.56247689523934563]\n",
      " \n",
      "4, [0.73741657997552879, 0.90269007571300441, 0.051197256065402236, 0.58054844382402937]\n",
      "\n",
      "The rolling mean is not a good way to predict power here as the max AE on power is large."
     ]
    },
    {
     "cell_type": "heading",
     "level": 1,
     "metadata": {},
     "source": [
      "Package autoregressive analysis (ARMA)"
     ]
    },
    {
     "cell_type": "markdown",
     "metadata": {},
     "source": [
      "First, we look at auto-correlation. Note that the values might be obscured since we remove NA data. Hence, time series take previous days value into account as if it is on the same day."
     ]
    },
    {
     "cell_type": "code",
     "collapsed": false,
     "input": [
      "#package on time series analysis\n",
      "tsa = sm.tsa"
     ],
     "language": "python",
     "metadata": {},
     "outputs": [],
     "prompt_number": 445
    },
    {
     "cell_type": "code",
     "collapsed": false,
     "input": [
      "fig = plt.figure(figsize=(12,8))\n",
      "ax1 = fig.add_subplot(211)\n",
      "fig = sm.graphics.tsa.plot_acf(d_series.pratio.dropna(), lags=100, ax=ax1)\n",
      "ax2 = fig.add_subplot(212)\n",
      "fig = sm.graphics.tsa.plot_pacf(d_series.pratio.dropna(), lags=100, ax=ax2)"
     ],
     "language": "python",
     "metadata": {},
     "outputs": [
      {
       "metadata": {},
       "output_type": "display_data",
       "png": "[encoded data removed]",
       "text": [
        "<matplotlib.figure.Figure at 0x3d150898>"
       ]
      }
     ],
     "prompt_number": 446
    },
    {
     "cell_type": "markdown",
     "metadata": {},
     "source": [
      "Here we will go back to the training/test data again."
     ]
    },
    {
     "cell_type": "code",
     "collapsed": false,
     "input": [
      "arma_mod10 = sm.tsa.ARMA(d_series.pratio.dropna(), (1,0)).fit()\n",
      "resid = arma_mod10.resid\n",
      "pratio_mean = np.mean(d_series.pratio.dropna())\n",
      "1 - np.sum(resid*resid)/np.sum((d_series.pratio.dropna()-pratio_mean)*(d_series.pratio.dropna()-pratio_mean))"
     ],
     "language": "python",
     "metadata": {},
     "outputs": [
      {
       "metadata": {},
       "output_type": "pyout",
       "prompt_number": 447,
       "text": [
        "0.87750274241880477"
       ]
      }
     ],
     "prompt_number": 447
    },
    {
     "cell_type": "code",
     "collapsed": false,
     "input": [
      "arma_mod10.params"
     ],
     "language": "python",
     "metadata": {},
     "outputs": [
      {
       "metadata": {},
       "output_type": "pyout",
       "prompt_number": 448,
       "text": [
        "const           0.711345\n",
        "ar.L1.pratio    0.936737\n",
        "dtype: float64"
       ]
      }
     ],
     "prompt_number": 448
    },
    {
     "cell_type": "markdown",
     "metadata": {},
     "source": [
      "We may try different (p,q) pairs to obtain in-sample R-squared. \n",
      "\n",
      "(1,0) 0.87750274241880477\n",
      "\n",
      "(1,1) 0.87751098780757142\n",
      "\n",
      "(2,0) 0.87751021808186214\n",
      "\n",
      "(2,1) 0.87761466430854296\n",
      "\n",
      "(2,2) 0.87779647760934076\n",
      "\n",
      "These values do not differ much. Hence, the simplest model should do the job."
     ]
    },
    {
     "cell_type": "markdown",
     "metadata": {},
     "source": [
      "Let's test if ARMA(1,0) here gives similar result as our previous one."
     ]
    },
    {
     "cell_type": "code",
     "collapsed": false,
     "input": [
      "arma_mod10 = sm.tsa.ARMA(TrainData.pratio.dropna(), (1,0)).fit()"
     ],
     "language": "python",
     "metadata": {},
     "outputs": [],
     "prompt_number": 471
    },
    {
     "cell_type": "code",
     "collapsed": false,
     "input": [
      "np.mean(TrainData.pratio.dropna())"
     ],
     "language": "python",
     "metadata": {},
     "outputs": [
      {
       "metadata": {},
       "output_type": "pyout",
       "prompt_number": 472,
       "text": [
        "0.72720892289350214"
       ]
      }
     ],
     "prompt_number": 472
    },
    {
     "cell_type": "code",
     "collapsed": false,
     "input": [
      "arma_mod10.params[0],arma_mod10.params[1]"
     ],
     "language": "python",
     "metadata": {},
     "outputs": [
      {
       "metadata": {},
       "output_type": "pyout",
       "prompt_number": 473,
       "text": [
        "(0.72702880520779756, 0.93364005862762434)"
       ]
      }
     ],
     "prompt_number": 473
    },
    {
     "cell_type": "code",
     "collapsed": false,
     "input": [
      "#apply model\n",
      "TestData['pratio_predict'] = float('NaN')\n",
      "TestData['power_predict'] = float('NaN')\n",
      "\n",
      "#TestData['pratio_predict'][TestData.StepOfDay>=1] = mod1.predict(TestData[TestData.StepOfDay>=1][['pratio-1']])\n",
      "TestData['pratio_predict'][TestData.pratio.notnull()] = arma_mod10.params[0] + \\\n",
      "    arma_mod10.params[1]*(TestData['pratio-1'][TestData.pratio.notnull()]-arma_mod10.params[0])\n",
      "TestData['power_predict'] = TestData.pratio_predict*(TestData.mpower+shift)-shift"
     ],
     "language": "python",
     "metadata": {},
     "outputs": [],
     "prompt_number": 476
    },
    {
     "cell_type": "code",
     "collapsed": false,
     "input": [
      "d_cal = TestData.dropna()\n",
      "pratio_mean = np.mean(d_cal.pratio)\n",
      "power_mean = np.mean(d_cal.power)\n",
      "[1- np.sum((d_cal.pratio-d_cal.pratio_predict)*(d_cal.pratio-d_cal.pratio_predict))/\\\n",
      "np.sum((d_cal.pratio-pratio_mean)*(d_cal.pratio-pratio_mean)),\n",
      "1- np.sum((d_cal.power-d_cal.power_predict)*(d_cal.power-d_cal.power_predict))/\\\n",
      "np.sum((d_cal.power-power_mean)*(d_cal.power-pratio_mean)), \n",
      "np.mean(np.absolute(d_cal.power-d_cal.power_predict)),max(np.absolute(d_cal.power-d_cal.power_predict))]"
     ],
     "language": "python",
     "metadata": {},
     "outputs": [
      {
       "metadata": {},
       "output_type": "pyout",
       "prompt_number": 477,
       "text": [
        "[0.89285449055057076,\n",
        " 0.94225091755932411,\n",
        " 0.032160904285514269,\n",
        " 0.34223777532600752]"
       ]
      }
     ],
     "prompt_number": 477
    },
    {
     "cell_type": "markdown",
     "metadata": {},
     "source": [
      "The result is similar to our ARMA by hand."
     ]
    }
   ],
   "metadata": {}
  }
 ]
}