{
 "metadata": {
  "name": "",
  "signature": "sha256:519b7d79da36cd9635d5744054e9d0892eeb6fb93799ea3d1e97df7bc0fee14b"
 },
 "nbformat": 3,
 "nbformat_minor": 0,
 "worksheets": [
  {
   "cells": [
    {
     "cell_type": "heading",
     "level": 1,
     "metadata": {},
     "source": [
      "Number of components and sampling effect"
     ]
    },
    {
     "cell_type": "markdown",
     "metadata": {},
     "source": [
      "Before using average power readings by component's size as a representation of power generated from distributed PV generation under each zip code, there are several points we would like to investigate. We would like to see if is any shift in power representation if we use different set of data. Now we are investigating how number of components in sampling affects average power reading that we would like to model. We would like to if our sampling pool of our data is homogenous enough to make consistent average power readings."
     ]
    },
    {
     "cell_type": "markdown",
     "metadata": {},
     "source": [
      "First, let's pull up data and summary of number of components in a zip code broken down by first time stamp and size of components."
     ]
    },
    {
     "cell_type": "code",
     "collapsed": false,
     "input": [
      "#specify data source, zipcode (along with latitude, longitue, and timezone), and bin values to calculate mean.\n",
      "datasource = 'LocusEnergy'\n",
      "#[zipcode, latitude, longitude, localtz] = ['08641', 40.0449, -74.5892, 'US/Eastern']\n",
      "#binvalue = [0.60000000000000009, 1.5531428571428569, 2.5209606741573034, 4.1015736906211933, 7.487476098503139, 12.943637931034482]\n",
      "[zipcode, latitude, longitude, localtz] = ['92562', 33.5686, -117.2530, 'US/Pacific']\n",
      "binvalue = [0.6366666666666666, 1.5599424405242481, 2.4851360650682972, 3.9649782737139554, 6.7641328892898853, 12.809405655777667]"
     ],
     "language": "python",
     "metadata": {},
     "outputs": [],
     "prompt_number": 1
    },
    {
     "cell_type": "code",
     "collapsed": false,
     "input": [
      "import pandas as pd\n",
      "import numpy as np\n",
      "import matplotlib.pyplot as plt\n",
      "import datetime\n",
      "import pytz\n",
      "import os\n",
      "import patsy #for spline regression\n",
      "import scipy #for non-negative least square \n",
      "import scipy as sp \n",
      "from scipy import stats\n",
      "from scipy.optimize import nnls\n",
      "from numpy.linalg import inv #for matrix and statistics\n",
      "import scipy as sp\n",
      "import math\n",
      "import statsmodels.api as sm\n",
      "import random\n",
      "%matplotlib inline"
     ],
     "language": "python",
     "metadata": {},
     "outputs": [],
     "prompt_number": 2
    },
    {
     "cell_type": "code",
     "collapsed": false,
     "input": [
      "#mainDir = 'C:/Users/Tee/Dropbox/Active/EnergyProject/Thesis/PVreadingsStudies/main'\n",
      "mainDir = 'C:\\Users\\Admin\\Dropbox\\Active\\EnergyProject\\Thesis\\PVreadingsStudies\\main'\n",
      "#read data and metadata\n",
      "metadata = pd.read_csv(mainDir+ '/data/' + datasource +'/' + zipcode +'/metadata.csv',\n",
      "                             dtype={'componentId':'object','zip':'object'})\n",
      "data = pd.read_csv(mainDir+ '/data/' + datasource +'/'+ zipcode+'/data.csv',\n",
      "                             dtype={'componentId':'object'})\n",
      "#convert timestamp string to datetime format if needed\n",
      "#metadata['FirstTimestamp'] = metadata['FirstTimestamp'].map(lambda x: datetime.datetime.strptime(x,\"%Y-%m-%d %H:%M:%S\"))\n",
      "#data['tsLocal'] = data['tsLocal'].map(lambda x: datetime.datetime.strptime(x,\"%Y-%m-%d %H:%M:%S\"))"
     ],
     "language": "python",
     "metadata": {},
     "outputs": [],
     "prompt_number": 3
    },
    {
     "cell_type": "code",
     "collapsed": false,
     "input": [
      "FirstTimestampBinList = ['pre-2013','2013-1','2013-2','2013-3','2013-4','2014-1','2014-2','2014-3','2014-4']\n",
      "SizeBinList = ['0-1 kW','1-2 kW','2-3 kW','3-5 kW', '5-10 kW', '10-20 kW', '20-50 kW', '50-100 kW', '<20 kW', '>20 kW','unknown','sum']\n",
      "targetsizelist= ['0-1 kW','1-2 kW','2-3 kW','3-5 kW', '5-10 kW', '10-20 kW']\n",
      "NumberOfComponents = pd.DataFrame(0, index = FirstTimestampBinList, columns = SizeBinList)\n",
      "\n",
      "#define quick function to add data\n",
      "def add_data(NumberOfComponents, d, i):\n",
      "    NumberOfComponents['0-1 kW'].iloc[i] = d[d.sizeBucket=='0-1 kW'].shape[0]\n",
      "    NumberOfComponents['1-2 kW'].iloc[i] = d[d.sizeBucket=='1-2 kW'].shape[0]\n",
      "    NumberOfComponents['2-3 kW'].iloc[i] = d[d.sizeBucket=='2-3 kW'].shape[0]\n",
      "    NumberOfComponents['3-5 kW'].iloc[i] = d[d.sizeBucket=='3-5 kW'].shape[0]\n",
      "    NumberOfComponents['5-10 kW'].iloc[i] = d[d.sizeBucket=='5-10 kW'].shape[0]\n",
      "    NumberOfComponents['10-20 kW'].iloc[i] = d[d.sizeBucket=='10-20 kW'].shape[0]\n",
      "    NumberOfComponents['20-50 kW'].iloc[i] = d[d.sizeBucket=='20-50 kW'].shape[0]\n",
      "    NumberOfComponents['50-100 kW'].iloc[i] = d[d.sizeBucket=='50-100 kW'].shape[0]\n",
      "    NumberOfComponents['<20 kW'].iloc[i] = d[d.sizeBucket=='0-1 kW'].shape[0] + d[d.sizeBucket=='1-2 kW'].shape[0] +\\\n",
      "                                          d[d.sizeBucket=='2-3 kW'].shape[0] + d[d.sizeBucket=='3-5 kW'].shape[0] +\\\n",
      "                                            d[d.sizeBucket=='5-10 kW'].shape[0] + d[d.sizeBucket=='10-20 kW'].shape[0]\n",
      "    NumberOfComponents['>20 kW'].iloc[i] = d[d.sizeBucket=='20-50 kW'].shape[0] + d[d.sizeBucket=='50-100 kW'].shape[0]\n",
      "    NumberOfComponents['unknown'].iloc[i] = d[pd.isnull(d.sizeBucket)].shape[0]\n",
      "    NumberOfComponents['sum'].iloc[i] = d.shape[0]\n",
      "    return NumberOfComponents;\n",
      "\n",
      "d = metadata[metadata.FirstTimestamp.map(lambda x: (x <= '2013-01-01 00:00:00'))]\n",
      "NumberOfComponents = add_data(NumberOfComponents, d, 0)\n",
      "d = metadata[metadata.FirstTimestamp.map(lambda x: (x > '2013-01-01 00:00:00')&(x <= '2013-04-01 00:00:00'))]\n",
      "NumberOfComponents = add_data(NumberOfComponents, d, 1)\n",
      "d = metadata[metadata.FirstTimestamp.map(lambda x: (x > '2013-04-01 00:00:00')&(x <= '2013-07-01 00:00:00'))]\n",
      "NumberOfComponents = add_data(NumberOfComponents, d, 2)\n",
      "d = metadata[metadata.FirstTimestamp.map(lambda x: (x > '2013-07-01 00:00:00')&(x <= '2013-10-01 00:00:00'))]\n",
      "NumberOfComponents = add_data(NumberOfComponents, d, 3)\n",
      "d = metadata[metadata.FirstTimestamp.map(lambda x: (x > '2013-10-01 00:00:00')&(x <= '2014-01-01 00:00:00'))]\n",
      "NumberOfComponents = add_data(NumberOfComponents, d, 4)\n",
      "d = metadata[metadata.FirstTimestamp.map(lambda x: (x > '2014-01-01 00:00:00')&(x <= '2014-04-01 00:00:00'))]\n",
      "NumberOfComponents = add_data(NumberOfComponents, d, 5)\n",
      "d = metadata[metadata.FirstTimestamp.map(lambda x: (x > '2014-04-01 00:00:00')&(x <= '2014-07-01 00:00:00'))]\n",
      "NumberOfComponents = add_data(NumberOfComponents, d, 6)\n",
      "d = metadata[metadata.FirstTimestamp.map(lambda x: (x > '2014-07-01 00:00:00')&(x <= '2014-10-01 00:00:00'))]\n",
      "NumberOfComponents = add_data(NumberOfComponents, d, 7)\n",
      "d = metadata[metadata.FirstTimestamp.map(lambda x: (x > '2014-10-01 00:00:00')&(x <= '2015-01-01 00:00:00'))]\n",
      "NumberOfComponents = add_data(NumberOfComponents, d, 8)"
     ],
     "language": "python",
     "metadata": {},
     "outputs": [],
     "prompt_number": 4
    },
    {
     "cell_type": "markdown",
     "metadata": {},
     "source": [
      "Let's assign size of each components based on the middle value of each bin."
     ]
    },
    {
     "cell_type": "code",
     "collapsed": false,
     "input": [
      "metadata['size'] = float('NaN')\n",
      "metadata.size[metadata.sizeBucket == '0-1 kW'] = binvalue[0]\n",
      "metadata.size[metadata.sizeBucket == '1-2 kW'] = binvalue[1]\n",
      "metadata.size[metadata.sizeBucket == '2-3 kW'] = binvalue[2]\n",
      "metadata.size[metadata.sizeBucket == '3-5 kW'] = binvalue[3]\n",
      "metadata.size[metadata.sizeBucket == '5-10 kW'] = binvalue[4]\n",
      "metadata.size[metadata.sizeBucket == '10-20 kW'] = binvalue[5]"
     ],
     "language": "python",
     "metadata": {},
     "outputs": [],
     "prompt_number": 5
    },
    {
     "cell_type": "markdown",
     "metadata": {},
     "source": [
      "Here we compute average size of components with <20 kW size. Note that we are interesed in components with <20 kW size. This quantity will be useful later."
     ]
    },
    {
     "cell_type": "code",
     "collapsed": false,
     "input": [
      "NumberOfComponents['average size*'] = (NumberOfComponents['0-1 kW']*binvalue[0] + NumberOfComponents['1-2 kW']*binvalue[1] +\\\n",
      "                    NumberOfComponents['2-3 kW']*binvalue[2] + NumberOfComponents['3-5 kW']*binvalue[3] +\\\n",
      "                    NumberOfComponents['5-10 kW']*binvalue[4] + NumberOfComponents['10-20 kW']*binvalue[5])/\\\n",
      "                    (NumberOfComponents['0-1 kW'] + NumberOfComponents['1-2 kW'] +\\\n",
      "                    NumberOfComponents['2-3 kW'] + NumberOfComponents['3-5 kW']+ NumberOfComponents['5-10 kW'] +\\\n",
      "                     NumberOfComponents['10-20 kW'])\n",
      "    \n",
      "NumberOfComponents"
     ],
     "language": "python",
     "metadata": {},
     "outputs": [
      {
       "html": [
        "<div style=\"max-height:1000px;max-width:1500px;overflow:auto;\">\n",
        "<table border=\"1\" class=\"dataframe\">\n",
        "  <thead>\n",
        "    <tr style=\"text-align: right;\">\n",
        "      <th></th>\n",
        "      <th>0-1 kW</th>\n",
        "      <th>1-2 kW</th>\n",
        "      <th>2-3 kW</th>\n",
        "      <th>3-5 kW</th>\n",
        "      <th>5-10 kW</th>\n",
        "      <th>10-20 kW</th>\n",
        "      <th>20-50 kW</th>\n",
        "      <th>50-100 kW</th>\n",
        "      <th>&lt;20 kW</th>\n",
        "      <th>&gt;20 kW</th>\n",
        "      <th>unknown</th>\n",
        "      <th>sum</th>\n",
        "      <th>average size*</th>\n",
        "    </tr>\n",
        "  </thead>\n",
        "  <tbody>\n",
        "    <tr>\n",
        "      <th>pre-2013</th>\n",
        "      <td> 0</td>\n",
        "      <td> 0</td>\n",
        "      <td> 0</td>\n",
        "      <td>  0</td>\n",
        "      <td>  2</td>\n",
        "      <td>  0</td>\n",
        "      <td> 1</td>\n",
        "      <td> 0</td>\n",
        "      <td>  2</td>\n",
        "      <td> 1</td>\n",
        "      <td> 0</td>\n",
        "      <td>  3</td>\n",
        "      <td> 6.764133</td>\n",
        "    </tr>\n",
        "    <tr>\n",
        "      <th>2013-1</th>\n",
        "      <td> 0</td>\n",
        "      <td> 0</td>\n",
        "      <td> 0</td>\n",
        "      <td>  0</td>\n",
        "      <td>  2</td>\n",
        "      <td>  1</td>\n",
        "      <td> 0</td>\n",
        "      <td> 0</td>\n",
        "      <td>  3</td>\n",
        "      <td> 0</td>\n",
        "      <td> 1</td>\n",
        "      <td>  4</td>\n",
        "      <td> 8.779224</td>\n",
        "    </tr>\n",
        "    <tr>\n",
        "      <th>2013-2</th>\n",
        "      <td> 0</td>\n",
        "      <td> 0</td>\n",
        "      <td> 0</td>\n",
        "      <td>  0</td>\n",
        "      <td>  4</td>\n",
        "      <td>  0</td>\n",
        "      <td> 0</td>\n",
        "      <td> 0</td>\n",
        "      <td>  4</td>\n",
        "      <td> 0</td>\n",
        "      <td> 0</td>\n",
        "      <td>  4</td>\n",
        "      <td> 6.764133</td>\n",
        "    </tr>\n",
        "    <tr>\n",
        "      <th>2013-3</th>\n",
        "      <td> 0</td>\n",
        "      <td> 0</td>\n",
        "      <td> 0</td>\n",
        "      <td>  1</td>\n",
        "      <td>  7</td>\n",
        "      <td>  0</td>\n",
        "      <td> 0</td>\n",
        "      <td> 0</td>\n",
        "      <td>  8</td>\n",
        "      <td> 0</td>\n",
        "      <td> 0</td>\n",
        "      <td>  8</td>\n",
        "      <td> 6.414239</td>\n",
        "    </tr>\n",
        "    <tr>\n",
        "      <th>2013-4</th>\n",
        "      <td> 1</td>\n",
        "      <td> 0</td>\n",
        "      <td> 1</td>\n",
        "      <td> 15</td>\n",
        "      <td> 38</td>\n",
        "      <td> 10</td>\n",
        "      <td> 1</td>\n",
        "      <td> 0</td>\n",
        "      <td> 65</td>\n",
        "      <td> 1</td>\n",
        "      <td> 3</td>\n",
        "      <td> 69</td>\n",
        "      <td> 6.888117</td>\n",
        "    </tr>\n",
        "    <tr>\n",
        "      <th>2014-1</th>\n",
        "      <td> 0</td>\n",
        "      <td> 0</td>\n",
        "      <td> 0</td>\n",
        "      <td>  3</td>\n",
        "      <td> 14</td>\n",
        "      <td>  4</td>\n",
        "      <td> 0</td>\n",
        "      <td> 0</td>\n",
        "      <td> 21</td>\n",
        "      <td> 0</td>\n",
        "      <td> 3</td>\n",
        "      <td> 24</td>\n",
        "      <td> 7.515734</td>\n",
        "    </tr>\n",
        "    <tr>\n",
        "      <th>2014-2</th>\n",
        "      <td> 0</td>\n",
        "      <td> 0</td>\n",
        "      <td> 0</td>\n",
        "      <td>  2</td>\n",
        "      <td>  5</td>\n",
        "      <td>  3</td>\n",
        "      <td> 0</td>\n",
        "      <td> 0</td>\n",
        "      <td> 10</td>\n",
        "      <td> 0</td>\n",
        "      <td> 3</td>\n",
        "      <td> 13</td>\n",
        "      <td> 8.017884</td>\n",
        "    </tr>\n",
        "    <tr>\n",
        "      <th>2014-3</th>\n",
        "      <td> 0</td>\n",
        "      <td> 0</td>\n",
        "      <td> 0</td>\n",
        "      <td>  3</td>\n",
        "      <td> 10</td>\n",
        "      <td>  0</td>\n",
        "      <td> 0</td>\n",
        "      <td> 0</td>\n",
        "      <td> 13</td>\n",
        "      <td> 0</td>\n",
        "      <td> 2</td>\n",
        "      <td> 15</td>\n",
        "      <td> 6.118174</td>\n",
        "    </tr>\n",
        "    <tr>\n",
        "      <th>2014-4</th>\n",
        "      <td> 0</td>\n",
        "      <td> 0</td>\n",
        "      <td> 0</td>\n",
        "      <td>  2</td>\n",
        "      <td>  1</td>\n",
        "      <td>  1</td>\n",
        "      <td> 0</td>\n",
        "      <td> 0</td>\n",
        "      <td>  4</td>\n",
        "      <td> 0</td>\n",
        "      <td> 0</td>\n",
        "      <td>  4</td>\n",
        "      <td> 6.875874</td>\n",
        "    </tr>\n",
        "  </tbody>\n",
        "</table>\n",
        "</div>"
       ],
       "metadata": {},
       "output_type": "pyout",
       "prompt_number": 6,
       "text": [
        "          0-1 kW  1-2 kW  2-3 kW  3-5 kW  5-10 kW  10-20 kW  20-50 kW  \\\n",
        "pre-2013       0       0       0       0        2         0         1   \n",
        "2013-1         0       0       0       0        2         1         0   \n",
        "2013-2         0       0       0       0        4         0         0   \n",
        "2013-3         0       0       0       1        7         0         0   \n",
        "2013-4         1       0       1      15       38        10         1   \n",
        "2014-1         0       0       0       3       14         4         0   \n",
        "2014-2         0       0       0       2        5         3         0   \n",
        "2014-3         0       0       0       3       10         0         0   \n",
        "2014-4         0       0       0       2        1         1         0   \n",
        "\n",
        "          50-100 kW  <20 kW  >20 kW  unknown  sum  average size*  \n",
        "pre-2013          0       2       1        0    3       6.764133  \n",
        "2013-1            0       3       0        1    4       8.779224  \n",
        "2013-2            0       4       0        0    4       6.764133  \n",
        "2013-3            0       8       0        0    8       6.414239  \n",
        "2013-4            0      65       1        3   69       6.888117  \n",
        "2014-1            0      21       0        3   24       7.515734  \n",
        "2014-2            0      10       0        3   13       8.017884  \n",
        "2014-3            0      13       0        2   15       6.118174  \n",
        "2014-4            0       4       0        0    4       6.875874  "
       ]
      }
     ],
     "prompt_number": 6
    },
    {
     "cell_type": "code",
     "collapsed": false,
     "input": [
      "metadata_original = metadata\n",
      "metadata = metadata[metadata.size <= 20]\n",
      "data_original = data\n",
      "data = data[['tsLocal','altitude','azimuth']+list(metadata['componentId'])]"
     ],
     "language": "python",
     "metadata": {},
     "outputs": [],
     "prompt_number": 7
    },
    {
     "cell_type": "markdown",
     "metadata": {},
     "source": [
      "Define helpful function for date alignement called DOY (Day of year: 1-364)."
     ]
    },
    {
     "cell_type": "code",
     "collapsed": false,
     "input": [
      "def DOY (timestamp_string): #Stand for \"Day of Year\"\n",
      "    if len(timestamp_string) == 19:\n",
      "        Date = datetime.datetime.strptime(timestamp_string,\"%Y-%m-%d %H:%M:%S\").date()\n",
      "    if len(timestamp_string) == 10:\n",
      "        Date = datetime.datetime.strptime(timestamp_string,\"%Y-%m-%d\").date()\n",
      "    y = str(Date.year)\n",
      "    NewYear = datetime.datetime.strptime(y+'-01-01',\"%Y-%m-%d\").date()\n",
      "    d = (Date - NewYear).days\n",
      "    if (int(y)%4==0)&(Date > datetime.datetime.strptime(y+'-02-28',\"%Y-%m-%d\").date()): #leap year correction\n",
      "        d = d-1\n",
      "    return d;\n",
      "\n",
      "#one can compute DBW (\"Day Before Winter Solstice\") by substracting DOY with 355. as  DOY (\"2014-12-22 00:00:00\") = 355."
     ],
     "language": "python",
     "metadata": {},
     "outputs": [],
     "prompt_number": 8
    },
    {
     "cell_type": "markdown",
     "metadata": {},
     "source": [
      "Another helpful function is daily total energy production and daily maximum total power reading for a set of components."
     ]
    },
    {
     "cell_type": "code",
     "collapsed": false,
     "input": [
      "def datacrunch(dat):\n",
      "    dat = dat.set_index(['tsLocal','altitude','azimuth'])\n",
      "    presencecheck = dat.notnull()\n",
      "    dat['totalpower'] = dat.sum(axis=1)\n",
      "    for i in presencecheck.columns.values:\n",
      "        presencecheck[i] = presencecheck[i]*metadata[metadata.componentId == i].size.iloc[0]\n",
      "    dat['totalsize'] = presencecheck.sum(axis=1)\n",
      "    dat['power'] = dat['totalpower']/dat['totalsize']\n",
      "    dat.reset_index(inplace=True)\n",
      "    dat['date'] = dat.tsLocal.map(lambda x: x[0:10])\n",
      "    summary1 = (dat[['date','power']].groupby(['date']))['power'].agg({'E' : lambda x: x.sum(skipna=False)*15/60, \\\n",
      "                                                                       'm' : lambda x: x.max(skipna=False)})\n",
      "    summary2 = (dat[['date','totalsize']].groupby(['date']))['totalsize'].agg({'totalsize_min' : np.min, \\\n",
      "                                                                                'totalsize_max' : np.max})\n",
      "    dailysummary = pd.concat([summary1, summary2],axis=1)\n",
      "    dailysummary.reset_index(inplace = True)\n",
      "    return [dat[['tsLocal','power','totalsize']],dailysummary];\n"
     ],
     "language": "python",
     "metadata": {},
     "outputs": [],
     "prompt_number": 9
    },
    {
     "cell_type": "heading",
     "level": 2,
     "metadata": {},
     "source": [
      "Number of components effect: Central Limit Theorem?"
     ]
    },
    {
     "cell_type": "markdown",
     "metadata": {},
     "source": [
      "Here we would like to if number of components affect average power readings or not. We would like draw random components to form a group of size 4, 9, 16, 25 and so on.  In order to make a fair comparison, we would like to fix a same time period of consideration."
     ]
    },
    {
     "cell_type": "code",
     "collapsed": false,
     "input": [
      "d=data[data.tsLocal.map(lambda x: (x > '2014-01-01 00:00:00')&(x <= '2015-01-01 00:00:00'))]\n",
      "ComponentsOfInterest = list(metadata.componentId[metadata.FirstTimestamp <= '2014-01-01 00:00:00'])\n",
      "len(ComponentsOfInterest)"
     ],
     "language": "python",
     "metadata": {},
     "outputs": [
      {
       "metadata": {},
       "output_type": "pyout",
       "prompt_number": 10,
       "text": [
        "82"
       ]
      }
     ],
     "prompt_number": 10
    },
    {
     "cell_type": "markdown",
     "metadata": {},
     "source": [
      "We may repeat the sampling for 10 times. Here one can see that as the number of components used in averaging increases, fluctuation in E and m decreases. "
     ]
    },
    {
     "cell_type": "code",
     "collapsed": false,
     "input": [
      "fig = plt.figure(figsize=(8,3))\n",
      "ax1  = fig.add_subplot(121)\n",
      "ax2  = fig.add_subplot(122)\n",
      "ax1.set_title('2014 E: number of components')\n",
      "ax2.set_title('2014 m: number of components')\n",
      "ax1.set_xlabel('sqrt(n)')\n",
      "ax1.set_ylabel('E')\n",
      "ax2.set_xlabel('sqrt(n)')\n",
      "ax2.set_ylabel('m')\n",
      "for i in range(0,10):\n",
      "    d004 = d[['tsLocal','altitude','azimuth']+ random.sample(ComponentsOfInterest, 4)]\n",
      "    d009 = d[['tsLocal','altitude','azimuth']+ random.sample(ComponentsOfInterest, 9)]\n",
      "    d016 = d[['tsLocal','altitude','azimuth']+ random.sample(ComponentsOfInterest, 16)]\n",
      "    d025 = d[['tsLocal','altitude','azimuth']+ random.sample(ComponentsOfInterest, 25)]\n",
      "    d036 = d[['tsLocal','altitude','azimuth']+ random.sample(ComponentsOfInterest, 36)]\n",
      "    d049 = d[['tsLocal','altitude','azimuth']+ random.sample(ComponentsOfInterest, 49)]\n",
      "    d064 = d[['tsLocal','altitude','azimuth']+ random.sample(ComponentsOfInterest, 64)]\n",
      "    d081 = d[['tsLocal','altitude','azimuth']+ random.sample(ComponentsOfInterest, 81)]\n",
      "    dful = d[['tsLocal','altitude','azimuth']+ ComponentsOfInterest]\n",
      "    [dat1, dailysummary1] = datacrunch(d004)\n",
      "    [dat2, dailysummary2] = datacrunch(d009)\n",
      "    [dat3, dailysummary3] = datacrunch(d016)\n",
      "    [dat4, dailysummary4] = datacrunch(d025)\n",
      "    [dat5, dailysummary5] = datacrunch(d036)\n",
      "    [dat6, dailysummary6] = datacrunch(d049)\n",
      "    [dat7, dailysummary7] = datacrunch(d064)\n",
      "    [dat8, dailysummary8] = datacrunch(d081)\n",
      "    [dat9, dailysummary9] = datacrunch(dful)\n",
      "    comparisonindex = (pd.notnull(dailysummary1.E))&(pd.notnull(dailysummary2.E)&(pd.notnull(dailysummary3.E))& \\\n",
      "                        pd.notnull(dailysummary4.E))&(pd.notnull(dailysummary5.E)&(pd.notnull(dailysummary6.E))& \\\n",
      "                        pd.notnull(dailysummary7.E))&(pd.notnull(dailysummary8.E)&(pd.notnull(dailysummary9.E))                                                  )\n",
      "    QuickComparison = pd.DataFrame(['004','009','016','025','036','049','064','081','full'], columns = ['NumberOfComponents'])\n",
      "    QuickComparison['average E over year'] =  [np.mean(dailysummary1.E[comparisonindex]),np.mean(dailysummary2.E[comparisonindex]),\\\n",
      "                                              np.mean(dailysummary3.E[comparisonindex]),np.mean(dailysummary4.E[comparisonindex]),\\\n",
      "                                              np.mean(dailysummary5.E[comparisonindex]),np.mean(dailysummary6.E[comparisonindex]),\\\n",
      "                                              np.mean(dailysummary7.E[comparisonindex]),np.mean(dailysummary8.E[comparisonindex]),\\\n",
      "                                              np.mean(dailysummary9.E[comparisonindex])]\n",
      "    QuickComparison['average m over year'] = [np.mean(dailysummary1.m[comparisonindex]),np.mean(dailysummary2.m[comparisonindex]),\\\n",
      "                                              np.mean(dailysummary3.m[comparisonindex]),np.mean(dailysummary4.m[comparisonindex]),\\\n",
      "                                              np.mean(dailysummary5.m[comparisonindex]),np.mean(dailysummary6.m[comparisonindex]),\\\n",
      "                                              np.mean(dailysummary7.m[comparisonindex]),np.mean(dailysummary8.m[comparisonindex]),\\\n",
      "                                              np.mean(dailysummary9.m[comparisonindex])]\n",
      "    QuickComparison['average E/(1 kW * 1 day)'] = QuickComparison['average E over year']/24\n",
      "    QuickComparison['average m/(1 kW)'] = QuickComparison['average m over year']\n",
      "    ax1.plot([2,3,4,5,6,7,8,9,np.sqrt(82)], QuickComparison['average E over year'], '.',color = 'blue')\n",
      "    ax2.plot([2,3,4,5,6,7,8,9,np.sqrt(82)], QuickComparison['average m over year'], '.',color = 'blue')\n",
      "    QuickComparison['average m over year']\n",
      "\n",
      "fig.show()"
     ],
     "language": "python",
     "metadata": {},
     "outputs": [
      {
       "output_type": "stream",
       "stream": "stderr",
       "text": [
        "C:\\Users\\Admin\\Anaconda\\lib\\site-packages\\matplotlib\\figure.py:387: UserWarning: matplotlib is currently using a non-GUI backend, so cannot show the figure\n",
        "  \"matplotlib is currently using a non-GUI backend, \"\n"
       ]
      },
      {
       "metadata": {},
       "output_type": "display_data",
       "png": "[encoded data removed]",
       "text": [
        "<matplotlib.figure.Figure at 0x16510b38>"
       ]
      }
     ],
     "prompt_number": 11
    },
    {
     "cell_type": "markdown",
     "metadata": {},
     "source": [
      "Here one can see that if we sample about 50 components in a zip code, we will have power readings that fluctuate within about 6%, which is same order as the temporal effect previously. This gives a rough number of how many components needed to construct a model. "
     ]
    },
    {
     "cell_type": "code",
     "collapsed": false,
     "input": [
      "QuickComparison"
     ],
     "language": "python",
     "metadata": {},
     "outputs": [
      {
       "html": [
        "<div style=\"max-height:1000px;max-width:1500px;overflow:auto;\">\n",
        "<table border=\"1\" class=\"dataframe\">\n",
        "  <thead>\n",
        "    <tr style=\"text-align: right;\">\n",
        "      <th></th>\n",
        "      <th>NumberOfComponents</th>\n",
        "      <th>average E over year</th>\n",
        "      <th>average m over year</th>\n",
        "      <th>average E/(1 kW * 1 day)</th>\n",
        "      <th>average m/(1 kW)</th>\n",
        "    </tr>\n",
        "  </thead>\n",
        "  <tbody>\n",
        "    <tr>\n",
        "      <th>0</th>\n",
        "      <td>  004</td>\n",
        "      <td> 4.415708</td>\n",
        "      <td> 0.644571</td>\n",
        "      <td> 0.183988</td>\n",
        "      <td> 0.644571</td>\n",
        "    </tr>\n",
        "    <tr>\n",
        "      <th>1</th>\n",
        "      <td>  009</td>\n",
        "      <td> 5.168165</td>\n",
        "      <td> 0.764200</td>\n",
        "      <td> 0.215340</td>\n",
        "      <td> 0.764200</td>\n",
        "    </tr>\n",
        "    <tr>\n",
        "      <th>2</th>\n",
        "      <td>  016</td>\n",
        "      <td> 4.770109</td>\n",
        "      <td> 0.702701</td>\n",
        "      <td> 0.198755</td>\n",
        "      <td> 0.702701</td>\n",
        "    </tr>\n",
        "    <tr>\n",
        "      <th>3</th>\n",
        "      <td>  025</td>\n",
        "      <td> 4.302128</td>\n",
        "      <td> 0.634116</td>\n",
        "      <td> 0.179255</td>\n",
        "      <td> 0.634116</td>\n",
        "    </tr>\n",
        "    <tr>\n",
        "      <th>4</th>\n",
        "      <td>  036</td>\n",
        "      <td> 4.520799</td>\n",
        "      <td> 0.669376</td>\n",
        "      <td> 0.188367</td>\n",
        "      <td> 0.669376</td>\n",
        "    </tr>\n",
        "    <tr>\n",
        "      <th>5</th>\n",
        "      <td>  049</td>\n",
        "      <td> 4.687743</td>\n",
        "      <td> 0.691993</td>\n",
        "      <td> 0.195323</td>\n",
        "      <td> 0.691993</td>\n",
        "    </tr>\n",
        "    <tr>\n",
        "      <th>6</th>\n",
        "      <td>  064</td>\n",
        "      <td> 4.699900</td>\n",
        "      <td> 0.693093</td>\n",
        "      <td> 0.195829</td>\n",
        "      <td> 0.693093</td>\n",
        "    </tr>\n",
        "    <tr>\n",
        "      <th>7</th>\n",
        "      <td>  081</td>\n",
        "      <td> 4.698847</td>\n",
        "      <td> 0.691873</td>\n",
        "      <td> 0.195785</td>\n",
        "      <td> 0.691873</td>\n",
        "    </tr>\n",
        "    <tr>\n",
        "      <th>8</th>\n",
        "      <td> full</td>\n",
        "      <td> 4.682799</td>\n",
        "      <td> 0.689535</td>\n",
        "      <td> 0.195117</td>\n",
        "      <td> 0.689535</td>\n",
        "    </tr>\n",
        "  </tbody>\n",
        "</table>\n",
        "</div>"
       ],
       "metadata": {},
       "output_type": "pyout",
       "prompt_number": 13,
       "text": [
        "  NumberOfComponents  average E over year  average m over year  \\\n",
        "0                004             4.415708             0.644571   \n",
        "1                009             5.168165             0.764200   \n",
        "2                016             4.770109             0.702701   \n",
        "3                025             4.302128             0.634116   \n",
        "4                036             4.520799             0.669376   \n",
        "5                049             4.687743             0.691993   \n",
        "6                064             4.699900             0.693093   \n",
        "7                081             4.698847             0.691873   \n",
        "8               full             4.682799             0.689535   \n",
        "\n",
        "   average E/(1 kW * 1 day)  average m/(1 kW)  \n",
        "0                  0.183988          0.644571  \n",
        "1                  0.215340          0.764200  \n",
        "2                  0.198755          0.702701  \n",
        "3                  0.179255          0.634116  \n",
        "4                  0.188367          0.669376  \n",
        "5                  0.195323          0.691993  \n",
        "6                  0.195829          0.693093  \n",
        "7                  0.195785          0.691873  \n",
        "8                  0.195117          0.689535  "
       ]
      }
     ],
     "prompt_number": 13
    },
    {
     "cell_type": "code",
     "collapsed": false,
     "input": [
      "0.25/0.47"
     ],
     "language": "python",
     "metadata": {},
     "outputs": [
      {
       "metadata": {},
       "output_type": "pyout",
       "prompt_number": 12,
       "text": [
        "0.5319148936170213"
       ]
      }
     ],
     "prompt_number": 12
    },
    {
     "cell_type": "heading",
     "level": 2,
     "metadata": {},
     "source": [
      "homogeneity of data pool"
     ]
    },
    {
     "cell_type": "markdown",
     "metadata": {},
     "source": [
      "For this particular zip code and this data set, we have reach fluctuation level of 6% by using only 50 components. It means that our data pool is quite homogeneous. With this, we have enough components to construct model of average PV power output under this zip code since we have 82 residential-size components."
     ]
    }
   ],
   "metadata": {}
  }
 ]
}