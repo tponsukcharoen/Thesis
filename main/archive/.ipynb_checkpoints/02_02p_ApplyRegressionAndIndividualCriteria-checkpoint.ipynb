{
 "cells": [
  {
   "cell_type": "markdown",
   "metadata": {},
   "source": [
    "### Applying spline regression to all days of power readings"
   ]
  },
  {
   "cell_type": "markdown",
   "metadata": {},
   "source": [
    "From previous notebook, we have seen that linear combination of splines and variable transformation helps us formulating regression function for ideal power readings curve for each day. We can apply such spline regression and compare regression coefficients across days. In addition, we can compare total daily energy production across days as well."
   ]
  },
  {
   "cell_type": "code",
   "execution_count": 1,
   "metadata": {
    "collapsed": false
   },
   "outputs": [],
   "source": [
    "import pandas as pd\n",
    "import numpy as np\n",
    "import matplotlib.pyplot as plt\n",
    "import datetime\n",
    "import pytz\n",
    "import os\n",
    "import patsy #for spline regression\n",
    "import scipy #for non-negative least square \n",
    "import scipy as sp \n",
    "from scipy import stats\n",
    "from scipy.optimize import nnls\n",
    "from numpy.linalg import inv #for matrix and statistics\n",
    "import scipy as sp\n",
    "import math\n",
    "%matplotlib inline"
   ]
  },
  {
   "cell_type": "code",
   "execution_count": 2,
   "metadata": {
    "collapsed": false
   },
   "outputs": [],
   "source": [
    "#specify data source \n",
    "#datasource = 'L'\n",
    "#datasource = 'Stanford'"
   ]
  },
  {
   "cell_type": "code",
   "execution_count": 3,
   "metadata": {
    "collapsed": false
   },
   "outputs": [],
   "source": [
    "#[zipcode,minutes] = ['08640',15]\n",
    "#[zipcode,minutes] = ['08641',15] #do half case only for this\n",
    "#[zipcode,minutes] = ['92562',15] \n",
    "#[zipcode,minutes] = ['92563',15] \n",
    "[datasource,zipcode,minutes] = ['Stanford','94305',1] #too few data points throughout the year"
   ]
  },
  {
   "cell_type": "code",
   "execution_count": 4,
   "metadata": {
    "collapsed": true
   },
   "outputs": [],
   "source": [
    "training_data_choice = 0 #0 is full, 1 is first half, 2 is second half (For validation purpose. Check 01_07 for more detail)"
   ]
  },
  {
   "cell_type": "code",
   "execution_count": 5,
   "metadata": {
    "collapsed": false
   },
   "outputs": [],
   "source": [
    "if training_data_choice == 0:\n",
    "    datafilename = 'training_data.csv'\n",
    "if training_data_choice == 1:\n",
    "    datafilename = 'training_data_1.csv'\n",
    "if training_data_choice == 2:\n",
    "    datafilename = 'training_data_2.csv'\n",
    "#mainDir = 'C:/Users/Tee/Dropbox/Active/EnergyProject/Thesis/PVreadingsStudies/main'\n",
    "mainDir = 'C:\\Users\\Admin\\Dropbox\\Active\\EnergyProject\\Thesis'\n",
    "\n",
    "#we can choose which data to look at.\n",
    "dataDir = mainDir + '/data/solar/' + datasource +'/' + zipcode +'/'\n",
    "outputDir = mainDir + '/output/'+ datasource +'/' + zipcode +'/'"
   ]
  },
  {
   "cell_type": "code",
   "execution_count": 6,
   "metadata": {
    "collapsed": false
   },
   "outputs": [],
   "source": [
    "data = pd.read_csv(dataDir + datafilename)\n",
    "data['tsLocal'] = data['tsLocal'].map(lambda x: datetime.datetime.strptime(x,\"%Y-%m-%d %H:%M:%S\"))"
   ]
  },
  {
   "cell_type": "code",
   "execution_count": 7,
   "metadata": {
    "collapsed": false
   },
   "outputs": [],
   "source": [
    "#set up output directory\n",
    "directory = outputDir +'dailyfit' \n",
    "if not os.path.exists(directory):\n",
    "    os.makedirs(directory)\n",
    "#set up knots \n",
    "knots = [-10./12, -8./12, -4./12, 0, 4./12, 8./12, 10./12]\n",
    "#set up date list and summary table\n",
    "DateList = list(set(data.tsLocal.map(lambda x: x.date())))\n",
    "DateList.sort()\n",
    "dsummary = pd.DataFrame(float('NaN'), index = np.arange(len(DateList)), \\\n",
    "                        columns = ['E','Rsq','c0','c1','c2','c3','c4','c5','c6','c7','c8','c9','c10'])\n",
    "dsummary['Date']=DateList\n",
    "#compute necessary quantity for data\n",
    "x = np.cos(data.azimuth/180*np.pi)*np.cos(data.altitude/180*np.pi)\n",
    "y = np.sin(data.azimuth/180*np.pi)*np.cos(data.altitude/180*np.pi)\n",
    "z = np.sin(data.altitude/180*np.pi)\n",
    "data['s'] = -y/np.sqrt(y*y+z*z)\n",
    "\n",
    "#save data after adding variable s\n",
    "data.to_csv(dataDir + datafilename,index=False)"
   ]
  },
  {
   "cell_type": "code",
   "execution_count": 8,
   "metadata": {
    "collapsed": false
   },
   "outputs": [],
   "source": [
    "#For thesis writeup. Show splines used in this model\n",
    "DateOfInterest = datetime.datetime.strptime(\"2014-06-21 00:00:00\",\"%Y-%m-%d %H:%M:%S\").date()\n",
    "df = data[data.tsLocal.map(lambda x: x.date()) == DateOfInterest]\n",
    "\n",
    "#calculate total daily energy production unit in kWhr\n",
    "E = df['power'].sum(skipna=False)*15/60\n",
    "#dsummary.E.iloc[] = E\n",
    "\n",
    "if (not math.isnan(E)):\n",
    "    x = df.s\n",
    "    yy = patsy.dmatrix(\"bs(x, knots = knots, degree=3, include_intercept=True,lower_bound=-1, upper_bound=1) - 1\", {\"x\": x})\n",
    "    #remove last basis (non-zero at endpoint)\n",
    "    #y = np.delete(y,-1,1)\n",
    "\n",
    "    X = yy\n",
    "    y = df.power\n",
    "    \n",
    "    #remove last basis (non-zero at endpoint)\n",
    "    #y = np.delete(y,-1,1)\n",
    "    # Define some coefficients\n",
    "    b = np.array([1, 1, 1, 1, 1, 1, 1, 1, 1, 1, 1])\n",
    "\n",
    "    fig = plt.figure(figsize=(10,6))\n",
    "    ax1  = fig.add_subplot(111)\n",
    "\n",
    "    # Plot B-spline basis functions (colored curves) each multiplied by its coeff\n",
    "    ax1.plot(x, yy*b, linewidth=2);\n",
    "\n",
    "    # Plot the spline itself (sum of the basis functions, thick black curve)\n",
    "    ax1.plot(x, np.dot(yy, b), color='k', linewidth=2);\n",
    "    ax1.set_xlabel('s')\n",
    "    ax1.set_ylabel('Value')"
   ]
  },
  {
   "cell_type": "code",
   "execution_count": 9,
   "metadata": {
    "collapsed": false
   },
   "outputs": [],
   "source": [
    "#For Thesis. Example of Spline Regression with confidence band\n",
    "if (not math.isnan(E)):\n",
    "    #add zero for nan\n",
    "    y[map(math.isnan,y)] = 0\n",
    "\n",
    "    beta = scipy.optimize.nnls(X,y)[0]\n",
    "    #dsummary.iloc[i,2:13] = beta\n",
    "    ypredict = np.dot(X,beta)\n",
    "\n",
    "    confidence = 0.95\n",
    "    sigmasquare = np.dot(np.dot(X,beta)-y,np.dot(X,beta)-y)/(len(y)-11-1)\n",
    "    kappa = sp.stats.t._ppf((1+confidence)/2., len(y)-11-1)\n",
    "    band = kappa*np.sqrt(np.diagonal(np.mat(X)*(np.linalg.inv(np.mat(X.transpose())*np.mat(X))*np.mat(X.transpose())))*sigmasquare)\n",
    "\n",
    "    Rsq = 1 - np.std(y-ypredict)*np.std(y-ypredict)/(np.std(y)*np.std(y))\n",
    "    #dsummary.Rsq.iloc[i] = Rsq\n",
    "    \n",
    "    print Rsq\n",
    "\n",
    "    fig = plt.figure(figsize=(10,6))\n",
    "    ax1  = fig.add_subplot(111)\n",
    "    \n",
    "    ax1.plot(x, ypredict,color='black')\n",
    "    ax1.plot(x,y)\n",
    "    ax1.plot(x,y,marker='+', ls='None')\n",
    "    ax1.fill_between(x, ypredict- band, ypredict+ band, color='grey', alpha='0.5')\n",
    "    #plt.title('Date: '+ DateOfInterest.strftime(\"%Y-%m-%d\") + ', E =' + \"{:.3f}\".format(float(E)) + ', Rsq = '+\"{:.3f}\".format(float(Rsq)) ) \n",
    "    ax1.set_xlabel('s')\n",
    "    ax1.set_ylabel('normalized power (-)')\n",
    "    ax1.set_xlim(-1,1)\n",
    "    ax1.set_ylim(0,1)\n",
    "    "
   ]
  },
  {
   "cell_type": "code",
   "execution_count": 10,
   "metadata": {
    "collapsed": false
   },
   "outputs": [
    {
     "name": "stderr",
     "output_type": "stream",
     "text": [
      "C:\\Users\\Admin\\Anaconda\\lib\\site-packages\\pandas\\core\\indexing.py:121: SettingWithCopyWarning: \n",
      "A value is trying to be set on a copy of a slice from a DataFrame\n",
      "\n",
      "See the the caveats in the documentation: http://pandas.pydata.org/pandas-docs/stable/indexing.html#indexing-view-versus-copy\n",
      "  self._setitem_with_indexer(indexer, value)\n",
      "C:\\Users\\Admin\\Anaconda\\lib\\site-packages\\IPython\\kernel\\__main__.py:19: SettingWithCopyWarning: \n",
      "A value is trying to be set on a copy of a slice from a DataFrame\n",
      "\n",
      "See the the caveats in the documentation: http://pandas.pydata.org/pandas-docs/stable/indexing.html#indexing-view-versus-copy\n",
      "C:\\Users\\Admin\\Anaconda\\lib\\site-packages\\pandas\\core\\generic.py:3368: SettingWithCopyWarning: \n",
      "A value is trying to be set on a copy of a slice from a DataFrame\n",
      "\n",
      "See the the caveats in the documentation: http://pandas.pydata.org/pandas-docs/stable/indexing.html#indexing-view-versus-copy\n",
      "  self._update_inplace(new_data)\n",
      "C:\\Users\\Admin\\Anaconda\\lib\\site-packages\\IPython\\core\\interactiveshell.py:3032: SettingWithCopyWarning: \n",
      "A value is trying to be set on a copy of a slice from a DataFrame\n",
      "\n",
      "See the the caveats in the documentation: http://pandas.pydata.org/pandas-docs/stable/indexing.html#indexing-view-versus-copy\n",
      "  exec(code_obj, self.user_global_ns, self.user_ns)\n"
     ]
    }
   ],
   "source": [
    "for i in range(0, len(DateList)): \n",
    "    DateOfInterest = DateList[i]\n",
    "    df = data[data.tsLocal.map(lambda x: x.date()) == DateOfInterest]\n",
    "\n",
    "    #calculate total daily energy production unit in kWhr\n",
    "    E = df['power'].sum(skipna=False)*minutes/60\n",
    "    dsummary.E.iloc[i] = E\n",
    "    \n",
    "    if (not math.isnan(E)):\n",
    "        x = df.s\n",
    "        yy = patsy.dmatrix(\"bs(x, knots = knots, degree=3, include_intercept=True,lower_bound=-1, upper_bound=1) - 1\", {\"x\": x})\n",
    "        #remove last basis (non-zero at endpoint)\n",
    "        #y = np.delete(y,-1,1)\n",
    "\n",
    "        X = yy\n",
    "        y = df.power\n",
    "\n",
    "        #add zero for nan\n",
    "        y[map(math.isnan,y)] = 0\n",
    "\n",
    "        beta = scipy.optimize.nnls(X,y)[0]\n",
    "        dsummary.iloc[i,2:13] = beta\n",
    "        ypredict = np.dot(X,beta)\n",
    "\n",
    "        confidence = 0.95\n",
    "        sigmasquare = np.dot(np.dot(X,beta)-y,np.dot(X,beta)-y)/(len(y)-11-1)\n",
    "        kappa = sp.stats.t._ppf((1+confidence)/2., len(y)-11-1)\n",
    "        band = kappa*np.sqrt(np.diagonal(np.mat(X)*(np.linalg.inv(np.mat(X.transpose())*np.mat(X))*np.mat(X.transpose())))*sigmasquare)\n",
    "\n",
    "        Rsq = 1 - np.std(y-ypredict)*np.std(y-ypredict)/(np.std(y)*np.std(y))\n",
    "        dsummary.Rsq.iloc[i] = Rsq\n",
    "    "
   ]
  },
  {
   "cell_type": "markdown",
   "metadata": {},
   "source": [
    "Once we experiment with degress of polynomial 2, one can see that some fits of power profiles are not smooth at first and last knots. Hence we try degree of polynomials 3 and get better result."
   ]
  },
  {
   "cell_type": "markdown",
   "metadata": {},
   "source": [
    "### Criteria to choose data for regression: individual profile consideration"
   ]
  },
  {
   "cell_type": "markdown",
   "metadata": {},
   "source": [
    "#### Maxima and minima consideration (might be too strong in some cases)"
   ]
  },
  {
   "cell_type": "markdown",
   "metadata": {},
   "source": [
    "From above investigation, we are now able to see that linear combination of splines is a good candidate for regression function. Now we would like to find ideal coefficients β for any day. From data, we can use regression method as above to find coefficients β. However, we do not know those β's are ideal coefficients or not. So we would like to build criteria to determine if a given measured power profile gives ideal coefficients or not."
   ]
  },
  {
   "cell_type": "markdown",
   "metadata": {},
   "source": [
    "One criteria we can use is to consider derivatives of regression function. To have simple bell-shape curve, the power profile curve should have relatively simple variation: increase from zero to maximum then decrease to zero. It just means we expect $\\{x|f^\\prime(x)=0,f^{\\prime\\prime}(x)<0 \\}$ to have a single member. Also, we expect $\\{x|f^\\prime(x)=0,f^{\\prime\\prime}(x) \\ge 0 \\}$ to be an empty set."
   ]
  },
  {
   "cell_type": "markdown",
   "metadata": {},
   "source": [
    "Finding a derivative of linear combination of B-splines degree 3 directly from recursion relation is a tedious task. So we invent a way to find a derivative of such function based on numerical tryouts. We know that function defined between two knots $x \\in [k_i, k_{i+1})$ has a form:\n",
    "\n",
    "$f(x) = a_i x^3 + b_i x^2 + c_i x + d_i$\n",
    "\n",
    "We may use regression function to predict values for 4 distinct points, say, $\\{k_i, \\dfrac23k_i + \\dfrac13k_{i+1}, \\dfrac13k_i + \\dfrac23k_{i+1}, k_{i+1}\\}$. Then one can solve a system of 4 linear equations with 4 unknowns $\\{a_i,b_i,c_i,d_i\\}$. Then we can find a derivative of function as:\n",
    "\n",
    "$f^\\prime(x) = 3a_i x^2 + 2b_i x + c_i$\n",
    "\n",
    "This leads to a simple heurestic as follow: \n",
    "1. For each interval between knots, find $\\{a_i,b_i,c_i,d_i\\}$ as described above.\n",
    "2. If $(2b_i)^2 - 4(3a_i)(c_i)<0$, i.e., $b_i^2 - 3a_ic_i<0$ then record that the interval has no critical point.\n",
    "3. Find roots $r = \\dfrac{-2b_i \\pm \\sqrt{(2b_i)^2 - 4(3a_i)(c_i)}}{2 (3a_i)} = \\dfrac{-b_i \\pm \\sqrt{b_i^2 - 3a_ic_i}}{3a_i}$\n",
    "4. Count the number of roots that lies inside interval between such knots. Such number is number of critical points in the interval.\n",
    "5. Count total number of critical points of the function. If the total number does not equal one, then we conclude that a given measured power profile does not give ideal coefficients.\n",
    "\n",
    "Since our construction of splines has non-negative coefficients and zero value at endpoints, if there is one critical point then such critical point is maximum. There is no need to check second derivative."
   ]
  },
  {
   "cell_type": "code",
   "execution_count": 11,
   "metadata": {
    "collapsed": false
   },
   "outputs": [
    {
     "data": {
      "text/plain": [
       "[0]"
      ]
     },
     "execution_count": 11,
     "metadata": {},
     "output_type": "execute_result"
    }
   ],
   "source": [
    "'''\n",
    "#read summary file\n",
    "year = '2013'\n",
    "zipcode = '92563'\n",
    "#mainDir = 'C:/Users/umnouyp/Dropbox/Active/EnergyProject/Thesis/PVreadingsStudies/main'\n",
    "mainDir = 'C:/Users/Tee/Dropbox/Active/EnergyProject/Thesis/PVreadingsStudies/main'\n",
    "#mainDir = 'C:\\Users\\Admin\\Dropbox\\Active\\EnergyProject\\Thesis\\PVreadingsStudies\\main'\n",
    "#we can choose which data to look at. For now, we have Locus Energy 2013 or 2014\n",
    "datasource = '/data/LocusEnergy/'+year+'/'\n",
    "outputsink = '/output/LocusEnergy/'+year+'/'\n",
    "directory = mainDir + outputsink + zipcode\n",
    "dsummary = pd.read_csv(directory+\"/fitsummary.csv\")\n",
    "dsummary.Date = dsummary.Date.map(lambda x: datetime.datetime.strptime(x,\"%Y-%m-%d\").date())\n",
    "'''\n",
    "[0]"
   ]
  },
  {
   "cell_type": "markdown",
   "metadata": {},
   "source": [
    "Here we introduce a number associated of date where winter solstice is zero. This number will be useful in seasonal alignment."
   ]
  },
  {
   "cell_type": "code",
   "execution_count": 12,
   "metadata": {
    "collapsed": false
   },
   "outputs": [],
   "source": [
    "def DOY (timestamp): #Stand for \"Day of Year\"\n",
    "    if (type(timestamp) is str):\n",
    "        if len(timestamp) == 19:\n",
    "            Date = datetime.datetime.strptime(timestamp,\"%Y-%m-%d %H:%M:%S\").date()\n",
    "        if len(timestamp) == 10:\n",
    "            Date = datetime.datetime.strptime(timestamp,\"%Y-%m-%d\").date()\n",
    "    elif (type(timestamp) is datetime.date):\n",
    "        Date = timestamp\n",
    "    elif (type(timestamp) is pd.tslib.Timestamp):\n",
    "        Date= timestamp.date()\n",
    "    else:\n",
    "        print 'not valid time object'\n",
    "    y = str(Date.year)\n",
    "    NewYear = datetime.datetime.strptime(y+'-01-01',\"%Y-%m-%d\").date()\n",
    "    d = (Date - NewYear).days\n",
    "    if (int(y)%4==0)&(Date > datetime.datetime.strptime(y+'-02-28',\"%Y-%m-%d\").date()): #leap year correction\n",
    "        d = d-1\n",
    "    return d;\n",
    "\n",
    "def DBW (timestamp): #DBW (\"Day Before Winter Solstice\")\n",
    "    d = DOY(timestamp)-355\n",
    "    if d>0:\n",
    "        d=d-365\n",
    "    return d;\n"
   ]
  },
  {
   "cell_type": "code",
   "execution_count": 13,
   "metadata": {
    "collapsed": false
   },
   "outputs": [],
   "source": [
    "dsummary['DBW'] = dsummary.Date.map(lambda x: DBW(x))\n",
    "#dsummary = dsummary.sort(['DateNum'])"
   ]
  },
  {
   "cell_type": "code",
   "execution_count": 14,
   "metadata": {
    "collapsed": false
   },
   "outputs": [],
   "source": [
    "#this will be location of maximum\n",
    "dsummary['singlemax'] = float('NaN')\n",
    "\n",
    "#setup knots and check points\n",
    "knots = [-10./12, -8./12, -4./12, 0, 4./12, 8./12, 10./12]\n",
    "#intervals share knots. So we need 2*3 (end intervals) + 6*2 (middle intervals) +7 (knots)\n",
    "xcheck = np.array([-36./36, -34./36, -32./36, -30./36, -28./36, -26./36, -24./36, -20./36, -16./36, -12./36, -8./36, -4./36, 0.,\n",
    "          4./36, 8./36, 12./36, 16./36, 20./36, 24./36, 26./36, 28./36, 30./36, 32./36, 34./36, 36./36])\n",
    "y = patsy.dmatrix(\"bs(x, knots = knots, degree=3, include_intercept=False,lower_bound=-1, upper_bound=1) - 1\", {\"x\": xcheck})\n",
    "#remove last basis (non-zero at endpoint)\n",
    "y = np.delete(y,-1,1)\n",
    "X = y"
   ]
  },
  {
   "cell_type": "code",
   "execution_count": 15,
   "metadata": {
    "collapsed": false
   },
   "outputs": [
    {
     "data": {
      "text/html": [
       "<div style=\"max-height:1000px;max-width:1500px;overflow:auto;\">\n",
       "<table border=\"1\" class=\"dataframe\">\n",
       "  <thead>\n",
       "    <tr style=\"text-align: right;\">\n",
       "      <th></th>\n",
       "      <th>E</th>\n",
       "      <th>Rsq</th>\n",
       "      <th>c0</th>\n",
       "      <th>c1</th>\n",
       "      <th>c2</th>\n",
       "      <th>c3</th>\n",
       "      <th>c4</th>\n",
       "      <th>c5</th>\n",
       "      <th>c6</th>\n",
       "      <th>c7</th>\n",
       "      <th>c8</th>\n",
       "      <th>c9</th>\n",
       "      <th>c10</th>\n",
       "      <th>Date</th>\n",
       "      <th>DBW</th>\n",
       "      <th>singlemax</th>\n",
       "    </tr>\n",
       "  </thead>\n",
       "  <tbody>\n",
       "    <tr>\n",
       "      <th>0</th>\n",
       "      <td> 4.050097</td>\n",
       "      <td> 0.944918</td>\n",
       "      <td> 0.034118</td>\n",
       "      <td> 0.370151</td>\n",
       "      <td> 0.451887</td>\n",
       "      <td> 0.615727</td>\n",
       "      <td> 0.651572</td>\n",
       "      <td> 0.672137</td>\n",
       "      <td> 0.70027</td>\n",
       "      <td> 0.582532</td>\n",
       "      <td> 0.431649</td>\n",
       "      <td> 0.553558</td>\n",
       "      <td> 0.054484</td>\n",
       "      <td> 2013-01-01</td>\n",
       "      <td>-355</td>\n",
       "      <td>NaN</td>\n",
       "    </tr>\n",
       "  </tbody>\n",
       "</table>\n",
       "</div>"
      ],
      "text/plain": [
       "          E       Rsq        c0        c1        c2        c3        c4  \\\n",
       "0  4.050097  0.944918  0.034118  0.370151  0.451887  0.615727  0.651572   \n",
       "\n",
       "         c5       c6        c7        c8        c9       c10        Date  DBW  \\\n",
       "0  0.672137  0.70027  0.582532  0.431649  0.553558  0.054484  2013-01-01 -355   \n",
       "\n",
       "   singlemax  \n",
       "0        NaN  "
      ]
     },
     "execution_count": 15,
     "metadata": {},
     "output_type": "execute_result"
    }
   ],
   "source": [
    "dsummary[:1]"
   ]
  },
  {
   "cell_type": "code",
   "execution_count": 16,
   "metadata": {
    "collapsed": false
   },
   "outputs": [
    {
     "name": "stderr",
     "output_type": "stream",
     "text": [
      "C:\\Users\\Admin\\Anaconda\\lib\\site-packages\\IPython\\kernel\\__main__.py:32: SettingWithCopyWarning: \n",
      "A value is trying to be set on a copy of a slice from a DataFrame\n",
      "\n",
      "See the the caveats in the documentation: http://pandas.pydata.org/pandas-docs/stable/indexing.html#indexing-view-versus-copy\n"
     ]
    }
   ],
   "source": [
    "for i in range(0, dsummary.shape[0]): \n",
    "    if (not math.isnan(dsummary.iloc[i,0])):\n",
    "        beta = dsummary.iloc[i,2:11]\n",
    "        ycheck = np.array(np.dot(X,beta))\n",
    "        Xcheck = pd.DataFrame(1, index = np.arange(len(xcheck)), columns = ['c0','c1','c2','c3'])\n",
    "        Xcheck.iloc[:,1] = xcheck\n",
    "        Xcheck.iloc[:,2] = xcheck*xcheck\n",
    "        Xcheck.iloc[:,3] = xcheck*xcheck*xcheck\n",
    "        CriticalPoint = float('NaN')\n",
    "        KickoutLoop = False\n",
    "        IntervalCount = 0\n",
    "        while (IntervalCount<8) & (KickoutLoop==False): \n",
    "            yshort = ycheck[(3*IntervalCount):(3*IntervalCount+4)]\n",
    "            Xshort = Xcheck.iloc[(3*IntervalCount):(3*IntervalCount+4),:]\n",
    "            [d, c, b, a] = np.linalg.solve(Xshort,yshort)\n",
    "            if b*b-3*a*c >= 0:\n",
    "                r1 = (-b-np.sqrt(b*b-3*a*c))/(3*a)\n",
    "                r2 = (-b+np.sqrt(b*b-3*a*c))/(3*a)\n",
    "                if (r1>=Xshort.iloc[0,1]) & (r1<=Xshort.iloc[3,1]): #check if roots are between knots\n",
    "                    if math.isnan(CriticalPoint):\n",
    "                        CriticalPoint = r1\n",
    "                    else:\n",
    "                        CriticalPoint = float('NaN')\n",
    "                        break#KickoutLoop = True #jump off loop\n",
    "                if (r2>=Xshort.iloc[0,1]) & (r2<=Xshort.iloc[3,1]): #check if roots are between knots\n",
    "                    if math.isnan(CriticalPoint):\n",
    "                        CriticalPoint = r2\n",
    "                    else:\n",
    "                        CriticalPoint = float('NaN')\n",
    "                        break#KickoutLoop = True #jump off loop   \n",
    "            IntervalCount = IntervalCount+1\n",
    "        dsummary.singlemax[i] = CriticalPoint\n",
    "    "
   ]
  },
  {
   "cell_type": "code",
   "execution_count": 17,
   "metadata": {
    "collapsed": false
   },
   "outputs": [
    {
     "name": "stderr",
     "output_type": "stream",
     "text": [
      "C:\\Users\\Admin\\Anaconda\\lib\\site-packages\\matplotlib\\figure.py:387: UserWarning: matplotlib is currently using a non-GUI backend, so cannot show the figure\n",
      "  \"matplotlib is currently using a non-GUI backend, \"\n"
     ]
    },
    {
     "data": {
      "image/png": "[encoded data removed]",
      "text/plain": [
       "<matplotlib.figure.Figure at 0x201d9710>"
      ]
     },
     "metadata": {},
     "output_type": "display_data"
    }
   ],
   "source": [
    "fig, ax1 = plt.subplots()\n",
    "ax1.plot(dsummary.DBW, dsummary.E, 'b.')\n",
    "ax1.set_xlabel('day before winter solstice')\n",
    "# Make the y-axis label and tick labels match the line color.\n",
    "ax1.set_ylabel('E', color='b')\n",
    "for tl in ax1.get_yticklabels():\n",
    "    tl.set_color('b')\n",
    "    \n",
    "ax2 = ax1.twinx()\n",
    "ax2.plot(dsummary.DBW, dsummary.Rsq, 'r.')\n",
    "ax2.set_ylabel('Rsq', color='r')\n",
    "ax2.set_ylim(0,1)\n",
    "for tl in ax2.get_yticklabels():\n",
    "    tl.set_color('r')\n",
    "    \n",
    "for i in [-90,-180,-270]:\n",
    "    plt.axvline(x=i, color='black')\n",
    "for i in [-45,-45-90,-45-180,-45-270]:\n",
    "    plt.axvline(x=i, color='black',linestyle='--')\n",
    "plt.xlim(-365,0)\n",
    "\n",
    "fig = plt.gcf()\n",
    "fig.set_size_inches(8,6)\n",
    "#save figure\n",
    "if training_data_choice == 0:\n",
    "    fig.savefig(outputDir+ 'nofilter.png',dpi=100)\n",
    "if training_data_choice == 1:\n",
    "    fig.savefig(outputDir+ 'nofilter_1.png',dpi=100)\n",
    "if training_data_choice == 2:\n",
    "    fig.savefig(outputDir+ 'nofilter_2.png',dpi=100)\n",
    "\n",
    "fig.show()"
   ]
  },
  {
   "cell_type": "code",
   "execution_count": 18,
   "metadata": {
    "collapsed": false
   },
   "outputs": [
    {
     "data": {
      "image/png": "[encoded data removed]",
      "text/plain": [
       "<matplotlib.figure.Figure at 0x201d9198>"
      ]
     },
     "metadata": {},
     "output_type": "display_data"
    }
   ],
   "source": [
    "dsummary['PeakCheck'] = dsummary.singlemax.map(lambda x: not math.isnan(x))\n",
    "dsummary_pickup = dsummary[dsummary.PeakCheck]\n",
    "\n",
    "fig, ax1 = plt.subplots()\n",
    "ax1.plot(dsummary.DBW[dsummary.PeakCheck], dsummary.E[dsummary.PeakCheck], 'b.')\n",
    "ax1.set_xlabel('day before winter solstice')\n",
    "# Make the y-axis label and tick labels match the line color.\n",
    "ax1.set_ylabel('E', color='b')\n",
    "for tl in ax1.get_yticklabels():\n",
    "    tl.set_color('b')\n",
    "    \n",
    "ax2 = ax1.twinx()\n",
    "ax2.plot(dsummary.DBW[dsummary.PeakCheck], dsummary.Rsq[dsummary.PeakCheck], 'r.')\n",
    "ax2.set_ylabel('Rsq', color='r')\n",
    "ax2.set_ylim(0,1)\n",
    "for tl in ax2.get_yticklabels():\n",
    "    tl.set_color('r')\n",
    "    \n",
    "for i in [-90,-180,-270]:\n",
    "    plt.axvline(x=i, color='black')\n",
    "for i in [-45,-45-90,-45-180,-45-270]:\n",
    "    plt.axvline(x=i, color='black',linestyle='--')\n",
    "plt.xlim(-365,0)\n",
    "\n",
    "fig = plt.gcf()\n",
    "fig.set_size_inches(8,6)\n",
    "#save figure\n",
    "if training_data_choice == 0:\n",
    "    fig.savefig(outputDir+ 'peakcheck_filter.png',dpi=100)\n",
    "if training_data_choice == 1:\n",
    "    fig.savefig(outputDir+ 'peakcheck_filter_1.png',dpi=100)\n",
    "if training_data_choice == 2:\n",
    "    fig.savefig(outputDir+ 'peakcheck_filter_2.png',dpi=100)\n",
    "fig.show()"
   ]
  },
  {
   "cell_type": "markdown",
   "metadata": {},
   "source": [
    "Here one can see that the selection method is too strong. We need to find other methods instead."
   ]
  },
  {
   "cell_type": "markdown",
   "metadata": {},
   "source": [
    "#### Goodness of the fit consideration (generic and good to use)"
   ]
  },
  {
   "cell_type": "markdown",
   "metadata": {},
   "source": [
    "Let's look at histogram of Rsq under different seasons (divided by dotted lines)."
   ]
  },
  {
   "cell_type": "code",
   "execution_count": 19,
   "metadata": {
    "collapsed": false
   },
   "outputs": [],
   "source": [
    "Rsq_cutoff = 0.95"
   ]
  },
  {
   "cell_type": "code",
   "execution_count": 20,
   "metadata": {
    "collapsed": false
   },
   "outputs": [
    {
     "data": {
      "text/plain": [
       "\"\\nfig = plt.figure(figsize=(16,4))\\nax1  = fig.add_subplot(141)\\nax1.hist(list(dsummary.Rsq[((dsummary.DBW<=-45-270) | (dsummary.DBW >= -45)) & (dsummary.Rsq>Rsq_cutoff)]))\\nax1.set_title('Winter')\\nax1  = fig.add_subplot(142)\\nax1.hist(list(dsummary.Rsq[(dsummary.DBW<=-45-180) & (dsummary.DBW >= -45-270) & (dsummary.Rsq>Rsq_cutoff)]))\\nax1.set_title('Spring')\\nax1  = fig.add_subplot(143)\\nax1.hist(list(dsummary.Rsq[(dsummary.DBW<=-45-90) & (dsummary.DBW >= -45-180) & (dsummary.Rsq>Rsq_cutoff)]))\\nax1.set_title('Summer')\\nax1  = fig.add_subplot(144)\\nax1.hist(list(dsummary.Rsq[(dsummary.DBW<=-45) & (dsummary.DBW >= -45-90) & (dsummary.Rsq>Rsq_cutoff)]))\\nax1.set_title('Fall')\\n\""
      ]
     },
     "execution_count": 20,
     "metadata": {},
     "output_type": "execute_result"
    }
   ],
   "source": [
    "'''\n",
    "fig = plt.figure(figsize=(16,4))\n",
    "ax1  = fig.add_subplot(141)\n",
    "ax1.hist(list(dsummary.Rsq[((dsummary.DBW<=-45-270) | (dsummary.DBW >= -45)) & (dsummary.Rsq>Rsq_cutoff)]))\n",
    "ax1.set_title('Winter')\n",
    "ax1  = fig.add_subplot(142)\n",
    "ax1.hist(list(dsummary.Rsq[(dsummary.DBW<=-45-180) & (dsummary.DBW >= -45-270) & (dsummary.Rsq>Rsq_cutoff)]))\n",
    "ax1.set_title('Spring')\n",
    "ax1  = fig.add_subplot(143)\n",
    "ax1.hist(list(dsummary.Rsq[(dsummary.DBW<=-45-90) & (dsummary.DBW >= -45-180) & (dsummary.Rsq>Rsq_cutoff)]))\n",
    "ax1.set_title('Summer')\n",
    "ax1  = fig.add_subplot(144)\n",
    "ax1.hist(list(dsummary.Rsq[(dsummary.DBW<=-45) & (dsummary.DBW >= -45-90) & (dsummary.Rsq>Rsq_cutoff)]))\n",
    "ax1.set_title('Fall')\n",
    "'''"
   ]
  },
  {
   "cell_type": "markdown",
   "metadata": {},
   "source": [
    "It looks like $Rsq = 0.95$ is a legitimate cutoff. Let's apply it to our data."
   ]
  },
  {
   "cell_type": "code",
   "execution_count": 21,
   "metadata": {
    "collapsed": false
   },
   "outputs": [
    {
     "data": {
      "image/png": "[encoded data removed]",
      "text/plain": [
       "<matplotlib.figure.Figure at 0x1c7a17b8>"
      ]
     },
     "metadata": {},
     "output_type": "display_data"
    }
   ],
   "source": [
    "dsummary['FirstCheck'] = dsummary.Rsq.map(lambda x: x> Rsq_cutoff)\n",
    "dsummary_pickup = dsummary[dsummary.FirstCheck]\n",
    "\n",
    "fig, ax1 = plt.subplots()\n",
    "ax1.plot(dsummary.DBW[dsummary.FirstCheck], dsummary.E[dsummary.FirstCheck], 'b.')\n",
    "ax1.set_xlabel('day before winter solstice')\n",
    "# Make the y-axis label and tick labels match the line color.\n",
    "ax1.set_ylabel('E', color='b')\n",
    "for tl in ax1.get_yticklabels():\n",
    "    tl.set_color('b')\n",
    "    \n",
    "ax2 = ax1.twinx()\n",
    "ax2.plot(dsummary.DBW[dsummary.FirstCheck], dsummary.Rsq[dsummary.FirstCheck], 'r.')\n",
    "ax2.set_ylabel('Rsq', color='r')\n",
    "ax2.set_ylim(0,1)\n",
    "for tl in ax2.get_yticklabels():\n",
    "    tl.set_color('r')\n",
    "    \n",
    "for i in [-90,-180,-270]:\n",
    "    plt.axvline(x=i, color='black')\n",
    "for i in [-45,-45-90,-45-180,-45-270]:\n",
    "    plt.axvline(x=i, color='black',linestyle='--')\n",
    "plt.xlim(-365,0)\n",
    "\n",
    "fig = plt.gcf()\n",
    "fig.set_size_inches(8,6)\n",
    "#save figure\n",
    "if training_data_choice == 0:\n",
    "    fig.savefig(outputDir+ 'Rsq_filter.png',dpi=100)\n",
    "if training_data_choice == 1:\n",
    "    fig.savefig(outputDir+ 'Rsq_filter_1.png',dpi=100)\n",
    "if training_data_choice == 2:\n",
    "    fig.savefig(outputDir+ 'Rsq_filter_2.png',dpi=100)\n",
    "fig.show()"
   ]
  },
  {
   "cell_type": "code",
   "execution_count": 22,
   "metadata": {
    "collapsed": false
   },
   "outputs": [
    {
     "data": {
      "text/plain": [
       "0.076049943246311008"
      ]
     },
     "execution_count": 22,
     "metadata": {},
     "output_type": "execute_result"
    }
   ],
   "source": [
    "#For thesis\n",
    "np.sum(dsummary.FirstCheck & dsummary.PeakCheck)*1.0/dsummary.shape[0]"
   ]
  },
  {
   "cell_type": "code",
   "execution_count": 23,
   "metadata": {
    "collapsed": false
   },
   "outputs": [],
   "source": [
    "if training_data_choice == 0:\n",
    "    dsummary.to_csv(outputDir + \"/fitsummary.csv\",index=False)\n",
    "if training_data_choice == 1:\n",
    "    dsummary.to_csv(outputDir + \"/fitsummary_1.csv\",index=False)\n",
    "if training_data_choice == 2:\n",
    "    dsummary.to_csv(outputDir + \"/fitsummary_2.csv\",index=False)\n"
   ]
  },
  {
   "cell_type": "markdown",
   "metadata": {},
   "source": [
    "#### Position of maximum (inaccurate due to flatness of peak)"
   ]
  },
  {
   "cell_type": "markdown",
   "metadata": {},
   "source": [
    "\n",
    "Another criterion one may use is the position of maximum. Empirically, the position of maximum should vary slowly over days. In addition, the position of maximum should be near zero if symmetry on panels' orientation is assumed. For less-than-a-year data, we use robust linear regression to select data points where the positions of maximum deviate from the regression line by less than $\\sin 15^o$ (equivalent to perturbation of our parameter around zero in $1$ hour). For full year data, we may use just can use horizontal line where y-intercept equals median as a regression or apply periodic spline. Let's use periodic spline to do the trick."
   ]
  },
  {
   "cell_type": "code",
   "execution_count": 24,
   "metadata": {
    "collapsed": false
   },
   "outputs": [
    {
     "data": {
      "text/plain": [
       "[0]"
      ]
     },
     "execution_count": 24,
     "metadata": {},
     "output_type": "execute_result"
    }
   ],
   "source": [
    "'''\n",
    "import statsmodels.api as sm\n",
    "x = dsummary_pickup.DateNum\n",
    "y = patsy.dmatrix(\"cc(x, df=4)-1\", {\"x\": x})\n",
    "X = y\n",
    "y = dsummary_pickup.singlemax\n",
    "resrlm1 = sm.QuantReg(y, X).fit(q=0.5)\n",
    "\n",
    "xpredict = x\n",
    "ypredict1 = resrlm1.predict(patsy.dmatrix(\"cc(x, df=4, upper_bound = 0, lower_bound = -365)-1\", {\"x\": xpredict}))\n",
    "\n",
    "fig, ax = plt.subplots(figsize=(8,6))\n",
    "ax.plot(x, y, 'o', label=\"data\")\n",
    "ax.plot(xpredict, ypredict1, 'r-', label=\"RLM\")\n",
    "legend = ax.legend(loc=\"best\")\n",
    "\n",
    "for i in ImportantDates:\n",
    "    plt.axvline(x=(i-DecSolstice).days, color='black')\n",
    "plt.xlim(-365,0)\n",
    "'''\n",
    "[0]"
   ]
  },
  {
   "cell_type": "code",
   "execution_count": 25,
   "metadata": {
    "collapsed": false
   },
   "outputs": [
    {
     "data": {
      "text/plain": [
       "[0]"
      ]
     },
     "execution_count": 25,
     "metadata": {},
     "output_type": "execute_result"
    }
   ],
   "source": [
    "'''\n",
    "dsummary_pickup['SecondCheck'] = abs(ypredict1-y)<math.sin(15*math.pi/180)\n",
    "dsummary['SecondCheck']=False\n",
    "dsummary.SecondCheck[dsummary_pickup.index]=dsummary_pickup.SecondCheck\n",
    "dsummary_pickup = dsummary[dsummary.SecondCheck]\n",
    "'''\n",
    "[0]"
   ]
  },
  {
   "cell_type": "code",
   "execution_count": 26,
   "metadata": {
    "collapsed": false
   },
   "outputs": [
    {
     "data": {
      "text/plain": [
       "[0]"
      ]
     },
     "execution_count": 26,
     "metadata": {},
     "output_type": "execute_result"
    }
   ],
   "source": [
    "'''\n",
    "#dsummary_pickup = dsummary[dsummary.singlemax.map(lambda x: not math.isnan(x))]\n",
    "fig, ax1 = plt.subplots()\n",
    "ax1.plot(dsummary.DateNum[dsummary.SecondCheck], dsummary.E[dsummary.SecondCheck], 'b-')\n",
    "ax1.set_xlabel('time')\n",
    "# Make the y-axis label and tick labels match the line color.\n",
    "ax1.set_ylabel('E', color='b')\n",
    "for tl in ax1.get_yticklabels():\n",
    "    tl.set_color('b')\n",
    "    \n",
    "ax2 = ax1.twinx()\n",
    "ax2.plot(dsummary_pickup.DateNum[dsummary.SecondCheck], dsummary.Rsq[dsummary.SecondCheck], 'r-')\n",
    "ax2.set_ylabel('Rsq', color='r')\n",
    "for tl in ax2.get_yticklabels():\n",
    "    tl.set_color('r')\n",
    "    \n",
    "for i in ImportantDates:\n",
    "    plt.axvline(x=(i-DecSolstice).days, color='black')\n",
    "plt.xlim(-365,0)\n",
    "    \n",
    "plt.savefig(directory+'/02filter.png')\n",
    "plt.show()\n",
    "'''\n",
    "[0]"
   ]
  },
  {
   "cell_type": "code",
   "execution_count": 27,
   "metadata": {
    "collapsed": false
   },
   "outputs": [
    {
     "data": {
      "text/plain": [
       "'f'"
      ]
     },
     "execution_count": 27,
     "metadata": {},
     "output_type": "execute_result"
    }
   ],
   "source": [
    "'''float(sum(dsummary.SecondCheck))/dsummary.shape[0]'''[0]"
   ]
  },
  {
   "cell_type": "markdown",
   "metadata": {},
   "source": [
    "Using two criteria, one can filter significant number of poor power profiles.\n",
    "\n",
    "08640: 15% remained. Done!\n",
    "\n",
    "*08641: 20% remained. Done!\n",
    "\n",
    "*92562: 35% remained. Done!\n",
    "\n",
    "92563: 35% remained. Done!\n",
    "\n",
    "94305: 7% remained. Done!\n"
   ]
  }
 ],
 "metadata": {
  "kernelspec": {
   "display_name": "Python 2",
   "language": "python",
   "name": "python2"
  },
  "language_info": {
   "codemirror_mode": {
    "name": "ipython",
    "version": 2
   },
   "file_extension": ".py",
   "mimetype": "text/x-python",
   "name": "python",
   "nbconvert_exporter": "python",
   "pygments_lexer": "ipython2",
   "version": "2.7.8"
  }
 },
 "nbformat": 4,
 "nbformat_minor": 0
}
