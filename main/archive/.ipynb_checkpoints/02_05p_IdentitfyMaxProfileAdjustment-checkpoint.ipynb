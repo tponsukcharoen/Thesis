{
 "cells": [
  {
   "cell_type": "code",
   "execution_count": 6,
   "metadata": {
    "collapsed": false
   },
   "outputs": [],
   "source": [
    "import pandas as pd\n",
    "import numpy as np\n",
    "import matplotlib.pyplot as plt\n",
    "import datetime\n",
    "import pytz\n",
    "import os\n",
    "import patsy #for spline regression\n",
    "import scipy #for non-negative least square \n",
    "import scipy as sp \n",
    "from scipy import stats\n",
    "from scipy.optimize import nnls,linprog\n",
    "from numpy.linalg import inv #for matrix and statistics\n",
    "import scipy as sp\n",
    "import math\n",
    "import statsmodels.api as sm\n",
    "from sklearn.cluster import AgglomerativeClustering\n",
    "from sklearn.cluster import KMeans\n",
    "import sklearn.cluster\n",
    "import sklearn.linear_model\n",
    "%matplotlib inline"
   ]
  },
  {
   "cell_type": "code",
   "execution_count": 7,
   "metadata": {
    "collapsed": false
   },
   "outputs": [],
   "source": [
    "#specify data source \n",
    "#datasource = 'L'"
   ]
  },
  {
   "cell_type": "code",
   "execution_count": 8,
   "metadata": {
    "collapsed": false
   },
   "outputs": [],
   "source": [
    "#zipcode = '08640'\n",
    "#zipcode = '08641'\n",
    "#zipcode = '92562'\n",
    "#zipcode = '92563'\n",
    "[datasource, zipcode] = ['Stanford','94305']"
   ]
  },
  {
   "cell_type": "code",
   "execution_count": 9,
   "metadata": {
    "collapsed": false
   },
   "outputs": [],
   "source": [
    "#mainDir = 'C:/Users/umnouyp/Dropbox/Active/EnergyProject/Thesis/PVreadingsStudies/main'\n",
    "#mainDir = 'C:/Users/Tee/Dropbox/Active/EnergyProject/Thesis/PVreadingsStudies/main'\n",
    "mainDir = 'C:\\Users\\Admin\\Dropbox\\Active\\EnergyProject\\Thesis'\n",
    "#we can choose which data to look at.\n",
    "dataDir = mainDir + '/data/solar/' + datasource +'/' + zipcode +'/'\n",
    "outputDir = mainDir + '/output/'+ datasource +'/' + zipcode +'/'"
   ]
  },
  {
   "cell_type": "code",
   "execution_count": 10,
   "metadata": {
    "collapsed": false
   },
   "outputs": [],
   "source": [
    "data = pd.read_csv(dataDir +'/training_data_fitted.csv')\n",
    "data['tsLocal'] = data['tsLocal'].map(lambda x: datetime.datetime.strptime(x,\"%Y-%m-%d %H:%M:%S\"))\n",
    "\n",
    "dsummary = pd.read_csv(outputDir+\"/fitsummary.csv\")\n",
    "dsummary.Date = dsummary.Date.map(lambda x: datetime.datetime.strptime(x,\"%Y-%m-%d\").date())\n",
    "FullModelCoef = pd.read_csv(outputDir+\"/FullModelCoef.csv\")"
   ]
  },
  {
   "cell_type": "code",
   "execution_count": 11,
   "metadata": {
    "collapsed": false
   },
   "outputs": [
    {
     "data": {
      "text/html": [
       "<div style=\"max-height:1000px;max-width:1500px;overflow:auto;\">\n",
       "<table border=\"1\" class=\"dataframe\">\n",
       "  <thead>\n",
       "    <tr style=\"text-align: right;\">\n",
       "      <th></th>\n",
       "      <th>E</th>\n",
       "      <th>Rsq</th>\n",
       "      <th>c0</th>\n",
       "      <th>c1</th>\n",
       "      <th>c2</th>\n",
       "      <th>c3</th>\n",
       "      <th>c4</th>\n",
       "      <th>c5</th>\n",
       "      <th>c6</th>\n",
       "      <th>c7</th>\n",
       "      <th>c8</th>\n",
       "      <th>c9</th>\n",
       "      <th>c10</th>\n",
       "      <th>Date</th>\n",
       "      <th>DBW</th>\n",
       "      <th>singlemax</th>\n",
       "      <th>PeakCheck</th>\n",
       "      <th>FirstCheck</th>\n",
       "      <th>SecondCheck</th>\n",
       "      <th>mE</th>\n",
       "    </tr>\n",
       "  </thead>\n",
       "  <tbody>\n",
       "    <tr>\n",
       "      <th>0</th>\n",
       "      <td> 4.050097</td>\n",
       "      <td> 0.944918</td>\n",
       "      <td> 0.034118</td>\n",
       "      <td> 0.370151</td>\n",
       "      <td> 0.451887</td>\n",
       "      <td> 0.615727</td>\n",
       "      <td> 0.651572</td>\n",
       "      <td> 0.672137</td>\n",
       "      <td> 0.70027</td>\n",
       "      <td> 0.582532</td>\n",
       "      <td> 0.431649</td>\n",
       "      <td> 0.553558</td>\n",
       "      <td> 0.054484</td>\n",
       "      <td> 2013-01-01</td>\n",
       "      <td>-355</td>\n",
       "      <td> 0.492451</td>\n",
       "      <td> True</td>\n",
       "      <td> False</td>\n",
       "      <td> False</td>\n",
       "      <td> 4.040561</td>\n",
       "    </tr>\n",
       "  </tbody>\n",
       "</table>\n",
       "</div>"
      ],
      "text/plain": [
       "          E       Rsq        c0        c1        c2        c3        c4  \\\n",
       "0  4.050097  0.944918  0.034118  0.370151  0.451887  0.615727  0.651572   \n",
       "\n",
       "         c5       c6        c7        c8        c9       c10        Date  DBW  \\\n",
       "0  0.672137  0.70027  0.582532  0.431649  0.553558  0.054484  2013-01-01 -355   \n",
       "\n",
       "   singlemax PeakCheck FirstCheck SecondCheck        mE  \n",
       "0   0.492451      True      False       False  4.040561  "
      ]
     },
     "execution_count": 11,
     "metadata": {},
     "output_type": "execute_result"
    }
   ],
   "source": [
    "dsummary[:1]"
   ]
  },
  {
   "cell_type": "code",
   "execution_count": 12,
   "metadata": {
    "collapsed": false
   },
   "outputs": [
    {
     "data": {
      "text/html": [
       "<div style=\"max-height:1000px;max-width:1500px;overflow:auto;\">\n",
       "<table border=\"1\" class=\"dataframe\">\n",
       "  <thead>\n",
       "    <tr style=\"text-align: right;\">\n",
       "      <th></th>\n",
       "      <th>DBW</th>\n",
       "      <th>c0</th>\n",
       "      <th>c1</th>\n",
       "      <th>c2</th>\n",
       "      <th>c3</th>\n",
       "      <th>c4</th>\n",
       "      <th>c5</th>\n",
       "      <th>c6</th>\n",
       "      <th>c7</th>\n",
       "      <th>c8</th>\n",
       "      <th>c9</th>\n",
       "      <th>c10</th>\n",
       "    </tr>\n",
       "  </thead>\n",
       "  <tbody>\n",
       "    <tr>\n",
       "      <th>0</th>\n",
       "      <td> 0</td>\n",
       "      <td> 0.029872</td>\n",
       "      <td> 0.384338</td>\n",
       "      <td> 0.45472</td>\n",
       "      <td> 0.592189</td>\n",
       "      <td> 0.632863</td>\n",
       "      <td> 0.674561</td>\n",
       "      <td> 0.646563</td>\n",
       "      <td> 0.644698</td>\n",
       "      <td> 0.48877</td>\n",
       "      <td> 0.48436</td>\n",
       "      <td> 0.04578</td>\n",
       "    </tr>\n",
       "  </tbody>\n",
       "</table>\n",
       "</div>"
      ],
      "text/plain": [
       "   DBW        c0        c1       c2        c3        c4        c5        c6  \\\n",
       "0    0  0.029872  0.384338  0.45472  0.592189  0.632863  0.674561  0.646563   \n",
       "\n",
       "         c7       c8       c9      c10  \n",
       "0  0.644698  0.48877  0.48436  0.04578  "
      ]
     },
     "execution_count": 12,
     "metadata": {},
     "output_type": "execute_result"
    }
   ],
   "source": [
    "FullModelCoef[:1]"
   ]
  },
  {
   "cell_type": "markdown",
   "metadata": {},
   "source": [
    "Here we define power ratio, $r$, for each power reading. We add shift to avoid infinity."
   ]
  },
  {
   "cell_type": "code",
   "execution_count": 13,
   "metadata": {
    "collapsed": false
   },
   "outputs": [],
   "source": [
    "shift = 0.01\n",
    "data['r'] = (data.power+shift)/(data.mpower+shift)"
   ]
  },
  {
   "cell_type": "code",
   "execution_count": 14,
   "metadata": {
    "collapsed": false
   },
   "outputs": [
    {
     "data": {
      "text/html": [
       "<div style=\"max-height:1000px;max-width:1500px;overflow:auto;\">\n",
       "<table border=\"1\" class=\"dataframe\">\n",
       "  <thead>\n",
       "    <tr style=\"text-align: right;\">\n",
       "      <th></th>\n",
       "      <th>tsLocal</th>\n",
       "      <th>altitude</th>\n",
       "      <th>azimuth</th>\n",
       "      <th>power</th>\n",
       "      <th>numactivecomp</th>\n",
       "      <th>totalsize</th>\n",
       "      <th>s</th>\n",
       "      <th>DBW</th>\n",
       "      <th>mpower</th>\n",
       "      <th>r</th>\n",
       "    </tr>\n",
       "  </thead>\n",
       "  <tbody>\n",
       "    <tr>\n",
       "      <th>0</th>\n",
       "      <td>2013-01-01 07:25:00</td>\n",
       "      <td> 0.009829</td>\n",
       "      <td>-298.94417</td>\n",
       "      <td> 0.005003</td>\n",
       "      <td> 1</td>\n",
       "      <td> 6000</td>\n",
       "      <td>-1</td>\n",
       "      <td>-355</td>\n",
       "      <td> 0.02947</td>\n",
       "      <td> 0.380123</td>\n",
       "    </tr>\n",
       "  </tbody>\n",
       "</table>\n",
       "</div>"
      ],
      "text/plain": [
       "              tsLocal  altitude    azimuth     power  numactivecomp  \\\n",
       "0 2013-01-01 07:25:00  0.009829 -298.94417  0.005003              1   \n",
       "\n",
       "   totalsize  s  DBW   mpower         r  \n",
       "0       6000 -1 -355  0.02947  0.380123  "
      ]
     },
     "execution_count": 14,
     "metadata": {},
     "output_type": "execute_result"
    }
   ],
   "source": [
    "data[:1]"
   ]
  },
  {
   "cell_type": "markdown",
   "metadata": {},
   "source": [
    "Here we number steps from sun rise to sun set. Don't need in for now."
   ]
  },
  {
   "cell_type": "code",
   "execution_count": 15,
   "metadata": {
    "collapsed": false
   },
   "outputs": [
    {
     "data": {
      "text/plain": [
       "[0]"
      ]
     },
     "execution_count": 15,
     "metadata": {},
     "output_type": "execute_result"
    }
   ],
   "source": [
    "'''\n",
    "data['StepOfDay'] = float('NaN')\n",
    "for DateOfInterest in list(dsummary.Date):\n",
    "    bool_list = d.tsLocal.map(lambda x: x.date() == DateOfInterest)\n",
    "    indexlist = [i for i, elem in enumerate(bool_list) if elem]\n",
    "    data['StepOfDay'].loc[indexlist] = range(0,sum(bool_list))\n",
    "    '''\n",
    "[0]"
   ]
  },
  {
   "cell_type": "markdown",
   "metadata": {},
   "source": [
    "# Adjustment of maximum power envelope"
   ]
  },
  {
   "cell_type": "markdown",
   "metadata": {},
   "source": [
    "It is worth to look how well maximum power envelope works. Let's look at the histogram and percentile of $r=1.0$"
   ]
  },
  {
   "cell_type": "code",
   "execution_count": 16,
   "metadata": {
    "collapsed": false
   },
   "outputs": [
    {
     "data": {
      "text/plain": [
       "(array([  1.01441000e+05,   7.22400000e+03,   6.41000000e+02,\n",
       "          3.49000000e+02,   2.05000000e+02,   2.73000000e+02,\n",
       "          1.76000000e+02,   4.20000000e+01,   2.40000000e+01,\n",
       "          7.00000000e+00]),\n",
       " array([  0.02316124,   1.19206742,   2.36097359,   3.52987977,\n",
       "          4.69878594,   5.86769212,   7.03659829,   8.20550447,\n",
       "          9.37441064,  10.54331682,  11.712223  ]),\n",
       " <a list of 10 Patch objects>)"
      ]
     },
     "execution_count": 16,
     "metadata": {},
     "output_type": "execute_result"
    },
    {
     "data": {
      "image/png": "[encoded data removed]",
      "text/plain": [
       "<matplotlib.figure.Figure at 0x190cee10>"
      ]
     },
     "metadata": {},
     "output_type": "display_data"
    }
   ],
   "source": [
    "plt.hist(list(data['r'].dropna()))"
   ]
  },
  {
   "cell_type": "code",
   "execution_count": 17,
   "metadata": {
    "collapsed": false
   },
   "outputs": [
    {
     "data": {
      "text/plain": [
       "(68.895290898878443, 3.4547629685217234, 11.712222995574901)"
      ]
     },
     "execution_count": 17,
     "metadata": {},
     "output_type": "execute_result"
    }
   ],
   "source": [
    "scipy.stats.percentileofscore(data['r'].dropna(),1.0), np.percentile(data['r'].dropna(),99), np.max(data['r'])"
   ]
  },
  {
   "cell_type": "markdown",
   "metadata": {},
   "source": [
    "Or we can look at absolute difference."
   ]
  },
  {
   "cell_type": "code",
   "execution_count": 18,
   "metadata": {
    "collapsed": false
   },
   "outputs": [
    {
     "data": {
      "text/plain": [
       "<matplotlib.text.Text at 0x21d3bcf8>"
      ]
     },
     "execution_count": 18,
     "metadata": {},
     "output_type": "execute_result"
    },
    {
     "data": {
      "image/png": "[encoded data removed]",
      "text/plain": [
       "<matplotlib.figure.Figure at 0x1fdb7940>"
      ]
     },
     "metadata": {},
     "output_type": "display_data"
    }
   ],
   "source": [
    "\n",
    "fig = plt.figure(figsize=(10,6))\n",
    "ax1  = fig.add_subplot(111)\n",
    "ax1.hist(list((data['power']-data['mpower']).dropna()))\n",
    "ax1.set_xlabel('d')"
   ]
  },
  {
   "cell_type": "code",
   "execution_count": 19,
   "metadata": {
    "collapsed": false
   },
   "outputs": [
    {
     "data": {
      "text/plain": [
       "[68.895290898878443, 0.20242785884419517, 0.48757118512166769]"
      ]
     },
     "execution_count": 19,
     "metadata": {},
     "output_type": "execute_result"
    }
   ],
   "source": [
    "[scipy.stats.percentileofscore((data['power']-data['mpower']).dropna(),0), np.percentile((data['power']-data['mpower']).dropna(),99),\n",
    "np.max((data['power']-data['mpower']).dropna())]"
   ]
  },
  {
   "cell_type": "markdown",
   "metadata": {},
   "source": [
    "To ensure maximum envelope is really maximum, we can shift or scale the maximum power curve."
   ]
  },
  {
   "cell_type": "markdown",
   "metadata": {},
   "source": [
    "# Search for optimal shift and scale"
   ]
  },
  {
   "cell_type": "markdown",
   "metadata": {},
   "source": [
    "We can write shift/scale as an optimization problem.\n",
    "\\begin{equation*}\n",
    "\\begin{aligned}\n",
    "& \\underset{a,b}{\\text{minimize}}\n",
    "& & \\sum_{i=1}^{N} [a m_i + b - m_i] \\\\\n",
    "& \\text{subject to}\n",
    "& & p_i \\leq a m_i + b ; i = 1, \\ldots, N,\n",
    "\\end{aligned}\n",
    "\\end{equation*}\n",
    "\n",
    "where $a$ is scaling factor, $b$ is vertical shift, $m_i$ is a value on original maximum power curves, $p_i$ is a value of normalized power curves, and $N$ is the number of points in all maximum power curves. The optimal solution of such problem is also the optimal solution of \n",
    "\n",
    "\\begin{equation*}\n",
    "\\begin{aligned}\n",
    "& \\underset{a,b}{\\text{minimize}}\n",
    "& & a \\sum_{i=1}^{N} m_i + Nb \\\\\n",
    "& \\text{subject to}\n",
    "& & a m_i + b \\geq p_i ; i = 1, \\ldots, N,\n",
    "\\end{aligned}\n",
    "\\end{equation*}\n",
    "\n",
    "It turns out that the shift only is the optimal solution, which makes sense because scaling up everything tends to cause more change."
   ]
  },
  {
   "cell_type": "code",
   "execution_count": 20,
   "metadata": {
    "collapsed": true
   },
   "outputs": [],
   "source": [
    "d = data[['power','mpower']].dropna()\n",
    "d2 = d[d.mpower<d.power] #select only crucial points\n",
    "coef_1 = np.sum(d['mpower'])\n",
    "coef_2 = len(d['mpower'])"
   ]
  },
  {
   "cell_type": "code",
   "execution_count": 21,
   "metadata": {
    "collapsed": false
   },
   "outputs": [],
   "source": [
    "c = np.array([coef_1, coef_2])"
   ]
  },
  {
   "cell_type": "code",
   "execution_count": 22,
   "metadata": {
    "collapsed": false
   },
   "outputs": [],
   "source": [
    "A_ub = np.ones((2,len(d2['mpower'])))#-np.array(data['mpower'],np.ones(coef_2))\n",
    "A_ub[0] = d2['mpower']\n",
    "A_ub = -np.transpose(A_ub)"
   ]
  },
  {
   "cell_type": "code",
   "execution_count": 23,
   "metadata": {
    "collapsed": false
   },
   "outputs": [],
   "source": [
    "b_ub = np.ones((1,len(d2['mpower'])))\n",
    "b_ub = -d2['power']"
   ]
  },
  {
   "cell_type": "code",
   "execution_count": 24,
   "metadata": {
    "collapsed": false
   },
   "outputs": [
    {
     "data": {
      "text/plain": [
       "((2L,), (34334L, 2L), (34334L,))"
      ]
     },
     "execution_count": 24,
     "metadata": {},
     "output_type": "execute_result"
    }
   ],
   "source": [
    "c.shape, A_ub.shape, b_ub.shape "
   ]
  },
  {
   "cell_type": "code",
   "execution_count": 25,
   "metadata": {
    "collapsed": false
   },
   "outputs": [
    {
     "data": {
      "text/plain": [
       "(774.9148836528758, 0.48757118512166769)"
      ]
     },
     "execution_count": 25,
     "metadata": {},
     "output_type": "execute_result"
    }
   ],
   "source": [
    "np.max(d2['power']/d2['mpower']), np.max(d2['power']-d2['mpower'])"
   ]
  },
  {
   "cell_type": "code",
   "execution_count": 26,
   "metadata": {
    "collapsed": true
   },
   "outputs": [],
   "source": [
    "x0_bounds = (1,np.max(d2['power']/d2['mpower']))\n",
    "x1_bounds = (0,np.max(d2['power']-d2['mpower']))"
   ]
  },
  {
   "cell_type": "code",
   "execution_count": 27,
   "metadata": {
    "collapsed": false
   },
   "outputs": [
    {
     "ename": "MemoryError",
     "evalue": "",
     "output_type": "error",
     "traceback": [
      "\u001b[1;31m---------------------------------------------------------------------------\u001b[0m",
      "\u001b[1;31mMemoryError\u001b[0m                               Traceback (most recent call last)",
      "\u001b[1;32m<ipython-input-27-7db60488c49c>\u001b[0m in \u001b[0;36m<module>\u001b[1;34m()\u001b[0m\n\u001b[1;32m----> 1\u001b[1;33m \u001b[0mresult\u001b[0m \u001b[1;33m=\u001b[0m \u001b[0mscipy\u001b[0m\u001b[1;33m.\u001b[0m\u001b[0moptimize\u001b[0m\u001b[1;33m.\u001b[0m\u001b[0mlinprog\u001b[0m\u001b[1;33m(\u001b[0m\u001b[0mc\u001b[0m\u001b[1;33m,\u001b[0m \u001b[0mA_ub\u001b[0m\u001b[1;33m,\u001b[0m \u001b[0mb_ub\u001b[0m\u001b[1;33m,\u001b[0m\u001b[0mbounds\u001b[0m\u001b[1;33m=\u001b[0m\u001b[1;33m(\u001b[0m\u001b[0mx0_bounds\u001b[0m\u001b[1;33m,\u001b[0m \u001b[0mx1_bounds\u001b[0m\u001b[1;33m)\u001b[0m\u001b[1;33m,\u001b[0m                                \u001b[0mmethod\u001b[0m\u001b[1;33m=\u001b[0m\u001b[1;34m'simplex'\u001b[0m\u001b[1;33m,\u001b[0m \u001b[0mcallback\u001b[0m\u001b[1;33m=\u001b[0m\u001b[0mNone\u001b[0m\u001b[1;33m,\u001b[0m                                \u001b[0moptions\u001b[0m \u001b[1;33m=\u001b[0m \u001b[1;33m{\u001b[0m\u001b[1;34m\"disp\"\u001b[0m\u001b[1;33m:\u001b[0m \u001b[0mTrue\u001b[0m\u001b[1;33m,\u001b[0m\u001b[1;34m\"bland\"\u001b[0m\u001b[1;33m:\u001b[0m\u001b[0mTrue\u001b[0m\u001b[1;33m,\u001b[0m \u001b[1;34m\"tol\"\u001b[0m\u001b[1;33m:\u001b[0m\u001b[1;36m1e-15\u001b[0m\u001b[1;33m}\u001b[0m\u001b[1;33m)\u001b[0m\u001b[1;33m\u001b[0m\u001b[0m\n\u001b[0m",
      "\u001b[1;32mC:\\Users\\Admin\\Anaconda\\lib\\site-packages\\scipy\\optimize\\_linprog.pyc\u001b[0m in \u001b[0;36mlinprog\u001b[1;34m(c, A_ub, b_ub, A_eq, b_eq, bounds, method, callback, options)\u001b[0m\n\u001b[0;32m    952\u001b[0m     \u001b[1;32mif\u001b[0m \u001b[0mmeth\u001b[0m \u001b[1;33m==\u001b[0m \u001b[1;34m'simplex'\u001b[0m\u001b[1;33m:\u001b[0m\u001b[1;33m\u001b[0m\u001b[0m\n\u001b[0;32m    953\u001b[0m         return _linprog_simplex(c, A_ub=A_ub, b_ub=b_ub, A_eq=A_eq, b_eq=b_eq,\n\u001b[1;32m--> 954\u001b[1;33m                                 bounds=bounds, callback=callback, **options)\n\u001b[0m\u001b[0;32m    955\u001b[0m     \u001b[1;32melse\u001b[0m\u001b[1;33m:\u001b[0m\u001b[1;33m\u001b[0m\u001b[0m\n\u001b[0;32m    956\u001b[0m         \u001b[1;32mraise\u001b[0m \u001b[0mValueError\u001b[0m\u001b[1;33m(\u001b[0m\u001b[1;34m'Unknown solver %s'\u001b[0m \u001b[1;33m%\u001b[0m \u001b[0mmethod\u001b[0m\u001b[1;33m)\u001b[0m\u001b[1;33m\u001b[0m\u001b[0m\n",
      "\u001b[1;32mC:\\Users\\Admin\\Anaconda\\lib\\site-packages\\scipy\\optimize\\_linprog.pyc\u001b[0m in \u001b[0;36m_linprog_simplex\u001b[1;34m(c, A_ub, b_ub, A_eq, b_eq, bounds, maxiter, disp, callback, tol, bland, **unknown_options)\u001b[0m\n\u001b[0;32m    677\u001b[0m \u001b[1;33m\u001b[0m\u001b[0m\n\u001b[0;32m    678\u001b[0m     \u001b[1;31m# Create the tableau\u001b[0m\u001b[1;33m\u001b[0m\u001b[1;33m\u001b[0m\u001b[0m\n\u001b[1;32m--> 679\u001b[1;33m     \u001b[0mT\u001b[0m \u001b[1;33m=\u001b[0m \u001b[0mnp\u001b[0m\u001b[1;33m.\u001b[0m\u001b[0mzeros\u001b[0m\u001b[1;33m(\u001b[0m\u001b[1;33m[\u001b[0m\u001b[0mm\u001b[0m\u001b[1;33m+\u001b[0m\u001b[1;36m2\u001b[0m\u001b[1;33m,\u001b[0m \u001b[0mn\u001b[0m\u001b[1;33m+\u001b[0m\u001b[0mn_slack\u001b[0m\u001b[1;33m+\u001b[0m\u001b[0mn_artificial\u001b[0m\u001b[1;33m+\u001b[0m\u001b[1;36m1\u001b[0m\u001b[1;33m]\u001b[0m\u001b[1;33m)\u001b[0m\u001b[1;33m\u001b[0m\u001b[0m\n\u001b[0m\u001b[0;32m    680\u001b[0m \u001b[1;33m\u001b[0m\u001b[0m\n\u001b[0;32m    681\u001b[0m     \u001b[1;31m# Insert objective into tableau\u001b[0m\u001b[1;33m\u001b[0m\u001b[1;33m\u001b[0m\u001b[0m\n",
      "\u001b[1;31mMemoryError\u001b[0m: "
     ]
    }
   ],
   "source": [
    "result = scipy.optimize.linprog(c, A_ub, b_ub,bounds=(x0_bounds, x1_bounds),\\\n",
    "                                method='simplex', callback=None,\\\n",
    "                                options = {\"disp\": True,\"bland\":True, \"tol\":1e-15})"
   ]
  },
  {
   "cell_type": "code",
   "execution_count": null,
   "metadata": {
    "collapsed": false
   },
   "outputs": [],
   "source": [
    "result"
   ]
  },
  {
   "cell_type": "code",
   "execution_count": null,
   "metadata": {
    "collapsed": false
   },
   "outputs": [],
   "source": [
    "#Does not work because cvxopt is not properly installed.\n",
    "'''\n",
    "from cvxopt import matrix, solvers\n",
    "A = matrix(A_ub)\n",
    "b = matrix(b_ub)\n",
    "c = matrix(c)\n",
    "sol=solvers.lp(c,A,b)\n",
    "scipy.optimize.linprog(c, A_ub, b_ub, method='simplex', callback=None, options=None)\n",
    "'''\n",
    "[0]"
   ]
  },
  {
   "cell_type": "markdown",
   "metadata": {},
   "source": [
    "Here is the solution for each dataset. Checked!\n",
    "\n",
    "08640: [1, 0.1027]\n",
    "\n",
    "08641: [1, 0.1458]\n",
    "\n",
    "92562: [1,  0.0862]\n",
    "\n",
    "92563: [1,  0.0963]\n",
    "\n",
    "94305: [1, 0.4876]\n"
   ]
  }
 ],
 "metadata": {
  "kernelspec": {
   "display_name": "Python 2",
   "language": "python",
   "name": "python2"
  },
  "language_info": {
   "codemirror_mode": {
    "name": "ipython",
    "version": 2
   },
   "file_extension": ".py",
   "mimetype": "text/x-python",
   "name": "python",
   "nbconvert_exporter": "python",
   "pygments_lexer": "ipython2",
   "version": "2.7.8"
  }
 },
 "nbformat": 4,
 "nbformat_minor": 0
}
