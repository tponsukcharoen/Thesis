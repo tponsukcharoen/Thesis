{
 "metadata": {
  "name": "",
  "signature": "sha256:3808a903dd953b400b7b31cb395351838968c654a627d53219e93b9ba561f304"
 },
 "nbformat": 3,
 "nbformat_minor": 0,
 "worksheets": [
  {
   "cells": [
    {
     "cell_type": "heading",
     "level": 2,
     "metadata": {},
     "source": [
      "Temporal effect investigation"
     ]
    },
    {
     "cell_type": "markdown",
     "metadata": {},
     "source": [
      "Before using average power readings by component's size as a representation of power generated from distributed PV generation under each zip code, there are several points we would like to investigate. We would like to see if is any shift in power representation if we use different set of data."
     ]
    },
    {
     "cell_type": "markdown",
     "metadata": {},
     "source": [
      "In term of time, we can consider in two ways: \n",
      "\n",
      "1) for components with same first monitoring date (which is likely same installation date), how does the power reading change over time in a yearly basis? Such change can be primarily from yearly weather variation.\n",
      "\n",
      "2) for a fixed period of observation, how are power readings different as the first monitoring dates are different? Such change can be primarily from \"low-hanging fruit is taken first\" conjecture or \"technology improves over time\" conjecture.\n",
      "\n",
      "Note that system degradation can influence power reading as well but we postulate that such influence is negligible when we compare year-to-year data.\n",
      "\n",
      "First, let's pull up data and summary of number of components in a zip code broken down by first time stamp and size of components."
     ]
    },
    {
     "cell_type": "code",
     "collapsed": false,
     "input": [
      "#specify data source, zipcode (along with latitude, longitue, and timezone), and bin values to calculate mean.\n",
      "datasource = 'LocusEnergy'\n",
      "#[zipcode, latitude, longitude, localtz] = ['08641', 40.0449, -74.5892, 'US/Eastern']\n",
      "#binvalue = [0.60000000000000009, 1.5531428571428569, 2.5209606741573034, 4.1015736906211933, 7.487476098503139, 12.943637931034482]\n",
      "[zipcode, latitude, longitude, localtz] = ['92562', 33.5686, -117.2530, 'US/Pacific']\n",
      "binvalue = [0.6366666666666666, 1.5599424405242481, 2.4851360650682972, 3.9649782737139554, 6.7641328892898853, 12.809405655777667]"
     ],
     "language": "python",
     "metadata": {},
     "outputs": [],
     "prompt_number": 1
    },
    {
     "cell_type": "code",
     "collapsed": false,
     "input": [
      "import pandas as pd\n",
      "import numpy as np\n",
      "import matplotlib.pyplot as plt\n",
      "import datetime\n",
      "import pytz\n",
      "import os\n",
      "import patsy #for spline regression\n",
      "import scipy #for non-negative least square \n",
      "import scipy as sp \n",
      "from scipy import stats\n",
      "from scipy.optimize import nnls\n",
      "from numpy.linalg import inv #for matrix and statistics\n",
      "import scipy as sp\n",
      "import math\n",
      "import statsmodels.api as sm\n",
      "%matplotlib inline"
     ],
     "language": "python",
     "metadata": {},
     "outputs": [],
     "prompt_number": 2
    },
    {
     "cell_type": "code",
     "collapsed": false,
     "input": [
      "#mainDir = 'C:/Users/Tee/Dropbox/Active/EnergyProject/Thesis/PVreadingsStudies/main'\n",
      "mainDir = 'C:\\Users\\Admin\\Dropbox\\Active\\EnergyProject\\Thesis\\PVreadingsStudies\\main'\n",
      "#read data and metadata\n",
      "metadata = pd.read_csv(mainDir+ '/data/' + datasource +'/' + zipcode +'/metadata.csv',\n",
      "                             dtype={'componentId':'object','zip':'object'})\n",
      "data = pd.read_csv(mainDir+ '/data/' + datasource +'/'+ zipcode+'/data.csv',\n",
      "                             dtype={'componentId':'object'})\n",
      "#convert timestamp string to datetime format if needed\n",
      "#metadata['FirstTimestamp'] = metadata['FirstTimestamp'].map(lambda x: datetime.datetime.strptime(x,\"%Y-%m-%d %H:%M:%S\"))\n",
      "#data['tsLocal'] = data['tsLocal'].map(lambda x: datetime.datetime.strptime(x,\"%Y-%m-%d %H:%M:%S\"))"
     ],
     "language": "python",
     "metadata": {},
     "outputs": [],
     "prompt_number": 3
    },
    {
     "cell_type": "code",
     "collapsed": false,
     "input": [
      "FirstTimestampBinList = ['pre-2013','2013-1','2013-2','2013-3','2013-4','2014-1','2014-2','2014-3','2014-4']\n",
      "SizeBinList = ['0-1 kW','1-2 kW','2-3 kW','3-5 kW', '5-10 kW', '10-20 kW', '20-50 kW', '50-100 kW', '<20 kW', '>20 kW','unknown','sum']\n",
      "targetsizelist= ['0-1 kW','1-2 kW','2-3 kW','3-5 kW', '5-10 kW', '10-20 kW']\n",
      "NumberOfComponents = pd.DataFrame(0, index = FirstTimestampBinList, columns = SizeBinList)\n",
      "\n",
      "#define quick function to add data\n",
      "def add_data(NumberOfComponents, d, i):\n",
      "    NumberOfComponents['0-1 kW'].iloc[i] = d[d.sizeBucket=='0-1 kW'].shape[0]\n",
      "    NumberOfComponents['1-2 kW'].iloc[i] = d[d.sizeBucket=='1-2 kW'].shape[0]\n",
      "    NumberOfComponents['2-3 kW'].iloc[i] = d[d.sizeBucket=='2-3 kW'].shape[0]\n",
      "    NumberOfComponents['3-5 kW'].iloc[i] = d[d.sizeBucket=='3-5 kW'].shape[0]\n",
      "    NumberOfComponents['5-10 kW'].iloc[i] = d[d.sizeBucket=='5-10 kW'].shape[0]\n",
      "    NumberOfComponents['10-20 kW'].iloc[i] = d[d.sizeBucket=='10-20 kW'].shape[0]\n",
      "    NumberOfComponents['20-50 kW'].iloc[i] = d[d.sizeBucket=='20-50 kW'].shape[0]\n",
      "    NumberOfComponents['50-100 kW'].iloc[i] = d[d.sizeBucket=='50-100 kW'].shape[0]\n",
      "    NumberOfComponents['<20 kW'].iloc[i] = d[d.sizeBucket=='0-1 kW'].shape[0] + d[d.sizeBucket=='1-2 kW'].shape[0] +\\\n",
      "                                          d[d.sizeBucket=='2-3 kW'].shape[0] + d[d.sizeBucket=='3-5 kW'].shape[0] +\\\n",
      "                                            d[d.sizeBucket=='5-10 kW'].shape[0] + d[d.sizeBucket=='10-20 kW'].shape[0]\n",
      "    NumberOfComponents['>20 kW'].iloc[i] = d[d.sizeBucket=='20-50 kW'].shape[0] + d[d.sizeBucket=='50-100 kW'].shape[0]\n",
      "    NumberOfComponents['unknown'].iloc[i] = d[pd.isnull(d.sizeBucket)].shape[0]\n",
      "    NumberOfComponents['sum'].iloc[i] = d.shape[0]\n",
      "    return NumberOfComponents;\n",
      "\n",
      "d = metadata[metadata.FirstTimestamp.map(lambda x: (x <= '2013-01-01 00:00:00'))]\n",
      "NumberOfComponents = add_data(NumberOfComponents, d, 0)\n",
      "d = metadata[metadata.FirstTimestamp.map(lambda x: (x > '2013-01-01 00:00:00')&(x <= '2013-04-01 00:00:00'))]\n",
      "NumberOfComponents = add_data(NumberOfComponents, d, 1)\n",
      "d = metadata[metadata.FirstTimestamp.map(lambda x: (x > '2013-04-01 00:00:00')&(x <= '2013-07-01 00:00:00'))]\n",
      "NumberOfComponents = add_data(NumberOfComponents, d, 2)\n",
      "d = metadata[metadata.FirstTimestamp.map(lambda x: (x > '2013-07-01 00:00:00')&(x <= '2013-10-01 00:00:00'))]\n",
      "NumberOfComponents = add_data(NumberOfComponents, d, 3)\n",
      "d = metadata[metadata.FirstTimestamp.map(lambda x: (x > '2013-10-01 00:00:00')&(x <= '2014-01-01 00:00:00'))]\n",
      "NumberOfComponents = add_data(NumberOfComponents, d, 4)\n",
      "d = metadata[metadata.FirstTimestamp.map(lambda x: (x > '2014-01-01 00:00:00')&(x <= '2014-04-01 00:00:00'))]\n",
      "NumberOfComponents = add_data(NumberOfComponents, d, 5)\n",
      "d = metadata[metadata.FirstTimestamp.map(lambda x: (x > '2014-04-01 00:00:00')&(x <= '2014-07-01 00:00:00'))]\n",
      "NumberOfComponents = add_data(NumberOfComponents, d, 6)\n",
      "d = metadata[metadata.FirstTimestamp.map(lambda x: (x > '2014-07-01 00:00:00')&(x <= '2014-10-01 00:00:00'))]\n",
      "NumberOfComponents = add_data(NumberOfComponents, d, 7)\n",
      "d = metadata[metadata.FirstTimestamp.map(lambda x: (x > '2014-10-01 00:00:00')&(x <= '2015-01-01 00:00:00'))]\n",
      "NumberOfComponents = add_data(NumberOfComponents, d, 8)"
     ],
     "language": "python",
     "metadata": {},
     "outputs": [],
     "prompt_number": 4
    },
    {
     "cell_type": "markdown",
     "metadata": {},
     "source": [
      "Let's assign size of each components based on the middle value of each bin."
     ]
    },
    {
     "cell_type": "code",
     "collapsed": false,
     "input": [
      "metadata['size'] = float('NaN')\n",
      "metadata.size[metadata.sizeBucket == '0-1 kW'] = binvalue[0]\n",
      "metadata.size[metadata.sizeBucket == '1-2 kW'] = binvalue[1]\n",
      "metadata.size[metadata.sizeBucket == '2-3 kW'] = binvalue[2]\n",
      "metadata.size[metadata.sizeBucket == '3-5 kW'] = binvalue[3]\n",
      "metadata.size[metadata.sizeBucket == '5-10 kW'] = binvalue[4]\n",
      "metadata.size[metadata.sizeBucket == '10-20 kW'] = binvalue[5]"
     ],
     "language": "python",
     "metadata": {},
     "outputs": [],
     "prompt_number": 5
    },
    {
     "cell_type": "markdown",
     "metadata": {},
     "source": [
      "Here we compute average size of components with <20 kW size. Note that we are interesed in components with <20 kW size. This quantity will be useful later."
     ]
    },
    {
     "cell_type": "code",
     "collapsed": false,
     "input": [
      "NumberOfComponents['average size*'] = (NumberOfComponents['0-1 kW']*binvalue[0] + NumberOfComponents['1-2 kW']*binvalue[1] +\\\n",
      "                    NumberOfComponents['2-3 kW']*binvalue[2] + NumberOfComponents['3-5 kW']*binvalue[3] +\\\n",
      "                    NumberOfComponents['5-10 kW']*binvalue[4] + NumberOfComponents['10-20 kW']*binvalue[5])/\\\n",
      "                    (NumberOfComponents['0-1 kW'] + NumberOfComponents['1-2 kW'] +\\\n",
      "                    NumberOfComponents['2-3 kW'] + NumberOfComponents['3-5 kW']+ NumberOfComponents['5-10 kW'] +\\\n",
      "                     NumberOfComponents['10-20 kW'])\n",
      "    \n",
      "NumberOfComponents"
     ],
     "language": "python",
     "metadata": {},
     "outputs": [
      {
       "html": [
        "<div style=\"max-height:1000px;max-width:1500px;overflow:auto;\">\n",
        "<table border=\"1\" class=\"dataframe\">\n",
        "  <thead>\n",
        "    <tr style=\"text-align: right;\">\n",
        "      <th></th>\n",
        "      <th>0-1 kW</th>\n",
        "      <th>1-2 kW</th>\n",
        "      <th>2-3 kW</th>\n",
        "      <th>3-5 kW</th>\n",
        "      <th>5-10 kW</th>\n",
        "      <th>10-20 kW</th>\n",
        "      <th>20-50 kW</th>\n",
        "      <th>50-100 kW</th>\n",
        "      <th>&lt;20 kW</th>\n",
        "      <th>&gt;20 kW</th>\n",
        "      <th>unknown</th>\n",
        "      <th>sum</th>\n",
        "      <th>average size*</th>\n",
        "    </tr>\n",
        "  </thead>\n",
        "  <tbody>\n",
        "    <tr>\n",
        "      <th>pre-2013</th>\n",
        "      <td> 0</td>\n",
        "      <td> 0</td>\n",
        "      <td> 0</td>\n",
        "      <td>  0</td>\n",
        "      <td>  2</td>\n",
        "      <td>  0</td>\n",
        "      <td> 1</td>\n",
        "      <td> 0</td>\n",
        "      <td>  2</td>\n",
        "      <td> 1</td>\n",
        "      <td> 0</td>\n",
        "      <td>  3</td>\n",
        "      <td> 6.764133</td>\n",
        "    </tr>\n",
        "    <tr>\n",
        "      <th>2013-1</th>\n",
        "      <td> 0</td>\n",
        "      <td> 0</td>\n",
        "      <td> 0</td>\n",
        "      <td>  0</td>\n",
        "      <td>  2</td>\n",
        "      <td>  1</td>\n",
        "      <td> 0</td>\n",
        "      <td> 0</td>\n",
        "      <td>  3</td>\n",
        "      <td> 0</td>\n",
        "      <td> 1</td>\n",
        "      <td>  4</td>\n",
        "      <td> 8.779224</td>\n",
        "    </tr>\n",
        "    <tr>\n",
        "      <th>2013-2</th>\n",
        "      <td> 0</td>\n",
        "      <td> 0</td>\n",
        "      <td> 0</td>\n",
        "      <td>  0</td>\n",
        "      <td>  4</td>\n",
        "      <td>  0</td>\n",
        "      <td> 0</td>\n",
        "      <td> 0</td>\n",
        "      <td>  4</td>\n",
        "      <td> 0</td>\n",
        "      <td> 0</td>\n",
        "      <td>  4</td>\n",
        "      <td> 6.764133</td>\n",
        "    </tr>\n",
        "    <tr>\n",
        "      <th>2013-3</th>\n",
        "      <td> 0</td>\n",
        "      <td> 0</td>\n",
        "      <td> 0</td>\n",
        "      <td>  1</td>\n",
        "      <td>  7</td>\n",
        "      <td>  0</td>\n",
        "      <td> 0</td>\n",
        "      <td> 0</td>\n",
        "      <td>  8</td>\n",
        "      <td> 0</td>\n",
        "      <td> 0</td>\n",
        "      <td>  8</td>\n",
        "      <td> 6.414239</td>\n",
        "    </tr>\n",
        "    <tr>\n",
        "      <th>2013-4</th>\n",
        "      <td> 1</td>\n",
        "      <td> 0</td>\n",
        "      <td> 1</td>\n",
        "      <td> 15</td>\n",
        "      <td> 38</td>\n",
        "      <td> 10</td>\n",
        "      <td> 1</td>\n",
        "      <td> 0</td>\n",
        "      <td> 65</td>\n",
        "      <td> 1</td>\n",
        "      <td> 3</td>\n",
        "      <td> 69</td>\n",
        "      <td> 6.888117</td>\n",
        "    </tr>\n",
        "    <tr>\n",
        "      <th>2014-1</th>\n",
        "      <td> 0</td>\n",
        "      <td> 0</td>\n",
        "      <td> 0</td>\n",
        "      <td>  3</td>\n",
        "      <td> 14</td>\n",
        "      <td>  4</td>\n",
        "      <td> 0</td>\n",
        "      <td> 0</td>\n",
        "      <td> 21</td>\n",
        "      <td> 0</td>\n",
        "      <td> 3</td>\n",
        "      <td> 24</td>\n",
        "      <td> 7.515734</td>\n",
        "    </tr>\n",
        "    <tr>\n",
        "      <th>2014-2</th>\n",
        "      <td> 0</td>\n",
        "      <td> 0</td>\n",
        "      <td> 0</td>\n",
        "      <td>  2</td>\n",
        "      <td>  5</td>\n",
        "      <td>  3</td>\n",
        "      <td> 0</td>\n",
        "      <td> 0</td>\n",
        "      <td> 10</td>\n",
        "      <td> 0</td>\n",
        "      <td> 3</td>\n",
        "      <td> 13</td>\n",
        "      <td> 8.017884</td>\n",
        "    </tr>\n",
        "    <tr>\n",
        "      <th>2014-3</th>\n",
        "      <td> 0</td>\n",
        "      <td> 0</td>\n",
        "      <td> 0</td>\n",
        "      <td>  3</td>\n",
        "      <td> 10</td>\n",
        "      <td>  0</td>\n",
        "      <td> 0</td>\n",
        "      <td> 0</td>\n",
        "      <td> 13</td>\n",
        "      <td> 0</td>\n",
        "      <td> 2</td>\n",
        "      <td> 15</td>\n",
        "      <td> 6.118174</td>\n",
        "    </tr>\n",
        "    <tr>\n",
        "      <th>2014-4</th>\n",
        "      <td> 0</td>\n",
        "      <td> 0</td>\n",
        "      <td> 0</td>\n",
        "      <td>  2</td>\n",
        "      <td>  1</td>\n",
        "      <td>  1</td>\n",
        "      <td> 0</td>\n",
        "      <td> 0</td>\n",
        "      <td>  4</td>\n",
        "      <td> 0</td>\n",
        "      <td> 0</td>\n",
        "      <td>  4</td>\n",
        "      <td> 6.875874</td>\n",
        "    </tr>\n",
        "  </tbody>\n",
        "</table>\n",
        "</div>"
       ],
       "metadata": {},
       "output_type": "pyout",
       "prompt_number": 6,
       "text": [
        "          0-1 kW  1-2 kW  2-3 kW  3-5 kW  5-10 kW  10-20 kW  20-50 kW  \\\n",
        "pre-2013       0       0       0       0        2         0         1   \n",
        "2013-1         0       0       0       0        2         1         0   \n",
        "2013-2         0       0       0       0        4         0         0   \n",
        "2013-3         0       0       0       1        7         0         0   \n",
        "2013-4         1       0       1      15       38        10         1   \n",
        "2014-1         0       0       0       3       14         4         0   \n",
        "2014-2         0       0       0       2        5         3         0   \n",
        "2014-3         0       0       0       3       10         0         0   \n",
        "2014-4         0       0       0       2        1         1         0   \n",
        "\n",
        "          50-100 kW  <20 kW  >20 kW  unknown  sum  average size*  \n",
        "pre-2013          0       2       1        0    3       6.764133  \n",
        "2013-1            0       3       0        1    4       8.779224  \n",
        "2013-2            0       4       0        0    4       6.764133  \n",
        "2013-3            0       8       0        0    8       6.414239  \n",
        "2013-4            0      65       1        3   69       6.888117  \n",
        "2014-1            0      21       0        3   24       7.515734  \n",
        "2014-2            0      10       0        3   13       8.017884  \n",
        "2014-3            0      13       0        2   15       6.118174  \n",
        "2014-4            0       4       0        0    4       6.875874  "
       ]
      }
     ],
     "prompt_number": 6
    },
    {
     "cell_type": "code",
     "collapsed": false,
     "input": [
      "metadata_original = metadata\n",
      "metadata = metadata[metadata.size <= 20]\n",
      "data_original = data\n",
      "data = data[['tsLocal','altitude','azimuth']+list(metadata['componentId'])]"
     ],
     "language": "python",
     "metadata": {},
     "outputs": [],
     "prompt_number": 7
    },
    {
     "cell_type": "markdown",
     "metadata": {},
     "source": [
      "Define helpful function for date alignement called DOY (Day of year: 1-364)."
     ]
    },
    {
     "cell_type": "code",
     "collapsed": false,
     "input": [
      "def DOY (timestamp_string): #Stand for \"Day of Year\"\n",
      "    if len(timestamp_string) == 19:\n",
      "        Date = datetime.datetime.strptime(timestamp_string,\"%Y-%m-%d %H:%M:%S\").date()\n",
      "    if len(timestamp_string) == 10:\n",
      "        Date = datetime.datetime.strptime(timestamp_string,\"%Y-%m-%d\").date()\n",
      "    y = str(Date.year)\n",
      "    NewYear = datetime.datetime.strptime(y+'-01-01',\"%Y-%m-%d\").date()\n",
      "    d = (Date - NewYear).days\n",
      "    if (int(y)%4==0)&(Date > datetime.datetime.strptime(y+'-02-28',\"%Y-%m-%d\").date()): #leap year correction\n",
      "        d = d-1\n",
      "    return d;\n",
      "\n",
      "#one can compute DBW (\"Day Before Winter Solstice\") by substracting DOY with 355. as  DOY (\"2014-12-22 00:00:00\") = 355."
     ],
     "language": "python",
     "metadata": {},
     "outputs": [],
     "prompt_number": 8
    },
    {
     "cell_type": "markdown",
     "metadata": {},
     "source": [
      "Another helpful function is daily total energy production and daily maximum total power reading for a set of components."
     ]
    },
    {
     "cell_type": "code",
     "collapsed": false,
     "input": [
      "def datacrunch(dat):\n",
      "    dat = dat.set_index(['tsLocal','altitude','azimuth'])\n",
      "    presencecheck = dat.notnull()\n",
      "    dat['totalpower'] = dat.sum(axis=1)\n",
      "    for i in presencecheck.columns.values:\n",
      "        presencecheck[i] = presencecheck[i]*metadata[metadata.componentId == i].size.iloc[0]\n",
      "    dat['totalsize'] = presencecheck.sum(axis=1)\n",
      "    dat['power'] = dat['totalpower']/dat['totalsize']\n",
      "    dat.reset_index(inplace=True)\n",
      "    dat['date'] = dat.tsLocal.map(lambda x: x[0:10])\n",
      "    summary1 = (dat[['date','power']].groupby(['date']))['power'].agg({'E' : lambda x: x.sum(skipna=False)*15/60, \\\n",
      "                                                                       'm' : lambda x: x.max(skipna=False)})\n",
      "    summary2 = (dat[['date','totalsize']].groupby(['date']))['totalsize'].agg({'totalsize_min' : np.min, \\\n",
      "                                                                                'totalsize_max' : np.max})\n",
      "    dailysummary = pd.concat([summary1, summary2],axis=1)\n",
      "    dailysummary.reset_index(inplace = True)\n",
      "    return [dat[['tsLocal','power','totalsize']],dailysummary];\n"
     ],
     "language": "python",
     "metadata": {},
     "outputs": [],
     "prompt_number": 9
    },
    {
     "cell_type": "heading",
     "level": 2,
     "metadata": {},
     "source": [
      "Temporal effect of observation in yearly basis"
     ]
    },
    {
     "cell_type": "markdown",
     "metadata": {},
     "source": [
      "Here we would like to if weather on different years affect average power readings or not. We would like to investigate quarter by quarter.  In order to make a fair comparison, we would like to compare average power readings over the same components."
     ]
    },
    {
     "cell_type": "markdown",
     "metadata": {},
     "source": [
      "To investigate weather cross-year after in the first quarter, we query only components with first monitoring date before 2013-01-01. Then we query time stamps in the first quarter of each year."
     ]
    },
    {
     "cell_type": "markdown",
     "metadata": {},
     "source": [
      "$\\textbf{The 1st quarter}$. 2014 energy is about 18% MORE than 2013 energy. 2014 maximum power is about 20% MORE than 2013 maximum power. Note that the number of components here is small. It is likely that some components are not fully operating."
     ]
    },
    {
     "cell_type": "code",
     "collapsed": false,
     "input": [
      "SelectedComponents = list(metadata.componentId[(metadata.FirstTimestamp <= '2013-01-01 00:00:00')])"
     ],
     "language": "python",
     "metadata": {},
     "outputs": [],
     "prompt_number": 10
    },
    {
     "cell_type": "code",
     "collapsed": false,
     "input": [
      "d=data[['tsLocal','altitude','azimuth']+SelectedComponents]\n",
      "d1 = d[d.tsLocal.map(lambda x: (x > '2013-01-01 00:00:00')&(x <= '2013-04-01 00:00:00'))]\n",
      "d2 = d[d.tsLocal.map(lambda x: (x > '2014-01-01 00:00:00')&(x <= '2014-04-01 00:00:00'))]\n",
      "[dat1, dailysummary1] = datacrunch(d1)\n",
      "[dat2, dailysummary2] = datacrunch(d2)\n",
      "comparisonindex = (pd.notnull(dailysummary1.E))&(pd.notnull(dailysummary2.E))\n",
      "sum(comparisonindex)"
     ],
     "language": "python",
     "metadata": {},
     "outputs": [
      {
       "metadata": {},
       "output_type": "pyout",
       "prompt_number": 11,
       "text": [
        "90"
       ]
      }
     ],
     "prompt_number": 11
    },
    {
     "cell_type": "code",
     "collapsed": false,
     "input": [
      "fig = plt.figure(figsize=(8,3))\n",
      "ax1  = fig.add_subplot(121)\n",
      "ax1.plot(dailysummary1.date.map(lambda x: DOY(x)), dailysummary1.E, 'r.',label = \"2013\")\n",
      "ax1.plot(dailysummary2.date.map(lambda x: DOY(x)), dailysummary2.E, 'g.',label = \"2014\")\n",
      "ax1.set_xlabel('DOY')\n",
      "ax1.set_ylabel('E')\n",
      "for i in [0, 90, 181, 273]: #correspond to 01,04,07,10-01 \n",
      "    ax1.axvline(x=i, color='black')\n",
      "ax1.set_xlim(0,365)\n",
      "ax1.set_title('Q1' + ':2014/2013 ratio =' + \"{:.3f}\".format(np.mean(dailysummary2.E[comparisonindex])/ \\\n",
      "                                                            np.mean(dailysummary1.E[comparisonindex])))\n",
      "\n",
      "ax2 = fig.add_subplot(1,2,2)\n",
      "ax2.plot(dailysummary1.date.map(lambda x: DOY(x)), dailysummary1.m, 'r.',label = \"2013\")\n",
      "ax2.plot(dailysummary2.date.map(lambda x: DOY(x)), dailysummary2.m, 'g.',label = \"2014\")\n",
      "ax2.set_xlabel('DOY')\n",
      "ax2.set_ylabel('m')\n",
      "for i in [0, 90, 181, 273]: #correspond to 01,04,07,10-01 \n",
      "    ax2.axvline(x=i, color='black')\n",
      "ax2.set_xlim(0,365)\n",
      "ax2.legend()\n",
      "ax2.set_title('Q1' + ':2014/2013 ratio =' + \"{:.3f}\".format(np.mean(dailysummary2.m[comparisonindex])/ \\\n",
      "                                                            np.mean(dailysummary1.m[comparisonindex])))\n",
      "from collections import OrderedDict\n",
      "handles, labels = plt.gca().get_legend_handles_labels()\n",
      "by_label = OrderedDict(zip(labels, handles))\n",
      "ax2.legend(by_label.values(), by_label.keys(), loc='center left', bbox_to_anchor=(1, 0.5),title='Observed Year')\n",
      "#save figure\n",
      "#filename = '....png'\n",
      "#fig.savefig(os.path.join(OutputSmallDirectory, filename),dpi=fig.dpi)\n",
      "fig.show()"
     ],
     "language": "python",
     "metadata": {},
     "outputs": [
      {
       "output_type": "stream",
       "stream": "stderr",
       "text": [
        "C:\\Users\\Admin\\Anaconda\\lib\\site-packages\\matplotlib\\figure.py:387: UserWarning: matplotlib is currently using a non-GUI backend, so cannot show the figure\n",
        "  \"matplotlib is currently using a non-GUI backend, \"\n"
       ]
      },
      {
       "metadata": {},
       "output_type": "display_data",
       "png": "[encoded data removed]",
       "text": [
        "<matplotlib.figure.Figure at 0x16593e48>"
       ]
      }
     ],
     "prompt_number": 12
    },
    {
     "cell_type": "markdown",
     "metadata": {},
     "source": [
      "$\\textbf{The 2nd quarter}$. 2014 energy is about 16% MORE than 2013 energy. 2014 maximum power is about 14% MORE than 2013 maximum power. Again the number of components here is quite small."
     ]
    },
    {
     "cell_type": "code",
     "collapsed": false,
     "input": [
      "SelectedComponents = list(metadata.componentId[(metadata.FirstTimestamp <= '2013-04-01 00:00:00')])"
     ],
     "language": "python",
     "metadata": {},
     "outputs": [],
     "prompt_number": 13
    },
    {
     "cell_type": "code",
     "collapsed": false,
     "input": [
      "d=data[['tsLocal','altitude','azimuth']+SelectedComponents]\n",
      "d1 = d[d.tsLocal.map(lambda x: (x > '2013-04-01 00:00:00')&(x <= '2013-07-01 00:00:00'))]\n",
      "d2 = d[d.tsLocal.map(lambda x: (x > '2014-04-01 00:00:00')&(x <= '2014-07-01 00:00:00'))]\n",
      "[dat1, dailysummary1] = datacrunch(d1)\n",
      "[dat2, dailysummary2] = datacrunch(d2)\n",
      "comparisonindex = (pd.notnull(dailysummary1.E))&(pd.notnull(dailysummary2.E))\n",
      "sum(comparisonindex)"
     ],
     "language": "python",
     "metadata": {},
     "outputs": [
      {
       "metadata": {},
       "output_type": "pyout",
       "prompt_number": 14,
       "text": [
        "91"
       ]
      }
     ],
     "prompt_number": 14
    },
    {
     "cell_type": "code",
     "collapsed": false,
     "input": [
      "fig = plt.figure(figsize=(8,3))\n",
      "ax1  = fig.add_subplot(121)\n",
      "ax1.plot(dailysummary1.date.map(lambda x: DOY(x)), dailysummary1.E, 'r.',label = \"2013\")\n",
      "ax1.plot(dailysummary2.date.map(lambda x: DOY(x)), dailysummary2.E, 'g.',label = \"2014\")\n",
      "ax1.set_xlabel('DOY')\n",
      "ax1.set_ylabel('E')\n",
      "for i in [0, 90, 181, 273]: #correspond to 01,04,07,10-01 \n",
      "    ax1.axvline(x=i, color='black')\n",
      "ax1.set_xlim(0,365)\n",
      "ax1.set_title('Q2' + ':2014/2013 ratio =' + \"{:.3f}\".format(np.mean(dailysummary2.E[comparisonindex])/ \\\n",
      "                                                            np.mean(dailysummary1.E[comparisonindex])))\n",
      "\n",
      "ax2 = fig.add_subplot(1,2,2)\n",
      "ax2.plot(dailysummary1.date.map(lambda x: DOY(x)), dailysummary1.m, 'r.',label = \"2013\")\n",
      "ax2.plot(dailysummary2.date.map(lambda x: DOY(x)), dailysummary2.m, 'g.',label = \"2014\")\n",
      "ax2.set_xlabel('DOY')\n",
      "ax2.set_ylabel('m')\n",
      "for i in [0, 90, 181, 273]: #correspond to 01,04,07,10-01 \n",
      "    ax2.axvline(x=i, color='black')\n",
      "ax2.set_xlim(0,365)\n",
      "ax2.legend()\n",
      "ax2.set_title('Q2' + ':2014/2013 ratio =' + \"{:.3f}\".format(np.mean(dailysummary2.m[comparisonindex])/ \\\n",
      "                                                            np.mean(dailysummary1.m[comparisonindex])))\n",
      "from collections import OrderedDict\n",
      "handles, labels = plt.gca().get_legend_handles_labels()\n",
      "by_label = OrderedDict(zip(labels, handles))\n",
      "ax2.legend(by_label.values(), by_label.keys(), loc='center left', bbox_to_anchor=(1, 0.5),title='Observed Year')\n",
      "\n",
      "#save figure\n",
      "#filename = '....png'\n",
      "#fig.savefig(os.path.join(OutputSmallDirectory, filename),dpi=fig.dpi)\n",
      "fig.show()"
     ],
     "language": "python",
     "metadata": {},
     "outputs": [
      {
       "metadata": {},
       "output_type": "display_data",
       "png": "[encoded data removed]",
       "text": [
        "<matplotlib.figure.Figure at 0x168d1080>"
       ]
      }
     ],
     "prompt_number": 15
    },
    {
     "cell_type": "markdown",
     "metadata": {},
     "source": [
      "$\\textbf{The 3rd quarter}$. 2014 energy is about 1% MORE than 2013 energy. 2014 maximum power is about 1% LESS than 2013 maximum power."
     ]
    },
    {
     "cell_type": "code",
     "collapsed": false,
     "input": [
      "SelectedComponents = list(metadata.componentId[(metadata.FirstTimestamp <= '2013-07-01 00:00:00')])"
     ],
     "language": "python",
     "metadata": {},
     "outputs": [],
     "prompt_number": 16
    },
    {
     "cell_type": "code",
     "collapsed": false,
     "input": [
      "d=data[['tsLocal','altitude','azimuth']+SelectedComponents]\n",
      "d1 = d[d.tsLocal.map(lambda x: (x > '2013-07-01 00:00:00')&(x <= '2013-10-01 00:00:00'))]\n",
      "d2 = d[d.tsLocal.map(lambda x: (x > '2014-07-01 00:00:00')&(x <= '2014-10-01 00:00:00'))]\n",
      "[dat1, dailysummary1] = datacrunch(d1)\n",
      "[dat2, dailysummary2] = datacrunch(d2)\n",
      "comparisonindex = (pd.notnull(dailysummary1.E))&(pd.notnull(dailysummary2.E))\n",
      "sum(comparisonindex)"
     ],
     "language": "python",
     "metadata": {},
     "outputs": [
      {
       "metadata": {},
       "output_type": "pyout",
       "prompt_number": 17,
       "text": [
        "92"
       ]
      }
     ],
     "prompt_number": 17
    },
    {
     "cell_type": "code",
     "collapsed": false,
     "input": [
      "fig = plt.figure(figsize=(8,3))\n",
      "ax1  = fig.add_subplot(121)\n",
      "ax1.plot(dailysummary1.date.map(lambda x: DOY(x)), dailysummary1.E, 'r.',label = \"2013\")\n",
      "ax1.plot(dailysummary2.date.map(lambda x: DOY(x)), dailysummary2.E, 'g.',label = \"2014\")\n",
      "ax1.set_xlabel('DOY')\n",
      "ax1.set_ylabel('E')\n",
      "for i in [0, 90, 181, 273]: #correspond to 01,04,07,10-01 \n",
      "    ax1.axvline(x=i, color='black')\n",
      "ax1.set_xlim(0,365)\n",
      "#ax1.legend()\n",
      "ax1.set_title('Q3' + ':2014/2013 ratio =' + \"{:.3f}\".format(np.mean(dailysummary2.E[comparisonindex])/ \\\n",
      "                                                            np.mean(dailysummary1.E[comparisonindex])))\n",
      "\n",
      "ax2 = fig.add_subplot(1,2,2)\n",
      "ax2.plot(dailysummary1.date.map(lambda x: DOY(x)), dailysummary1.m, 'r.',label = \"2013\")\n",
      "ax2.plot(dailysummary2.date.map(lambda x: DOY(x)), dailysummary2.m, 'g.',label = \"2014\")\n",
      "ax2.set_xlabel('DOY')\n",
      "ax2.set_ylabel('m')\n",
      "for i in [0, 90, 181, 273]: #correspond to 01,04,07,10-01 \n",
      "    ax2.axvline(x=i, color='black')\n",
      "ax2.set_xlim(0,365)\n",
      "ax2.legend()\n",
      "ax2.set_title('Q3' + ':2014/2013 ratio =' + \"{:.3f}\".format(np.mean(dailysummary2.m[comparisonindex])/ \\\n",
      "                                                            np.mean(dailysummary1.m[comparisonindex])))\n",
      "from collections import OrderedDict\n",
      "handles, labels = plt.gca().get_legend_handles_labels()\n",
      "by_label = OrderedDict(zip(labels, handles))\n",
      "ax2.legend(by_label.values(), by_label.keys(), loc='center left', bbox_to_anchor=(1, 0.5),title='Observed Year')\n",
      "\n",
      "#save figure\n",
      "#filename = '....png'\n",
      "#fig.savefig(os.path.join(OutputSmallDirectory, filename),dpi=fig.dpi)\n",
      "fig.show()"
     ],
     "language": "python",
     "metadata": {},
     "outputs": [
      {
       "metadata": {},
       "output_type": "display_data",
       "png": "[encoded data removed]",
       "text": [
        "<matplotlib.figure.Figure at 0x16d27c50>"
       ]
      }
     ],
     "prompt_number": 18
    },
    {
     "cell_type": "markdown",
     "metadata": {},
     "source": [
      "$\\textbf{The 4th quarter}$. 2014 energy is about 5% MORE than 2013 energy. 2014 maximum power is about 4% MORE than 2013 maximum power."
     ]
    },
    {
     "cell_type": "code",
     "collapsed": false,
     "input": [
      "SelectedComponents = list(metadata.componentId[(metadata.FirstTimestamp <= '2013-10-01 00:00:00')])"
     ],
     "language": "python",
     "metadata": {},
     "outputs": [],
     "prompt_number": 19
    },
    {
     "cell_type": "code",
     "collapsed": false,
     "input": [
      "d=data[['tsLocal','altitude','azimuth']+SelectedComponents]\n",
      "d1 = d[d.tsLocal.map(lambda x: (x > '2013-10-01 00:00:00')&(x <= '2014-01-01 00:00:00'))]\n",
      "d2 = d[d.tsLocal.map(lambda x: (x > '2014-10-01 00:00:00')&(x <= '2015-01-01 00:00:00'))]\n",
      "[dat1, dailysummary1] = datacrunch(d1)\n",
      "[dat2, dailysummary2] = datacrunch(d2)\n",
      "comparisonindex = (pd.notnull(dailysummary1.E))&(pd.notnull(dailysummary2.E))\n",
      "sum(comparisonindex)"
     ],
     "language": "python",
     "metadata": {},
     "outputs": [
      {
       "metadata": {},
       "output_type": "pyout",
       "prompt_number": 20,
       "text": [
        "91"
       ]
      }
     ],
     "prompt_number": 20
    },
    {
     "cell_type": "code",
     "collapsed": false,
     "input": [
      "fig = plt.figure(figsize=(8,3))\n",
      "ax1  = fig.add_subplot(121)\n",
      "ax1.plot(dailysummary1.date.map(lambda x: DOY(x)), dailysummary1.E, 'r.',label = \"2013\")\n",
      "ax1.plot(dailysummary2.date.map(lambda x: DOY(x)), dailysummary2.E, 'g.',label = \"2014\")\n",
      "ax1.set_xlabel('DOY')\n",
      "ax1.set_ylabel('E')\n",
      "for i in [0, 90, 181, 273]: #correspond to 01,04,07,10-01 \n",
      "    ax1.axvline(x=i, color='black')\n",
      "ax1.set_xlim(0,365)\n",
      "ax1.set_title('Q4' + ':2014/2013 ratio =' + \"{:.3f}\".format(np.mean(dailysummary2.E[comparisonindex])/ \\\n",
      "                                                            np.mean(dailysummary1.E[comparisonindex])))\n",
      "\n",
      "ax2 = fig.add_subplot(1,2,2)\n",
      "ax2.plot(dailysummary1.date.map(lambda x: DOY(x)), dailysummary1.m, 'r.',label = \"2013\")\n",
      "ax2.plot(dailysummary2.date.map(lambda x: DOY(x)), dailysummary2.m, 'g.',label = \"2014\")\n",
      "ax2.set_xlabel('DOY')\n",
      "ax2.set_ylabel('m')\n",
      "for i in [0, 90, 181, 273]: #correspond to 01,04,07,10-01 \n",
      "    ax2.axvline(x=i, color='black')\n",
      "ax2.set_xlim(0,365)\n",
      "ax2.legend()\n",
      "ax2.set_title('Q4' + ':2014/2013 ratio =' + \"{:.3f}\".format(np.mean(dailysummary2.m[comparisonindex])/ \\\n",
      "                                                            np.mean(dailysummary1.m[comparisonindex])))\n",
      "from collections import OrderedDict\n",
      "handles, labels = plt.gca().get_legend_handles_labels()\n",
      "by_label = OrderedDict(zip(labels, handles))\n",
      "ax2.legend(by_label.values(), by_label.keys(), loc='center left', bbox_to_anchor=(1, 0.5),title='Observed Year')\n",
      "\n",
      "#save figure\n",
      "#filename = '....png'\n",
      "#fig.savefig(os.path.join(OutputSmallDirectory, filename),dpi=fig.dpi)\n",
      "fig.show()"
     ],
     "language": "python",
     "metadata": {},
     "outputs": [
      {
       "metadata": {},
       "output_type": "display_data",
       "png": "[encoded data removed]",
       "text": [
        "<matplotlib.figure.Figure at 0x16873470>"
       ]
      }
     ],
     "prompt_number": 21
    },
    {
     "cell_type": "markdown",
     "metadata": {},
     "source": [
      "$\\underline{\\text{Conclusion}}$: the change in observation year contributes to at most 5% change on daily energy production and maximum power readings if the number of components is large enough (more than 20 components). There is no particular bias, however."
     ]
    },
    {
     "cell_type": "heading",
     "level": 2,
     "metadata": {},
     "source": [
      "Temporal effect of first monitoring date"
     ]
    },
    {
     "cell_type": "markdown",
     "metadata": {},
     "source": [
      "Here we would like to if monitoring date affect average power readings or not. We would like to investigate a group of monitoring dates by quarters.  In order to make a fair comparison, we would like to fix a same time period of consideration."
     ]
    },
    {
     "cell_type": "markdown",
     "metadata": {},
     "source": [
      "To investigate monitoring date effect, we query time stamps in year 2014. Then we query components by group of first monitoring dates. Note that the last group might look illegimate since the data is incomplete. However, most monitoring dates in this group starts in the first quarter of 2014 so it still gives a good reference."
     ]
    },
    {
     "cell_type": "code",
     "collapsed": false,
     "input": [
      "d=data[data.tsLocal.map(lambda x: (x > '2014-01-01 00:00:00')&(x <= '2015-01-01 00:00:00'))]\n",
      "d1 = d[['tsLocal','altitude','azimuth']+list(metadata.componentId[metadata.FirstTimestamp <= '2013-01-01 00:00:00'])]\n",
      "d2 = d[['tsLocal','altitude','azimuth']+list(metadata.componentId[(metadata.FirstTimestamp > '2013-01-01 00:00:00')&\\\n",
      "                                                                  (metadata.FirstTimestamp <= '2013-04-01 00:00:00')])]\n",
      "d3 = d[['tsLocal','altitude','azimuth']+list(metadata.componentId[(metadata.FirstTimestamp > '2013-04-01 00:00:00')&\\\n",
      "                                                                  (metadata.FirstTimestamp <= '2013-07-01 00:00:00')])]\n",
      "d4 = d[['tsLocal','altitude','azimuth']+list(metadata.componentId[(metadata.FirstTimestamp > '2013-07-01 00:00:00')&\\\n",
      "                                                                  (metadata.FirstTimestamp <= '2013-10-01 00:00:00')])]\n",
      "d5 = d[['tsLocal','altitude','azimuth']+list(metadata.componentId[(metadata.FirstTimestamp > '2013-10-01 00:00:00')&\\\n",
      "                                                                  (metadata.FirstTimestamp <= '2014-01-01 00:00:00')])]\n",
      "d6 = d[['tsLocal','altitude','azimuth']+list(metadata.componentId[(metadata.FirstTimestamp > '2014-01-01 00:00:00')])]\n",
      "[dat1, dailysummary1] = datacrunch(d1)\n",
      "[dat2, dailysummary2] = datacrunch(d2)\n",
      "[dat3, dailysummary3] = datacrunch(d3)\n",
      "[dat4, dailysummary4] = datacrunch(d4)\n",
      "[dat5, dailysummary5] = datacrunch(d5)\n",
      "[dat6, dailysummary6] = datacrunch(d6)\n",
      "comparisonindex = (pd.notnull(dailysummary1.E))&(pd.notnull(dailysummary2.E)&(pd.notnull(dailysummary3.E))& \\\n",
      "                    pd.notnull(dailysummary4.E))&(pd.notnull(dailysummary5.E)&(pd.notnull(dailysummary6.E)))\n",
      "sum(comparisonindex)"
     ],
     "language": "python",
     "metadata": {},
     "outputs": [
      {
       "metadata": {},
       "output_type": "pyout",
       "prompt_number": 22,
       "text": [
        "361"
       ]
      }
     ],
     "prompt_number": 22
    },
    {
     "cell_type": "code",
     "collapsed": false,
     "input": [
      "fig = plt.figure(figsize=(8,3))\n",
      "ax1  = fig.add_subplot(121)\n",
      "ax1.plot(dailysummary1.date.map(lambda x: DOY(x)), dailysummary1.E, '.',color = 'blue',label = \"pre-2013\")\n",
      "ax1.plot(dailysummary2.date.map(lambda x: DOY(x)), dailysummary2.E, '.',color = 'cyan',label = \"2013 Q1\")\n",
      "ax1.plot(dailysummary3.date.map(lambda x: DOY(x)), dailysummary3.E, 'g.',label = \"2013 Q2\")\n",
      "ax1.plot(dailysummary4.date.map(lambda x: DOY(x)), dailysummary4.E, 'y.',label = \"2013 Q3\")\n",
      "ax1.plot(dailysummary5.date.map(lambda x: DOY(x)), dailysummary5.E, '.',color = 'orange',label = \"2013 Q4\")\n",
      "ax1.plot(dailysummary6.date.map(lambda x: DOY(x)), dailysummary6.E, 'r.',label = \"post-2013\")\n",
      "ax1.set_xlabel('DOY')\n",
      "ax1.set_ylabel('E')\n",
      "for i in [0, 90, 181, 273]: #correspond to 01,04,07,10-01 \n",
      "    ax1.axvline(x=i, color='black')\n",
      "ax1.set_xlim(0,365)\n",
      "#ax1.legend()\n",
      "ax1.set_title('2014 E: Group by monitoring dates')\n",
      "\n",
      "ax1  = fig.add_subplot(122)\n",
      "ax1.plot(dailysummary1.date.map(lambda x: DOY(x)), dailysummary1.m, '.',color = 'blue',label = \"pre-2013\")\n",
      "ax1.plot(dailysummary2.date.map(lambda x: DOY(x)), dailysummary2.m, '.',color = 'cyan',label = \"2013 Q1\")\n",
      "ax1.plot(dailysummary3.date.map(lambda x: DOY(x)), dailysummary3.m, 'g.',label = \"2013 Q2\")\n",
      "ax1.plot(dailysummary4.date.map(lambda x: DOY(x)), dailysummary4.m, 'y.',label = \"2013 Q3\")\n",
      "ax1.plot(dailysummary5.date.map(lambda x: DOY(x)), dailysummary5.m, '.',color = 'orange',label = \"2013 Q4\")\n",
      "ax1.plot(dailysummary6.date.map(lambda x: DOY(x)), dailysummary6.m, 'r.',label = \"post-2013\")\n",
      "ax1.set_xlabel('DOY')\n",
      "ax1.set_ylabel('m')\n",
      "for i in [0, 90, 181, 273]: #correspond to 01,04,07,10-01 \n",
      "    ax1.axvline(x=i, color='black')\n",
      "ax1.set_xlim(0,365)\n",
      "ax1.legend()\n",
      "ax1.set_title('2014 m: Group by monitoring dates')\n",
      "from collections import OrderedDict\n",
      "handles, labels = plt.gca().get_legend_handles_labels()\n",
      "by_label = OrderedDict(zip(labels, handles))\n",
      "ax1.legend(by_label.values(), by_label.keys(), loc='center left', bbox_to_anchor=(1, 0.5),title='monitoring dates')\n",
      "\n",
      "#save figure\n",
      "#filename = '....png'\n",
      "#fig.savefig(os.path.join(OutputSmallDirectory, filename),dpi=fig.dpi)\n",
      "fig.show()\n"
     ],
     "language": "python",
     "metadata": {},
     "outputs": [
      {
       "metadata": {},
       "output_type": "display_data",
       "png": "[encoded data removed]",
       "text": [
        "<matplotlib.figure.Figure at 0x189ba780>"
       ]
      }
     ],
     "prompt_number": 23
    },
    {
     "cell_type": "markdown",
     "metadata": {},
     "source": [
      "If we focus with a set with more than 20 components, one can see that monitoring date effect does not have a clear trend. We can calculate average E,m over year for all components and see that average E,m over year for any specific monitoring dates drift by about 11%.\n"
     ]
    },
    {
     "cell_type": "code",
     "collapsed": false,
     "input": [
      "QuickComparison = pd.DataFrame(['pre-2013','2013-1','2013-2','2013-3','2013-4','post-2013'], columns = ['FirstMonitorDate'])\n",
      "QuickComparison['number of components with <20 kW size'] = list(NumberOfComponents['<20 kW'].iloc[0:6])\n",
      "QuickComparison['average size'] = list(NumberOfComponents['average size*'].iloc[0:6])\n",
      "QuickComparison['average E over year'] =  [np.mean(dailysummary1.E[comparisonindex]),np.mean(dailysummary2.E[comparisonindex]),\\\n",
      "                                          np.mean(dailysummary3.E[comparisonindex]),np.mean(dailysummary4.E[comparisonindex]),\\\n",
      "                                          np.mean(dailysummary5.E[comparisonindex]),np.mean(dailysummary6.E[comparisonindex])]\n",
      "QuickComparison['average m over year'] = [np.mean(dailysummary1.m[comparisonindex]),np.mean(dailysummary2.m[comparisonindex]),\\\n",
      "                                          np.mean(dailysummary3.m[comparisonindex]),np.mean(dailysummary4.m[comparisonindex]),\\\n",
      "                                          np.mean(dailysummary5.m[comparisonindex]),np.mean(dailysummary6.m[comparisonindex])]\n",
      "QuickComparison['average E/(1 kW * 1 day)'] = QuickComparison['average E over year']/24\n",
      "QuickComparison['average m/(1 kW)'] = QuickComparison['average m over year']\n",
      "QuickComparison"
     ],
     "language": "python",
     "metadata": {},
     "outputs": [
      {
       "html": [
        "<div style=\"max-height:1000px;max-width:1500px;overflow:auto;\">\n",
        "<table border=\"1\" class=\"dataframe\">\n",
        "  <thead>\n",
        "    <tr style=\"text-align: right;\">\n",
        "      <th></th>\n",
        "      <th>FirstMonitorDate</th>\n",
        "      <th>number of components with &lt;20 kW size</th>\n",
        "      <th>average size</th>\n",
        "      <th>average E over year</th>\n",
        "      <th>average m over year</th>\n",
        "      <th>average E/(1 kW * 1 day)</th>\n",
        "      <th>average m/(1 kW)</th>\n",
        "    </tr>\n",
        "  </thead>\n",
        "  <tbody>\n",
        "    <tr>\n",
        "      <th>0</th>\n",
        "      <td>  pre-2013</td>\n",
        "      <td>  2</td>\n",
        "      <td> 6.764133</td>\n",
        "      <td> 4.932118</td>\n",
        "      <td> 0.742612</td>\n",
        "      <td> 0.205505</td>\n",
        "      <td> 0.742612</td>\n",
        "    </tr>\n",
        "    <tr>\n",
        "      <th>1</th>\n",
        "      <td>    2013-1</td>\n",
        "      <td>  3</td>\n",
        "      <td> 8.779224</td>\n",
        "      <td> 4.861867</td>\n",
        "      <td> 0.733101</td>\n",
        "      <td> 0.202578</td>\n",
        "      <td> 0.733101</td>\n",
        "    </tr>\n",
        "    <tr>\n",
        "      <th>2</th>\n",
        "      <td>    2013-2</td>\n",
        "      <td>  4</td>\n",
        "      <td> 6.764133</td>\n",
        "      <td> 5.151210</td>\n",
        "      <td> 0.759805</td>\n",
        "      <td> 0.214634</td>\n",
        "      <td> 0.759805</td>\n",
        "    </tr>\n",
        "    <tr>\n",
        "      <th>3</th>\n",
        "      <td>    2013-3</td>\n",
        "      <td>  8</td>\n",
        "      <td> 6.414239</td>\n",
        "      <td> 4.546605</td>\n",
        "      <td> 0.681145</td>\n",
        "      <td> 0.189442</td>\n",
        "      <td> 0.681145</td>\n",
        "    </tr>\n",
        "    <tr>\n",
        "      <th>4</th>\n",
        "      <td>    2013-4</td>\n",
        "      <td> 65</td>\n",
        "      <td> 6.888117</td>\n",
        "      <td> 4.665613</td>\n",
        "      <td> 0.686039</td>\n",
        "      <td> 0.194401</td>\n",
        "      <td> 0.686039</td>\n",
        "    </tr>\n",
        "    <tr>\n",
        "      <th>5</th>\n",
        "      <td> post-2013</td>\n",
        "      <td> 21</td>\n",
        "      <td> 7.515734</td>\n",
        "      <td> 4.327435</td>\n",
        "      <td> 0.649642</td>\n",
        "      <td> 0.180310</td>\n",
        "      <td> 0.649642</td>\n",
        "    </tr>\n",
        "  </tbody>\n",
        "</table>\n",
        "</div>"
       ],
       "metadata": {},
       "output_type": "pyout",
       "prompt_number": 24,
       "text": [
        "  FirstMonitorDate  number of components with <20 kW size  average size  \\\n",
        "0         pre-2013                                      2      6.764133   \n",
        "1           2013-1                                      3      8.779224   \n",
        "2           2013-2                                      4      6.764133   \n",
        "3           2013-3                                      8      6.414239   \n",
        "4           2013-4                                     65      6.888117   \n",
        "5        post-2013                                     21      7.515734   \n",
        "\n",
        "   average E over year  average m over year  average E/(1 kW * 1 day)  \\\n",
        "0             4.932118             0.742612                  0.205505   \n",
        "1             4.861867             0.733101                  0.202578   \n",
        "2             5.151210             0.759805                  0.214634   \n",
        "3             4.546605             0.681145                  0.189442   \n",
        "4             4.665613             0.686039                  0.194401   \n",
        "5             4.327435             0.649642                  0.180310   \n",
        "\n",
        "   average m/(1 kW)  \n",
        "0          0.742612  \n",
        "1          0.733101  \n",
        "2          0.759805  \n",
        "3          0.681145  \n",
        "4          0.686039  \n",
        "5          0.649642  "
       ]
      }
     ],
     "prompt_number": 24
    },
    {
     "cell_type": "code",
     "collapsed": false,
     "input": [
      "[(QuickComparison['number of components with <20 kW size']*QuickComparison['average E over year']).sum()/\\\n",
      "QuickComparison['number of components with <20 kW size'].sum(),\n",
      "(QuickComparison['number of components with <20 kW size']*QuickComparison['average m over year']).sum()/\\\n",
      "QuickComparison['number of components with <20 kW size'].sum()]"
     ],
     "language": "python",
     "metadata": {},
     "outputs": [
      {
       "metadata": {},
       "output_type": "pyout",
       "prompt_number": 25,
       "text": [
        "[4.6171699528814942, 0.68357205937359089]"
       ]
      }
     ],
     "prompt_number": 25
    },
    {
     "cell_type": "code",
     "collapsed": false,
     "input": [
      "[(4.327435-4.6171699528814942)/4.6171699528814942,(0.649642-0.68357205937359089)/0.68357205937359089]"
     ],
     "language": "python",
     "metadata": {},
     "outputs": [
      {
       "metadata": {},
       "output_type": "pyout",
       "prompt_number": 27,
       "text": [
        "[-0.06275163267504923, -0.04963640468962926]"
       ]
      }
     ],
     "prompt_number": 27
    },
    {
     "cell_type": "markdown",
     "metadata": {},
     "source": [
      "$\\underline{\\text{Conclusion}}$: Since the number of components is small, it is difficult to draw a conclusion. Yet we may claim that the monitoring date contributes to about 6% change on daily energy production and maximum power readings. There is no particular bias, however."
     ]
    }
   ],
   "metadata": {}
  }
 ]
}